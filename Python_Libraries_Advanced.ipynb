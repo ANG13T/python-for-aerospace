{
 "cells": [
  {
   "cell_type": "markdown",
   "metadata": {
    "colab_type": "text",
    "id": "hdjb4-LEKKbo"
   },
   "source": [
    "# Introduction to NumPy, Pandas, Matplotlib and Seaborn, and Sci-Kit Learn "
   ]
  },
  {
   "cell_type": "code",
   "execution_count": null,
   "metadata": {
    "colab": {},
    "colab_type": "code",
    "id": "O-AY4gAqGBj9"
   },
   "outputs": [],
   "source": [
    "#@title Run this to prepare your data! { display-mode: \"form\" }\n",
    "import gdown\n",
    "gdown.download('https://drive.google.com/uc?id=1eDhwxZxEnMoKcaR-ATW21ReuKdwpMdrF', 'airline-safety.csv', True);\n",
    "gdown.download('https://drive.google.com/uc?id=14FYQvB05JqfU4d1Wn1LSv_Jh0om7AI0M', 'tips.csv', True);"
   ]
  },
  {
   "cell_type": "markdown",
   "metadata": {
    "colab_type": "text",
    "id": "N0p2aNMyKKbq"
   },
   "source": [
    "Before we set out on our journey into the land of artificial intelligence, we must first pack some gear. \n",
    "Some of the essentials include Numpy, Pandas, Matplotlib, and Seaborn. Let's discuss Python Packages first!\n",
    "\n",
    "### Note: In case of time constraint, only do the sections that have an emoji next to the title.\n",
    "\n",
    "## What are Python Packages? "
   ]
  },
  {
   "cell_type": "markdown",
   "metadata": {
    "colab_type": "text",
    "id": "G9_3omm0KKbs"
   },
   "source": [
    "A Python package is simply a collection of modules — files consisting of Python code. The packages that we'll be looking at today include Numpy, Pandas, Mathplotlib, and Seaborn. Let's begin with NumPy."
   ]
  },
  {
   "cell_type": "markdown",
   "metadata": {
    "colab_type": "text",
    "id": "YUs6I5u5KKbv"
   },
   "source": [
    "# NumPy: An Introduction  🤖"
   ]
  },
  {
   "cell_type": "markdown",
   "metadata": {
    "colab_type": "text",
    "id": "yn5x1HxkKKbx"
   },
   "source": [
    "Numpy is the core library for scientific computing in Python. Numpy provides the flexibility to create multidimensional array objects (arrays within arrays) and compute a wide variety of mathematical operations including basic linear algebra, basic statistical operations, random simulation and much more. We will represent all of our data which will be fed into our machine learning models using Numpy."
   ]
  },
  {
   "cell_type": "markdown",
   "metadata": {
    "colab_type": "text",
    "id": "dNj5CzYeKKb0"
   },
   "source": [
    "We'll start with the standard NumPy import, under the alias np:"
   ]
  },
  {
   "cell_type": "code",
   "execution_count": null,
   "metadata": {
    "colab": {},
    "colab_type": "code",
    "id": "e1NOvv47KKb1"
   },
   "outputs": [],
   "source": [
    "import numpy as np"
   ]
  },
  {
   "cell_type": "markdown",
   "metadata": {
    "colab_type": "text",
    "id": "0vkg7Br-KKcB"
   },
   "source": [
    "### Arrays 🚖"
   ]
  },
  {
   "cell_type": "markdown",
   "metadata": {
    "colab_type": "text",
    "id": "NfnHIM-RKKcC"
   },
   "source": [
    "An **array** is simply a collection of items. At the heart of a Numpy library is the array object or the ndarray object (n-dimensional array).  Simply put, it is a table of elements (usually numbers and the same type) indexed by a tuple of positive integers. In NumPy dimensions are called **axes**. The number of axes is referred to as **rank**. \n",
    "<br/>\n",
    "Let's create an 1D array of  **taxi rates** (in dollars) by passing it through a list: "
   ]
  },
  {
   "cell_type": "code",
   "execution_count": null,
   "metadata": {
    "colab": {},
    "colab_type": "code",
    "id": "nDUZfgg5KKcC"
   },
   "outputs": [],
   "source": [
    "a = np.array([12.50, 10.20, 25])"
   ]
  },
  {
   "cell_type": "markdown",
   "metadata": {
    "colab_type": "text",
    "id": "VeYSYKLwmTx3"
   },
   "source": [
    "We can view the contents of the array by running the following code:"
   ]
  },
  {
   "cell_type": "code",
   "execution_count": null,
   "metadata": {
    "colab": {},
    "colab_type": "code",
    "id": "NjUHxfHJKKcE"
   },
   "outputs": [],
   "source": [
    "a"
   ]
  },
  {
   "cell_type": "markdown",
   "metadata": {
    "colab_type": "text",
    "id": "Yw6X4FpkKKcH"
   },
   "source": [
    "Awesome! 👏 Let's now create an multi-dimensional array. "
   ]
  },
  {
   "cell_type": "code",
   "execution_count": null,
   "metadata": {
    "colab": {},
    "colab_type": "code",
    "id": "zXL1mAmiKKcI"
   },
   "outputs": [],
   "source": [
    "b = np.array([\n",
    "    [19.50, 13, 12, 11 ],\n",
    "    [12.50, 10, 25, 14]])"
   ]
  },
  {
   "cell_type": "code",
   "execution_count": null,
   "metadata": {
    "colab": {},
    "colab_type": "code",
    "id": "kfjB-dPgKKcJ"
   },
   "outputs": [],
   "source": [
    "b"
   ]
  },
  {
   "cell_type": "markdown",
   "metadata": {
    "colab_type": "text",
    "id": "I2dG_H82KKcL"
   },
   "source": [
    "## Exercise 1:  Arrays ⛷"
   ]
  },
  {
   "cell_type": "markdown",
   "metadata": {
    "colab_type": "text",
    "id": "k_Bai-nKKKcM"
   },
   "source": [
    "Time for our first exercise! \n",
    "- Create a NumPy single - dimensional array and assign it to a variable that describes the following situation:\n",
    "    - Find the weather for the next 5 days in your favorite city, and enter it into the array.\n",
    "- Create another NumPy single - dimensional array and assign it that describes the following situation:\n",
    "    - Write your 5 favorite numbers.\n",
    "- Can you try adding the two arrays? How about subtracting? "
   ]
  },
  {
   "cell_type": "code",
   "execution_count": null,
   "metadata": {
    "colab": {},
    "colab_type": "code",
    "id": "bmifbdMnaKJK"
   },
   "outputs": [],
   "source": [
    "# YOUR CODE HERE #"
   ]
  },
  {
   "cell_type": "markdown",
   "metadata": {
    "colab_type": "text",
    "id": "kvgbO5Z_KKcR"
   },
   "source": [
    "### Methods ⛵️"
   ]
  },
  {
   "cell_type": "markdown",
   "metadata": {
    "colab_type": "text",
    "id": "7HZaOocAKKcR"
   },
   "source": [
    "🎉 Let's now explore some of the methods in NumPy. The [**.shape**](https://docs.scipy.org/doc/numpy/reference/generated/numpy.ndarray.shape.html) method for nparray returns the dimensions of the given array. For example, [x].shape returns the (vertical, horizontal) dimensions of the variable x. Let's use .shape to find the dimensions of the multi-dimensional array that we've created above:\n",
    "\n",
    "_Can you guess the shape before running the command?_"
   ]
  },
  {
   "cell_type": "code",
   "execution_count": null,
   "metadata": {
    "colab": {},
    "colab_type": "code",
    "id": "wqNlN3rOKKcS"
   },
   "outputs": [],
   "source": [
    "b.shape"
   ]
  },
  {
   "cell_type": "markdown",
   "metadata": {
    "colab_type": "text",
    "id": "3jMyi9hVmynw"
   },
   "source": [
    "Note that multi-dimensional arrays can also have more than two dimensions. A three-dimensional array, for example, has arrays within arrays within arrays. Calling array.shape on a 3-dimensional array would return three numbers: (num1, num2, num3).\n",
    " \n",
    "**Make sure you understand the concept of shapes because this will come up again and again throughout your machine learning experience!**"
   ]
  },
  {
   "cell_type": "markdown",
   "metadata": {
    "colab_type": "text",
    "id": "wc48ME-lKKcT"
   },
   "source": [
    "The [**.linspace**](https://docs.scipy.org/doc/numpy/reference/generated/numpy.linspace.html) method is used to return evenly spaced numbers over a specified interval. Let's create an array of 6 integers between 0 and 100 to demonstrate this method: "
   ]
  },
  {
   "cell_type": "code",
   "execution_count": null,
   "metadata": {
    "colab": {},
    "colab_type": "code",
    "id": "FnUeQq9wKKcU",
    "scrolled": true
   },
   "outputs": [],
   "source": [
    "np.linspace(0,100,6)"
   ]
  },
  {
   "cell_type": "markdown",
   "metadata": {
    "colab_type": "text",
    "id": "087T2UAcKKcW"
   },
   "source": [
    "How about if we wanted to decide the step? The [**.arange**](https://docs.scipy.org/doc/numpy/reference/generated/numpy.linspace.html) method allows us to return evenly spaced values within an given interval. "
   ]
  },
  {
   "cell_type": "code",
   "execution_count": null,
   "metadata": {
    "colab": {},
    "colab_type": "code",
    "id": "-f6sV7WmKKcW"
   },
   "outputs": [],
   "source": [
    "np.arange(0,10,3)"
   ]
  },
  {
   "cell_type": "markdown",
   "metadata": {
    "colab_type": "text",
    "id": "5S10euQrKKcY"
   },
   "source": [
    "Yay! 🙌 What if we didn't want to define the interval or the step? The [**.random.rand**](https://docs.scipy.org/doc/numpy/reference/generated/numpy.random.rand.html) method accomplishes this purpose by creating an array of a specified shape and fills it with random values. Let's create a 4 x 5 array of random floats between 0-1:"
   ]
  },
  {
   "cell_type": "code",
   "execution_count": null,
   "metadata": {
    "colab": {},
    "colab_type": "code",
    "id": "GnqUmK-4KKcZ",
    "scrolled": true
   },
   "outputs": [],
   "source": [
    "np.random.rand(4,5)"
   ]
  },
  {
   "cell_type": "markdown",
   "metadata": {
    "colab_type": "text",
    "id": "mA9K9rq_KKcb"
   },
   "source": [
    "If we want to increase the size of the floats between an certain interval (0-100), we can simply multiply by the highest digit in that interval: "
   ]
  },
  {
   "cell_type": "code",
   "execution_count": null,
   "metadata": {
    "colab": {},
    "colab_type": "code",
    "id": "WNPNeWe7KKcc"
   },
   "outputs": [],
   "source": [
    "np.random.rand(4,5)*100"
   ]
  },
  {
   "cell_type": "markdown",
   "metadata": {
    "colab_type": "text",
    "id": "syIDcJjWnaMl"
   },
   "source": [
    "Notice how the numbers when you call the random function are different the second time. This is because it generates new numbers each time."
   ]
  },
  {
   "cell_type": "markdown",
   "metadata": {
    "colab_type": "text",
    "id": "C1huCd_VKKce"
   },
   "source": [
    "We can also explore some of the properties of the array. The [**.dtype**](https://docs.scipy.org/doc/numpy/reference/arrays.dtypes.html)  method outputs the type of elements in an given array:"
   ]
  },
  {
   "cell_type": "code",
   "execution_count": null,
   "metadata": {
    "colab": {},
    "colab_type": "code",
    "id": "9iOKWg0RKKce"
   },
   "outputs": [],
   "source": [
    "c = np.arange(0,10,3)"
   ]
  },
  {
   "cell_type": "code",
   "execution_count": null,
   "metadata": {
    "colab": {},
    "colab_type": "code",
    "id": "epO-qdqMKKcf"
   },
   "outputs": [],
   "source": [
    "c.dtype"
   ]
  },
  {
   "cell_type": "markdown",
   "metadata": {
    "colab_type": "text",
    "id": "5t-BnlMuKKci"
   },
   "source": [
    "Kudos! **int64** simply means that the elements in the array are integers. Remember that NumPy arrays only support an *singular* data type for each array unlike Python arrays. Other data types include **float64** and **double64**, which are used to specify numbers with decimals (**int64**s must be whole numbers)."
   ]
  },
  {
   "cell_type": "markdown",
   "metadata": {
    "colab_type": "text",
    "id": "7hw-t9USKKci"
   },
   "source": [
    "## Exercise 2: Methods 🏃"
   ]
  },
  {
   "cell_type": "markdown",
   "metadata": {
    "colab_type": "text",
    "id": "XYiYhMliKKci"
   },
   "source": [
    "Time to test our skills!"
   ]
  },
  {
   "cell_type": "markdown",
   "metadata": {
    "colab_type": "text",
    "id": "McnS13TaKKcj"
   },
   "source": [
    "- Using the **.shape** method, find the dimensions of the array containing the weather of your favorite city. \n",
    "- Use the **.linspace** method to create an array of 5 evenly-spaced integers between 15 and 45\n",
    "- Create a 3x6 array using the **.random.rand()** method"
   ]
  },
  {
   "cell_type": "code",
   "execution_count": null,
   "metadata": {
    "colab": {},
    "colab_type": "code",
    "id": "KHvHJkde1axp"
   },
   "outputs": [],
   "source": [
    "# YOUR CODE HERE #"
   ]
  },
  {
   "cell_type": "markdown",
   "metadata": {
    "colab_type": "text",
    "id": "NMzjIw1KKKcl"
   },
   "source": [
    "## Operations "
   ]
  },
  {
   "cell_type": "markdown",
   "metadata": {
    "colab_type": "text",
    "id": "CC561yHBKKcl"
   },
   "source": [
    "NumPy offers the ability to compute arrays together. "
   ]
  },
  {
   "cell_type": "code",
   "execution_count": null,
   "metadata": {
    "colab": {},
    "colab_type": "code",
    "id": "f33m7hEfKKcl"
   },
   "outputs": [],
   "source": [
    "x = np.array([3,4,5])"
   ]
  },
  {
   "cell_type": "code",
   "execution_count": null,
   "metadata": {
    "colab": {},
    "colab_type": "code",
    "id": "vw3NHRzzKKcm"
   },
   "outputs": [],
   "source": [
    "y = np.array([1,2,3])"
   ]
  },
  {
   "cell_type": "markdown",
   "metadata": {
    "colab_type": "text",
    "id": "S6lON11SKKcn"
   },
   "source": [
    "We can use traditional math symbols to add, subtract, multiply, and divide the two arrays: "
   ]
  },
  {
   "cell_type": "code",
   "execution_count": null,
   "metadata": {
    "colab": {},
    "colab_type": "code",
    "id": "bQJyXZ7jKKcn"
   },
   "outputs": [],
   "source": [
    "print(x + y)\n",
    "print(x - y)\n",
    "print(x * y)\n",
    "print(x / y)\n",
    "print(x**2)"
   ]
  },
  {
   "cell_type": "markdown",
   "metadata": {
    "colab_type": "text",
    "id": "NA9kJJ3WKKcp"
   },
   "source": [
    "## Scalar Math"
   ]
  },
  {
   "cell_type": "markdown",
   "metadata": {
    "colab_type": "text",
    "id": "RU3du0U6KKcp"
   },
   "source": [
    "We can use basic functions to add, subtract, multiply, divide, and power the array:\n",
    "\n",
    "_Can you guess the output before running command?_"
   ]
  },
  {
   "cell_type": "code",
   "execution_count": null,
   "metadata": {
    "colab": {},
    "colab_type": "code",
    "id": "Ty8_QhprKKcp"
   },
   "outputs": [],
   "source": [
    "np.add(x,1)"
   ]
  },
  {
   "cell_type": "code",
   "execution_count": null,
   "metadata": {
    "colab": {},
    "colab_type": "code",
    "id": "6Z4nK4UDKKcr"
   },
   "outputs": [],
   "source": [
    "np.subtract(x,2)"
   ]
  },
  {
   "cell_type": "code",
   "execution_count": null,
   "metadata": {
    "colab": {},
    "colab_type": "code",
    "id": "W8xNSNODKKcs"
   },
   "outputs": [],
   "source": [
    "np.multiply(x,3)"
   ]
  },
  {
   "cell_type": "code",
   "execution_count": null,
   "metadata": {
    "colab": {},
    "colab_type": "code",
    "id": "qTGgDdteKKct"
   },
   "outputs": [],
   "source": [
    "np.divide(x,4)"
   ]
  },
  {
   "cell_type": "code",
   "execution_count": null,
   "metadata": {
    "colab": {},
    "colab_type": "code",
    "id": "u-Cf5OfBKKcu"
   },
   "outputs": [],
   "source": [
    "np.power(x,5)"
   ]
  },
  {
   "cell_type": "markdown",
   "metadata": {
    "colab_type": "text",
    "id": "SfOGy3YXKKcv"
   },
   "source": [
    "## Indexing, Slicing and Reshaping 🔭"
   ]
  },
  {
   "cell_type": "markdown",
   "metadata": {
    "colab_type": "text",
    "id": "oGZo5zPWKKcw"
   },
   "source": [
    "Now, we're going to explore some of the functions in Python. First, let's create an array with 12 numbers using the **arange** method in increments of 5:"
   ]
  },
  {
   "cell_type": "code",
   "execution_count": null,
   "metadata": {
    "colab": {},
    "colab_type": "code",
    "id": "u8nJkGpqKKcw"
   },
   "outputs": [],
   "source": [
    "s = np.arange(12)*5 # note this is same as np.arange(0,12,1)*5\n",
    "s"
   ]
  },
  {
   "cell_type": "markdown",
   "metadata": {
    "colab_type": "text",
    "id": "KFKdNcVCKKcx"
   },
   "source": [
    "**Indexing** refers to retrieving a specific element of an array. Let's find the 3rd value in the above array:"
   ]
  },
  {
   "cell_type": "code",
   "execution_count": null,
   "metadata": {
    "colab": {},
    "colab_type": "code",
    "id": "it-5rQ-AKKcx"
   },
   "outputs": [],
   "source": [
    "s[2]"
   ]
  },
  {
   "cell_type": "markdown",
   "metadata": {
    "colab_type": "text",
    "id": "40b-h-2JKKcy"
   },
   "source": [
    "**Note**: The values of an array always start with x[0]. We can also retrieve values within an certain range using the **:** symbol:"
   ]
  },
  {
   "cell_type": "code",
   "execution_count": null,
   "metadata": {
    "colab": {},
    "colab_type": "code",
    "id": "2BP_MEpXKKcz"
   },
   "outputs": [],
   "source": [
    "s[2:5]"
   ]
  },
  {
   "cell_type": "markdown",
   "metadata": {
    "colab_type": "text",
    "id": "0f4WW1dyKKc0"
   },
   "source": [
    "😎 Now, let's try combining two arrays using [**concatenate( )**](https://docs.scipy.org/doc/numpy/reference/generated/numpy.concatenate.html) and add 'a' as rows to the end of 's':"
   ]
  },
  {
   "cell_type": "code",
   "execution_count": null,
   "metadata": {
    "colab": {},
    "colab_type": "code",
    "id": "zZhuYVWVKKc0"
   },
   "outputs": [],
   "source": [
    "np.concatenate((s,a))"
   ]
  },
  {
   "cell_type": "markdown",
   "metadata": {
    "colab_type": "text",
    "id": "Lzdq-SN9KKc1"
   },
   "source": [
    "🙌 How about splitting arrays? We can use the [**.split()**](https://docs.scipy.org/doc/numpy/reference/generated/numpy.concatenate.html) method to split the s array in sub-arrays:"
   ]
  },
  {
   "cell_type": "code",
   "execution_count": null,
   "metadata": {
    "colab": {},
    "colab_type": "code",
    "id": "iFxWISKcKKc2"
   },
   "outputs": [],
   "source": [
    "z = np.arange(9.0)\n",
    "z"
   ]
  },
  {
   "cell_type": "code",
   "execution_count": null,
   "metadata": {
    "colab": {},
    "colab_type": "code",
    "id": "_JM8BwQcKKc3"
   },
   "outputs": [],
   "source": [
    "split_arr = np.split(z, 3)"
   ]
  },
  {
   "cell_type": "code",
   "execution_count": null,
   "metadata": {
    "colab": {},
    "colab_type": "code",
    "id": "7hddEf4zFL7L"
   },
   "outputs": [],
   "source": [
    "split_arr"
   ]
  },
  {
   "cell_type": "markdown",
   "metadata": {
    "colab_type": "text",
    "id": "xxIhNlDNE28F"
   },
   "source": [
    "**What do y'all think the shape of the above array is?**"
   ]
  },
  {
   "cell_type": "code",
   "execution_count": null,
   "metadata": {
    "colab": {},
    "colab_type": "code",
    "id": "Rv6OJqbZFOp6"
   },
   "outputs": [],
   "source": [
    "np.array(split_arr).shape"
   ]
  },
  {
   "cell_type": "markdown",
   "metadata": {
    "colab_type": "text",
    "id": "GAZ7v5w8KKc4"
   },
   "source": [
    "## Exercise: Indexing, Slicing and Reshaping"
   ]
  },
  {
   "cell_type": "markdown",
   "metadata": {
    "colab_type": "text",
    "id": "5bAZWakZKKc4"
   },
   "source": [
    "Time for a test!"
   ]
  },
  {
   "cell_type": "markdown",
   "metadata": {
    "colab_type": "text",
    "id": "yGbwUaHwKKc4"
   },
   "source": [
    "- Using the **arange** method, create an array of 5 numbers in increments of 10. Call it 'oreo'\n",
    "- Retrieve the 3rd number in the above array named 'oreo'\n",
    "- Create another array of 5 numbers in increments of 15. Use any method you like and call it 'milk'\n",
    "- Retrive the 1st number in the above array named 'milk' <br>\n",
    "Can you eat those many oreos and drink that many cups of milk? You decide! 🥛 "
   ]
  },
  {
   "cell_type": "code",
   "execution_count": null,
   "metadata": {
    "colab": {},
    "colab_type": "code",
    "id": "JDFY9uNd1gTS"
   },
   "outputs": [],
   "source": [
    "# YOUR CODE HERE #"
   ]
  },
  {
   "cell_type": "code",
   "execution_count": null,
   "metadata": {
    "colab": {},
    "colab_type": "code",
    "id": "GJIsd7li1g7r"
   },
   "outputs": [],
   "source": [
    "# YOUR CODE HERE #"
   ]
  },
  {
   "cell_type": "code",
   "execution_count": null,
   "metadata": {
    "colab": {},
    "colab_type": "code",
    "id": "p8kCdGOT1hPs"
   },
   "outputs": [],
   "source": [
    "# YOUR CODE HERE #"
   ]
  },
  {
   "cell_type": "code",
   "execution_count": null,
   "metadata": {
    "colab": {},
    "colab_type": "code",
    "id": "_Ai9MPyD1hcU"
   },
   "outputs": [],
   "source": [
    "# YOUR CODE HERE #"
   ]
  },
  {
   "cell_type": "markdown",
   "metadata": {
    "colab_type": "text",
    "id": "eqbcMLWOKKc4"
   },
   "source": [
    "😀 We've completed our review of NumPy! After you take a quick break - walk around, drink water - let's move on to Pandas. "
   ]
  },
  {
   "cell_type": "markdown",
   "metadata": {
    "colab_type": "text",
    "id": "WfqaMtQ-KKc4"
   },
   "source": [
    "# Pandas: An Introduction 🐼 "
   ]
  },
  {
   "cell_type": "markdown",
   "metadata": {
    "colab_type": "text",
    "id": "fdnANq-9KKc5"
   },
   "source": [
    "Pandas is an open source Python package that provides numerous tools for data analysis. Pandas provides </br> fast, flexible, and expressive data structures designed to make working with structured (tabular, multidimensional, potentially heterogeneous) and time series data both easy and intuitive. It aims to be the fundamental high-level building block for doing practical, real world data analysis in Python. \n",
    "\n",
    "We'll take look at some of the core ideas in Pandas here. You can learn more about Pandas in their official [documentation](http://pandas.pydata.org)."
   ]
  },
  {
   "cell_type": "markdown",
   "metadata": {
    "colab_type": "text",
    "id": "4DM2GJ-9KKc5"
   },
   "source": [
    "## [Pandas Series](https://pandas.pydata.org/pandas-docs/stable/reference/api/pandas.Series.html) ❄️"
   ]
  },
  {
   "cell_type": "markdown",
   "metadata": {
    "colab_type": "text",
    "id": "zqgi1nU3KKc5"
   },
   "source": [
    "A **Series** is similar to an one dimensional array and can store data of any type. The values of a Pandas Series are mutable but the size of a Series is immutable and cannot be changed.<br>\n",
    "The first element in the series is assigned the index 0, while the last element is at index N-1, where N is the total number of elements in the series."
   ]
  },
  {
   "cell_type": "markdown",
   "metadata": {
    "colab_type": "text",
    "id": "6VIa2HCGKKc5"
   },
   "source": [
    "Let's first **import** pandas under the common alias **pd**:"
   ]
  },
  {
   "cell_type": "code",
   "execution_count": null,
   "metadata": {
    "colab": {},
    "colab_type": "code",
    "id": "9VyI95ekKKc5"
   },
   "outputs": [],
   "source": [
    "import pandas as pd"
   ]
  },
  {
   "cell_type": "markdown",
   "metadata": {
    "colab_type": "text",
    "id": "EO-qBtXSKKc6"
   },
   "source": [
    "### Creating a Pandas Series"
   ]
  },
  {
   "cell_type": "markdown",
   "metadata": {
    "colab_type": "text",
    "id": "EhnXEyJhKKc6"
   },
   "source": [
    "We can create a series by invoking the pd.Series( ) method, like this: "
   ]
  },
  {
   "cell_type": "code",
   "execution_count": null,
   "metadata": {
    "colab": {},
    "colab_type": "code",
    "id": "M5ib0-EyKKc6"
   },
   "outputs": [],
   "source": [
    "decades = pd.Series(np.array([10,20,30,40,50,60])) "
   ]
  },
  {
   "cell_type": "code",
   "execution_count": null,
   "metadata": {
    "colab": {},
    "colab_type": "code",
    "id": "3ySUr90TKKc7"
   },
   "outputs": [],
   "source": [
    "decades"
   ]
  },
  {
   "cell_type": "markdown",
   "metadata": {
    "colab_type": "text",
    "id": "iQVRDE8hKKc8"
   },
   "source": [
    "As shown above, the index is assigned values from 0-5. "
   ]
  },
  {
   "cell_type": "markdown",
   "metadata": {
    "colab_type": "text",
    "id": "87_wqVs5KKc8"
   },
   "source": [
    "## Exercise: Pandas Series🎿"
   ]
  },
  {
   "cell_type": "markdown",
   "metadata": {
    "colab_type": "text",
    "id": "REG7WpeOKKc8"
   },
   "source": [
    "Exercise time!"
   ]
  },
  {
   "cell_type": "markdown",
   "metadata": {
    "colab_type": "text",
    "id": "nOpmyZmPKKc9"
   },
   "source": [
    "- Create a Series for the lowest GDP's in the world:\n",
    "    - Czech Republic: 264.50\n",
    "    - Iraq:\t250.07\n",
    "    - Romania: 248.84\n",
    "    - Portugal:\t242.83\t\n",
    "\n",
    "Tip: See what arguments are available in [pd.Series](https://pandas.pydata.org/pandas-docs/stable/reference/api/pandas.Series.html) and use the countries as the index."
   ]
  },
  {
   "cell_type": "code",
   "execution_count": null,
   "metadata": {
    "colab": {},
    "colab_type": "code",
    "id": "IZ-XaNVc1n21"
   },
   "outputs": [],
   "source": [
    "# YOUR CODE HERE #"
   ]
  },
  {
   "cell_type": "markdown",
   "metadata": {
    "colab_type": "text",
    "id": "2jjaY7yYKKc9"
   },
   "source": [
    "## [Pandas DataFrame](https://pandas.pydata.org/pandas-docs/stable/reference/api/pandas.DataFrame.html) 🐨"
   ]
  },
  {
   "cell_type": "markdown",
   "metadata": {
    "colab_type": "text",
    "id": "ASC15gj_KKc9"
   },
   "source": [
    "The DataFrame is similar to a table. It organizes data into rows and columns as an two-dimensional data structure. The columns can be of different types, and the size of a DataFrame is modifiable. <br>\n",
    "Let's create a DataFrame of 14 animals, populated with age, weight, and length. <br> First, let's create a Python dictionary. "
   ]
  },
  {
   "cell_type": "code",
   "execution_count": null,
   "metadata": {
    "colab": {},
    "colab_type": "code",
    "id": "vNcT0_XVKKc9"
   },
   "outputs": [],
   "source": [
    "animal_dict = {\n",
    "     'Animal' : [\"Hamster\", \"Alligator\", \"Hamster\",\"Cat\", \"Snake\", \"Cat\",\"Hamster\", \"Cat\", \"Cat\", \"Snake\", \"Hamster\", \"Hamster\", \"Cat\", \"Alligator\"],\n",
    "     'Age' : [1,9,4,13,14,10,2,4,14,7,14,2,1,7],\n",
    "     'Weight': [7,13,8,12,11,8,10,14,9,11,10,10,9,14], \n",
    "     'Length' : [8,6,9,1,8,9,5,6,6,6,5,3,4,5] \n",
    "}"
   ]
  },
  {
   "cell_type": "markdown",
   "metadata": {
    "colab_type": "text",
    "id": "ZDTmV7eEKKc-"
   },
   "source": [
    "Now, let's turn our Python dictionary into a DataFrame:"
   ]
  },
  {
   "cell_type": "code",
   "execution_count": null,
   "metadata": {
    "colab": {},
    "colab_type": "code",
    "id": "UzIddfJFKKc-"
   },
   "outputs": [],
   "source": [
    "animal = pd.DataFrame(animal_dict)\n",
    "animal"
   ]
  },
  {
   "cell_type": "markdown",
   "metadata": {
    "colab_type": "text",
    "id": "HhGkmv6eu9PP"
   },
   "source": [
    "We turned a dictionary into a dataframe! Can you tell which parts of the dictionary became the headers and what became the values?"
   ]
  },
  {
   "cell_type": "markdown",
   "metadata": {
    "colab_type": "text",
    "id": "1Pwq8wEQKKdA"
   },
   "source": [
    "### Pandas Methods 🐢"
   ]
  },
  {
   "cell_type": "markdown",
   "metadata": {
    "colab_type": "text",
    "id": "4lADsQJFKKdB"
   },
   "source": [
    "Great! 👍 Pandas has many unique methods that we can use for data analysis and filtering. Let's first explore [**.unique( )**](https://pandas.pydata.org/pandas-docs/stable/reference/api/pandas.Series.unique.html). This method returns all the unique values in an given series or column:"
   ]
  },
  {
   "cell_type": "code",
   "execution_count": null,
   "metadata": {
    "colab": {},
    "colab_type": "code",
    "id": "1cj0wYKYKKdB"
   },
   "outputs": [],
   "source": [
    "pd.unique(animal[\"Animal\"])"
   ]
  },
  {
   "cell_type": "markdown",
   "metadata": {
    "colab_type": "text",
    "id": "pb8JvqIjKKdC"
   },
   "source": [
    "Let's now look at the [**describe()**](https://pandas.pydata.org/pandas-docs/stable/reference/api/pandas.DataFrame.describe.html)  method. This method returns the summary statistics of numerical columns. To return the numerical statistics, we write:"
   ]
  },
  {
   "cell_type": "code",
   "execution_count": null,
   "metadata": {
    "colab": {},
    "colab_type": "code",
    "id": "252W6c8HKKdC"
   },
   "outputs": [],
   "source": [
    "animal.describe(include=[np.number])"
   ]
  },
  {
   "cell_type": "markdown",
   "metadata": {
    "colab_type": "text",
    "id": "BsKjmT16KKdD"
   },
   "source": [
    "Super simple! 🥳  **np.number** simply returns the numerical columns and excludes other data types. Now, let's attempt to filter columns in Pandas. <br> \n",
    "To filter in Pandas, we simply use brackets. Let's try one example:"
   ]
  },
  {
   "cell_type": "code",
   "execution_count": null,
   "metadata": {
    "colab": {},
    "colab_type": "code",
    "id": "BPvwh15bKKdD"
   },
   "outputs": [],
   "source": [
    "animal[animal[\"Weight\"] > 10]"
   ]
  },
  {
   "cell_type": "markdown",
   "metadata": {
    "colab_type": "text",
    "id": "Pey_gUxLKKdF"
   },
   "source": [
    "🐍 Python is wonderful because it's so intuitive. We pointed to **animal**, and then to the **\"Weight\"** column. At this point, we filtered for numbers greater than 10\n",
    ". "
   ]
  },
  {
   "cell_type": "markdown",
   "metadata": {
    "colab_type": "text",
    "id": "CgYln5WbKKdF"
   },
   "source": [
    "What if we want to find rows between a certain subset? We can use the '&' operator: "
   ]
  },
  {
   "cell_type": "code",
   "execution_count": null,
   "metadata": {
    "colab": {},
    "colab_type": "code",
    "id": "dVlSA9sZKKdF"
   },
   "outputs": [],
   "source": [
    "animal[(animal[\"Length\"] > 4) & (animal[\"Length\"] < 8)] "
   ]
  },
  {
   "cell_type": "markdown",
   "metadata": {
    "colab_type": "text",
    "id": "x6wsJ_pyKKdG"
   },
   "source": [
    "We are almost finished our review of Pandas DataFrames. 🤠 Let's now turn our attention to [**.groupby()**](https://pandas.pydata.org/pandas-docs/stable/reference/api/pandas.DataFrame.groupby.html). The Groupby method involves grouping data around a particular category and applying analysis. This would be useful if you were interested in answering the question, \"What's the average weight of all the snakes, cats, hamsters, and alligators?\" To find the average weight of each category of animal, we'll group the animals by animal type and then apply the mean function. We could apply other functions too. We could apply \"sum\" to add up all the weights, \"min\" to find the lowest, \"max\" to get the highest, or \"count\" just to get a count of each animal type:"
   ]
  },
  {
   "cell_type": "code",
   "execution_count": null,
   "metadata": {
    "colab": {},
    "colab_type": "code",
    "id": "g_QWyOf0KKdJ"
   },
   "outputs": [],
   "source": [
    "animal_groups = animal.groupby(\"Animal\")\n",
    "animal_groups['Weight'].mean()"
   ]
  },
  {
   "cell_type": "markdown",
   "metadata": {
    "colab_type": "text",
    "id": "4KhditFY4MKJ"
   },
   "source": [
    "## Exercise 3: DataFrame 🏃\n",
    "- Open the [UN Dataset](http://data.un.org/_Docs/SYB/PDFs/SYB60_T03_Population%20Growth,%20Fertility%20and%20Mortality%20Indicators.pdf) \n",
    "- Create a DataFrame using **Northern Africa**, **Sub-Saharan Africa**, **Eastern Asia** and **Western Europe**. For these areas, create columns for *Population Rate of Increase*, *Fertility Rate*, and *Infant Mortality* for the year 2005.\n",
    "- Using filtering, sort for the countries that have infant mortality between 30 and 50. \n",
    "- Find the max for Infant Mortality for the four areas"
   ]
  },
  {
   "cell_type": "code",
   "execution_count": null,
   "metadata": {
    "colab": {},
    "colab_type": "code",
    "id": "l3OMB15zxBY_"
   },
   "outputs": [],
   "source": [
    "# YOUR CODE HERE #"
   ]
  },
  {
   "cell_type": "code",
   "execution_count": null,
   "metadata": {
    "colab": {},
    "colab_type": "code",
    "id": "b0MAN8Sv1s3e"
   },
   "outputs": [],
   "source": [
    "# YOUR CODE HERE #"
   ]
  },
  {
   "cell_type": "code",
   "execution_count": null,
   "metadata": {
    "colab": {},
    "colab_type": "code",
    "id": "bhdjo8rt1s_B"
   },
   "outputs": [],
   "source": [
    "# YOUR CODE HERE #"
   ]
  },
  {
   "cell_type": "code",
   "execution_count": null,
   "metadata": {
    "colab": {},
    "colab_type": "code",
    "id": "qNXPKrO31tJc"
   },
   "outputs": [],
   "source": [
    "# YOUR CODE HERE #"
   ]
  },
  {
   "cell_type": "markdown",
   "metadata": {
    "colab_type": "text",
    "id": "8ni5XbrPKKdM"
   },
   "source": [
    "With that, we've completed our review of the Python library Pandas. If you have any lingering questions, do ask! You can find more on Pandas on their [official website](pandas.pydata.org)."
   ]
  },
  {
   "cell_type": "markdown",
   "metadata": {
    "colab_type": "text",
    "id": "N6zknks8KKdM"
   },
   "source": [
    "# Matplotlib: A (Tiny) Introduction 📈"
   ]
  },
  {
   "cell_type": "markdown",
   "metadata": {
    "colab_type": "text",
    "id": "Ncf6gLKkKKdM"
   },
   "source": [
    "Mathplotlib is a Python 2D plotting library which produces  plots, histograms, power spectra, bar charts, errorcharts, scatterplots, etc. with just a few lines of code. Source: [Matplotlib](https://matplotlib.org). <br> \n",
    "We'll cover only some of the coolest features in this Notebook due to time constraints. You can explore more on the [official website](https://matplotlib.org/tutorials/index.html)"
   ]
  },
  {
   "cell_type": "markdown",
   "metadata": {
    "colab_type": "text",
    "id": "AF_UaXHGKKdM"
   },
   "source": [
    "Let's import the `mathplotlib` library under the alias `plt`"
   ]
  },
  {
   "cell_type": "code",
   "execution_count": null,
   "metadata": {
    "colab": {},
    "colab_type": "code",
    "id": "SPimxVV7KKdM"
   },
   "outputs": [],
   "source": [
    "import matplotlib.pyplot as plt"
   ]
  },
  {
   "cell_type": "markdown",
   "metadata": {
    "colab_type": "text",
    "id": "sQNhgmjFKKdN"
   },
   "source": [
    "### Pyplot"
   ]
  },
  {
   "cell_type": "markdown",
   "metadata": {
    "colab_type": "text",
    "id": "9WbbAMlRKKdN"
   },
   "source": [
    "Pyplot is a module of Matplotlib which provides simple functions to add plot elements like lines, images, text, etc. to the current axes in the current figure."
   ]
  },
  {
   "cell_type": "markdown",
   "metadata": {
    "colab_type": "text",
    "id": "00Fel6ykKKdN"
   },
   "source": [
    "We'll import the Pyplot module to create a simple plot. We will be using two NumPy arrays - one for the x-coordinates and another for the y-coordinates:"
   ]
  },
  {
   "cell_type": "code",
   "execution_count": null,
   "metadata": {
    "colab": {},
    "colab_type": "code",
    "id": "sLSc7SbHKKdN"
   },
   "outputs": [],
   "source": [
    "plt.plot([1,2,3,4],[1,4,9,16]) # plt.plot([x-coordinates], [y-coordinates])\n",
    "plt.show()"
   ]
  },
  {
   "cell_type": "markdown",
   "metadata": {
    "colab_type": "text",
    "id": "weoDq9MYKKdO"
   },
   "source": [
    "Now, we can add titles, and labels:"
   ]
  },
  {
   "cell_type": "code",
   "execution_count": null,
   "metadata": {
    "colab": {},
    "colab_type": "code",
    "id": "iHnwLMXHKKdO"
   },
   "outputs": [],
   "source": [
    "plt.plot([1,2,3,4],[1,4,9,16]) # plt.plot([x-coordinates], [y-coordinates])\n",
    "plt.title(\"First Plot\")\n",
    "plt.xlabel(\"X Label\")\n",
    "plt.ylabel(\"Y Label\")\n",
    "plt.show()"
   ]
  },
  {
   "cell_type": "markdown",
   "metadata": {
    "colab_type": "text",
    "id": "LH76ssZnKKdP"
   },
   "source": [
    "Another commonly used graph in Machine Learning is the Scatter Plot. Let's create a basic scatterplot in MathPlotLib comparing the distribution of height vs. weight: "
   ]
  },
  {
   "cell_type": "code",
   "execution_count": null,
   "metadata": {
    "colab": {},
    "colab_type": "code",
    "id": "9O0CPOx4KKdQ"
   },
   "outputs": [],
   "source": [
    "height = np.array([167, 170, 149, 165, 155, 180, 166, 146, 159, 185, 145, 168, 172, 181, 169])\n",
    "weight = np.array([86,74,66,78,68,79,90,73,70,88,66,84, 67, 84, 77])\n",
    "\n",
    "#We can set the limit (lower, upper) for the x-axis and the y-axis using xlim and ylim, respectively.\n",
    "plt.xlim(140, 200)\n",
    "plt.ylim(60,100)\n",
    "#A scatterplot can be generated through .scatter(x,y)\n",
    "plt.scatter(height,weight)\n",
    "plt.title(\"Comparing Height vs. Weight\")\n",
    "plt.xlabel(\"Height\")\n",
    "plt.ylabel(\"Weight\")\n",
    "plt.show()"
   ]
  },
  {
   "cell_type": "markdown",
   "metadata": {
    "colab_type": "text",
    "id": "6mxMn_4bKKdR"
   },
   "source": [
    "## Exercise: MatPlotLib 🏃 "
   ]
  },
  {
   "cell_type": "markdown",
   "metadata": {
    "colab_type": "text",
    "id": "3LfHjeNWKKdR"
   },
   "source": [
    "- Using the data for the animal weights and lengths, create an scatterplot comparing the information. \n",
    "\n",
    "Note: Remember to properly label the graph (x-axis, y-axis, and title!)"
   ]
  },
  {
   "cell_type": "code",
   "execution_count": null,
   "metadata": {
    "colab": {},
    "colab_type": "code",
    "id": "xFK94CA71yul"
   },
   "outputs": [],
   "source": [
    "# YOUR CODE HERE #"
   ]
  },
  {
   "cell_type": "markdown",
   "metadata": {
    "colab_type": "text",
    "id": "wh-AfqzEKKdR"
   },
   "source": [
    "# Seaborn: Another (tiny) introduction 🌊 "
   ]
  },
  {
   "cell_type": "markdown",
   "metadata": {
    "colab_type": "text",
    "id": "X3OFm9_LKKdR"
   },
   "source": [
    "Let's first import the library for seaborn under the alias sns:"
   ]
  },
  {
   "cell_type": "code",
   "execution_count": null,
   "metadata": {
    "colab": {},
    "colab_type": "code",
    "id": "ghg0flCUytpS"
   },
   "outputs": [],
   "source": [
    "import seaborn as sns"
   ]
  },
  {
   "cell_type": "markdown",
   "metadata": {
    "colab_type": "text",
    "id": "9kT_EQIkKKdS"
   },
   "source": [
    "Let's import a csv file - comma-seperated values - that details the total bill costs and the tips. We'll run a scatterplot on this data:"
   ]
  },
  {
   "cell_type": "code",
   "execution_count": null,
   "metadata": {
    "colab": {},
    "colab_type": "code",
    "id": "bx-QuQQ3KKdT"
   },
   "outputs": [],
   "source": [
    "# Run this code to import the data and read it in using 'pd.read_csv('file')'\n",
    "tips = pd.read_csv('tips.csv')\n",
    "ax = sns.scatterplot(x=\"total_bill\", y=\"tip\", data=tips) #plotting it"
   ]
  },
  {
   "cell_type": "markdown",
   "metadata": {
    "colab_type": "text",
    "id": "gUDdScq-KKdU"
   },
   "source": [
    "The scatterplot above does not discriminate between the days of the week. What if we wanted to see the distribution of the data for each day? \n",
    "<br> \n",
    "For this, we can consider using a categorical scatterplot with the **.catplot()** method. "
   ]
  },
  {
   "cell_type": "code",
   "execution_count": null,
   "metadata": {
    "colab": {},
    "colab_type": "code",
    "id": "zw8v_e-hKKdU"
   },
   "outputs": [],
   "source": [
    "sns.catplot(x=\"day\", y=\"total_bill\", data=tips);"
   ]
  },
  {
   "cell_type": "markdown",
   "metadata": {
    "colab_type": "text",
    "id": "6W0Rxlt1KKdW"
   },
   "source": [
    "We can go even further! How about we try sorting the time of the day that the customer dined at the restaraunt? Let's use the swarm parameter to prevent the points from overlapping and group by time:"
   ]
  },
  {
   "cell_type": "code",
   "execution_count": null,
   "metadata": {
    "colab": {},
    "colab_type": "code",
    "id": "vp3BnS7UKKdW"
   },
   "outputs": [],
   "source": [
    "sns.catplot(x=\"total_bill\", y=\"day\", hue=\"time\", kind=\"swarm\", data=tips);"
   ]
  },
  {
   "cell_type": "markdown",
   "metadata": {
    "colab_type": "text",
    "id": "Aij7Gu_lKKdX"
   },
   "source": [
    "To reiterate, the *hue* parameter allows us to add another dimension to group data by color. The *Swarm* parameter helps us to visualize the data more clearly by preventing overlapping points (as opposed to catplot where points with the same data values will lie on top of each other)."
   ]
  },
  {
   "cell_type": "markdown",
   "metadata": {
    "colab_type": "text",
    "id": "xR4_GYXdKKdX"
   },
   "source": [
    "## Exercise: Seaborn 🐳"
   ]
  },
  {
   "cell_type": "markdown",
   "metadata": {
    "colab_type": "text",
    "id": "0VYlmLfKKKdX"
   },
   "source": [
    "Time for one of our last exercises!"
   ]
  },
  {
   "cell_type": "markdown",
   "metadata": {
    "colab_type": "text",
    "id": "tE5KW2hJKKdX"
   },
   "source": [
    "- Create a simple scatterplot comparing size of tip vs. size of table. "
   ]
  },
  {
   "cell_type": "code",
   "execution_count": null,
   "metadata": {
    "colab": {},
    "colab_type": "code",
    "id": "CBA9c0zJ139G"
   },
   "outputs": [],
   "source": [
    "# YOUR CODE HERE #"
   ]
  },
  {
   "cell_type": "markdown",
   "metadata": {
    "colab_type": "text",
    "id": "FuPzuDVVKKdX"
   },
   "source": [
    "# Scikit-Learn: A Small Preview 👀"
   ]
  },
  {
   "cell_type": "markdown",
   "metadata": {
    "colab_type": "text",
    "id": "DVRl5hoNKKdY"
   },
   "source": [
    "**Scikit-learn** is a free software machine learning library for the Python programming language. It features various classification, regression and clustering algorithms including support vector machines, random forests, gradient boosting, k-means and DBSCAN, and is designed to interoperate with the Python numerical and scientific libraries NumPy and SciPy. Official website: https://scikit-learn.org/ <br>\n",
    "We'll be building a simple linear regression in Scikit-Learn to demonstrate how the library works at the base level. "
   ]
  },
  {
   "cell_type": "markdown",
   "metadata": {
    "colab_type": "text",
    "id": "V7BLSrIJKKdY"
   },
   "source": [
    "## Sneak Peak: Linear Regression 🏡"
   ]
  },
  {
   "cell_type": "markdown",
   "metadata": {
    "colab_type": "text",
    "id": "NOwFVD4iKKdY"
   },
   "source": [
    "Linear regression is a linear approach to modeling a relationship between an response variable and an explanatory variable. We will study this in detail tomorrow!\n",
    "\n",
    "We'll create a small model that predicts the relationship between expected and true housing prices using the Boston Housing Dataset:"
   ]
  },
  {
   "cell_type": "markdown",
   "metadata": {
    "colab_type": "text",
    "id": "kTMMlpXQKKdY"
   },
   "source": [
    "## Import 📦 "
   ]
  },
  {
   "cell_type": "code",
   "execution_count": null,
   "metadata": {
    "colab": {},
    "colab_type": "code",
    "id": "enQickNWKKdY"
   },
   "outputs": [],
   "source": [
    "from sklearn.model_selection import train_test_split\n",
    "from sklearn.linear_model import LinearRegression\n",
    "from sklearn.datasets import load_boston\n",
    "data = load_boston()"
   ]
  },
  {
   "cell_type": "markdown",
   "metadata": {
    "colab_type": "text",
    "id": "7Nq4Vr79tPmD"
   },
   "source": [
    "### What is this data?"
   ]
  },
  {
   "cell_type": "code",
   "execution_count": null,
   "metadata": {
    "colab": {},
    "colab_type": "code",
    "id": "XATXaddItSKK"
   },
   "outputs": [],
   "source": [
    "# Print the description of the dataset (first 1500 characters)\n",
    "print(data.DESCR[:1400])"
   ]
  },
  {
   "cell_type": "code",
   "execution_count": null,
   "metadata": {
    "colab": {},
    "colab_type": "code",
    "id": "TJqB1X3AuLyz"
   },
   "outputs": [],
   "source": [
    "# data.data are all the houses with their attributes.\n",
    "# data.target are the corresponding house prices\n",
    " \n",
    "print(\"House 1, attributes: \", data.data[0])\n",
    "\n",
    "# Show the actual price for these 2 houses\n",
    "print(\"House 1, price: \", data.target[0])"
   ]
  },
  {
   "cell_type": "markdown",
   "metadata": {
    "colab_type": "text",
    "id": "j5vaztG9KKdZ"
   },
   "source": [
    "## Train and Define 🚂 "
   ]
  },
  {
   "cell_type": "markdown",
   "metadata": {
    "colab_type": "text",
    "id": "uEd9diyUKKdZ"
   },
   "source": [
    "We're going to define our X-axis and Y-axis and fit the model to a Linear Regression model."
   ]
  },
  {
   "cell_type": "code",
   "execution_count": null,
   "metadata": {
    "colab": {},
    "colab_type": "code",
    "id": "rjwnl-z6KKdZ"
   },
   "outputs": [],
   "source": [
    "X_train, X_test, y_train, y_test = train_test_split(data.data, data.target)\n",
    "clf = LinearRegression()\n",
    "clf.fit(X_train, y_train)\n",
    "predicted = clf.predict(X_test)\n",
    "expected = y_test"
   ]
  },
  {
   "cell_type": "markdown",
   "metadata": {
    "colab_type": "text",
    "id": "0QdXhrp6KKdZ"
   },
   "source": [
    "## Plot 📊"
   ]
  },
  {
   "cell_type": "code",
   "execution_count": null,
   "metadata": {
    "colab": {},
    "colab_type": "code",
    "id": "hPaS2_nvKKdZ"
   },
   "outputs": [],
   "source": [
    "plt.figure(figsize=(4, 3))\n",
    "plt.scatter(expected, predicted)\n",
    "plt.plot([0, 50], [0, 50], '--k')\n",
    "plt.axis('tight')\n",
    "plt.xlabel('True price ($1000s)')\n",
    "plt.ylabel('Predicted price ($1000s)')\n",
    "plt.tight_layout()"
   ]
  },
  {
   "cell_type": "markdown",
   "metadata": {
    "colab_type": "text",
    "id": "iSHOGMQhKKda"
   },
   "source": [
    "Woo! We've just seen a small preview of what Scikit-learn can do. We have the ability to create an accurate ML model with a few lines of code. \n",
    "\n",
    "We hope you learned something useful, and feel more curious to learn more about AI! "
   ]
  }
 ],
 "metadata": {
  "accelerator": "GPU",
  "colab": {
   "collapsed_sections": [],
   "name": "StudentCopy_Master_DoNotEdit_Python_Libraries.ipynb",
   "provenance": [
    {
     "file_id": "1QOR22dS8WTOdU2WA6indqxGxLPEFyydO",
     "timestamp": 1560435376073
    }
   ],
   "version": "0.3.2"
  },
  "kernelspec": {
   "display_name": "Python 3 (ipykernel)",
   "language": "python",
   "name": "python3"
  },
  "language_info": {
   "codemirror_mode": {
    "name": "ipython",
    "version": 3
   },
   "file_extension": ".py",
   "mimetype": "text/x-python",
   "name": "python",
   "nbconvert_exporter": "python",
   "pygments_lexer": "ipython3",
   "version": "3.11.7"
  }
 },
 "nbformat": 4,
 "nbformat_minor": 4
}
