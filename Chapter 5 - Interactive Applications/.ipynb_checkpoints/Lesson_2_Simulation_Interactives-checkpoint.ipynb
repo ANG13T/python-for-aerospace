{
 "cells": [
  {
   "cell_type": "markdown",
   "id": "7f40c398-6597-4a05-a059-27726420b01d",
   "metadata": {},
   "source": [
    "# Lesson 2: Simulation Interactives"
   ]
  },
  {
   "cell_type": "markdown",
   "id": "a0889cb5-cf8e-45d9-9849-99f6c0ad0a9c",
   "metadata": {},
   "source": [
    "## Embedding Matplotlib Charts within Tkinter\n",
    "Matplotlib, a Python plotting library, provides different options, known as \"backends,\" for displaying plots. When used from the Python shell, plots are displayed in a default window. However, these plots can also be embedded in graphical user interfaces like Tkinter, wxPython, or PyGTK. To choose the Tkinter backend specifically, you can use the backend_tkagg module, which facilitates embedding plots within Tkinter applications."
   ]
  },
  {
   "cell_type": "code",
   "execution_count": 65,
   "id": "8d6f01f4-3035-446c-8b75-e471120e818a",
   "metadata": {},
   "outputs": [],
   "source": [
    "import tkinter as tk\n",
    "from matplotlib.figure import Figure \n",
    "from matplotlib.backends.backend_tkagg import (FigureCanvasTkAgg,  \n",
    "NavigationToolbar2Tk) "
   ]
  },
  {
   "cell_type": "code",
   "execution_count": 66,
   "id": "1583409e-57da-476f-894f-82960b75029e",
   "metadata": {},
   "outputs": [
    {
     "data": {
      "text/plain": [
       "''"
      ]
     },
     "execution_count": 66,
     "metadata": {},
     "output_type": "execute_result"
    }
   ],
   "source": [
    "window = tk.Tk() \n",
    "window.title('Line Graph using Matplotlib and Tkinter') \n",
    "# Setting the dimensions of the window to be 600px by 600px\n",
    "window.geometry(\"600x600\") "
   ]
  },
  {
   "cell_type": "markdown",
   "id": "65e5e826-5637-43e5-816d-0410f402d051",
   "metadata": {},
   "source": [
    "## Creating a Figure\n",
    "Matplotlib provides a `Figure` class which we can leverage to create our plot!\n",
    "The code below creates a standard line graph."
   ]
  },
  {
   "cell_type": "code",
   "execution_count": 67,
   "id": "c7173530-cf43-48c6-b978-49e68d140a9c",
   "metadata": {},
   "outputs": [
    {
     "data": {
      "text/plain": [
       "[<matplotlib.lines.Line2D at 0x1255e0b50>]"
      ]
     },
     "execution_count": 67,
     "metadata": {},
     "output_type": "execute_result"
    }
   ],
   "source": [
    "fig = Figure(figsize = (5, 5), \n",
    "                 dpi = 100) \n",
    "x = range(101)\n",
    "y = [i ** 2 for i in x]  # Squaring each value in the range\n",
    "\n",
    "# Add a subplot to the figure\n",
    "plot1 = fig.add_subplot(111)\n",
    "\n",
    "# Plot the line graph\n",
    "plot1.plot(x, y)"
   ]
  },
  {
   "cell_type": "markdown",
   "id": "71ce7302-9a5a-481c-b35c-00c5a7e22ef7",
   "metadata": {},
   "source": [
    "## Embedding the Figure using Canvas\n",
    "This code segment is responsible for embedding a Matplotlib figure (in this case, fig) within a Tkinter window."
   ]
  },
  {
   "cell_type": "code",
   "execution_count": 68,
   "id": "c7d92ffc-1647-481a-9663-e98e01c8ab87",
   "metadata": {},
   "outputs": [],
   "source": [
    "canvas = FigureCanvasTkAgg(fig, master = window)   \n",
    "canvas.draw() \n",
    "\n",
    "# placing the canvas on the Tkinter window \n",
    "canvas.get_tk_widget().pack() "
   ]
  },
  {
   "cell_type": "markdown",
   "id": "d14f1ede-15de-4bd6-a389-7c385b0b6cca",
   "metadata": {},
   "source": [
    "## Embedding a Toolbar\n",
    "Using `NavigationToolbar2Tk` we can add a toolbar utility which provide an assortment of button options at the bottom of the window allowing us to further configure out plot."
   ]
  },
  {
   "cell_type": "code",
   "execution_count": 69,
   "id": "6931a998-85e2-4d64-949a-6ecd179d246a",
   "metadata": {},
   "outputs": [],
   "source": [
    "# Initialize Matplotlib toolbar \n",
    "toolbar = NavigationToolbar2Tk(canvas, \n",
    "                               window) \n",
    "toolbar.update() \n",
    "\n",
    "# Place toolbar within the window \n",
    "canvas.get_tk_widget().pack()"
   ]
  },
  {
   "cell_type": "code",
   "execution_count": 70,
   "id": "bf9479e6-2d04-4f84-a533-e8f1a2a771c5",
   "metadata": {},
   "outputs": [],
   "source": [
    "window.mainloop()"
   ]
  },
  {
   "cell_type": "markdown",
   "id": "1df7cc2a-19d3-4a8a-ba10-b3edba6bad7c",
   "metadata": {},
   "source": [
    "## Exercise 1: Create a sin(x) plot using Tkinter and Matplotlib\n",
    "\n",
    "#### Objectives:\n",
    "- Create a `600x600` Tkinter window titled \"Sin Graph using Tkinter\"\n",
    "- Create a figure using the `Figure` class from matplotlib\n",
    "- Plot sin(x)`np.sin(x)` using the following x range `np.linspace(0, 2*np.pi, 100)`\n",
    "- Embed the figure using canvas `FigureCanvasTkAgg`\n",
    "- Embed a toolbar using `NavigationToolbar2Tk`\n",
    "- Display the window"
   ]
  },
  {
   "cell_type": "markdown",
   "id": "d456668a-97a9-442c-bb6a-a917d26dd4e1",
   "metadata": {},
   "source": [
    "## Simulating Mathematical Models using Tkinter\n",
    "Now that we understand the foundations of Tkinter, we can use it to visualize mathematical models. In the following example, we will create a plot within Tkinter that plots the solution for the ODE of a harmonic oscillator:\n",
    "\n",
    "$$\n",
    "\\frac{{d^2 x}}{{dt^2}} + \\omega^2 x = 0\n",
    "$$\n",
    "\n",
    "Where:\n",
    "\n",
    "- `w`: angular frequency\n",
    "- `t`: time\n",
    "- `x`: position of the oscillator\n",
    "- `d^2 x / dt^2`: acceleration of the oscillator\n",
    "\n",
    "![https://acoustics.byu.edu/images/animations/drivensimpleharmonicoscillator1-4.gif](https://acoustics.byu.edu/images/animations/drivensimpleharmonicoscillator1-4.gif)\n",
    "\n",
    "[Image Source](https://acoustics.byu.edu/animations-sho)"
   ]
  },
  {
   "cell_type": "code",
   "execution_count": 72,
   "id": "1dddb1c3-0a59-4fde-af5d-9c7868d168ba",
   "metadata": {},
   "outputs": [],
   "source": [
    "import numpy as np\n",
    "from scipy.integrate import odeint\n",
    "import matplotlib.pyplot as plt"
   ]
  },
  {
   "cell_type": "markdown",
   "id": "a8fd1164-9e2f-4b7e-918a-e9999750218c",
   "metadata": {},
   "source": [
    "Defines the ODE equation for the harmonic oscillator"
   ]
  },
  {
   "cell_type": "code",
   "execution_count": 73,
   "id": "a8e7a41a-d05f-4a96-b7fd-74398167bcde",
   "metadata": {},
   "outputs": [],
   "source": [
    "def harmonic_oscillator(y, t, omega):\n",
    "    \"\"\"\n",
    "    Represents the equation of motion for a harmonic oscillator.\n",
    "    y: array-like, containing the position and velocity [x, v]\n",
    "    t: float, time\n",
    "    omega: float, angular frequency (related to the spring constant and mass)\n",
    "    \"\"\"\n",
    "    x, v = y\n",
    "    dydt = [v, -omega**2 * x]  # Equation of motion for a harmonic oscillator\n",
    "    return dydt"
   ]
  },
  {
   "cell_type": "code",
   "execution_count": 74,
   "id": "132d84f9-fc17-4eed-b08d-aa7bef936e16",
   "metadata": {},
   "outputs": [],
   "source": [
    "# Define constants\n",
    "omega = 2*np.pi  # Angular frequency (arbitrary value for demonstration)\n",
    "y0 = [1.0, 0.0]  # Initial conditions: position = 1, velocity = 0\n",
    "t = np.linspace(0, 10, 1000)  # Time array"
   ]
  },
  {
   "cell_type": "code",
   "execution_count": 75,
   "id": "cc6558cc-38c1-4f9d-b752-3cee3fd11a2c",
   "metadata": {},
   "outputs": [],
   "source": [
    "# Solve the ODE\n",
    "solution = odeint(harmonic_oscillator, y0, t, args=(omega,))\n",
    "\n",
    "# Extract position and velocity from the solution\n",
    "x = solution[:, 0]\n",
    "v = solution[:, 1]"
   ]
  },
  {
   "cell_type": "code",
   "execution_count": 76,
   "id": "0f1cc447-2339-4001-9675-8a5910300e19",
   "metadata": {},
   "outputs": [
    {
     "data": {
      "text/plain": [
       "''"
      ]
     },
     "execution_count": 76,
     "metadata": {},
     "output_type": "execute_result"
    }
   ],
   "source": [
    "window = tk.Tk() \n",
    "window.title('Simple Harmonic Oscillator Solution') \n",
    "# Setting the dimensions of the window to be 600px by 600px\n",
    "window.geometry(\"600x600\") "
   ]
  },
  {
   "cell_type": "code",
   "execution_count": 77,
   "id": "18a36588-a591-46e3-a9fa-3e7f56e1fcf2",
   "metadata": {},
   "outputs": [
    {
     "name": "stderr",
     "output_type": "stream",
     "text": [
      "No artists with labels found to put in legend.  Note that artists whose label start with an underscore are ignored when legend() is called with no argument.\n"
     ]
    },
    {
     "data": {
      "image/png": "[encoded data removed]",
      "text/plain": [
       "<Figure size 432x288 with 1 Axes>"
      ]
     },
     "metadata": {
      "needs_background": "light"
     },
     "output_type": "display_data"
    }
   ],
   "source": [
    "fig = Figure(figsize = (8, 6), \n",
    "                 dpi = 100) \n",
    "\n",
    "# Add a subplot to the figure\n",
    "plot1 = fig.add_subplot(111)\n",
    "\n",
    "# Plot the line graph\n",
    "plot1.plot(t, x, label='Position (x)')\n",
    "plt.xlabel('Time')\n",
    "plt.ylabel('Position')\n",
    "plt.title('Position vs Time for Harmonic Oscillator')\n",
    "plt.legend()\n",
    "plt.grid(True)"
   ]
  },
  {
   "cell_type": "code",
   "execution_count": 78,
   "id": "68a3d448-b556-4eb5-8544-e35bbe3f6125",
   "metadata": {},
   "outputs": [],
   "source": [
    "canvas = FigureCanvasTkAgg(fig, master = window)   \n",
    "canvas.draw() \n",
    "\n",
    "# placing the canvas on the Tkinter window \n",
    "canvas.get_tk_widget().pack() "
   ]
  },
  {
   "cell_type": "code",
   "execution_count": 79,
   "id": "d3093ed8-7304-4336-87f7-66c332799142",
   "metadata": {},
   "outputs": [],
   "source": [
    "toolbar = NavigationToolbar2Tk(canvas, window)\n",
    "toolbar.update()\n",
    "\n",
    "# Place the toolbar on the Tkinter window\n",
    "canvas.get_tk_widget().pack()"
   ]
  },
  {
   "cell_type": "code",
   "execution_count": 80,
   "id": "29b1b188-a0f8-4feb-ac6c-951afb6e1da3",
   "metadata": {},
   "outputs": [],
   "source": [
    "window.mainloop()"
   ]
  },
  {
   "cell_type": "markdown",
   "id": "a95eaf10-0819-4952-810c-c74d4d2d82e0",
   "metadata": {},
   "source": [
    "## Exercise 2: Tkinter plot of ODE of Object in Free Fall\n",
    "\n",
    "#### Objectives:\n",
    "- Create a function representing the following ODE describing an object under free fall:\n",
    "$$\n",
    "\\frac{{d^2 y}}{{dt^2}} = -g\n",
    "$$\n",
    "Where:\n",
    "- `y`: vertical position of object\n",
    "- `t`: time\n",
    "- `d^2y/dt^2`: acceleration of the object in the vertical direction\n",
    "- `g`: gravity\n",
    "\n",
    "- Create a `600x600` Tkinter window titled \"Object in Free Fall ODE\"\n",
    "- Create a figure using the `Figure` class from matplotlib\n",
    "- Plot the solution to the ODE on the figure \n",
    "- Embed the figure using canvas `FigureCanvasTkAgg`\n",
    "- Embed a toolbar using `NavigationToolbar2Tk`\n",
    "- Display the window"
   ]
  },
  {
   "cell_type": "code",
   "execution_count": 83,
   "id": "f7133b39-e230-4c9a-a1aa-e5c8750e8ab2",
   "metadata": {},
   "outputs": [],
   "source": [
    "g = -9.81  # Acceleration due to gravity (m/s^2)\n",
    "t = np.linspace(0, 10, 1000)  # Time \n",
    "y0 = [0, 0] # initial condition"
   ]
  },
  {
   "cell_type": "markdown",
   "id": "1ef1be4a-ed89-4000-b05b-ac0a89d4eac8",
   "metadata": {},
   "source": [
    "Good job! Now we can plot and model mathematical phenomena onto a GUI display with the help of matplotlib and Tkinter. In the next lesson, we will be covering how to style our GUI displays!"
   ]
  }
 ],
 "metadata": {
  "kernelspec": {
   "display_name": "\"Python/Mu (mu_venv-38-20220319-163202)\"",
   "language": "python",
   "name": "mu_venv-38-20220319-163202"
  },
  "language_info": {
   "codemirror_mode": {
    "name": "ipython",
    "version": 3
   },
   "file_extension": ".py",
   "mimetype": "text/x-python",
   "name": "python",
   "nbconvert_exporter": "python",
   "pygments_lexer": "ipython3",
   "version": "3.8.11"
  }
 },
 "nbformat": 4,
 "nbformat_minor": 5
}
