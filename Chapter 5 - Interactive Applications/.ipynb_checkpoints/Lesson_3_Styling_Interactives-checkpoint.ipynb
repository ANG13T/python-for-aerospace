{
 "cells": [
  {
   "cell_type": "markdown",
   "id": "7b626c7c-43a7-43a4-82a3-763b26cd8d48",
   "metadata": {},
   "source": [
    "# Lesson 3: Styling Interactives"
   ]
  },
  {
   "cell_type": "markdown",
   "id": "655d5ca0-09df-41d8-ba3b-c2b78628cad8",
   "metadata": {},
   "source": [
    "## Styling Components with Tkinter 🎨\n",
    "Styling components with Tkinter, Python's built-in GUI (Graphical User Interface) toolkit, involves customizing the appearance of widgets like buttons, labels, frames, etc., to create visually appealing and user-friendly interfaces. While Tkinter offers a basic set of default styles for widgets, it also provides flexibility for developers to customize these styles according to their application's requirements. This includes features such as:\n",
    "\n",
    "- Custom theme styling for Widgets\n",
    "- Customizing fonts\n",
    "- Adding custom styles\n",
    "- Adding third-party libraries\n",
    "\n",
    "You can learn more about it here:\n",
    "[https://tkdocs.com/tutorial/styles.html](https://tkdocs.com/tutorial/styles.html)"
   ]
  },
  {
   "cell_type": "markdown",
   "id": "de486c30-d367-4541-97d6-dfabb045aaa9",
   "metadata": {},
   "source": [
    "## Adding the Sun Valley Theme\n",
    "\n",
    "![https://github.com/rdbende/Sun-Valley-ttk-theme/raw/main/assets/screenshot.png](https://github.com/rdbende/Sun-Valley-ttk-theme/raw/main/assets/screenshot.png)\n",
    "[Image Source](https://github.com/rdbende/Sun-Valley-ttk-theme)\n",
    "\n",
    "In Tkinter, themes refer to a set of predefined styles and configurations that can be applied to widgets to give them a consistent appearance throughout the application. Luckily, many developers have open-sourced their own custom themes, meaning we won't have to write our own theme from scratch!\n",
    "\n",
    "We are going to be using the [Sun Valley]() theme, but here are a few more options for modern-looking tkinter themes:\n",
    "- [Forest-ttk-theme](https://github.com/rdbende/Forest-ttk-theme)\n",
    "- [Azure-ttk-theme](https://github.com/rdbende/Azure-ttk-theme)\n",
    "- [ttkbootstrap](https://github.com/israel-dryer/ttkbootstrap)\n",
    "\n",
    "\n",
    "\n"
   ]
  },
  {
   "cell_type": "markdown",
   "id": "5b001011-d83b-43d7-8a9c-ae6848e018a4",
   "metadata": {},
   "source": [
    "## Sun Valley Components\n",
    "The following code demonstrates how we can create a Sun Valley styled button in Tkinter"
   ]
  },
  {
   "cell_type": "code",
   "execution_count": 2,
   "id": "abc1ac6f-5eef-477d-b587-f6582f205d79",
   "metadata": {},
   "outputs": [],
   "source": [
    "import tkinter\n",
    "from tkinter import ttk\n",
    "import sv_ttk"
   ]
  },
  {
   "cell_type": "code",
   "execution_count": 3,
   "id": "48ea2932-244f-4010-ba36-dd3edcff076d",
   "metadata": {},
   "outputs": [],
   "source": [
    "# Create a window\n",
    "root = tkinter.Tk()\n",
    "# Add a Button component\n",
    "button = ttk.Button(root, text=\"Click me!\")\n",
    "button.pack()\n",
    "\n",
    "# Set the theme to dark mode!\n",
    "sv_ttk.set_theme(\"dark\")\n",
    "\n",
    "root.mainloop()"
   ]
  },
  {
   "cell_type": "markdown",
   "id": "9706c339-70c4-4858-ba5c-e6ed51ab83b5",
   "metadata": {},
   "source": [
    "## Exercise 1: Basic Components with Sun Valley\n",
    "\n",
    "#### Objectives:\n",
    "- Initialize a window using tkinter\n",
    "- Add a `Label` component that states \"Hello World\"\n",
    "- Add a `Button` component that says \"Click Button\"\n",
    "- Set the theme to dark mode using `sv_ttk`\n",
    "- Run the application"
   ]
  },
  {
   "cell_type": "code",
   "execution_count": null,
   "id": "68924571-8c81-4072-894d-7fce33b75096",
   "metadata": {},
   "outputs": [],
   "source": []
  },
  {
   "cell_type": "markdown",
   "id": "d7795d44-7500-46cc-82b6-0f9f5cecf16d",
   "metadata": {},
   "source": [
    "## Creating Forms using tkinter\n",
    "\n",
    "![https://i.pinimg.com/564x/23/31/89/233189df668c1da7bfbe33e9b07f8f7d.jpg](https://i.pinimg.com/564x/23/31/89/233189df668c1da7bfbe33e9b07f8f7d.jpg)\n",
    "\n",
    "[Image Source](https://www.pinterest.com/pin/595601119474868413/)\n",
    "\n",
    "You can create theme-based user interactive forms by following the code outlined below:"
   ]
  },
  {
   "cell_type": "code",
   "execution_count": 40,
   "id": "467a57d9-aa7d-4106-af9b-d7a28d9d752e",
   "metadata": {},
   "outputs": [
    {
     "data": {
      "text/plain": [
       "''"
      ]
     },
     "execution_count": 40,
     "metadata": {},
     "output_type": "execute_result"
    }
   ],
   "source": [
    "# Create a window\n",
    "root = tkinter.Tk()\n",
    "root.title(\"User Form\")\n",
    "root.geometry('500x300')"
   ]
  },
  {
   "cell_type": "markdown",
   "id": "3409b124-4ab1-47d4-a1da-77bb3cbf2c34",
   "metadata": {},
   "source": [
    "## Configuring Styling\n",
    "The following snippet initializes a `Style` object using tkinter which enables us to write custom code to modify the looks of various components. In this case, we create a style named \"Margin.TLabel\" which puts a top padding of 10px  on each of our labels"
   ]
  },
  {
   "cell_type": "code",
   "execution_count": 46,
   "id": "7be26ebc-d542-4486-8914-2c60a57b8fed",
   "metadata": {},
   "outputs": [],
   "source": [
    "# Set the theme to dark mode!\n",
    "sv_ttk.set_theme(\"dark\")\n",
    "\n",
    "# Create a Style instance to make custom styles!\n",
    "style = ttk.Style()\n",
    "\n",
    "# Configure a class name called Margin.TLabel which shows a top padding of 10px when applied\n",
    "style.configure('Margin.TLabel', padding=(0, 10, 0, 0))  # (left, top, right, bottom)"
   ]
  },
  {
   "cell_type": "markdown",
   "id": "7ac1c7df-7dfd-4831-a257-ad14256ebb9b",
   "metadata": {},
   "source": [
    "## Initialize Form\n",
    "The below code creates labels and input fields for the first name, last name, and email of the user.\n",
    "It also displays an output label to display information about the user when they submit the form."
   ]
  },
  {
   "cell_type": "code",
   "execution_count": 42,
   "id": "272cd6d9-bacd-4818-90fa-c2c75b87d6ee",
   "metadata": {},
   "outputs": [],
   "source": [
    "# Create First Name Label\n",
    "first_name_label = ttk.Label(root, text=\"First Name:\", style='Margin.TLabel')\n",
    "first_name_label.pack()\n",
    "\n",
    "# Create Input for First Name\n",
    "first_name_entry = ttk.Entry(root)\n",
    "first_name_entry.pack()\n",
    "\n",
    "# Create Last Name Label\n",
    "last_name_label = ttk.Label(root, text=\"Last Name:\", style='Margin.TLabel')\n",
    "last_name_label.pack()\n",
    "\n",
    "# Create Input for Last Name\n",
    "last_name_entry = ttk.Entry(root)\n",
    "last_name_entry.pack()\n",
    "\n",
    "# Create Email Label\n",
    "email_label = ttk.Label(root, text=\"Email:\", style='Margin.TLabel')\n",
    "email_label.pack()\n",
    "\n",
    "# Create Input for Email\n",
    "email_entry = ttk.Entry(root)\n",
    "email_entry.pack()\n",
    "\n",
    "# Create a Label for Result Output\n",
    "result_label = ttk.Label(root, text=\"Output: \", style='Margin.TLabel')\n",
    "result_label.pack()"
   ]
  },
  {
   "cell_type": "markdown",
   "id": "7d37e7ba-0a5c-409a-b66b-1fecdd0bc00c",
   "metadata": {},
   "source": [
    "## Submit Form Action\n",
    "The following code gets executed when the user presses the \"Create Account\" button.\n",
    "It obtains the user inputs from each of the fields and then displays it within the bottom label using the code:\n",
    "```\n",
    "result_label.configure(text=output)\n",
    "```"
   ]
  },
  {
   "cell_type": "code",
   "execution_count": 43,
   "id": "53fd3482-069f-43f8-a951-3e3608aba8f9",
   "metadata": {},
   "outputs": [],
   "source": [
    "def create_account():\n",
    "    # Extract input from the fields \n",
    "    first_name = first_name_entry.get()\n",
    "    last_name = last_name_entry.get()\n",
    "    email = email_entry.get()\n",
    "\n",
    "    output = f\"First Name: {first_name}, Last Name: {last_name}, Email: {email}\" \n",
    "    result_label.configure(text=output)"
   ]
  },
  {
   "cell_type": "markdown",
   "id": "b559d397-a306-41ed-99ec-b5427c16269f",
   "metadata": {},
   "source": [
    "## Setting Theme and Showing Button"
   ]
  },
  {
   "cell_type": "code",
   "execution_count": null,
   "id": "85b0a83a-6b6b-466f-8ff4-c269d0758b5a",
   "metadata": {},
   "outputs": [],
   "source": [
    "register_button = ttk.Button(root, text=\"Create Account\", command=create_account)\n",
    "register_button.pack()\n",
    "\n",
    "root.mainloop()"
   ]
  },
  {
   "cell_type": "markdown",
   "id": "52e8f805-8539-46c9-81df-86d1dda2e2d4",
   "metadata": {},
   "source": [
    "## Exercise 2: Rocketship Form with Sun Valley 🚀\n",
    "\n",
    "#### Objectives:\n",
    "- Create a form titled \"Rocketship Form\" (dimensions 500px by 300px) using tkinter and the Sun Valley dark theme\n",
    "- Create a custom style named \"Padding.TLabel\" that applies a top padding of 10px and bottom padding of 5px to all the Labels\n",
    "- Create a label and input field for \"Rocketship Name\"\n",
    "- Create a label and input field for \"Rocketship Destination\"\n",
    "- Create a label and input field for \"Rocketship Mass\"\n",
    "- Create a label to show the output\n",
    "- Create a button titled \"Blast Off\" when clicked and outputs the inputted information. The output should look like the following:\n",
    "```\n",
    "Falcon 9 is heading to the International Space Station and weighs 228000 kg!\n",
    "```"
   ]
  },
  {
   "cell_type": "code",
   "execution_count": null,
   "id": "fef75d9e-fb74-499d-9d47-b3108ea96586",
   "metadata": {},
   "outputs": [],
   "source": []
  },
  {
   "cell_type": "markdown",
   "id": "d7692007-bdc6-4d27-b98c-e4562fcd2e67",
   "metadata": {},
   "source": [
    "Awesome job! You have learned how to integrate custom themes with tkinter to create styled applications. In the next lesson, we will cover how you can export your own files within GUI applications. "
   ]
  }
 ],
 "metadata": {
  "kernelspec": {
   "display_name": "\"Python/Mu (mu_venv-38-20220319-163202)\"",
   "language": "python",
   "name": "mu_venv-38-20220319-163202"
  },
  "language_info": {
   "codemirror_mode": {
    "name": "ipython",
    "version": 3
   },
   "file_extension": ".py",
   "mimetype": "text/x-python",
   "name": "python",
   "nbconvert_exporter": "python",
   "pygments_lexer": "ipython3",
   "version": "3.8.11"
  }
 },
 "nbformat": 4,
 "nbformat_minor": 5
}
