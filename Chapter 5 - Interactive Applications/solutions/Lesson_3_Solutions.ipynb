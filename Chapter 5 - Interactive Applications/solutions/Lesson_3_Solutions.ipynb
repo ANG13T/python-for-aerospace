{
 "cells": [
  {
   "cell_type": "markdown",
   "id": "aa922be4-d624-4752-8b6e-fca1b42039d8",
   "metadata": {},
   "source": [
    "# Lesson 3 Exercise Solutions"
   ]
  },
  {
   "cell_type": "markdown",
   "id": "0a2233a4-effb-45b4-af3f-52b9d0103d15",
   "metadata": {},
   "source": [
    "## Exercise 1: Basic Components with Sun Valley\n",
    "\n",
    "#### Objectives:\n",
    "- Initialize a window using tkinter\n",
    "- Add a `Label` component that states \"Hello World\"\n",
    "- Add a `Button` component that says \"Click Button\"\n",
    "- Set the theme to dark mode using `sv_ttk`\n",
    "- Run the application"
   ]
  },
  {
   "cell_type": "code",
   "execution_count": 1,
   "id": "90cd2aa4-f470-4313-b439-f0140a905239",
   "metadata": {},
   "outputs": [],
   "source": [
    "import tkinter\n",
    "from tkinter import ttk\n",
    "import sv_ttk"
   ]
  },
  {
   "cell_type": "code",
   "execution_count": 4,
   "id": "1a810297-345e-41c0-8209-c03951e5baa6",
   "metadata": {},
   "outputs": [],
   "source": [
    "# Create a window\n",
    "root = tkinter.Tk()\n",
    "\n",
    "# Add a Label component\n",
    "text = ttk.Label(root, text = \"Hello World\")\n",
    "text.pack()\n",
    "\n",
    "# Add a Button component\n",
    "button = ttk.Button(root, text=\"Click Button\")\n",
    "button.pack()\n",
    "\n",
    "# Set the theme to dark mode!\n",
    "sv_ttk.set_theme(\"dark\")\n",
    "\n",
    "root.mainloop()"
   ]
  },
  {
   "cell_type": "markdown",
   "id": "b2db4728-1f2b-489c-b57a-192a4a7ddd84",
   "metadata": {},
   "source": [
    "## Exercise 2: Rocketship Form with Sun Valley 🚀\n",
    "\n",
    "#### Objectives:\n",
    "- Create a form titled \"Rocketship Form\" (dimensions 500px by 300px) using tkinter and the Sun Valley dark theme\n",
    "- Create a custom style named \"Padding.TLabel\" that applies a top padding of 10px and bottom padding of 5px to all the Labels\n",
    "- Create a label and input field for \"Rocketship Name\"\n",
    "- Create a label and input field for \"Rocketship Destination\"\n",
    "- Create a label and input field for \"Rocketship Mass\"\n",
    "- Create a label to show the output\n",
    "- Create a button titled \"Blast Off\" when clicked and outputs the inputted information. The output should look like the following:\n",
    "```\n",
    "Falcon 9 is heading to the International Space Station and weighs 228000 kg!\n",
    "```"
   ]
  },
  {
   "cell_type": "code",
   "execution_count": 13,
   "id": "7983ee72-24e8-43f0-88f3-bbf2810dc6c2",
   "metadata": {},
   "outputs": [],
   "source": [
    "import tkinter\n",
    "from tkinter import ttk\n",
    "import sv_ttk"
   ]
  },
  {
   "cell_type": "code",
   "execution_count": 14,
   "id": "9e655505-9b90-4593-a45a-a8dc58a53322",
   "metadata": {},
   "outputs": [
    {
     "data": {
      "text/plain": [
       "''"
      ]
     },
     "execution_count": 14,
     "metadata": {},
     "output_type": "execute_result"
    }
   ],
   "source": [
    "# Create a window\n",
    "root = tkinter.Tk()\n",
    "root.title(\"Rocketship Form\")\n",
    "root.geometry('500x300')"
   ]
  },
  {
   "cell_type": "code",
   "execution_count": 15,
   "id": "4a968ba3-de19-4c4f-b238-3edd4af2fe67",
   "metadata": {},
   "outputs": [],
   "source": [
    "# Set the theme to dark mode!\n",
    "sv_ttk.set_theme(\"dark\")\n",
    "\n",
    "# Create a Style instance to make custom styles!\n",
    "style = ttk.Style()\n",
    "\n",
    "# Configure a class name called Padding.TLabel\" which shows a top padding of 10px and a bottom padding of 5px when applied\n",
    "style.configure('Padding.TLabel', padding=(0, 10, 0, 5))  # (left, top, right, bottom)"
   ]
  },
  {
   "cell_type": "code",
   "execution_count": 16,
   "id": "8328cd81-fc5f-45ad-95f8-9511f5b88acc",
   "metadata": {},
   "outputs": [],
   "source": [
    "# Create Name Label\n",
    "name_label = ttk.Label(root, text=\"Rocketship Name:\", style='Padding.TLabel')\n",
    "name_label.pack()\n",
    "\n",
    "# Create Input for First Name\n",
    "name_entry = ttk.Entry(root)\n",
    "name_entry.pack()\n",
    "\n",
    "# Create Destination Label\n",
    "destination_label = ttk.Label(root, text=\"Rocketship Destination:\", style='Padding.TLabel')\n",
    "destination_label.pack()\n",
    "\n",
    "# Create Input for Destination\n",
    "destination_entry = ttk.Entry(root)\n",
    "destination_entry.pack()\n",
    "\n",
    "# Create Mass Label\n",
    "mass_label = ttk.Label(root, text=\"Rocketship Mass:\", style='Padding.TLabel')\n",
    "mass_label.pack()\n",
    "\n",
    "# Create Input for Mass\n",
    "mass_entry = ttk.Entry(root)\n",
    "mass_entry.pack()\n",
    "\n",
    "# Create a Label for Result Output\n",
    "result_label = ttk.Label(root, text=\"Output: \", style='Padding.TLabel')\n",
    "result_label.pack()"
   ]
  },
  {
   "cell_type": "code",
   "execution_count": 17,
   "id": "aaf06ffe-9924-47d1-89d5-81a7ea38841f",
   "metadata": {},
   "outputs": [],
   "source": [
    "def blast_off():\n",
    "    # Extract input from the fields \n",
    "    name = name_entry.get()\n",
    "    destination = destination_entry.get()\n",
    "    mass = mass_entry.get()\n",
    "\n",
    "    output = f\"{name} is heading to the {destination} and weighs {mass} kg!\" \n",
    "    result_label.configure(text=output)"
   ]
  },
  {
   "cell_type": "code",
   "execution_count": 18,
   "id": "c456b0f6-adfb-423a-86f4-d71062d18911",
   "metadata": {},
   "outputs": [],
   "source": [
    "register_button = ttk.Button(root, text=\"Blast Off\", command=blast_off)\n",
    "register_button.pack()\n",
    "\n",
    "root.mainloop()"
   ]
  }
 ],
 "metadata": {
  "kernelspec": {
   "display_name": "\"Python/Mu (mu_venv-38-20220319-163202)\"",
   "language": "python",
   "name": "mu_venv-38-20220319-163202"
  },
  "language_info": {
   "codemirror_mode": {
    "name": "ipython",
    "version": 3
   },
   "file_extension": ".py",
   "mimetype": "text/x-python",
   "name": "python",
   "nbconvert_exporter": "python",
   "pygments_lexer": "ipython3",
   "version": "3.8.11"
  }
 },
 "nbformat": 4,
 "nbformat_minor": 5
}
