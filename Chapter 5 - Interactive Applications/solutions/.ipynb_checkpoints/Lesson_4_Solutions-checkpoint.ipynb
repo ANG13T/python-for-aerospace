{
 "cells": [
  {
   "cell_type": "markdown",
   "id": "41f76019-8b9f-4eef-835b-dd8eeea1e392",
   "metadata": {},
   "source": [
    "# Lesson 4 Exercise Solutions"
   ]
  },
  {
   "cell_type": "markdown",
   "id": "2c67cc32-f605-401f-bacb-71c7fef7e182",
   "metadata": {},
   "source": [
    "## Exercise 1: Save Telemetry Logs 📡\n",
    "\n",
    "#### Objectives\n",
    "- Save the `telemetry` data into a CSV file named \"telemetry.csv\"\n",
    "- Save the `telemetry` data into a JSON file named \"telemetry.json\"\n",
    "- Print the contents of the CSV file using `csv.DictWriter`\n",
    "- Print the contents of the JSON file using `json.load`"
   ]
  },
  {
   "cell_type": "code",
   "execution_count": 1,
   "id": "ffa23368-9cd0-40b3-bd1b-99437734b8cb",
   "metadata": {},
   "outputs": [],
   "source": [
    "telemetry = [\n",
    "    {\n",
    "        \"timestamp\": \"2024-03-30T07:58:27.999065\",\n",
    "        \"temperature\": 24.15,\n",
    "        \"pressure\": 1082.28,\n",
    "        \"velocity\": 2157.35,\n",
    "        \"altitude\": 579.64,\n",
    "        \"power_level\": 68.97,\n",
    "        \"orientation\": {\n",
    "            \"roll\": 63.34,\n",
    "            \"pitch\": -174.83,\n",
    "            \"yaw\": 220.57\n",
    "        }\n",
    "    },\n",
    "    {\n",
    "        \"timestamp\": \"2024-03-30T07:47:56.999065\",\n",
    "        \"temperature\": -35.17,\n",
    "        \"pressure\": 892.84,\n",
    "        \"velocity\": 9366.16,\n",
    "        \"altitude\": 821.66,\n",
    "        \"power_level\": 25.56,\n",
    "        \"orientation\": {\n",
    "            \"roll\": -48.75,\n",
    "            \"pitch\": -167.37,\n",
    "            \"yaw\": 181.04\n",
    "        }\n",
    "    },\n",
    "    {\n",
    "        \"timestamp\": \"2024-03-30T07:53:45.999065\",\n",
    "        \"temperature\": -5.28,\n",
    "        \"pressure\": 1028.31,\n",
    "        \"velocity\": 6538.57,\n",
    "        \"altitude\": 729.16,\n",
    "        \"power_level\": 88.36,\n",
    "        \"orientation\": {\n",
    "            \"roll\": 160.25,\n",
    "            \"pitch\": 101.33,\n",
    "            \"yaw\": 16.67\n",
    "        }\n",
    "    }\n",
    "]"
   ]
  },
  {
   "cell_type": "code",
   "execution_count": 2,
   "id": "0b598dab-6d45-41c3-b622-2aa57d1664e4",
   "metadata": {},
   "outputs": [],
   "source": [
    "import csv\n",
    "import json"
   ]
  },
  {
   "cell_type": "code",
   "execution_count": 6,
   "id": "6a01d5d7-4eb2-4daf-a6cc-55f9101b198e",
   "metadata": {},
   "outputs": [],
   "source": [
    "with open('telemetry.csv', 'w', newline='') as file:\n",
    "    writer = csv.DictWriter(file, fieldnames=telemetry[0].keys())\n",
    "    writer.writeheader()\n",
    "    writer.writerows(telemetry)"
   ]
  },
  {
   "cell_type": "code",
   "execution_count": 7,
   "id": "40f95108-f166-44c6-add7-3e90a78cffe2",
   "metadata": {},
   "outputs": [
    {
     "name": "stdout",
     "output_type": "stream",
     "text": [
      "['timestamp', 'temperature', 'pressure', 'velocity', 'altitude', 'power_level', 'orientation']\n",
      "['2024-03-30T07:58:27.999065', '24.15', '1082.28', '2157.35', '579.64', '68.97', \"{'roll': 63.34, 'pitch': -174.83, 'yaw': 220.57}\"]\n",
      "['2024-03-30T07:47:56.999065', '-35.17', '892.84', '9366.16', '821.66', '25.56', \"{'roll': -48.75, 'pitch': -167.37, 'yaw': 181.04}\"]\n",
      "['2024-03-30T07:53:45.999065', '-5.28', '1028.31', '6538.57', '729.16', '88.36', \"{'roll': 160.25, 'pitch': 101.33, 'yaw': 16.67}\"]\n"
     ]
    }
   ],
   "source": [
    "with open('telemetry.csv', 'r', newline='') as file:\n",
    "    reader = csv.reader(file)\n",
    "    for row in reader:\n",
    "        print(row)"
   ]
  },
  {
   "cell_type": "code",
   "execution_count": 9,
   "id": "75406f47-e086-4408-91a4-0eacbe291d79",
   "metadata": {},
   "outputs": [],
   "source": [
    "with open('telemetry.json', 'w') as file:\n",
    "    json.dump(telemetry, file)"
   ]
  },
  {
   "cell_type": "code",
   "execution_count": 10,
   "id": "e43d166e-8290-4a5e-8c53-1ad82640a624",
   "metadata": {},
   "outputs": [
    {
     "name": "stdout",
     "output_type": "stream",
     "text": [
      "[{'timestamp': '2024-03-30T07:58:27.999065', 'temperature': 24.15, 'pressure': 1082.28, 'velocity': 2157.35, 'altitude': 579.64, 'power_level': 68.97, 'orientation': {'roll': 63.34, 'pitch': -174.83, 'yaw': 220.57}}, {'timestamp': '2024-03-30T07:47:56.999065', 'temperature': -35.17, 'pressure': 892.84, 'velocity': 9366.16, 'altitude': 821.66, 'power_level': 25.56, 'orientation': {'roll': -48.75, 'pitch': -167.37, 'yaw': 181.04}}, {'timestamp': '2024-03-30T07:53:45.999065', 'temperature': -5.28, 'pressure': 1028.31, 'velocity': 6538.57, 'altitude': 729.16, 'power_level': 88.36, 'orientation': {'roll': 160.25, 'pitch': 101.33, 'yaw': 16.67}}]\n"
     ]
    }
   ],
   "source": [
    "with open('telemetry.json', 'r') as file:\n",
    "    data = json.load(file)\n",
    "\n",
    "print(data)"
   ]
  },
  {
   "cell_type": "markdown",
   "id": "23c5a608-3dde-4003-a203-690a99a2f9f3",
   "metadata": {},
   "source": [
    "## Exercise 2: Export data inside a tkinter application\n",
    "\n",
    "#### Objectives\n",
    "- Create a tkinter window with the Sun Valley theme\n",
    "- Create a button titled \"Download JSON\"\n",
    "- When the button is clicked, save `rockets` into a JSON file titled `rockets.json`\n",
    "- Display the window"
   ]
  },
  {
   "cell_type": "code",
   "execution_count": 9,
   "id": "51efbbc2-9a62-4a4e-8a82-5ba099f484d1",
   "metadata": {},
   "outputs": [],
   "source": [
    "rockets = [\n",
    "    {\n",
    "        'Name': 'Atlas V',\n",
    "        'Operator': 'United Launch Alliance'\n",
    "    },\n",
    "    {\n",
    "        'Name': 'Delta IV',\n",
    "        'Operator': 'United Launch Alliance'\n",
    "    }\n",
    "]"
   ]
  },
  {
   "cell_type": "code",
   "execution_count": 10,
   "id": "c2be0e86-63ba-469b-b0dd-09a102e2fc95",
   "metadata": {},
   "outputs": [],
   "source": [
    "import tkinter\n",
    "from tkinter import ttk\n",
    "import sv_ttk\n",
    "import json\n",
    "\n",
    "# Create a window\n",
    "root = tkinter.Tk()\n",
    "\n",
    "# Set the theme to dark mode!\n",
    "sv_ttk.set_theme(\"dark\")"
   ]
  },
  {
   "cell_type": "code",
   "execution_count": 11,
   "id": "01780e60-2ca4-41fb-97d1-c8570c7e3a34",
   "metadata": {},
   "outputs": [],
   "source": [
    "def download_json():\n",
    "    with open('rockets.json', 'w') as file:\n",
    "        json.dump(rockets, file)"
   ]
  },
  {
   "cell_type": "code",
   "execution_count": null,
   "id": "b1878f35-db41-41c2-a031-7f20f967b4b9",
   "metadata": {},
   "outputs": [],
   "source": [
    "button = ttk.Button(root, text=\"Download JSON\", command=download_json)\n",
    "button.pack()\n",
    "\n",
    "# Display the window\n",
    "root.mainloop()"
   ]
  }
 ],
 "metadata": {
  "kernelspec": {
   "display_name": "\"Python/Mu (mu_venv-38-20220319-163202)\"",
   "language": "python",
   "name": "mu_venv-38-20220319-163202"
  },
  "language_info": {
   "codemirror_mode": {
    "name": "ipython",
    "version": 3
   },
   "file_extension": ".py",
   "mimetype": "text/x-python",
   "name": "python",
   "nbconvert_exporter": "python",
   "pygments_lexer": "ipython3",
   "version": "3.8.11"
  }
 },
 "nbformat": 4,
 "nbformat_minor": 5
}
