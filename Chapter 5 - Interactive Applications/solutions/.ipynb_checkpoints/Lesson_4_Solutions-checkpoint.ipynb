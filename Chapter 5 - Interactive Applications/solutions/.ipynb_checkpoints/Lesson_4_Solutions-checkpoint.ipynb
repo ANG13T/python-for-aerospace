{
 "cells": [
  {
   "cell_type": "markdown",
   "id": "41f76019-8b9f-4eef-835b-dd8eeea1e392",
   "metadata": {},
   "source": [
    "# Lesson 4 Exercise Solutions"
   ]
  }
 ],
 "metadata": {
  "kernelspec": {
   "display_name": "Python 3 (ipykernel)",
   "language": "python",
   "name": "python3"
  },
  "language_info": {
   "codemirror_mode": {
    "name": "ipython",
    "version": 3
   },
   "file_extension": ".py",
   "mimetype": "text/x-python",
   "name": "python",
   "nbconvert_exporter": "python",
   "pygments_lexer": "ipython3",
   "version": "3.11.7"
  }
 },
 "nbformat": 4,
 "nbformat_minor": 5
}
