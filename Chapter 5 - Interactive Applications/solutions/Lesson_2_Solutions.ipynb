{
 "cells": [
  {
   "cell_type": "markdown",
   "id": "56d2ad53-4c3d-4034-81ea-69892cec16b2",
   "metadata": {},
   "source": [
    "# Lesson 2 Exercise Solutions"
   ]
  },
  {
   "cell_type": "markdown",
   "id": "ed17c79f-afe5-4483-a36a-e4326fef62f1",
   "metadata": {},
   "source": [
    "## Exercise 1: Create a sin(x) plot using Tkinter and Matplotlib\n",
    "\n",
    "#### Objectives:\n",
    "- Create a `600x600` Tkinter window titled \"Sin Graph using Tkinter\"\n",
    "- Create a figure using the `Figure` class from matplotlib\n",
    "- Plot sin(x)`np.sin(x)` using the following x range `np.linspace(0, 2*np.pi, 100)`\n",
    "- Embed the figure using canvas `FigureCanvasTkAgg`\n",
    "- Embed a toolbar using `NavigationToolbar2Tk`\n",
    "- Display the window"
   ]
  },
  {
   "cell_type": "code",
   "execution_count": 33,
   "id": "841a0451-68bc-4496-ae5d-5e26a20b3ff7",
   "metadata": {},
   "outputs": [],
   "source": [
    "import tkinter as tk\n",
    "import numpy as np\n",
    "import matplotlib.pyplot as plt\n",
    "from matplotlib.figure import Figure \n",
    "from matplotlib.backends.backend_tkagg import (FigureCanvasTkAgg,  \n",
    "NavigationToolbar2Tk) "
   ]
  },
  {
   "cell_type": "code",
   "execution_count": 34,
   "id": "5201a35b-60e0-4a7b-bea3-7d19094155ec",
   "metadata": {},
   "outputs": [
    {
     "data": {
      "text/plain": [
       "''"
      ]
     },
     "execution_count": 34,
     "metadata": {},
     "output_type": "execute_result"
    }
   ],
   "source": [
    "window = tk.Tk() \n",
    "window.title('Sin Graph using Tkinter') \n",
    "# Setting the dimensions of the window to be 600px by 600px\n",
    "window.geometry(\"600x600\") "
   ]
  },
  {
   "cell_type": "code",
   "execution_count": 35,
   "id": "9c003441-1411-475b-b3a2-e2d7c8d62f9d",
   "metadata": {},
   "outputs": [],
   "source": [
    "def sin_function(x):\n",
    "    return np.sin(x)"
   ]
  },
  {
   "cell_type": "code",
   "execution_count": 36,
   "id": "582c41bd-5340-44a0-84f4-01dc5982769f",
   "metadata": {},
   "outputs": [
    {
     "name": "stderr",
     "output_type": "stream",
     "text": [
      "No artists with labels found to put in legend.  Note that artists whose label start with an underscore are ignored when legend() is called with no argument.\n"
     ]
    },
    {
     "data": {
      "text/plain": [
       "<matplotlib.legend.Legend at 0x124275ac0>"
      ]
     },
     "execution_count": 36,
     "metadata": {},
     "output_type": "execute_result"
    },
    {
     "data": {
      "image/png": "[encoded data removed]",
      "text/plain": [
       "<Figure size 432x288 with 1 Axes>"
      ]
     },
     "metadata": {
      "needs_background": "light"
     },
     "output_type": "display_data"
    }
   ],
   "source": [
    "x = np.linspace(0, 2*np.pi, 100)  # Values from 0 to 2*pi\n",
    "y = sin_function(x)\n",
    "fig = Figure(figsize = (5, 5), \n",
    "                 dpi = 100) \n",
    "\n",
    "plot1 = fig.add_subplot(111)\n",
    "\n",
    "# Plot the function\n",
    "plot1.plot(x, y, label='sin(x)')\n",
    "plt.xlabel('x')\n",
    "plt.ylabel('y')\n",
    "plt.title('Plot of sin(x)')\n",
    "# Add legend\n",
    "plt.legend()"
   ]
  },
  {
   "cell_type": "code",
   "execution_count": 39,
   "id": "d6b7dbeb-e3c2-4654-b69c-7bab83644420",
   "metadata": {},
   "outputs": [],
   "source": [
    "canvas = FigureCanvasTkAgg(fig, master = window)   \n",
    "canvas.draw() \n",
    "\n",
    "# placing the canvas on the Tkinter window \n",
    "canvas.get_tk_widget().pack() "
   ]
  },
  {
   "cell_type": "code",
   "execution_count": 40,
   "id": "5b3fc65f-f11e-4669-9574-f5ca89054c0c",
   "metadata": {},
   "outputs": [],
   "source": [
    "toolbar = NavigationToolbar2Tk(canvas, window)\n",
    "toolbar.update()\n",
    "\n",
    "# Place the toolbar on the Tkinter window\n",
    "canvas.get_tk_widget().pack()"
   ]
  },
  {
   "cell_type": "code",
   "execution_count": 41,
   "id": "2eb568d6-cc6f-40ed-a8b7-79b310482fe8",
   "metadata": {},
   "outputs": [],
   "source": [
    "window.mainloop()"
   ]
  },
  {
   "cell_type": "markdown",
   "id": "0fdcd0fc-fcd1-4adf-afac-d754a3eff749",
   "metadata": {},
   "source": [
    "## Exercise 2: Tkinter plot of ODE of Object in Free Fall\n",
    "\n",
    "#### Objectives:\n",
    "- Create a function representing the following ODE describing an object under free fall:\n",
    "$$\n",
    "\\frac{{d^2 y}}{{dt^2}} = -g\n",
    "$$\n",
    "Where:\n",
    "- `y`: vertical position of object\n",
    "- `t`: time\n",
    "- `d^2y/dt^2`: acceleration of the object in the vertical direction\n",
    "- `g`: gravity\n",
    "\n",
    "- Create a `600x600` Tkinter window titled \"Object in Free Fall ODE\"\n",
    "- Create a figure using the `Figure` class from matplotlib\n",
    "- Plot the solution to the ODE on the figure \n",
    "- Embed the figure using canvas `FigureCanvasTkAgg`\n",
    "- Embed a toolbar using `NavigationToolbar2Tk`\n",
    "- Display the window"
   ]
  },
  {
   "cell_type": "code",
   "execution_count": 51,
   "id": "3eaffab2-44b0-4d67-8f69-913232979bc9",
   "metadata": {},
   "outputs": [],
   "source": [
    "g = -9.81  # Acceleration due to gravity (m/s^2)\n",
    "t = np.linspace(0, 10, 1000)  # Time \n",
    "y0 = [0, 0] # initial condition"
   ]
  },
  {
   "cell_type": "code",
   "execution_count": 49,
   "id": "966a3f8c-1542-422a-9a15-f8b7ad47cfc2",
   "metadata": {},
   "outputs": [],
   "source": [
    "import numpy as np\n",
    "from scipy.integrate import odeint\n",
    "import matplotlib.pyplot as plt\n",
    "import tkinter as tk\n",
    "from matplotlib.figure import Figure \n",
    "from matplotlib.backends.backend_tkagg import (FigureCanvasTkAgg,  \n",
    "NavigationToolbar2Tk) "
   ]
  },
  {
   "cell_type": "code",
   "execution_count": 46,
   "id": "1ff3e858-46da-4759-89c8-7d755d1fb9a8",
   "metadata": {},
   "outputs": [],
   "source": [
    "def free_fall_ode(y, t):\n",
    "    return [y[1], g]"
   ]
  },
  {
   "cell_type": "code",
   "execution_count": 53,
   "id": "e1c5a505-95f6-4809-9f41-f9f5b429929d",
   "metadata": {},
   "outputs": [],
   "source": [
    "solution = odeint(free_fall_ode, y0, t)"
   ]
  },
  {
   "cell_type": "code",
   "execution_count": 54,
   "id": "81d5c04e-5f76-46a2-92e8-9fafbebe1195",
   "metadata": {},
   "outputs": [],
   "source": [
    "# Extract position and velocity from the solution\n",
    "y = solution[:, 0]  # position\n",
    "v = solution[:, 1]  # velocity"
   ]
  },
  {
   "cell_type": "code",
   "execution_count": 56,
   "id": "57249f54-f3de-4ead-91be-7f77680104e5",
   "metadata": {},
   "outputs": [
    {
     "data": {
      "text/plain": [
       "''"
      ]
     },
     "execution_count": 56,
     "metadata": {},
     "output_type": "execute_result"
    }
   ],
   "source": [
    "window = tk.Tk() \n",
    "window.title('Object in Free Fall ODE') \n",
    "# Setting the dimensions of the window to be 600px by 600px\n",
    "window.geometry(\"600x600\")"
   ]
  },
  {
   "cell_type": "code",
   "execution_count": 58,
   "id": "e62969bc-70be-462e-b994-3c3353acca08",
   "metadata": {},
   "outputs": [
    {
     "name": "stderr",
     "output_type": "stream",
     "text": [
      "No artists with labels found to put in legend.  Note that artists whose label start with an underscore are ignored when legend() is called with no argument.\n"
     ]
    },
    {
     "data": {
      "image/png": "[encoded data removed]",
      "text/plain": [
       "<Figure size 432x288 with 1 Axes>"
      ]
     },
     "metadata": {
      "needs_background": "light"
     },
     "output_type": "display_data"
    }
   ],
   "source": [
    "fig = Figure(figsize = (8, 6), \n",
    "                 dpi = 100) \n",
    "\n",
    "# Add a subplot to the figure\n",
    "plot1 = fig.add_subplot(111) \n",
    "\n",
    "plot1.plot(t, y, label='Vertical Position')\n",
    "plt.xlabel('Time (s)')\n",
    "plt.ylabel('Vertical Position (m)')\n",
    "plt.title('Solution to Free-Fall ODE using odeint')\n",
    "plt.legend()\n",
    "plt.grid(True)"
   ]
  },
  {
   "cell_type": "code",
   "execution_count": 59,
   "id": "f31247a3-74d0-4fdb-810e-4ad8d4c61b82",
   "metadata": {},
   "outputs": [],
   "source": [
    "canvas = FigureCanvasTkAgg(fig, master = window)   \n",
    "canvas.draw() \n",
    "\n",
    "# placing the canvas on the Tkinter window \n",
    "canvas.get_tk_widget().pack() "
   ]
  },
  {
   "cell_type": "code",
   "execution_count": 60,
   "id": "f0138b2c-9953-47f8-b2e2-ed243e695b65",
   "metadata": {},
   "outputs": [],
   "source": [
    "toolbar = NavigationToolbar2Tk(canvas, window)\n",
    "toolbar.update()\n",
    "\n",
    "# Place the toolbar on the Tkinter window\n",
    "canvas.get_tk_widget().pack()"
   ]
  },
  {
   "cell_type": "code",
   "execution_count": 61,
   "id": "83064ac1-f79c-420f-8f9e-4b268f64724f",
   "metadata": {},
   "outputs": [],
   "source": [
    "window.mainloop()"
   ]
  }
 ],
 "metadata": {
  "kernelspec": {
   "display_name": "\"Python/Mu (mu_venv-38-20220319-163202)\"",
   "language": "python",
   "name": "mu_venv-38-20220319-163202"
  },
  "language_info": {
   "codemirror_mode": {
    "name": "ipython",
    "version": 3
   },
   "file_extension": ".py",
   "mimetype": "text/x-python",
   "name": "python",
   "nbconvert_exporter": "python",
   "pygments_lexer": "ipython3",
   "version": "3.8.11"
  }
 },
 "nbformat": 4,
 "nbformat_minor": 5
}
