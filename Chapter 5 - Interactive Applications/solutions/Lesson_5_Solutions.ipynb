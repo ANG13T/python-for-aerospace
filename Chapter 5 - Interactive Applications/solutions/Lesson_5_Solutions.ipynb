{
 "cells": [
  {
   "cell_type": "markdown",
   "id": "04b9e0b8-67c3-4f78-8a63-35a8ce7c07b9",
   "metadata": {},
   "source": [
    "# Lesson 5 Exercise Solutions"
   ]
  },
  {
   "cell_type": "markdown",
   "id": "fffd7e97-b917-4610-be42-f1013d667356",
   "metadata": {},
   "source": [
    "## Exercise 1: Create an Interactive Line Plot GUI\n",
    "\n",
    "#### Objectives\n",
    "- Create a tkinter window with the Sun Valley theme\n",
    "- Embed a numerical slider that takes in a number from 1 to 10\n",
    "- Create a button called \"Create Graph\"\n",
    "- Create a plot using matplotlib of a standard line with a slope\n",
    "```\n",
    "x = np.linspace(0, 10, 100)\n",
    "y = m * x\n",
    "```\n",
    "- When the button is clicked, adjust the slope of the plot to the input of the numerical slider\n",
    "- Add another button titled \"Download Data\" which downloads the point coordinates of the graph into a csv file titled `slope.csv`\n",
    "- Display the window"
   ]
  },
  {
   "cell_type": "code",
   "execution_count": 16,
   "id": "8d1c8f91-1537-4a73-b30f-4d3e7f534d0a",
   "metadata": {},
   "outputs": [],
   "source": [
    "import tkinter \n",
    "from tkinter import ttk\n",
    "import sv_ttk\n",
    "import matplotlib.pyplot as plt\n",
    "import numpy as np\n",
    "from matplotlib.figure import Figure \n",
    "from matplotlib.backends.backend_tkagg import (FigureCanvasTkAgg,  \n",
    "NavigationToolbar2Tk) \n",
    "import csv"
   ]
  },
  {
   "cell_type": "code",
   "execution_count": 17,
   "id": "c0531504-f150-465c-bbdf-ff314d6acc11",
   "metadata": {},
   "outputs": [
    {
     "data": {
      "text/plain": [
       "''"
      ]
     },
     "execution_count": 17,
     "metadata": {},
     "output_type": "execute_result"
    }
   ],
   "source": [
    "root = tkinter.Tk()\n",
    "sv_ttk.set_theme(\"dark\")\n",
    "root.title(\"Custom line plot\")\n",
    "root.geometry('500x800')"
   ]
  },
  {
   "cell_type": "code",
   "execution_count": 18,
   "id": "50d81499-3956-4ff4-9a84-c468b35403c1",
   "metadata": {},
   "outputs": [],
   "source": [
    "slope_slider = tkinter.Scale(root, from_=1, to=10, tickinterval=1, orient=tkinter.HORIZONTAL, length=400)\n",
    "slope_slider.set(1)\n",
    "slope_slider.pack()"
   ]
  },
  {
   "cell_type": "code",
   "execution_count": 19,
   "id": "1e58cfb6-313b-411a-a143-29e7c89070a5",
   "metadata": {},
   "outputs": [],
   "source": [
    "fig = Figure(figsize = (8, 6), \n",
    "                 dpi = 100) \n",
    "canvas = FigureCanvasTkAgg(fig, master = root) "
   ]
  },
  {
   "cell_type": "code",
   "execution_count": 20,
   "id": "906b05ee-9846-4d79-a8e4-f4bca7f5f4b5",
   "metadata": {},
   "outputs": [],
   "source": [
    "def generate_plot(canvas, fig):\n",
    "    if fig:\n",
    "        fig.clear()\n",
    "        \n",
    "    m = slope_slider.get()\n",
    "    x = np.linspace(0, 10, 100)\n",
    "    y = m * x\n",
    "\n",
    "    plot = fig.add_subplot(111)\n",
    "\n",
    "    plot.plot(x, y)\n",
    "    \n",
    "    canvas.draw() "
   ]
  },
  {
   "cell_type": "code",
   "execution_count": 21,
   "id": "6f6e00c3-6766-4a4c-8aa4-29e107762a73",
   "metadata": {},
   "outputs": [],
   "source": [
    "plot_button = ttk.Button(root, text=\"Create Graph\", command=lambda: generate_plot(canvas, fig))\n",
    "plot_button.pack()"
   ]
  },
  {
   "cell_type": "code",
   "execution_count": 22,
   "id": "253b2392-b1f2-4aac-ae4c-df339472c82c",
   "metadata": {},
   "outputs": [],
   "source": [
    "def download_csv():\n",
    "    m = amplitude_slider.get()\n",
    "    x = np.linspace(0, 10, 100)\n",
    "    \n",
    "    with open('slope.csv', 'w', newline='') as file:\n",
    "        writer = csv.DictWriter(file, fieldnames=['x', 'y'])\n",
    "        writer.writeheader()\n",
    "        for i in range(len(x)):\n",
    "            y = m * x[i]\n",
    "            writer.writerow({'x': x[i], 'y': y})\n",
    "\n",
    "download_button = ttk.Button(root, text=\"Download Data\", command=download_csv)\n",
    "download_button.pack()"
   ]
  },
  {
   "cell_type": "code",
   "execution_count": 23,
   "id": "c3dc51d9-5548-4ab4-a0f7-7b1be353798f",
   "metadata": {},
   "outputs": [],
   "source": [
    "canvas.get_tk_widget().pack()\n",
    "\n",
    "generate_plot(canvas, fig)"
   ]
  },
  {
   "cell_type": "code",
   "execution_count": null,
   "id": "784dd137-565d-491b-91c7-fb3c9d0d4336",
   "metadata": {},
   "outputs": [],
   "source": [
    "root.mainloop()"
   ]
  }
 ],
 "metadata": {
  "kernelspec": {
   "display_name": "\"Python/Mu (mu_venv-38-20220319-163202)\"",
   "language": "python",
   "name": "mu_venv-38-20220319-163202"
  },
  "language_info": {
   "codemirror_mode": {
    "name": "ipython",
    "version": 3
   },
   "file_extension": ".py",
   "mimetype": "text/x-python",
   "name": "python",
   "nbconvert_exporter": "python",
   "pygments_lexer": "ipython3",
   "version": "3.8.11"
  }
 },
 "nbformat": 4,
 "nbformat_minor": 5
}
