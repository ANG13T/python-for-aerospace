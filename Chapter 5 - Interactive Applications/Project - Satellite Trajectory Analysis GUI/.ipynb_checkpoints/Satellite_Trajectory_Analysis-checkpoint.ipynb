{
 "cells": [
  {
   "cell_type": "markdown",
   "id": "d628a625-c503-433c-86e2-449c9a2e6fbd",
   "metadata": {},
   "source": [
    "# Project 5: Satellite Trajectory Analysis GUI 🛰️"
   ]
  },
  {
   "cell_type": "markdown",
   "id": "07bd5cb3-2ee0-4e42-91a6-89afae5d4548",
   "metadata": {},
   "source": [
    "## Objectives \n",
    "- Understand the contextual background behind satellite trajectories\n",
    "- Create a GUI using `tkinter` and `matplotlib` to plot satellite details\n",
    "- Make the GUI interactive by adding numerical sliders and buttons\n",
    "- Allow the user to download a CSV file including data for the project"
   ]
  },
  {
   "cell_type": "markdown",
   "id": "ca38a48d-9d17-40e9-b659-a80970d2c9d7",
   "metadata": {},
   "source": [
    "## Satellite Trajectory Analysis Explained \n",
    "Satellite trajectory analysis involves the study and prediction of the path that a satellite follows as it orbits around Earth. The core topics that make up satellite trajectory analysis include:\n",
    "\n",
    "1. **Orbital Dynamics**\n",
    "2. **Orbital Elements**\n",
    "3. **Two-Body and the N-Body Problem**\n",
    "4. **Perturbations and External Forces**\n",
    "5. **Orbital Manuevers**\n",
    "6. **Propagation Methods**\n",
    "\n",
    "![https://www.esa.int/var/esa/storage/images/esa_multimedia/images/2015/03/corrected_orbits/15306717-1-eng-GB/Corrected_orbits_pillars.jpg](https://www.esa.int/var/esa/storage/images/esa_multimedia/images/2015/03/corrected_orbits/15306717-1-eng-GB/Corrected_orbits_pillars.jpg)\n",
    "\n",
    "[Image Source](https://www.google.com/url?sa=i&url=https%3A%2F%2Fwww.esa.int%2FEnabling_Support%2FSpace_Engineering_Technology%2FShaping_the_Future%2FNew_concepts_for_on-board_Precise_Orbit_Determination&psig=AOvVaw11LCIJxm2eGwvY7jGrZYd1&ust=1712341253431000&source=images&cd=vfe&opi=89978449&ved=0CBIQjRxqFwoTCND477eWqYUDFQAAAAAdAAAAABAE)"
   ]
  },
  {
   "cell_type": "markdown",
   "id": "496d9c1f-690d-409d-a901-e7ad4f5f68c4",
   "metadata": {},
   "source": [
    "## Orbital Dynamics\n",
    "Orbital dynamics refers to the motion of celestial objects under the influence of gravity. In order to predict the motion of celestial objects, we can utilize **Kepler's Laws of Planetary Motion** in tandem with **Newton's Laws of Motion and Gravitation** to understand how the motion will be influenced by gravitational forces.\n",
    "\n",
    "![https://t4.ftcdn.net/jpg/05/62/16/33/360_F_562163339_3rWN5ekexoUnCdxGqesQXUwEo5BC0yr4.jpg](https://t4.ftcdn.net/jpg/05/62/16/33/360_F_562163339_3rWN5ekexoUnCdxGqesQXUwEo5BC0yr4.jpg)\n",
    "\n",
    "[Image Source](https://www.google.com/url?sa=i&url=https%3A%2F%2Fstock.adobe.com%2Fsearch%3Fk%3D%2522laws%2Bof%2Bplanetary%2Bmotion%2522&psig=AOvVaw0wYMhaKfA2oQbuuB0FeHDy&ust=1712378788412000&source=images&cd=vfe&opi=89978449&ved=0CBIQjRxqFwoTCPisvZ2iqoUDFQAAAAAdAAAAABAE)\n",
    "\n",
    "We can use **Orbital Elements** in order to describe the shape, orientation, and position of an orbit. These elements are also known as **Keplarian Elements** and include the following:\n",
    "\n",
    "![https://encrypted-tbn0.gstatic.com/images?q=tbn:ANd9GcR5h6gfHo9f_YMXwwZSBXULi1sBwsyWanY04z9rMrbR5Zvut0eSvVGY-xyPmG6dNBR8UlM&usqp=CAU](https://encrypted-tbn0.gstatic.com/images?q=tbn:ANd9GcR5h6gfHo9f_YMXwwZSBXULi1sBwsyWanY04z9rMrbR5Zvut0eSvVGY-xyPmG6dNBR8UlM&usqp=CAU)\n",
    "\n",
    "[Image Source](https://www.google.com/url?sa=i&url=https%3A%2F%2Fdoc.comsol.com%2F6.1%2Fdoc%2Fcom.comsol.help.heat%2Fheat_ug_ht_features.09.127.html&psig=AOvVaw2ZUELtcKHJaMIN15EM0X8t&ust=1712378852737000&source=images&cd=vfe&opi=89978449&ved=0CBIQjRxqFwoTCJDP0ruiqoUDFQAAAAAdAAAAABAJ)\n",
    "\n",
    "We can describe the motion of a satellite using simplified models such as the Two-Body Problem which describes the motion of a satellite relative to a central object (Earth). A more complex version of the Two-Body Problem which involves cases where there are more than two celestial bodies being modeled is referred to as the **N-Body Problem**.\n",
    "\n",
    "![https://media.springernature.com/m685/springer-static/image/art%3A10.1038%2Fs41598-022-08046-x/MediaObjects/41598_2022_8046_Fig1_HTML.png](https://media.springernature.com/m685/springer-static/image/art%3A10.1038%2Fs41598-022-08046-x/MediaObjects/41598_2022_8046_Fig1_HTML.png)\n",
    "\n",
    "[Image Source](https://www.google.com/url?sa=i&url=https%3A%2F%2Fwww.nature.com%2Farticles%2Fs41598-022-08046-x&psig=AOvVaw3y17whImx4eCNrfQZtVF8W&ust=1712378894116000&source=images&cd=vfe&opi=89978449&ved=0CBIQjRxqFwoTCICnp9OiqoUDFQAAAAAdAAAAABAK)"
   ]
  },
  {
   "cell_type": "markdown",
   "id": "9701c821-f109-4ba5-872a-8eebc999cbe1",
   "metadata": {},
   "source": [
    "## Perturbations \n",
    "When modeling realistic satellite trajectory simulations, we need to take into account external forces (perturbations) that cause the satellite to deviate from its ideal orbit. Examples of perturbations that may influence the trajectory of a satellite include:\n",
    "\n",
    "1. **Gravitational**: gravitational influences from other celestial bodies such as planets, large asteroids, etc can perturb (deviate) a satellite's orbit\n",
    "2. **Atmospheric Drag**: the Earth's atmosphere can introduce drag to a satellite due to interaction with air molecules. Atmospheric drag will eventually cause the satellite's orbit to decay, leading to a decrease of altitude\n",
    "4. **Solar Radiation Pressure**: photons exuded by the surface of the sun can exert pressure on the surface of a satellite called solar radiation pressure\n",
    "5. **Geopotential**: irregularities of the Earth's curvature can induce deviations of the satellite's trajectory due to differing gravitational forces\n",
    "6. **Thrust from Propulsion Systems**: maneuvers involving the propulsion system of the satellite could introduce perturbations \n",
    "7. **Magnetic**: magentic fields generated by the Earth's magnetosphere or onboard magnetic components could effect the orbital parameters of a satellite\n",
    "\n",
    "![https://encrypted-tbn0.gstatic.com/images?q=tbn:ANd9GcQQDuXlWI_-nfMoXYImI7eM21MfjPWOWLm79S_R-h3TxQ&s](https://encrypted-tbn0.gstatic.com/images?q=tbn:ANd9GcQQDuXlWI_-nfMoXYImI7eM21MfjPWOWLm79S_R-h3TxQ&s)\n",
    "\n",
    "[Image Source](https://www.google.com/url?sa=i&url=https%3A%2F%2Fgssc.esa.int%2Fnavipedia%2Findex.php%2FPerturbed_Motion&psig=AOvVaw08z90NSFiV44V11oQXsqnN&ust=1712379014572000&source=images&cd=vfe&opi=89978449&ved=0CBIQjRxqFwoTCPCs2oyjqoUDFQAAAAAdAAAAABAE)"
   ]
  },
  {
   "cell_type": "markdown",
   "id": "09ac47c4-179e-4149-b1b4-6314388517ea",
   "metadata": {},
   "source": [
    "## Steps of Satellite Trajectory Analysis\n",
    "1. **Orbit Determination**: predicting the satellite's position and velocity based on observed data\n",
    "2. **Numerical Propagation**: utilizing mathematical models to predict the satellite's future trajectory over time\n",
    "3. **Perturbation Modeling**: accounting for external forces on the satellite such as gravitational forces, atmospheric drag, etc\n",
    "4. **Calibration**: adjusting parameters to improve the accuracy of simulation results based on observed data\n",
    "\n",
    "![https://www.nasa.gov/wp-content/uploads/2017/03/trajbrowser-logo.png?w=900](https://www.nasa.gov/wp-content/uploads/2017/03/trajbrowser-logo.png?w=900)\n",
    "\n",
    "[Image Source](https://www.google.com/url?sa=i&url=https%3A%2F%2Fwww.nasa.gov%2Fsmallsat-institute%2Fspace-mission-design-tools%2F&psig=AOvVaw0yIfqzF8XWbVDWTgOIcBFQ&ust=1712378959490000&source=images&cd=vfe&opi=89978449&ved=0CBIQjRxqFwoTCIC-1PmiqoUDFQAAAAAdAAAAABAE)"
   ]
  },
  {
   "cell_type": "markdown",
   "id": "8ca91cfa-cfbf-4eb7-9505-b2b0ba8599ee",
   "metadata": {},
   "source": [
    "## Propagation Methods\n",
    "Propagation methods are numerical models that are used to make calculated predictions about the satellite's orbital parameters over time. Examples of common propagation models include:\n",
    "\n",
    "- **SGP4 (Simplified General Perturbations 4)**: simple and efficient numerical model for predicting the position and velocity of Earth-orbiting satellites  \n",
    "- **Kepler (unperturbed orbits)**: this is a straightforward method which relies on Kepler's laws of planetary motion to analytically compute the position and velocity of a satellite in an ideal orbital scenario (no perturbations). \n",
    "- **J4**: this method expands upon the Keplerian elements by incorporating additional terms to model the Earth's oblateness and higher-order gravitational harmonics described by J2 and higher terms J3 and J4.\n",
    "\n",
    "![https://ars.els-cdn.com/content/image/1-s2.0-S1110016821000016-gr5.jpg](https://ars.els-cdn.com/content/image/1-s2.0-S1110016821000016-gr5.jpg)\n",
    "\n",
    "[Image Source](https://www.google.com/url?sa=i&url=https%3A%2F%2Fwww.sciencedirect.com%2Fscience%2Farticle%2Fpii%2FS1110016821000016&psig=AOvVaw06TI05z75rUR6kgew7Wv-w&ust=1712379105436000&source=images&cd=vfe&opi=89978449&ved=0CBIQjRxqFwoTCKDBx7ijqoUDFQAAAAAdAAAAABAE)\n",
    "\n",
    "## Perturbation Modeling\n",
    "Perturbation models allow us to make a more robust and accurate numerical satellite trajectory model as it takes into account external forces on the satellite. \n",
    "\n",
    "- **Gravitational Perturbations**: numerical models describing the influence of gravitational forces from other planets and large celestial objects\n",
    "- **Atmospheric Drag Modeling**: estimates the effects of atmospheric drag on the satellite's orbit by considering the spacecraft's ballistic coefficient, atmospheric density variations, and drag coefficient \n",
    "- **Solar Radiation Pressure Modeling**: models the pressure exerted by solar radiation on the satellite's surface"
   ]
  },
  {
   "cell_type": "markdown",
   "id": "7a8c4ccd-56bb-4726-9d77-7c678b80e817",
   "metadata": {},
   "source": [
    "## Orbital Maneuvers\n",
    "Orbital maneuvers are changes to a satellite's orbit achieved by applying external forces to the satellite. Some types of orbital maneuvers include:\n",
    "\n",
    "1. **Orbit Transfer**: orbital transfers refer to when a satellite move from one orbit to another. For example, LEO to MEO. One specific orbit transfer that fits this description is the Hohmann Transfer which is a maneuver used to transfer a satellite between two coplanar circular orbits of different radii.\n",
    "\n",
    "2. **Attitude Transfer**: describes the process of changing the orientation aka the attitude of a satellite. This could be done to correct for perturbations and adjust the rotation of a satellite. \n",
    "\n",
    "3. **Rendezvous and Docking**: rendezvous is the process of approaching two spacecraft in space, so they meet up at the same place. The rendezvous is concluded with the docking phase where the approaching spacecraft physically attaches to the target spacecraft. \n",
    "\n",
    "4. **Station-Keeping**: station-keeping refers to maneuvers that are utilized to maintain a satellite's position and orientation within its designated orbital spot or constellation. \n",
    "\n",
    "![https://orbital-mechanics.space/_images/phasing-orbit-increase-period.svg](https://orbital-mechanics.space/_images/phasing-orbit-increase-period.svg)\n",
    "\n",
    "[Image Source](https://www.google.com/url?sa=i&url=https%3A%2F%2Forbital-mechanics.space%2Forbital-maneuvers%2Fphasing-maneuvers.html&psig=AOvVaw2yZLzkkUc4Q4xNLkoUqMNo&ust=1712379144670000&source=images&cd=vfe&opi=89978449&ved=0CBIQjRxqFwoTCLCK5MujqoUDFQAAAAAdAAAAABAE)"
   ]
  },
  {
   "cell_type": "markdown",
   "id": "de768fb9-7a9a-41b1-823b-c44f2216ef8d",
   "metadata": {},
   "source": [
    "## Step 1: Import Libraries"
   ]
  },
  {
   "cell_type": "code",
   "execution_count": 34,
   "id": "e47e84ca-4b17-4185-ae22-91d10a830967",
   "metadata": {},
   "outputs": [],
   "source": [
    "import tkinter \n",
    "from tkinter import ttk\n",
    "import sv_ttk\n",
    "import csv\n",
    "import matplotlib.pyplot as plt\n",
    "import numpy as np\n",
    "from matplotlib.figure import Figure \n",
    "from matplotlib.backends.backend_tkagg import (FigureCanvasTkAgg,  \n",
    "NavigationToolbar2Tk) \n",
    "from PyAstronomy import pyasl\n",
    "import matplotlib.pyplot as plt\n",
    "import matplotlib.animation as animation\n",
    "from sgp4.api import Satrec\n",
    "from sgp4.api import jday"
   ]
  },
  {
   "cell_type": "markdown",
   "id": "4de623b8-e558-4407-a4fc-178127a33628",
   "metadata": {},
   "source": [
    "## Step 2: Create tkinter Window\n",
    "Create a tkinter window titled \"Satellite Trajectory Analysis\" with dimensions of `1200x800`"
   ]
  },
  {
   "cell_type": "code",
   "execution_count": null,
   "id": "64f4156a-9f4d-42b3-8245-f80e7d51e52c",
   "metadata": {},
   "outputs": [],
   "source": [
    "# Insert Code Here"
   ]
  },
  {
   "cell_type": "markdown",
   "id": "d588f9a6-6795-4355-900b-9dc1b87e6259",
   "metadata": {},
   "source": [
    "## Step 3: Configure Styling\n",
    "1. Set the tkinter theme to Sun Valley (HINT: use `sv_ttk`)\n",
    "2. Set the matplotlib theme to `dark_background` (HINT: use `plt.style.use`)\n",
    "3. Create a tkinter `Style` instance\n",
    "4. Create a tkinter class titled `Margin.TLabel` with the styles: `padding=(0, 20, 0, 5)`\n",
    "5. Create a tkinter class titled `TButton` with the styles: `padding=(10, 10), background=\"#000\"`"
   ]
  },
  {
   "cell_type": "code",
   "execution_count": 37,
   "id": "f67d77ac-e950-45bc-b79e-130419f49c59",
   "metadata": {},
   "outputs": [],
   "source": [
    "# Insert Code Here"
   ]
  },
  {
   "cell_type": "markdown",
   "id": "1a48a164-be35-4a59-bbdc-e6d550c3c885",
   "metadata": {},
   "source": [
    "## Step 4: Creating Side-by-Side Frames\n",
    "Tkinter allows us to create horizontally adjacent frames which allow us to visually seperate our components into a \"Left Frame\" and \"Right Frame\""
   ]
  },
  {
   "cell_type": "code",
   "execution_count": 38,
   "id": "a0a3e4de-7e4b-4c52-8d90-f4e9b3b94ef5",
   "metadata": {},
   "outputs": [],
   "source": [
    " # Create frames\n",
    "left_frame = tkinter.Frame(root, width=500, height=600)\n",
    "right_frame = tkinter.Frame(root, width=300, height=600)\n",
    "\n",
    "# Pack frames side by side\n",
    "left_frame.pack(side=\"left\", fill=\"both\", expand=True)\n",
    "right_frame.pack(side=\"left\", fill=\"both\", expand=True)"
   ]
  },
  {
   "cell_type": "markdown",
   "id": "8a1b6a9a-955d-4868-a2b0-7c24c2b3fb3a",
   "metadata": {},
   "source": [
    "## Step 5: Create Sliders for Keplarian Elements\n",
    "Our interactive GUI will contain six sliders for each Keplarian Element.\n",
    "The below code has three sliders: semi-major axis, eccentricity, and inclination.\n",
    "Your task is to create three more sliders for the following: `Right Ascension of Ascending Node`, `Argument of Perigee`, and `Mean Anomaly`"
   ]
  },
  {
   "cell_type": "code",
   "execution_count": null,
   "id": "0518a714-153b-4c43-adb5-ea0710692fbd",
   "metadata": {},
   "outputs": [],
   "source": [
    "semi_major_axis_label = ttk.Label(right_frame, text=\"Semi-Major Axis: \", style='Margin.TLabel')\n",
    "semi_major_axis_label.pack()\n",
    "semi_major_axis_slider = tkinter.Scale(right_frame, from_=2000, to=50000, tickinterval=10000, orient=tkinter.HORIZONTAL, length=400)\n",
    "semi_major_axis_slider.pack()\n",
    "\n",
    "eccentricity_label = ttk.Label(right_frame, text=\"Eccentricity: \", style='Margin.TLabel')\n",
    "eccentricity_label.pack()\n",
    "eccentricity_slider = tkinter.Scale(right_frame, from_=0, to=1, resolution=0.01, tickinterval=0.1, orient=tkinter.HORIZONTAL, length=400)\n",
    "eccentricity_slider.pack()\n",
    "\n",
    "inclination_label = ttk.Label(right_frame, text=\"Inclination: \", style='Margin.TLabel')\n",
    "inclination_label.pack()\n",
    "inclination_slider = tkinter.Scale(right_frame, from_=0, to=360, tickinterval=40, orient=tkinter.HORIZONTAL, length=400)\n",
    "inclination_slider.pack()\n",
    "\n",
    "# Insert Slider Code for Right Ascension of Ascending Node (abbreviate to RAAN)\n",
    "# From 0 to 360 with tick interval of 40\n",
    "\n",
    "# Insert Slider Code for Argument of Perigee \n",
    "# From 1 to 360 with tick interval of 40\n",
    "\n",
    "# Insert Slider Code for Mean Anomaly\n",
    "# From 1 to 360 with tick interval of 40"
   ]
  },
  {
   "cell_type": "code",
   "execution_count": 40,
   "id": "7ed89e98-e4ff-48e0-accb-d410aac2c91f",
   "metadata": {},
   "outputs": [],
   "source": [
    "# Takes in six Keplarian Elements as parameters and sets the value to the sliders in the GUI\n",
    "def display_sliders(a, e, i, o, w, v):\n",
    "    semi_major_axis_slider.set(a)\n",
    "    eccentricity_slider.set(e)\n",
    "    inclination_slider.set(i)\n",
    "    raan_slider.set(o)\n",
    "    argument_periapsis_slider.set(w)\n",
    "    mean_anamoly_slider.set(v)"
   ]
  },
  {
   "cell_type": "code",
   "execution_count": 41,
   "id": "6e459007-53d3-435c-b000-b3a110fb28f1",
   "metadata": {},
   "outputs": [],
   "source": [
    "# Default:\n",
    "# Semi-Major Axis: 10000\n",
    "# Eccentricity: 0.1\n",
    "# Inclination: 90\n",
    "# RAAN: 40\n",
    "# Argument of Periapsis: 1\n",
    "# Mean Anamoly: 1\n",
    "display_sliders(10000, 0.1, 90, 40, 1, 1)"
   ]
  },
  {
   "cell_type": "markdown",
   "id": "93a977cd-5a4a-4e6c-bf47-b1438fbdc8a9",
   "metadata": {},
   "source": [
    "## Step 5: Create Altitude vs Time Graph\n",
    "The following code uses the SGP4 propagation method in order to predict the altitude of the satellite in respect to the surface of the Earth. This utilizes the `sgp4` method within the `Satrec` class provided by the `sgp4` library. "
   ]
  },
  {
   "cell_type": "code",
   "execution_count": null,
   "id": "3374f7b4-cb0e-4c94-aa63-1cfd466c9b60",
   "metadata": {},
   "outputs": [],
   "source": [
    "def trace_altitude_graph(tle_one, tle_two):\n",
    "    satellite = Satrec.twoline2rv(\n",
    "    tle_one, tle_two\n",
    "    )\n",
    "\n",
    "    # Defining the time range\n",
    "    start_time = 0\n",
    "    end_time = 24 * 3600  # 1 day\n",
    "    step = 60  # 1 minute\n",
    "    times = np.arange(start_time, end_time, step)\n",
    "    times = np.linspace(start_time, end_time, step)\n",
    "    \n",
    "    # Calculate the altitude at each time step\n",
    "    altitudes = []\n",
    "    for t in times:\n",
    "        jd, fr = jday(2024, 4, 1, 0, 0, t)\n",
    "        # Use SPG4 to get the position details of a satellite\n",
    "        e, r, v = satellite.sgp4(jd, fr)\n",
    "        # r represents the position vector of the satellite where:\n",
    "        # [x, y, z]\n",
    "        # Calculates the altitude of the satellite above the Earth's surface\n",
    "        altitude = (r[0]**2 + r[1]**2 + r[2]**2)**0.5 - 6378.135  # Earth's mean radius in kilometers\n",
    "        altitudes.append(altitude)\n",
    "\n",
    "    # Intialize a figure and embed it within a canvas\n",
    "    fig = Figure(figsize = (6, 3), dpi = 100) \n",
    "    canvas = FigureCanvasTkAgg(fig, master = left_frame) \n",
    "    canvas.get_tk_widget().pack(pady=15)\n",
    "    plot = fig.add_subplot(111)\n",
    "\n",
    "    # Plot timestamps and altitude\n",
    "    plot.plot(times, altitudes)\n",
    "    plot.grid(True)\n",
    "\n",
    "    # Draw the plot\n",
    "    canvas.draw() "
   ]
  },
  {
   "cell_type": "code",
   "execution_count": 43,
   "id": "16886524-8412-4014-a3d3-22fb18ee167d",
   "metadata": {},
   "outputs": [],
   "source": [
    "# Default TLE:\n",
    "# 1 25544U 98067A   21257.91276829  .00000825  00000-0  24323-4 0  9990\n",
    "# 2 25544  51.6461  89.6503 0003031 120.4862 259.0942 15.4888108230711\n",
    "trace_altitude_graph(\"1 25544U 98067A   21257.91276829  .00000825  00000-0  24323-4 0  9990\", \"2 25544  51.6461  89.6503 0003031 120.4862 259.0942 15.48881082307117\")"
   ]
  },
  {
   "cell_type": "markdown",
   "id": "967d1938-ed83-45ac-b235-5482352c3f8f",
   "metadata": {},
   "source": [
    "## Step 6: Visualizing a 3D Orbit\n",
    "The following creates a second figure displaying a 3D plot of a satellite's trajectory relative to Earth using the `pyasl` library. \n",
    "It extracts the positional trajectory data using the `KeplerEllipse` and `xyzPos` features of `pyasl`"
   ]
  },
  {
   "cell_type": "code",
   "execution_count": null,
   "id": "ae10de98-5f5f-422d-992c-9ed365085119",
   "metadata": {},
   "outputs": [],
   "source": [
    "# Intialize the second figure and canvas and place it within the left frame\n",
    "fig2 = Figure(figsize = (6, 3), dpi = 100) \n",
    "canvas2 = FigureCanvasTkAgg(fig2, master = left_frame) \n",
    "\n",
    "# This method takes the six Keplarian Elements and plots them in a 3D graph\n",
    "def visualize_3d_orbit(a, p, e, o, i, w, fig_vis):\n",
    "    orbit = pyasl.KeplerEllipse(a=a, per=p, e=e, Omega=o, i=i, w=w)\n",
    "    t = np.linspace(0, 4, 300)\n",
    "    pos = orbit.xyzPos(t)\n",
    "\n",
    "    # Clear the figure if it already exists (allows us to refresh / redraw updated plots)\n",
    "    if fig_vis:\n",
    "        fig_vis.clear()\n",
    "    \n",
    "    canvas2.get_tk_widget().pack(pady=15)\n",
    "    plot2 = fig_vis.add_subplot(111, projection='3d')\n",
    "\n",
    "    # Plots the Earth, trajectory path, and periapsis point of trajectory\n",
    "    plot2.plot(0, 0, 'bo', markersize=9, label=\"Earth\")\n",
    "    plot2.plot(pos[::, 1], pos[::, 0], 'k-', label=\"Satellite Trajectory\")\n",
    "    plot2.plot(pos[0, 1], pos[0, 0], 'g*', label=\"Periapsis\")\n",
    "\n",
    "    # Draws the plot onto the canvas\n",
    "    canvas2.draw() "
   ]
  },
  {
   "cell_type": "code",
   "execution_count": null,
   "id": "be8ac0d9-2a31-45c8-9ae1-ff941f4d7380",
   "metadata": {},
   "outputs": [],
   "source": [
    "visualize_3d_orbit(1.0, 1.0, 0.5, 0.0, 30.0, 0.0, fig2)"
   ]
  },
  {
   "cell_type": "markdown",
   "id": "77a939b3-28fb-4e5c-95f8-13416c7f96c7",
   "metadata": {},
   "source": [
    "## Step 7: Create a Retrace Orbit Button\n",
    "1. Create a function titled `retrace_orbit` that invokes `visualize_3d_orbit`\n",
    "with the values from each of the sliders. (HINT: to get the semi-major axis value\n",
    "`semi_major_axis_slider.get()`)\n",
    "2. Create a tkinter Button titled \"Retrace Orbit\" that calls `retrace_orbit` when it is clicked and place it within `right_frame` and apply the style `TButton`"
   ]
  },
  {
   "cell_type": "code",
   "execution_count": null,
   "id": "70161f8c-02cb-4364-899c-9484e9e31c8b",
   "metadata": {},
   "outputs": [],
   "source": [
    "# Initialize function retrace_orbit"
   ]
  },
  {
   "cell_type": "code",
   "execution_count": null,
   "id": "9690d8e0-ee9a-4352-83fa-2e3d337f06db",
   "metadata": {},
   "outputs": [],
   "source": [
    "# Create Retrace Orbit button "
   ]
  },
  {
   "cell_type": "markdown",
   "id": "bd2ab0f8-183a-4d38-8b29-cd07437f70c6",
   "metadata": {},
   "source": [
    "## Step 8: Create Download CSV Button\n",
    "1. Create a function `download_csv` that creates a file `data.csv` with field names `[\"A\", \"E\", \"I\", \"O\", \"W\", \"V\"]` using `csv.DictWriter` \n",
    "2. Within the function, write a header and a single row containing the slider values for each of the 6 Keplarian elements.\n",
    "3. Create a button titled \"Download CSV\" that calls `download_csv` when clicked and apply the style `TButton`"
   ]
  },
  {
   "cell_type": "code",
   "execution_count": null,
   "id": "75289245-f741-4b81-a578-07aa51bc51ef",
   "metadata": {},
   "outputs": [],
   "source": [
    "# Initialize function download_csv"
   ]
  },
  {
   "cell_type": "code",
   "execution_count": null,
   "id": "fc6ff088-8575-4b7b-b9d8-6e41f459b801",
   "metadata": {},
   "outputs": [],
   "source": [
    "# Create Download CSV button "
   ]
  },
  {
   "cell_type": "markdown",
   "id": "faf63661-241b-47d1-a44b-4a6db7901552",
   "metadata": {},
   "source": [
    "## Step 9: Run the Tkinter Application"
   ]
  },
  {
   "cell_type": "code",
   "execution_count": null,
   "id": "d7d61e41-e831-4281-9c25-11699da57632",
   "metadata": {},
   "outputs": [],
   "source": [
    "# Insert code here"
   ]
  },
  {
   "cell_type": "markdown",
   "id": "0af74492-84ae-4138-a267-747fffe90a5d",
   "metadata": {},
   "source": [
    "# Congratulations 🎉\n",
    "Awesome! You have now officially completed the Python for Aerospace course! Throughout this interactive course, we covered the basics of Python while exploring a wide range of aerospace and astronomy concepts. You have built a total of five projects which you can showcase to potential employers and feature on your resume. \n",
    "\n",
    "If you enjoyed the course, please consider [supporting me on Patreon](https://www.patreon.com/AngelinaTsuboi?utm_medium=unknown&utm_source=join_link&utm_campaign=creatorshare_creator&utm_content=copyLink).\n",
    "\n",
    "To check out more of my work, you can follow me on these platforms:\n",
    "- [GitHub](https://github.com/ANG13T)\n",
    "- [YouTube](https://www.youtube.com/channel/UC4tHxdsusgqnHa_OE9DFJcg)\n",
    "- [X](https://twitter.com/AngelinaTsuboi)\n",
    "- [LinkedIn](https://www.linkedin.com/in/angelina-tsuboi-322028211/)\n",
    "- [Instagram](https://www.instagram.com/angelina_tsuboi)"
   ]
  }
 ],
 "metadata": {
  "kernelspec": {
   "display_name": "\"Python/Mu (mu_venv-38-20220319-163202)\"",
   "language": "python",
   "name": "mu_venv-38-20220319-163202"
  },
  "language_info": {
   "codemirror_mode": {
    "name": "ipython",
    "version": 3
   },
   "file_extension": ".py",
   "mimetype": "text/x-python",
   "name": "python",
   "nbconvert_exporter": "python",
   "pygments_lexer": "ipython3",
   "version": "3.8.11"
  }
 },
 "nbformat": 4,
 "nbformat_minor": 5
}
