{
 "cells": [
  {
   "cell_type": "markdown",
   "id": "d628a625-c503-433c-86e2-449c9a2e6fbd",
   "metadata": {},
   "source": [
    "# Project 5: Satellite Trajectory Analysis GUI 🛰️"
   ]
  },
  {
   "cell_type": "markdown",
   "id": "07bd5cb3-2ee0-4e42-91a6-89afae5d4548",
   "metadata": {},
   "source": [
    "## Objectives \n",
    "- Understand the contextual background behind satellite trajectories\n",
    "- Create a GUI using `tkinter` and `matplotlib` to plot satellite details\n",
    "- Make the GUI interactive by adding numerical sliders and buttons\n",
    "- Allow the user to download a CSV file including data for the project\n",
    "- Create an input field that allows a user to enter a TLE and plot it"
   ]
  },
  {
   "cell_type": "markdown",
   "id": "ca38a48d-9d17-40e9-b659-a80970d2c9d7",
   "metadata": {},
   "source": [
    "## Satellite Trajectory Analysis Explained \n",
    "Satellite trajectory analysis involves the study and prediction of the path that a satellite follows as it orbits around Earth."
   ]
  },
  {
   "cell_type": "markdown",
   "id": "09ac47c4-179e-4149-b1b4-6314388517ea",
   "metadata": {},
   "source": [
    "## Steps of Satellite Trajectory Analysis\n",
    "1. Orbit Determination\n",
    "2. Propagation\n"
   ]
  },
  {
   "cell_type": "markdown",
   "id": "a137f1f8-e971-477b-a1d1-376d25f687cb",
   "metadata": {},
   "source": [
    "## External Influences on an Orbit\n",
    "1. Gravitational\n",
    "2. Atmospheric Drag\n",
    "3. Solar Radiation Pressure"
   ]
  },
  {
   "cell_type": "code",
   "execution_count": null,
   "id": "e47e84ca-4b17-4185-ae22-91d10a830967",
   "metadata": {},
   "outputs": [],
   "source": [
    "import tkinter \n",
    "from tkinter import ttk\n",
    "import sv_ttk"
   ]
  },
  {
   "cell_type": "code",
   "execution_count": null,
   "id": "bf9f1d79-b690-420f-8548-b53fc9684151",
   "metadata": {},
   "outputs": [],
   "source": [
    "import matplotlib.pyplot as plt\n",
    "import numpy as np\n",
    "from matplotlib.figure import Figure \n",
    "from matplotlib.backends.backend_tkagg import (FigureCanvasTkAgg,  \n",
    "NavigationToolbar2Tk) \n",
    "from PyAstronomy import pyasl\n",
    "import matplotlib.pyplot as plt\n",
    "import matplotlib.animation as animation\n",
    "from sgp4.api import Satrec\n",
    "from sgp4.api import jday"
   ]
  },
  {
   "cell_type": "code",
   "execution_count": null,
   "id": "25f6b116-da42-42b0-8c9f-fe62dd287029",
   "metadata": {},
   "outputs": [],
   "source": [
    "root = tkinter.Tk()\n",
    "root.title(\"Satellite Trajectory Analysis\")\n",
    "root.geometry('1200x800')\n",
    "plt.style.use('dark_background')"
   ]
  },
  {
   "cell_type": "code",
   "execution_count": null,
   "id": "f67d77ac-e950-45bc-b79e-130419f49c59",
   "metadata": {},
   "outputs": [],
   "source": [
    "# Set the theme to dark mode!\n",
    "sv_ttk.set_theme(\"dark\")\n",
    "\n",
    "# Create a Style instance to make custom styles!\n",
    "style = ttk.Style()\n",
    "\n",
    "# Configure a class name called Margin.TLabel which shows a top padding of 10px when applied\n",
    "style.configure('Margin.TLabel', padding=(0, 20, 0, 5))  # (left, top, right, bottom)\n",
    "style.configure('TButton', margin=(0, 20, 0, 5), background=\"#000\")  # (left, top, right, bottom)"
   ]
  },
  {
   "cell_type": "code",
   "execution_count": null,
   "id": "a0a3e4de-7e4b-4c52-8d90-f4e9b3b94ef5",
   "metadata": {},
   "outputs": [],
   "source": [
    " # Create frames\n",
    "left_frame = tkinter.Frame(root, width=500, height=600)\n",
    "right_frame = tkinter.Frame(root, width=300, height=600)\n",
    "\n",
    "# Pack frames side by side\n",
    "left_frame.pack(side=\"left\", fill=\"both\", expand=True)\n",
    "right_frame.pack(side=\"left\", fill=\"both\", expand=True)"
   ]
  },
  {
   "cell_type": "code",
   "execution_count": null,
   "id": "6e459007-53d3-435c-b000-b3a110fb28f1",
   "metadata": {},
   "outputs": [],
   "source": [
    "semi_major_axis_label = ttk.Label(right_frame, text=\"Semi-Major Axis: \", style='Margin.TLabel')\n",
    "semi_major_axis_label.pack()\n",
    "\n",
    "semi_major_axis_slider = tkinter.Scale(right_frame, from_=2000, to=50000, tickinterval=10000, orient=tkinter.HORIZONTAL, length=400)\n",
    "semi_major_axis_slider.set(10000)\n",
    "semi_major_axis_slider.pack()\n",
    "\n",
    "eccentricity_label = ttk.Label(right_frame, text=\"Eccentricity: \", style='Margin.TLabel')\n",
    "eccentricity_label.pack()\n",
    "\n",
    "eccentricity_slider = tkinter.Scale(right_frame, from_=0, to=1, resolution=0.01, tickinterval=0.1, orient=tkinter.HORIZONTAL, length=400)\n",
    "eccentricity_slider.set(0.1)\n",
    "eccentricity_slider.pack()\n",
    "\n",
    "inclination_label = ttk.Label(right_frame, text=\"Inclination: \", style='Margin.TLabel')\n",
    "inclination_label.pack()\n",
    "\n",
    "inclination_slider = tkinter.Scale(right_frame, from_=0, to=360, tickinterval=40, orient=tkinter.HORIZONTAL, length=400)\n",
    "inclination_slider.set(90)\n",
    "inclination_slider.pack()\n",
    "\n",
    "raan_label = ttk.Label(right_frame, text=\"Right Ascension of Ascending Node: \", style='Margin.TLabel')\n",
    "raan_label.pack()\n",
    "\n",
    "raan_slider = tkinter.Scale(right_frame, from_=0, to=360, tickinterval=40, orient=tkinter.HORIZONTAL, length=400)\n",
    "raan_slider.set(40)\n",
    "raan_slider.pack()\n",
    "\n",
    "argument_periapsis_label = ttk.Label(right_frame, text=\"Argument of Perigee: \", style='Margin.TLabel')\n",
    "argument_periapsis_label.pack()\n",
    "\n",
    "argument_periapsis_slider = tkinter.Scale(right_frame, from_=0, to=360, tickinterval=40, orient=tkinter.HORIZONTAL, length=400)\n",
    "argument_periapsis_slider.set(0)\n",
    "argument_periapsis_slider.pack()\n",
    "\n",
    "mean_anamoly_label = ttk.Label(right_frame, text=\"Mean Anomaly: \", style='Margin.TLabel')\n",
    "mean_anamoly_label.pack()\n",
    "\n",
    "mean_anamoly_slider = tkinter.Scale(right_frame, from_=0, to=360, tickinterval=40, orient=tkinter.HORIZONTAL, length=400)\n",
    "mean_anamoly_slider.set(0)\n",
    "mean_anamoly_slider.pack()"
   ]
  },
  {
   "cell_type": "markdown",
   "id": "93a977cd-5a4a-4e6c-bf47-b1438fbdc8a9",
   "metadata": {},
   "source": [
    "## Altitude over Time Graph"
   ]
  },
  {
   "cell_type": "code",
   "execution_count": null,
   "id": "3374f7b4-cb0e-4c94-aa63-1cfd466c9b60",
   "metadata": {},
   "outputs": [],
   "source": [
    "def trace_altitude_graph(tle_one, tle_two):\n",
    "    satellite = Satrec.twoline2rv(\n",
    "    tle_one, tle_two\n",
    "    )\n",
    "    start_time = 0\n",
    "    end_time = 24 * 3600  # 1 day\n",
    "    step = 60  # 1 minute\n",
    "    times = np.arange(start_time, end_time, step)\n",
    "    times = np.linspace(start_time, end_time, step)\n",
    "    \n",
    "    # Calculate the altitude at each time step\n",
    "    altitudes = []\n",
    "    for t in times:\n",
    "        jd, fr = jday(2024, 4, 1, 0, 0, t)\n",
    "        e, r, v = satellite.sgp4(jd, fr)\n",
    "        altitude = (r[0]**2 + r[1]**2 + r[2]**2)**0.5 - 6378.135  # Earth's mean radius in kilometers\n",
    "        altitudes.append(altitude)\n",
    "    fig = Figure(figsize = (6, 3), dpi = 100) \n",
    "    canvas = FigureCanvasTkAgg(fig, master = left_frame) \n",
    "    canvas.get_tk_widget().pack(pady=15)\n",
    "    plot = fig.add_subplot(111)\n",
    "    plot.plot(times, altitudes)\n",
    "    plot.grid(True)\n",
    "    \n",
    "    canvas.draw() "
   ]
  },
  {
   "cell_type": "code",
   "execution_count": null,
   "id": "93043a23-b43a-408a-a57b-7eb3e819b0c8",
   "metadata": {},
   "outputs": [],
   "source": [
    "trace_altitude_graph('1 25544U 98067A   21257.91276829  .00000825  00000-0  24323-4 0  9990', '2 25544  51.6461  89.6503 0003031 120.4862 259.0942 15.48881082307117')"
   ]
  },
  {
   "cell_type": "markdown",
   "id": "967d1938-ed83-45ac-b235-5482352c3f8f",
   "metadata": {},
   "source": [
    "## Visualizing 3D Orbit"
   ]
  },
  {
   "cell_type": "code",
   "execution_count": null,
   "id": "ae10de98-5f5f-422d-992c-9ed365085119",
   "metadata": {},
   "outputs": [],
   "source": [
    "def visualize_3d_orbit(a, p, e, o, i, w):\n",
    "    orbit = pyasl.KeplerEllipse(a=a, per=p, e=e, Omega=o, i=i, w=w)\n",
    "    t = np.linspace(0, 4, 300)\n",
    "    pos = orbit.xyzPos(t)\n",
    "    fig2 = Figure(figsize = (6, 3), dpi = 100) \n",
    "    canvas2 = FigureCanvasTkAgg(fig2, master = left_frame) \n",
    "    canvas2.get_tk_widget().pack(pady=15)\n",
    "    plot2 = fig2.add_subplot(111, projection='3d')\n",
    "\n",
    "    plot2.plot(0, 0, 'bo', markersize=9, label=\"Earth\")\n",
    "    plot2.plot(pos[::, 1], pos[::, 0], 'k-', label=\"Satellite Trajectory\")\n",
    "    plot2.plot(pos[0, 1], pos[0, 0], 'g*', label=\"Periapsis\")\n",
    "    \n",
    "    canvas2.draw() "
   ]
  },
  {
   "cell_type": "code",
   "execution_count": null,
   "id": "be8ac0d9-2a31-45c8-9ae1-ff941f4d7380",
   "metadata": {},
   "outputs": [],
   "source": [
    "visualize_3d_orbit(1.0, 1.0, 0.5, 0.0, 30.0, 0.0)"
   ]
  },
  {
   "cell_type": "code",
   "execution_count": null,
   "id": "70161f8c-02cb-4364-899c-9484e9e31c8b",
   "metadata": {},
   "outputs": [],
   "source": [
    "def retrace_orbit():\n",
    "    visualize_3d_orbit(semi_major_axis_slider.get(), mean_anamoly_slider.get() , eccentricity_slider.get(), raan_slider.get(), inclination_slider.get() , argument_periapsis_slider.get())\n",
    "    #TODO: trace_altitude_graph(updated_tle_one, updated_tle_two)"
   ]
  },
  {
   "cell_type": "code",
   "execution_count": null,
   "id": "9690d8e0-ee9a-4352-83fa-2e3d337f06db",
   "metadata": {},
   "outputs": [],
   "source": [
    "trace_button = ttk.Button(right_frame, text=\"Retrace Orbit\", command=retrace_orbit, style='TButton')\n",
    "trace_button.pack()"
   ]
  },
  {
   "cell_type": "code",
   "execution_count": null,
   "id": "11d02bd6-d628-49c5-a104-22e18d25fb19",
   "metadata": {},
   "outputs": [],
   "source": [
    "def extract_tle(line_1, line_2):\n",
    "    # extract values \n",
    "    line_one_elements = line_1.split()\n",
    "    line_two_elements = line_2.split()\n",
    "    [item for item in line_2.split() if split_string.index(item) == 2]\n",
    "    # update the sliders\n",
    "    return"
   ]
  },
  {
   "cell_type": "code",
   "execution_count": null,
   "id": "37987bbd-2426-40d0-bf6d-021c771e1105",
   "metadata": {},
   "outputs": [],
   "source": [
    "def process_tle():\n",
    "    file_path = filedialog.askopenfilename()\n",
    "    if file_path:\n",
    "        with open(file_path, 'r') as file:\n",
    "            line1 = file.readline().strip()\n",
    "            line2 = file.readline().strip()"
   ]
  },
  {
   "cell_type": "code",
   "execution_count": null,
   "id": "8652bef7-9a21-4868-ba82-b750ec3bbd68",
   "metadata": {},
   "outputs": [],
   "source": [
    "tle_button = ttk.Button(right_frame, text=\"Select TLE\", command=process_tle, style='TButton')\n",
    "tle_button.pack()"
   ]
  },
  {
   "cell_type": "code",
   "execution_count": null,
   "id": "75289245-f741-4b81-a578-07aa51bc51ef",
   "metadata": {},
   "outputs": [],
   "source": [
    "def download_csv():\n",
    "    with open('data.csv', 'w', newline='') as file:\n",
    "        writer = csv.DictWriter(file, fieldnames=[\"Semi-Major Axis\", \"Eccentricity\", \"Inclination\", \"Right Ascension of Ascending Node\", \"Argument of Perigee\", \"Mean Anamoly\"])\n",
    "        writer.writeheader()\n",
    "        writer.writerow({\n",
    "            \"Semi-Major Axis\": semi_major_axis_slider.get(), \n",
    "            \"Eccentricity\": eccentricity_slider.get(), \n",
    "            \"Inclination\": inclination_slider.get(), \n",
    "            \"Right Ascension of Ascending Node\": raan_slider.get(), \n",
    "            \"Argument of Perigee\": argument_periapsis_slider.get(), \n",
    "            \"Mean Anamoly\": mean_anamoly_slider.get()  \n",
    "        })"
   ]
  },
  {
   "cell_type": "code",
   "execution_count": null,
   "id": "fc6ff088-8575-4b7b-b9d8-6e41f459b801",
   "metadata": {},
   "outputs": [],
   "source": [
    "csv_button = ttk.Button(right_frame, text=\"Download CSV\", command=download_csv, style='TButton')\n",
    "csv_button.pack()"
   ]
  },
  {
   "cell_type": "code",
   "execution_count": null,
   "id": "d7d61e41-e831-4281-9c25-11699da57632",
   "metadata": {},
   "outputs": [],
   "source": [
    "root.mainloop()"
   ]
  },
  {
   "cell_type": "markdown",
   "id": "0af74492-84ae-4138-a267-747fffe90a5d",
   "metadata": {},
   "source": [
    "# Congratulations 🎉\n",
    "Awesome! You have now officially completed the Python for Aerospace course! Throughout this interactive course, we covered the basics of Python while exploring a wide range of aerospace and astronomy concepts. You have built a total of five projects which you can showcase to potential employers and feature on your resume. \n",
    "\n",
    "If you enjoyed the course, please consider [supporting me on Patreon](https://www.patreon.com/AngelinaTsuboi?utm_medium=unknown&utm_source=join_link&utm_campaign=creatorshare_creator&utm_content=copyLink).\n",
    "\n",
    "To check out more of my work, you can follow me on these platforms:\n",
    "- [GitHub](https://github.com/ANG13T)\n",
    "- [YouTube](https://www.youtube.com/channel/UC4tHxdsusgqnHa_OE9DFJcg)\n",
    "- [X](https://twitter.com/AngelinaTsuboi)\n",
    "- [LinkedIn](https://www.linkedin.com/in/angelina-tsuboi-322028211/)\n",
    "- [Instagram](https://www.instagram.com/angelina_tsuboi)"
   ]
  },
  {
   "cell_type": "code",
   "execution_count": null,
   "id": "1ae0cc85-4d97-46ce-b6f1-ca4281d66e68",
   "metadata": {},
   "outputs": [],
   "source": []
  }
 ],
 "metadata": {
  "kernelspec": {
   "display_name": "\"Python/Mu (mu_venv-38-20220319-163202)\"",
   "language": "python",
   "name": "mu_venv-38-20220319-163202"
  },
  "language_info": {
   "codemirror_mode": {
    "name": "ipython",
    "version": 3
   },
   "file_extension": ".py",
   "mimetype": "text/x-python",
   "name": "python",
   "nbconvert_exporter": "python",
   "pygments_lexer": "ipython3",
   "version": "3.8.11"
  }
 },
 "nbformat": 4,
 "nbformat_minor": 5
}
