{
 "cells": [
  {
   "cell_type": "markdown",
   "id": "d628a625-c503-433c-86e2-449c9a2e6fbd",
   "metadata": {},
   "source": [
    "# Project 5: Satellite Trajectory Analysis GUI 🛰️"
   ]
  },
  {
   "cell_type": "markdown",
   "id": "07bd5cb3-2ee0-4e42-91a6-89afae5d4548",
   "metadata": {},
   "source": [
    "## Objectives \n",
    "- Understand the mathematical background for the Rocket Equation\n",
    "- Create a differential equation expression for the Rocket Equation\n",
    "- Solve the differential equation using the `odeint` function from `scipy.integrate`\n",
    "- Plot the solution using `matplotlib`"
   ]
  },
  {
   "cell_type": "markdown",
   "id": "ca38a48d-9d17-40e9-b659-a80970d2c9d7",
   "metadata": {},
   "source": [
    "## Satellite Trajectory Analysis Explained \n",
    "Satellite trajectory analysis involves the study and prediction of the path that a satellite follows as it orbits around Earth."
   ]
  },
  {
   "cell_type": "markdown",
   "id": "09ac47c4-179e-4149-b1b4-6314388517ea",
   "metadata": {},
   "source": [
    "## Steps of Satellite Trajectory Analysis\n",
    "1. Orbit Determination\n",
    "2. Propagation\n"
   ]
  },
  {
   "cell_type": "markdown",
   "id": "a137f1f8-e971-477b-a1d1-376d25f687cb",
   "metadata": {},
   "source": [
    "## External Influences on an Orbit\n",
    "1. Gravitational\n",
    "2. Atmospheric Drag\n",
    "3. Solar Radiation Pressure"
   ]
  },
  {
   "cell_type": "code",
   "execution_count": 265,
   "id": "e47e84ca-4b17-4185-ae22-91d10a830967",
   "metadata": {},
   "outputs": [],
   "source": [
    "import tkinter \n",
    "from tkinter import ttk\n",
    "import sv_ttk"
   ]
  },
  {
   "cell_type": "code",
   "execution_count": 266,
   "id": "bf9f1d79-b690-420f-8548-b53fc9684151",
   "metadata": {},
   "outputs": [],
   "source": [
    "import matplotlib.pyplot as plt\n",
    "import numpy as np\n",
    "from matplotlib.figure import Figure \n",
    "from matplotlib.backends.backend_tkagg import (FigureCanvasTkAgg,  \n",
    "NavigationToolbar2Tk) "
   ]
  },
  {
   "cell_type": "code",
   "execution_count": 267,
   "id": "25f6b116-da42-42b0-8c9f-fe62dd287029",
   "metadata": {},
   "outputs": [],
   "source": [
    "root = tkinter.Tk()\n",
    "root.title(\"Satellite Trajectory Analysis\")\n",
    "root.geometry('1200x700')\n",
    "plt.style.use('dark_background')"
   ]
  },
  {
   "cell_type": "code",
   "execution_count": 268,
   "id": "f67d77ac-e950-45bc-b79e-130419f49c59",
   "metadata": {},
   "outputs": [],
   "source": [
    "# Set the theme to dark mode!\n",
    "sv_ttk.set_theme(\"dark\")\n",
    "\n",
    "# Create a Style instance to make custom styles!\n",
    "style = ttk.Style()\n",
    "\n",
    "# Configure a class name called Margin.TLabel which shows a top padding of 10px when applied\n",
    "style.configure('Margin.TLabel', padding=(0, 15, 0, 5))  # (left, top, right, bottom)"
   ]
  },
  {
   "cell_type": "code",
   "execution_count": 269,
   "id": "a0a3e4de-7e4b-4c52-8d90-f4e9b3b94ef5",
   "metadata": {},
   "outputs": [],
   "source": [
    " # Create frames\n",
    "left_frame = tkinter.Frame(root, width=500, height=600)\n",
    "right_frame = tkinter.Frame(root, width=300, height=600)\n",
    "\n",
    "# Pack frames side by side\n",
    "left_frame.pack(side=\"left\", fill=\"both\", expand=True)\n",
    "right_frame.pack(side=\"left\", fill=\"both\", expand=True)"
   ]
  },
  {
   "cell_type": "code",
   "execution_count": 270,
   "id": "6e459007-53d3-435c-b000-b3a110fb28f1",
   "metadata": {},
   "outputs": [],
   "source": [
    "semi_major_axis_label = ttk.Label(right_frame, text=\"Semi-Major Axis: \", style='Margin.TLabel')\n",
    "semi_major_axis_label.pack()\n",
    "\n",
    "semi_major_axis_slider = tkinter.Scale(right_frame, from_=2000, to=50000, tickinterval=10000, orient=tkinter.HORIZONTAL, length=400)\n",
    "semi_major_axis_slider.set(10000)\n",
    "semi_major_axis_slider.pack()\n",
    "\n",
    "eccentricity_label = ttk.Label(right_frame, text=\"Eccentricity: \", style='Margin.TLabel')\n",
    "eccentricity_label.pack()\n",
    "\n",
    "eccentricity_slider = tkinter.Scale(right_frame, from_=0, to=1, resolution=0.01, tickinterval=0.1, orient=tkinter.HORIZONTAL, length=400)\n",
    "eccentricity_slider.set(0.1)\n",
    "eccentricity_slider.pack()\n",
    "\n",
    "inclination_label = ttk.Label(right_frame, text=\"Inclination: \", style='Margin.TLabel')\n",
    "inclination_label.pack()\n",
    "\n",
    "inclination_slider = tkinter.Scale(right_frame, from_=0, to=360, tickinterval=40, orient=tkinter.HORIZONTAL, length=400)\n",
    "inclination_slider.set(90)\n",
    "inclination_slider.pack()\n",
    "\n",
    "raan_label = ttk.Label(right_frame, text=\"Right Ascension of Ascending Node: \", style='Margin.TLabel')\n",
    "raan_label.pack()\n",
    "\n",
    "raan_slider = tkinter.Scale(right_frame, from_=0, to=360, tickinterval=40, orient=tkinter.HORIZONTAL, length=400)\n",
    "raan_slider.set(40)\n",
    "raan_slider.pack()\n",
    "\n",
    "argument_periapsis_label = ttk.Label(right_frame, text=\"Argument of Perigee: \", style='Margin.TLabel')\n",
    "argument_periapsis_label.pack()\n",
    "\n",
    "argument_periapsis_slider = tkinter.Scale(right_frame, from_=0, to=360, tickinterval=40, orient=tkinter.HORIZONTAL, length=400)\n",
    "argument_periapsis_slider.set(0)\n",
    "argument_periapsis_slider.pack()\n",
    "\n",
    "mean_anamoly_label = ttk.Label(right_frame, text=\"Mean Anomaly: \", style='Margin.TLabel')\n",
    "mean_anamoly_label.pack()\n",
    "\n",
    "mean_anamoly_slider = tkinter.Scale(right_frame, from_=0, to=360, tickinterval=40, orient=tkinter.HORIZONTAL, length=400)\n",
    "mean_anamoly_slider.set(0)\n",
    "mean_anamoly_slider.pack()"
   ]
  },
  {
   "cell_type": "code",
   "execution_count": 271,
   "id": "22bef4c9-e392-4ca2-8a04-0bf87ca8a5ca",
   "metadata": {},
   "outputs": [],
   "source": [
    "fig = Figure(figsize = (4, 3), \n",
    "                 dpi = 100) \n",
    "canvas = FigureCanvasTkAgg(fig, master = left_frame) \n",
    "canvas.get_tk_widget().pack(pady=15)"
   ]
  },
  {
   "cell_type": "code",
   "execution_count": 272,
   "id": "d08b254c-7d13-4765-8be7-6d1104185147",
   "metadata": {},
   "outputs": [],
   "source": [
    "x = np.linspace(0, 10, 100)\n",
    "y = np.sin(x)\n",
    "\n",
    "plot = fig.add_subplot(111)\n",
    "\n",
    "plot.plot(x, y)\n",
    "\n",
    "canvas.draw() "
   ]
  },
  {
   "cell_type": "code",
   "execution_count": 273,
   "id": "0c95e757-bd2a-40c6-927f-c577640bdaf1",
   "metadata": {},
   "outputs": [],
   "source": [
    "fig2 = Figure(figsize = (5, 4), \n",
    "                 dpi = 100) \n",
    "canvas2 = FigureCanvasTkAgg(fig, master = left_frame) \n",
    "canvas2.get_tk_widget().pack(pady=15)"
   ]
  },
  {
   "cell_type": "code",
   "execution_count": 274,
   "id": "a7e376c4-35ff-42d2-82d6-8a73c1fd340d",
   "metadata": {},
   "outputs": [],
   "source": [
    "plot2 = fig.add_subplot(111)\n",
    "\n",
    "plot2.plot(x, y)\n",
    "\n",
    "canvas2.draw() "
   ]
  },
  {
   "cell_type": "code",
   "execution_count": 277,
   "id": "65b091d8-300b-428c-a71c-41ee1c9c9721",
   "metadata": {},
   "outputs": [],
   "source": [
    "tle_frame = tkinter.Frame(right_frame, bg='lightblue', width=400, height=100)\n",
    "tle_frame.pack()"
   ]
  },
  {
   "cell_type": "code",
   "execution_count": 278,
   "id": "91022837-3806-4d7a-b6cb-e39016502094",
   "metadata": {},
   "outputs": [],
   "source": [
    "def process_tle():\n",
    "    file_path = filedialog.askopenfilename()\n",
    "    if file_path:\n",
    "        with open(file_path, 'r') as file:\n",
    "            file_contents = file.read()\n",
    "            # text_box.insert(tk.END, file_contents)\n",
    "            print(file_contents)"
   ]
  },
  {
   "cell_type": "code",
   "execution_count": 280,
   "id": "0a53e026-bbde-4ae0-95c5-3d4847052c51",
   "metadata": {},
   "outputs": [],
   "source": [
    "tle_button = ttk.Button(right_frame, text=\"Select TLE\", command=process_tle)\n",
    "tle_button.pack()"
   ]
  },
  {
   "cell_type": "code",
   "execution_count": 281,
   "id": "a67bf81c-9ed2-4e2d-9aa9-ded7c6b82d51",
   "metadata": {},
   "outputs": [],
   "source": [
    "def download_csv():\n",
    "    return"
   ]
  },
  {
   "cell_type": "code",
   "execution_count": 282,
   "id": "1fd40a18-69e0-4142-83af-21714b661b04",
   "metadata": {},
   "outputs": [],
   "source": [
    "csv_button = ttk.Button(right_frame, text=\"Download CSV\", command=download_csv)\n",
    "csv_button.pack()"
   ]
  },
  {
   "cell_type": "code",
   "execution_count": null,
   "id": "d7d61e41-e831-4281-9c25-11699da57632",
   "metadata": {},
   "outputs": [],
   "source": [
    "root.mainloop()"
   ]
  },
  {
   "cell_type": "code",
   "execution_count": null,
   "id": "b7a9fd94-fee7-4ea0-9de7-4d03aff58eb5",
   "metadata": {},
   "outputs": [],
   "source": []
  }
 ],
 "metadata": {
  "kernelspec": {
   "display_name": "\"Python/Mu (mu_venv-38-20220319-163202)\"",
   "language": "python",
   "name": "mu_venv-38-20220319-163202"
  },
  "language_info": {
   "codemirror_mode": {
    "name": "ipython",
    "version": 3
   },
   "file_extension": ".py",
   "mimetype": "text/x-python",
   "name": "python",
   "nbconvert_exporter": "python",
   "pygments_lexer": "ipython3",
   "version": "3.8.11"
  }
 },
 "nbformat": 4,
 "nbformat_minor": 5
}
