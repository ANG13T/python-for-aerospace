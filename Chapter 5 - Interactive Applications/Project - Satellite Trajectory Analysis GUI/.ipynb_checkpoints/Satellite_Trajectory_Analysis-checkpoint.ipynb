{
 "cells": [
  {
   "cell_type": "markdown",
   "id": "d628a625-c503-433c-86e2-449c9a2e6fbd",
   "metadata": {},
   "source": [
    "# Project 5: Satellite Trajectory Analysis GUI 🛰️"
   ]
  },
  {
   "cell_type": "markdown",
   "id": "07bd5cb3-2ee0-4e42-91a6-89afae5d4548",
   "metadata": {},
   "source": [
    "## Objectives \n",
    "- Understand the contextual background behind satellite trajectories\n",
    "- Create a GUI using `tkinter` and `matplotlib` to plot satellite details\n",
    "- Make the GUI interactive by adding numerical sliders and buttons\n",
    "- Allow the user to download a CSV file including data for the project"
   ]
  },
  {
   "cell_type": "markdown",
   "id": "ca38a48d-9d17-40e9-b659-a80970d2c9d7",
   "metadata": {},
   "source": [
    "## Satellite Trajectory Analysis Explained \n",
    "Satellite trajectory analysis involves the study and prediction of the path that a satellite follows as it orbits around Earth."
   ]
  },
  {
   "cell_type": "markdown",
   "id": "09ac47c4-179e-4149-b1b4-6314388517ea",
   "metadata": {},
   "source": [
    "## Steps of Satellite Trajectory Analysis\n",
    "1. Orbit Determination\n",
    "2. Propagation\n"
   ]
  },
  {
   "cell_type": "markdown",
   "id": "a137f1f8-e971-477b-a1d1-376d25f687cb",
   "metadata": {},
   "source": [
    "## External Influences on an Orbit\n",
    "1. Gravitational\n",
    "2. Atmospheric Drag\n",
    "3. Solar Radiation Pressure"
   ]
  },
  {
   "cell_type": "markdown",
   "id": "de768fb9-7a9a-41b1-823b-c44f2216ef8d",
   "metadata": {},
   "source": [
    "## Step 1: Import Libraries"
   ]
  },
  {
   "cell_type": "code",
   "execution_count": 34,
   "id": "e47e84ca-4b17-4185-ae22-91d10a830967",
   "metadata": {},
   "outputs": [],
   "source": [
    "import tkinter \n",
    "from tkinter import ttk\n",
    "import sv_ttk\n",
    "import csv\n",
    "import matplotlib.pyplot as plt\n",
    "import numpy as np\n",
    "from matplotlib.figure import Figure \n",
    "from matplotlib.backends.backend_tkagg import (FigureCanvasTkAgg,  \n",
    "NavigationToolbar2Tk) \n",
    "from PyAstronomy import pyasl\n",
    "import matplotlib.pyplot as plt\n",
    "import matplotlib.animation as animation\n",
    "from sgp4.api import Satrec\n",
    "from sgp4.api import jday"
   ]
  },
  {
   "cell_type": "markdown",
   "id": "4de623b8-e558-4407-a4fc-178127a33628",
   "metadata": {},
   "source": [
    "## Step 2: Create tkinter Window\n",
    "Create a tkinter window titled \"Satellite Trajectory Analysis\" with dimensions of `1200x800`"
   ]
  },
  {
   "cell_type": "code",
   "execution_count": null,
   "id": "64f4156a-9f4d-42b3-8245-f80e7d51e52c",
   "metadata": {},
   "outputs": [],
   "source": [
    "# Insert Code Here"
   ]
  },
  {
   "cell_type": "markdown",
   "id": "d588f9a6-6795-4355-900b-9dc1b87e6259",
   "metadata": {},
   "source": [
    "## Step 3: Configure Styling\n",
    "1. Set the tkinter theme to Sun Valley (HINT: use `sv_ttk`)\n",
    "2. Set the matplotlib theme to `dark_background` (HINT: use `plt.style.use`)\n",
    "3. Create a tkinter `Style` instance\n",
    "4. Create a tkinter class titled `Margin.TLabel` with the styles: `padding=(0, 20, 0, 5)`\n",
    "5. Create a tkinter class titled `TButton` with the styles: `padding=(10, 10), background=\"#000\"`"
   ]
  },
  {
   "cell_type": "code",
   "execution_count": 37,
   "id": "f67d77ac-e950-45bc-b79e-130419f49c59",
   "metadata": {},
   "outputs": [],
   "source": [
    "# Insert Code Here"
   ]
  },
  {
   "cell_type": "markdown",
   "id": "1a48a164-be35-4a59-bbdc-e6d550c3c885",
   "metadata": {},
   "source": [
    "## Step 4: Creating Side-by-Side Frames\n",
    "Tkinter allows us to create horizontally adjacent frames which allow us to visually seperate our components into a \"Left Frame\" and \"Right Frame\""
   ]
  },
  {
   "cell_type": "code",
   "execution_count": 38,
   "id": "a0a3e4de-7e4b-4c52-8d90-f4e9b3b94ef5",
   "metadata": {},
   "outputs": [],
   "source": [
    " # Create frames\n",
    "left_frame = tkinter.Frame(root, width=500, height=600)\n",
    "right_frame = tkinter.Frame(root, width=300, height=600)\n",
    "\n",
    "# Pack frames side by side\n",
    "left_frame.pack(side=\"left\", fill=\"both\", expand=True)\n",
    "right_frame.pack(side=\"left\", fill=\"both\", expand=True)"
   ]
  },
  {
   "cell_type": "markdown",
   "id": "8a1b6a9a-955d-4868-a2b0-7c24c2b3fb3a",
   "metadata": {},
   "source": [
    "## Step 5: Create Sliders for Keplarian Elements\n",
    "Our interactive GUI will contain six sliders for each Keplarian Element.\n",
    "The below code has three sliders: semi-major axis, eccentricity, and inclination.\n",
    "Your task is to create three more sliders for the following: `Right Ascension of Ascending Node`, `Argument of Perigee`, and `Mean Anomaly`"
   ]
  },
  {
   "cell_type": "code",
   "execution_count": null,
   "id": "0518a714-153b-4c43-adb5-ea0710692fbd",
   "metadata": {},
   "outputs": [],
   "source": [
    "semi_major_axis_label = ttk.Label(right_frame, text=\"Semi-Major Axis: \", style='Margin.TLabel')\n",
    "semi_major_axis_label.pack()\n",
    "semi_major_axis_slider = tkinter.Scale(right_frame, from_=2000, to=50000, tickinterval=10000, orient=tkinter.HORIZONTAL, length=400)\n",
    "semi_major_axis_slider.pack()\n",
    "\n",
    "eccentricity_label = ttk.Label(right_frame, text=\"Eccentricity: \", style='Margin.TLabel')\n",
    "eccentricity_label.pack()\n",
    "eccentricity_slider = tkinter.Scale(right_frame, from_=0, to=1, resolution=0.01, tickinterval=0.1, orient=tkinter.HORIZONTAL, length=400)\n",
    "eccentricity_slider.pack()\n",
    "\n",
    "inclination_label = ttk.Label(right_frame, text=\"Inclination: \", style='Margin.TLabel')\n",
    "inclination_label.pack()\n",
    "inclination_slider = tkinter.Scale(right_frame, from_=0, to=360, tickinterval=40, orient=tkinter.HORIZONTAL, length=400)\n",
    "inclination_slider.pack()\n",
    "\n",
    "# Insert Slider Code for Right Ascension of Ascending Node (abbreviate to RAAN)\n",
    "# From 0 to 360 with tick interval of 40\n",
    "\n",
    "# Insert Slider Code for Argument of Perigee \n",
    "# From 1 to 360 with tick interval of 40\n",
    "\n",
    "# Insert Slider Code for Mean Anomaly\n",
    "# From 1 to 360 with tick interval of 40"
   ]
  },
  {
   "cell_type": "code",
   "execution_count": 40,
   "id": "7ed89e98-e4ff-48e0-accb-d410aac2c91f",
   "metadata": {},
   "outputs": [],
   "source": [
    "# Takes in six Keplarian Elements as parameters and sets the value to the sliders in the GUI\n",
    "def display_sliders(a, e, i, o, w, v):\n",
    "    semi_major_axis_slider.set(a)\n",
    "    eccentricity_slider.set(e)\n",
    "    inclination_slider.set(i)\n",
    "    raan_slider.set(o)\n",
    "    argument_periapsis_slider.set(w)\n",
    "    mean_anamoly_slider.set(v)"
   ]
  },
  {
   "cell_type": "code",
   "execution_count": 41,
   "id": "6e459007-53d3-435c-b000-b3a110fb28f1",
   "metadata": {},
   "outputs": [],
   "source": [
    "# Default:\n",
    "# Semi-Major Axis: 10000\n",
    "# Eccentricity: 0.1\n",
    "# Inclination: 90\n",
    "# RAAN: 40\n",
    "# Argument of Periapsis: 1\n",
    "# Mean Anamoly: 1\n",
    "display_sliders(10000, 0.1, 90, 40, 1, 1)"
   ]
  },
  {
   "cell_type": "markdown",
   "id": "93a977cd-5a4a-4e6c-bf47-b1438fbdc8a9",
   "metadata": {},
   "source": [
    "## Step 5: Create Altitude vs Time Graph\n",
    "The following code uses the SGP4 propagation method in order to predict the altitude of the satellite in respect to the surface of the Earth. This utilizes the `sgp4` method within the `Satrec` class provided by the `sgp4` library. "
   ]
  },
  {
   "cell_type": "code",
   "execution_count": null,
   "id": "3374f7b4-cb0e-4c94-aa63-1cfd466c9b60",
   "metadata": {},
   "outputs": [],
   "source": [
    "def trace_altitude_graph(tle_one, tle_two):\n",
    "    satellite = Satrec.twoline2rv(\n",
    "    tle_one, tle_two\n",
    "    )\n",
    "\n",
    "    # Defining the time range\n",
    "    start_time = 0\n",
    "    end_time = 24 * 3600  # 1 day\n",
    "    step = 60  # 1 minute\n",
    "    times = np.arange(start_time, end_time, step)\n",
    "    times = np.linspace(start_time, end_time, step)\n",
    "    \n",
    "    # Calculate the altitude at each time step\n",
    "    altitudes = []\n",
    "    for t in times:\n",
    "        jd, fr = jday(2024, 4, 1, 0, 0, t)\n",
    "        # Use SPG4 to get the position details of a satellite\n",
    "        e, r, v = satellite.sgp4(jd, fr)\n",
    "        # r represents the position vector of the satellite where:\n",
    "        # [x, y, z]\n",
    "        # Calculates the altitude of the satellite above the Earth's surface\n",
    "        altitude = (r[0]**2 + r[1]**2 + r[2]**2)**0.5 - 6378.135  # Earth's mean radius in kilometers\n",
    "        altitudes.append(altitude)\n",
    "\n",
    "    # Intialize a figure and embed it within a canvas\n",
    "    fig = Figure(figsize = (6, 3), dpi = 100) \n",
    "    canvas = FigureCanvasTkAgg(fig, master = left_frame) \n",
    "    canvas.get_tk_widget().pack(pady=15)\n",
    "    plot = fig.add_subplot(111)\n",
    "\n",
    "    # Plot timestamps and altitude\n",
    "    plot.plot(times, altitudes)\n",
    "    plot.grid(True)\n",
    "\n",
    "    # Draw the plot\n",
    "    canvas.draw() "
   ]
  },
  {
   "cell_type": "code",
   "execution_count": 43,
   "id": "16886524-8412-4014-a3d3-22fb18ee167d",
   "metadata": {},
   "outputs": [],
   "source": [
    "# Default TLE:\n",
    "# 1 25544U 98067A   21257.91276829  .00000825  00000-0  24323-4 0  9990\n",
    "# 2 25544  51.6461  89.6503 0003031 120.4862 259.0942 15.4888108230711\n",
    "trace_altitude_graph(\"1 25544U 98067A   21257.91276829  .00000825  00000-0  24323-4 0  9990\", \"2 25544  51.6461  89.6503 0003031 120.4862 259.0942 15.48881082307117\")"
   ]
  },
  {
   "cell_type": "markdown",
   "id": "967d1938-ed83-45ac-b235-5482352c3f8f",
   "metadata": {},
   "source": [
    "## Step 6: Visualizing a 3D Orbit\n",
    "The following creates a second figure displaying a 3D plot of a satellite's trajectory relative to Earth using the `pyasl` library. \n",
    "It extracts the positional trajectory data using the `KeplerEllipse` and `xyzPos` features of `pyasl`"
   ]
  },
  {
   "cell_type": "code",
   "execution_count": null,
   "id": "ae10de98-5f5f-422d-992c-9ed365085119",
   "metadata": {},
   "outputs": [],
   "source": [
    "# Intialize the second figure and canvas and place it within the left frame\n",
    "fig2 = Figure(figsize = (6, 3), dpi = 100) \n",
    "canvas2 = FigureCanvasTkAgg(fig2, master = left_frame) \n",
    "\n",
    "# This method takes the six Keplarian Elements and plots them in a 3D graph\n",
    "def visualize_3d_orbit(a, p, e, o, i, w, fig_vis):\n",
    "    orbit = pyasl.KeplerEllipse(a=a, per=p, e=e, Omega=o, i=i, w=w)\n",
    "    t = np.linspace(0, 4, 300)\n",
    "    pos = orbit.xyzPos(t)\n",
    "\n",
    "    # Clear the figure if it already exists (allows us to refresh / redraw updated plots)\n",
    "    if fig_vis:\n",
    "        fig_vis.clear()\n",
    "    \n",
    "    canvas2.get_tk_widget().pack(pady=15)\n",
    "    plot2 = fig_vis.add_subplot(111, projection='3d')\n",
    "\n",
    "    # Plots the Earth, trajectory path, and periapsis point of trajectory\n",
    "    plot2.plot(0, 0, 'bo', markersize=9, label=\"Earth\")\n",
    "    plot2.plot(pos[::, 1], pos[::, 0], 'k-', label=\"Satellite Trajectory\")\n",
    "    plot2.plot(pos[0, 1], pos[0, 0], 'g*', label=\"Periapsis\")\n",
    "\n",
    "    # Draws the plot onto the canvas\n",
    "    canvas2.draw() "
   ]
  },
  {
   "cell_type": "code",
   "execution_count": null,
   "id": "be8ac0d9-2a31-45c8-9ae1-ff941f4d7380",
   "metadata": {},
   "outputs": [],
   "source": [
    "visualize_3d_orbit(1.0, 1.0, 0.5, 0.0, 30.0, 0.0, fig2)"
   ]
  },
  {
   "cell_type": "markdown",
   "id": "77a939b3-28fb-4e5c-95f8-13416c7f96c7",
   "metadata": {},
   "source": [
    "## Step 7: Create a Retrace Orbit Button\n",
    "1. Create a function titled `retrace_orbit` that invokes `visualize_3d_orbit`\n",
    "with the values from each of the sliders. (HINT: to get the semi-major axis value\n",
    "`semi_major_axis_slider.get()`)\n",
    "2. Create a tkinter Button titled \"Retrace Orbit\" that calls `retrace_orbit` when it is clicked and place it within `right_frame` and apply the style `TButton`"
   ]
  },
  {
   "cell_type": "code",
   "execution_count": 46,
   "id": "70161f8c-02cb-4364-899c-9484e9e31c8b",
   "metadata": {},
   "outputs": [],
   "source": [
    "# Initialize function retrace_orbit"
   ]
  },
  {
   "cell_type": "code",
   "execution_count": 47,
   "id": "9690d8e0-ee9a-4352-83fa-2e3d337f06db",
   "metadata": {},
   "outputs": [],
   "source": [
    "# Create Retrace Orbit button "
   ]
  },
  {
   "cell_type": "markdown",
   "id": "bd2ab0f8-183a-4d38-8b29-cd07437f70c6",
   "metadata": {},
   "source": [
    "## Step 8: Create Download CSV Button\n",
    "1. Create a function `download_csv` that creates a file `data.csv` with field names `[\"A\", \"E\", \"I\", \"O\", \"W\", \"V\"]` using `csv.DictWriter` \n",
    "2. Within the function, write a header and a single row containing the slider values for each of the 6 Keplarian elements.\n",
    "3. Create a button titled \"Download CSV\" that calls `download_csv` when clicked and apply the style `TButton`"
   ]
  },
  {
   "cell_type": "code",
   "execution_count": 48,
   "id": "75289245-f741-4b81-a578-07aa51bc51ef",
   "metadata": {},
   "outputs": [],
   "source": [
    "# Initialize function download_csv"
   ]
  },
  {
   "cell_type": "code",
   "execution_count": null,
   "id": "fc6ff088-8575-4b7b-b9d8-6e41f459b801",
   "metadata": {},
   "outputs": [],
   "source": [
    "# Create Download CSV button "
   ]
  },
  {
   "cell_type": "markdown",
   "id": "faf63661-241b-47d1-a44b-4a6db7901552",
   "metadata": {},
   "source": [
    "## Step 9: Run the Tkinter Application"
   ]
  },
  {
   "cell_type": "code",
   "execution_count": null,
   "id": "d7d61e41-e831-4281-9c25-11699da57632",
   "metadata": {},
   "outputs": [],
   "source": [
    "# Insert code here"
   ]
  },
  {
   "cell_type": "markdown",
   "id": "0af74492-84ae-4138-a267-747fffe90a5d",
   "metadata": {},
   "source": [
    "# Congratulations 🎉\n",
    "Awesome! You have now officially completed the Python for Aerospace course! Throughout this interactive course, we covered the basics of Python while exploring a wide range of aerospace and astronomy concepts. You have built a total of five projects which you can showcase to potential employers and feature on your resume. \n",
    "\n",
    "If you enjoyed the course, please consider [supporting me on Patreon](https://www.patreon.com/AngelinaTsuboi?utm_medium=unknown&utm_source=join_link&utm_campaign=creatorshare_creator&utm_content=copyLink).\n",
    "\n",
    "To check out more of my work, you can follow me on these platforms:\n",
    "- [GitHub](https://github.com/ANG13T)\n",
    "- [YouTube](https://www.youtube.com/channel/UC4tHxdsusgqnHa_OE9DFJcg)\n",
    "- [X](https://twitter.com/AngelinaTsuboi)\n",
    "- [LinkedIn](https://www.linkedin.com/in/angelina-tsuboi-322028211/)\n",
    "- [Instagram](https://www.instagram.com/angelina_tsuboi)"
   ]
  }
 ],
 "metadata": {
  "kernelspec": {
   "display_name": "\"Python/Mu (mu_venv-38-20220319-163202)\"",
   "language": "python",
   "name": "mu_venv-38-20220319-163202"
  },
  "language_info": {
   "codemirror_mode": {
    "name": "ipython",
    "version": 3
   },
   "file_extension": ".py",
   "mimetype": "text/x-python",
   "name": "python",
   "nbconvert_exporter": "python",
   "pygments_lexer": "ipython3",
   "version": "3.8.11"
  }
 },
 "nbformat": 4,
 "nbformat_minor": 5
}
