{
 "cells": [
  {
   "cell_type": "markdown",
   "id": "8a94e327-46c6-4ded-94d3-4e9ce66c7489",
   "metadata": {},
   "source": [
    "# Project 5: Satellite Trajectory Analysis GUI Solution 🛰️"
   ]
  },
  {
   "cell_type": "markdown",
   "id": "81a4df91-066c-4e3a-9c80-38c8722d4d42",
   "metadata": {},
   "source": [
    "## Objectives \n",
    "- Understand the contextual background behind satellite trajectories\n",
    "- Create a GUI using `tkinter` and `matplotlib` to plot satellite details\n",
    "- Make the GUI interactive by adding numerical sliders and buttons\n",
    "- Allow the user to download a CSV file including data for the project"
   ]
  },
  {
   "cell_type": "markdown",
   "id": "5672fadb-ddbc-4aa2-b1bc-8059709f16ec",
   "metadata": {},
   "source": [
    "## Step 1: Import Libraries"
   ]
  },
  {
   "cell_type": "code",
   "execution_count": 1,
   "id": "afd45ced-0680-4dbc-8986-66f589da9c73",
   "metadata": {},
   "outputs": [],
   "source": [
    "import tkinter \n",
    "from tkinter import ttk\n",
    "import sv_ttk\n",
    "import csv\n",
    "import matplotlib.pyplot as plt\n",
    "import numpy as np\n",
    "from matplotlib.figure import Figure \n",
    "from matplotlib.backends.backend_tkagg import (FigureCanvasTkAgg,  \n",
    "NavigationToolbar2Tk) \n",
    "from PyAstronomy import pyasl\n",
    "import matplotlib.pyplot as plt\n",
    "import matplotlib.animation as animation\n",
    "from sgp4.api import Satrec\n",
    "from sgp4.api import jday"
   ]
  },
  {
   "cell_type": "markdown",
   "id": "d145bf91-d0a4-4bf8-83ad-acfd6695c56f",
   "metadata": {},
   "source": [
    "## Step 2: Create tkinter Window\n",
    "Create a tkinter window titled \"Satellite Trajectory Analysis\" with dimensions of `1200x800`"
   ]
  },
  {
   "cell_type": "code",
   "execution_count": 3,
   "id": "e5cbb3ce-d6d2-4ffd-a853-92b5f56f7c5e",
   "metadata": {},
   "outputs": [
    {
     "data": {
      "text/plain": [
       "''"
      ]
     },
     "execution_count": 3,
     "metadata": {},
     "output_type": "execute_result"
    }
   ],
   "source": [
    "root = tkinter.Tk()\n",
    "root.title(\"Satellite Trajectory Analysis\")\n",
    "root.geometry('1200x800')"
   ]
  },
  {
   "cell_type": "markdown",
   "id": "d8ccf95e-fcc4-4f04-8215-4659dee90fb1",
   "metadata": {},
   "source": [
    "## Step 3: Configure Styling\n",
    "1. Set the tkinter theme to Sun Valley (HINT: use `sv_ttk`)\n",
    "2. Set the matplotlib theme to `dark_background` (HINT: use `plt.style.use`)\n",
    "3. Create a tkinter `Style` instance\n",
    "4. Create a tkinter class titled `Margin.TLabel` with the styles: `padding=(0, 20, 0, 5)`\n",
    "5. Create a tkinter class titled `TButton` with the styles: `padding=(10, 10), background=\"#000\"`"
   ]
  },
  {
   "cell_type": "code",
   "execution_count": null,
   "id": "24ceaecc-1e14-4352-8484-99ba23f93d9d",
   "metadata": {},
   "outputs": [],
   "source": [
    "# Set the theme to dark mode!\n",
    "sv_ttk.set_theme(\"dark\")\n",
    "plt.style.use('dark_background')\n",
    "\n",
    "# Create a Style instance to make custom styles!\n",
    "style = ttk.Style()\n",
    "\n",
    "style.configure('Margin.TLabel', padding=(0, 20, 0, 5))\n",
    "style.configure('TButton', padding=(10, 10), background=\"#000\") "
   ]
  },
  {
   "cell_type": "markdown",
   "id": "b63bf2eb-5a23-452e-9fa9-c53aa88954ea",
   "metadata": {},
   "source": [
    "## Step 4: Creating Side-by-Side Frames\n",
    "Tkinter allows us to create horizontally adjacent frames which allow us to visually seperate our components into a \"Left Frame\" and \"Right Frame\""
   ]
  },
  {
   "cell_type": "code",
   "execution_count": 2,
   "id": "712f325c-36d0-445e-b42f-dc0502b93b91",
   "metadata": {},
   "outputs": [
    {
     "ename": "NameError",
     "evalue": "name 'root' is not defined",
     "output_type": "error",
     "traceback": [
      "\u001b[0;31m---------------------------------------------------------------------------\u001b[0m",
      "\u001b[0;31mNameError\u001b[0m                                 Traceback (most recent call last)",
      "Input \u001b[0;32mIn [2]\u001b[0m, in \u001b[0;36m<module>\u001b[0;34m\u001b[0m\n\u001b[1;32m      1\u001b[0m \u001b[38;5;66;03m# Create frames\u001b[39;00m\n\u001b[0;32m----> 2\u001b[0m left_frame \u001b[38;5;241m=\u001b[39m tkinter\u001b[38;5;241m.\u001b[39mFrame(\u001b[43mroot\u001b[49m, width\u001b[38;5;241m=\u001b[39m\u001b[38;5;241m500\u001b[39m, height\u001b[38;5;241m=\u001b[39m\u001b[38;5;241m600\u001b[39m)\n\u001b[1;32m      3\u001b[0m right_frame \u001b[38;5;241m=\u001b[39m tkinter\u001b[38;5;241m.\u001b[39mFrame(root, width\u001b[38;5;241m=\u001b[39m\u001b[38;5;241m300\u001b[39m, height\u001b[38;5;241m=\u001b[39m\u001b[38;5;241m600\u001b[39m)\n\u001b[1;32m      5\u001b[0m \u001b[38;5;66;03m# Pack frames side by side\u001b[39;00m\n",
      "\u001b[0;31mNameError\u001b[0m: name 'root' is not defined"
     ]
    }
   ],
   "source": [
    " # Create frames\n",
    "left_frame = tkinter.Frame(root, width=500, height=600)\n",
    "right_frame = tkinter.Frame(root, width=300, height=600)\n",
    "\n",
    "# Pack frames side by side\n",
    "left_frame.pack(side=\"left\", fill=\"both\", expand=True)\n",
    "right_frame.pack(side=\"left\", fill=\"both\", expand=True)"
   ]
  },
  {
   "cell_type": "markdown",
   "id": "fa5b1eaa-534e-4b6f-8988-01d9603e4345",
   "metadata": {},
   "source": [
    "## Step 5: Create Sliders for Keplarian Elements\n",
    "Our interactive GUI will contain six sliders for each Keplarian Element.\n",
    "The below code has three sliders: semi-major axis, eccentricity, and inclination.\n",
    "Your task is to create three more sliders for the following: `Right Ascension of Ascending Node`, `Argument of Perigee`, and `Mean Anomaly`"
   ]
  },
  {
   "cell_type": "code",
   "execution_count": 4,
   "id": "25cb2890-a0dd-4c0b-b14b-ce49dc0c94a2",
   "metadata": {},
   "outputs": [
    {
     "ename": "NameError",
     "evalue": "name 'right_frame' is not defined",
     "output_type": "error",
     "traceback": [
      "\u001b[0;31m---------------------------------------------------------------------------\u001b[0m",
      "\u001b[0;31mNameError\u001b[0m                                 Traceback (most recent call last)",
      "Input \u001b[0;32mIn [4]\u001b[0m, in \u001b[0;36m<module>\u001b[0;34m\u001b[0m\n\u001b[0;32m----> 1\u001b[0m semi_major_axis_label \u001b[38;5;241m=\u001b[39m ttk\u001b[38;5;241m.\u001b[39mLabel(\u001b[43mright_frame\u001b[49m, text\u001b[38;5;241m=\u001b[39m\u001b[38;5;124m\"\u001b[39m\u001b[38;5;124mSemi-Major Axis: \u001b[39m\u001b[38;5;124m\"\u001b[39m, style\u001b[38;5;241m=\u001b[39m\u001b[38;5;124m'\u001b[39m\u001b[38;5;124mMargin.TLabel\u001b[39m\u001b[38;5;124m'\u001b[39m)\n\u001b[1;32m      2\u001b[0m semi_major_axis_label\u001b[38;5;241m.\u001b[39mpack()\n\u001b[1;32m      3\u001b[0m semi_major_axis_slider \u001b[38;5;241m=\u001b[39m tkinter\u001b[38;5;241m.\u001b[39mScale(right_frame, from_\u001b[38;5;241m=\u001b[39m\u001b[38;5;241m2000\u001b[39m, to\u001b[38;5;241m=\u001b[39m\u001b[38;5;241m50000\u001b[39m, tickinterval\u001b[38;5;241m=\u001b[39m\u001b[38;5;241m10000\u001b[39m, orient\u001b[38;5;241m=\u001b[39mtkinter\u001b[38;5;241m.\u001b[39mHORIZONTAL, length\u001b[38;5;241m=\u001b[39m\u001b[38;5;241m400\u001b[39m)\n",
      "\u001b[0;31mNameError\u001b[0m: name 'right_frame' is not defined"
     ]
    }
   ],
   "source": [
    "semi_major_axis_label = ttk.Label(right_frame, text=\"Semi-Major Axis: \", style='Margin.TLabel')\n",
    "semi_major_axis_label.pack()\n",
    "semi_major_axis_slider = tkinter.Scale(right_frame, from_=2000, to=50000, tickinterval=10000, orient=tkinter.HORIZONTAL, length=400)\n",
    "semi_major_axis_slider.pack()\n",
    "\n",
    "eccentricity_label = ttk.Label(right_frame, text=\"Eccentricity: \", style='Margin.TLabel')\n",
    "eccentricity_label.pack()\n",
    "eccentricity_slider = tkinter.Scale(right_frame, from_=0, to=1, resolution=0.01, tickinterval=0.1, orient=tkinter.HORIZONTAL, length=400)\n",
    "eccentricity_slider.pack()\n",
    "\n",
    "inclination_label = ttk.Label(right_frame, text=\"Inclination: \", style='Margin.TLabel')\n",
    "inclination_label.pack()\n",
    "inclination_slider = tkinter.Scale(right_frame, from_=0, to=360, tickinterval=40, orient=tkinter.HORIZONTAL, length=400)\n",
    "inclination_slider.pack()\n",
    "\n",
    "raan_label = ttk.Label(right_frame, text=\"Right Ascension of Ascending Node: \", style='Margin.TLabel')\n",
    "raan_label.pack()\n",
    "raan_slider = tkinter.Scale(right_frame, from_=0, to=360, tickinterval=40, orient=tkinter.HORIZONTAL, length=400)\n",
    "raan_slider.pack()\n",
    "\n",
    "argument_periapsis_label = ttk.Label(right_frame, text=\"Argument of Perigee: \", style='Margin.TLabel')\n",
    "argument_periapsis_label.pack()\n",
    "argument_periapsis_slider = tkinter.Scale(right_frame, from_=1, to=360, tickinterval=40, orient=tkinter.HORIZONTAL, length=400)\n",
    "argument_periapsis_slider.pack()\n",
    "\n",
    "mean_anamoly_label = ttk.Label(right_frame, text=\"Mean Anomaly: \", style='Margin.TLabel')\n",
    "mean_anamoly_label.pack()\n",
    "mean_anamoly_slider = tkinter.Scale(right_frame, from_=1, to=360, tickinterval=40, orient=tkinter.HORIZONTAL, length=400)\n",
    "mean_anamoly_slider.pack()"
   ]
  },
  {
   "cell_type": "code",
   "execution_count": 6,
   "id": "d1f903e8-b521-4a30-a262-3177ef3747ad",
   "metadata": {},
   "outputs": [],
   "source": [
    "# Takes in six Keplarian Elements as parameters and sets the value to the sliders in the GUI\n",
    "def display_sliders(a, e, i, o, w, v):\n",
    "    semi_major_axis_slider.set(a)\n",
    "    eccentricity_slider.set(e)\n",
    "    inclination_slider.set(i)\n",
    "    raan_slider.set(o)\n",
    "    argument_periapsis_slider.set(w)\n",
    "    mean_anamoly_slider.set(v)"
   ]
  },
  {
   "cell_type": "code",
   "execution_count": 7,
   "id": "98a7bd53-f8d5-445f-b6ef-bd5a05fa3d51",
   "metadata": {},
   "outputs": [
    {
     "ename": "NameError",
     "evalue": "name 'semi_major_axis_slider' is not defined",
     "output_type": "error",
     "traceback": [
      "\u001b[0;31m---------------------------------------------------------------------------\u001b[0m",
      "\u001b[0;31mNameError\u001b[0m                                 Traceback (most recent call last)",
      "Input \u001b[0;32mIn [7]\u001b[0m, in \u001b[0;36m<module>\u001b[0;34m\u001b[0m\n\u001b[1;32m      1\u001b[0m \u001b[38;5;66;03m# Default:\u001b[39;00m\n\u001b[1;32m      2\u001b[0m \u001b[38;5;66;03m# Semi-Major Axis: 10000\u001b[39;00m\n\u001b[1;32m      3\u001b[0m \u001b[38;5;66;03m# Eccentricity: 0.1\u001b[39;00m\n\u001b[0;32m   (...)\u001b[0m\n\u001b[1;32m      6\u001b[0m \u001b[38;5;66;03m# Argument of Periapsis: 1\u001b[39;00m\n\u001b[1;32m      7\u001b[0m \u001b[38;5;66;03m# Mean Anamoly: 1\u001b[39;00m\n\u001b[0;32m----> 8\u001b[0m \u001b[43mdisplay_sliders\u001b[49m\u001b[43m(\u001b[49m\u001b[38;5;241;43m10000\u001b[39;49m\u001b[43m,\u001b[49m\u001b[43m \u001b[49m\u001b[38;5;241;43m0.1\u001b[39;49m\u001b[43m,\u001b[49m\u001b[43m \u001b[49m\u001b[38;5;241;43m90\u001b[39;49m\u001b[43m,\u001b[49m\u001b[43m \u001b[49m\u001b[38;5;241;43m40\u001b[39;49m\u001b[43m,\u001b[49m\u001b[43m \u001b[49m\u001b[38;5;241;43m1\u001b[39;49m\u001b[43m,\u001b[49m\u001b[43m \u001b[49m\u001b[38;5;241;43m1\u001b[39;49m\u001b[43m)\u001b[49m\n",
      "Input \u001b[0;32mIn [6]\u001b[0m, in \u001b[0;36mdisplay_sliders\u001b[0;34m(a, e, i, o, w, v)\u001b[0m\n\u001b[1;32m      2\u001b[0m \u001b[38;5;28;01mdef\u001b[39;00m \u001b[38;5;21mdisplay_sliders\u001b[39m(a, e, i, o, w, v):\n\u001b[0;32m----> 3\u001b[0m     \u001b[43msemi_major_axis_slider\u001b[49m\u001b[38;5;241m.\u001b[39mset(a)\n\u001b[1;32m      4\u001b[0m     eccentricity_slider\u001b[38;5;241m.\u001b[39mset(e)\n\u001b[1;32m      5\u001b[0m     inclination_slider\u001b[38;5;241m.\u001b[39mset(i)\n",
      "\u001b[0;31mNameError\u001b[0m: name 'semi_major_axis_slider' is not defined"
     ]
    }
   ],
   "source": [
    "# Default:\n",
    "# Semi-Major Axis: 10000\n",
    "# Eccentricity: 0.1\n",
    "# Inclination: 90\n",
    "# RAAN: 40\n",
    "# Argument of Periapsis: 1\n",
    "# Mean Anamoly: 1\n",
    "display_sliders(10000, 0.1, 90, 40, 1, 1)"
   ]
  },
  {
   "cell_type": "markdown",
   "id": "331fa4d1-8a58-4ebf-b618-0c331072be6d",
   "metadata": {},
   "source": [
    "## Step 5: Create Altitude vs Time Graph\n",
    "The following code uses the SGP4 propagation method to predict the satellite's altitude in respect to the surface of the Earth. This utilizes the `sgp4` method within the `Satrec` class provided by the `sgp4` library. \n",
    "\n",
    "The function takes in two lines of a TLE as inputs and finds the satellite position within a specified timeframe `times`. Then for each timestamp, it calculates the satellite's altitude above Earth using SGP4. "
   ]
  },
  {
   "cell_type": "code",
   "execution_count": 9,
   "id": "2d2772d7-581c-4d29-9bf3-bd1020807875",
   "metadata": {},
   "outputs": [],
   "source": [
    "def trace_altitude_graph(tle_one, tle_two):\n",
    "    satellite = Satrec.twoline2rv(\n",
    "    tle_one, tle_two\n",
    "    )\n",
    "\n",
    "    # Defining the time range\n",
    "    start_time = 0\n",
    "    end_time = 24 * 3600  # 1 day\n",
    "    step = 60  # 1 minute\n",
    "    times = np.arange(start_time, end_time, step)\n",
    "    times = np.linspace(start_time, end_time, step)\n",
    "    \n",
    "    # Calculate the altitude at each time step\n",
    "    altitudes = []\n",
    "    for t in times:\n",
    "        jd, fr = jday(2024, 4, 1, 0, 0, t)\n",
    "        # Use SPG4 to get the position details of a satellite\n",
    "        e, r, v = satellite.sgp4(jd, fr)\n",
    "        # r represents the position vector of the satellite where:\n",
    "        # [x, y, z]\n",
    "        # Calculates the altitude of the satellite above the Earth's surface\n",
    "        altitude = (r[0]**2 + r[1]**2 + r[2]**2)**0.5 - 6378.135  # Earth's mean radius in kilometers\n",
    "        altitudes.append(altitude)\n",
    "\n",
    "    # Intialize a figure and embed it within a canvas\n",
    "    fig = Figure(figsize = (6, 3), dpi = 100) \n",
    "    canvas = FigureCanvasTkAgg(fig, master = left_frame) \n",
    "    canvas.get_tk_widget().pack(pady=15)\n",
    "    plot = fig.add_subplot(111)\n",
    "\n",
    "    # Plot timestamps and altitude\n",
    "    plot.plot(times, altitudes)\n",
    "    plot.grid(True)\n",
    "\n",
    "    # Draw the plot\n",
    "    canvas.draw() "
   ]
  },
  {
   "cell_type": "code",
   "execution_count": null,
   "id": "e129779f-890f-4486-acf4-157612592ac4",
   "metadata": {},
   "outputs": [],
   "source": [
    "# Default TLE:\n",
    "# 1 25544U 98067A   21257.91276829  .00000825  00000-0  24323-4 0  9990\n",
    "# 2 25544  51.6461  89.6503 0003031 120.4862 259.0942 15.4888108230711\n",
    "trace_altitude_graph(\"1 25544U 98067A   21257.91276829  .00000825  00000-0  24323-4 0  9990\", \"2 25544  51.6461  89.6503 0003031 120.4862 259.0942 15.48881082307117\")"
   ]
  },
  {
   "cell_type": "markdown",
   "id": "4f00f552-d4e0-4327-b6a3-3de6f91fc2c2",
   "metadata": {},
   "source": [
    "## Step 6: Visualizing a 3D Orbit\n",
    "The following creates a second figure displaying a 3D plot of a satellite's trajectory relative to Earth using the `pyasl` library. \n",
    "It extracts the positional trajectory data using the `KeplerEllipse` and `xyzPos` features of `pyasl`"
   ]
  },
  {
   "cell_type": "code",
   "execution_count": 10,
   "id": "4bc6f63e-d563-4277-92b4-a34aa9a79f75",
   "metadata": {},
   "outputs": [
    {
     "ename": "NameError",
     "evalue": "name 'left_frame' is not defined",
     "output_type": "error",
     "traceback": [
      "\u001b[0;31m---------------------------------------------------------------------------\u001b[0m",
      "\u001b[0;31mNameError\u001b[0m                                 Traceback (most recent call last)",
      "Input \u001b[0;32mIn [10]\u001b[0m, in \u001b[0;36m<module>\u001b[0;34m\u001b[0m\n\u001b[1;32m      1\u001b[0m \u001b[38;5;66;03m# Intialize the second figure and canvas and place it within the left frame\u001b[39;00m\n\u001b[1;32m      2\u001b[0m fig2 \u001b[38;5;241m=\u001b[39m Figure(figsize \u001b[38;5;241m=\u001b[39m (\u001b[38;5;241m6\u001b[39m, \u001b[38;5;241m3\u001b[39m), dpi \u001b[38;5;241m=\u001b[39m \u001b[38;5;241m100\u001b[39m) \n\u001b[0;32m----> 3\u001b[0m canvas2 \u001b[38;5;241m=\u001b[39m FigureCanvasTkAgg(fig2, master \u001b[38;5;241m=\u001b[39m \u001b[43mleft_frame\u001b[49m) \n\u001b[1;32m      5\u001b[0m \u001b[38;5;66;03m# This method takes the six Keplarian Elements and plots them in a 3D graph\u001b[39;00m\n\u001b[1;32m      6\u001b[0m \u001b[38;5;28;01mdef\u001b[39;00m \u001b[38;5;21mvisualize_3d_orbit\u001b[39m(a, p, e, o, i, w, fig_vis):\n",
      "\u001b[0;31mNameError\u001b[0m: name 'left_frame' is not defined"
     ]
    }
   ],
   "source": [
    "# Intialize the second figure and canvas and place it within the left frame\n",
    "fig2 = Figure(figsize = (6, 3), dpi = 100) \n",
    "canvas2 = FigureCanvasTkAgg(fig2, master = left_frame) \n",
    "\n",
    "# This method takes the six Keplarian Elements and plots them in a 3D graph\n",
    "def visualize_3d_orbit(a, p, e, o, i, w, fig_vis):\n",
    "    orbit = pyasl.KeplerEllipse(a=a, per=p, e=e, Omega=o, i=i, w=w)\n",
    "    t = np.linspace(0, 4, 300)\n",
    "    pos = orbit.xyzPos(t)\n",
    "\n",
    "    # Clear the figure if it already exists (allows us to refresh / redraw updated plots)\n",
    "    if fig_vis:\n",
    "        fig_vis.clear()\n",
    "    \n",
    "    canvas2.get_tk_widget().pack(pady=15)\n",
    "    plot2 = fig_vis.add_subplot(111, projection='3d')\n",
    "\n",
    "    # Plots the Earth, trajectory path, and periapsis point of trajectory\n",
    "    plot2.plot(0, 0, 'bo', markersize=9, label=\"Earth\")\n",
    "    plot2.plot(pos[::, 1], pos[::, 0], 'k-', label=\"Satellite Trajectory\")\n",
    "    plot2.plot(pos[0, 1], pos[0, 0], 'g*', label=\"Periapsis\")\n",
    "\n",
    "    # Draws the plot onto the canvas\n",
    "    canvas2.draw() "
   ]
  },
  {
   "cell_type": "code",
   "execution_count": 11,
   "id": "a4e4a296-afd4-4941-8f84-e5f557946e67",
   "metadata": {},
   "outputs": [
    {
     "ename": "NameError",
     "evalue": "name 'visualize_3d_orbit' is not defined",
     "output_type": "error",
     "traceback": [
      "\u001b[0;31m---------------------------------------------------------------------------\u001b[0m",
      "\u001b[0;31mNameError\u001b[0m                                 Traceback (most recent call last)",
      "Input \u001b[0;32mIn [11]\u001b[0m, in \u001b[0;36m<module>\u001b[0;34m\u001b[0m\n\u001b[0;32m----> 1\u001b[0m \u001b[43mvisualize_3d_orbit\u001b[49m(\u001b[38;5;241m1.0\u001b[39m, \u001b[38;5;241m1.0\u001b[39m, \u001b[38;5;241m0.5\u001b[39m, \u001b[38;5;241m0.0\u001b[39m, \u001b[38;5;241m30.0\u001b[39m, \u001b[38;5;241m0.0\u001b[39m, fig2)\n",
      "\u001b[0;31mNameError\u001b[0m: name 'visualize_3d_orbit' is not defined"
     ]
    }
   ],
   "source": [
    "visualize_3d_orbit(1.0, 1.0, 0.5, 0.0, 30.0, 0.0, fig2)"
   ]
  },
  {
   "cell_type": "markdown",
   "id": "41b06fa1-4d2a-46cf-a0fb-b1d6eee55f99",
   "metadata": {},
   "source": [
    "## Step 7: Create a Retrace Orbit Button\n",
    "1. Create a function titled `retrace_orbit` that invokes `visualize_3d_orbit`\n",
    "with the values from each of the sliders. (HINT: to get the semi-major axis value\n",
    "`semi_major_axis_slider.get()`)\n",
    "2. Create a tkinter Button titled \"Retrace Orbit\" that calls `retrace_orbit` when it is clicked and place it within `right_frame`"
   ]
  },
  {
   "cell_type": "code",
   "execution_count": 12,
   "id": "0c51e981-c8c8-44b0-8719-38011c81803c",
   "metadata": {},
   "outputs": [],
   "source": [
    "def retrace_orbit():\n",
    "    visualize_3d_orbit(semi_major_axis_slider.get(), mean_anamoly_slider.get(), eccentricity_slider.get(), raan_slider.get(), inclination_slider.get(), argument_periapsis_slider.get(), fig2)"
   ]
  },
  {
   "cell_type": "code",
   "execution_count": null,
   "id": "11bb0b8f-93cc-4af3-b19a-098666a82211",
   "metadata": {},
   "outputs": [],
   "source": [
    "trace_button = ttk.Button(right_frame, text=\"Retrace Orbit\", command=retrace_orbit, style='TButton')\n",
    "trace_button.pack()"
   ]
  },
  {
   "cell_type": "markdown",
   "id": "2e30e75e-6fa9-47f5-9392-695e1730de15",
   "metadata": {},
   "source": [
    "## Step 8: Create Download CSV Button\n",
    "1. Create a function `download_csv` that creates a file `data.csv` with field names `[\"A\", \"E\", \"I\", \"O\", \"W\", \"V\"]` using `csv.DictWriter` \n",
    "2. Within the function, write a header and a single row containing the slider values for each of the 6 Keplarian elements.\n",
    "3. Create a button titled \"Download CSV\" that calls `download_csv` when clicked and apply the style `TButton`"
   ]
  },
  {
   "cell_type": "code",
   "execution_count": 13,
   "id": "4567229a-d980-4b2a-9a5b-02cab1e730df",
   "metadata": {},
   "outputs": [],
   "source": [
    "def download_csv():\n",
    "    with open('data.csv', 'w', newline='') as file:\n",
    "        writer = csv.DictWriter(file, fieldnames=[\"A\", \"E\", \"I\", \"O\", \"W\", \"V\"])\n",
    "        writer.writeheader()\n",
    "        writer.writerow({\n",
    "            \"A\": semi_major_axis_slider.get(), \n",
    "            \"E\": eccentricity_slider.get(), \n",
    "            \"I\": inclination_slider.get(), \n",
    "            \"O\": raan_slider.get(), \n",
    "            \"W\": argument_periapsis_slider.get(), \n",
    "            \"V\": mean_anamoly_slider.get()  \n",
    "        })"
   ]
  },
  {
   "cell_type": "code",
   "execution_count": null,
   "id": "210f53d8-f70c-4fa9-98d1-4832ed9f7dda",
   "metadata": {},
   "outputs": [],
   "source": [
    "csv_button = ttk.Button(right_frame, text=\"Download CSV\", command=download_csv, style='TButton')\n",
    "csv_button.pack()"
   ]
  },
  {
   "cell_type": "markdown",
   "id": "75febf0b-a8ad-473e-8469-5a1c391ffaa1",
   "metadata": {},
   "source": [
    "## Step 9: Run the Tkinter Application"
   ]
  },
  {
   "cell_type": "code",
   "execution_count": null,
   "id": "55baafce-e244-4540-8259-96e7802ad4f6",
   "metadata": {},
   "outputs": [],
   "source": [
    "root.mainloop()"
   ]
  }
 ],
 "metadata": {
  "kernelspec": {
   "display_name": "\"Python/Mu (mu_venv-38-20220319-163202)\"",
   "language": "python",
   "name": "mu_venv-38-20220319-163202"
  },
  "language_info": {
   "codemirror_mode": {
    "name": "ipython",
    "version": 3
   },
   "file_extension": ".py",
   "mimetype": "text/x-python",
   "name": "python",
   "nbconvert_exporter": "python",
   "pygments_lexer": "ipython3",
   "version": "3.8.11"
  }
 },
 "nbformat": 4,
 "nbformat_minor": 5
}
