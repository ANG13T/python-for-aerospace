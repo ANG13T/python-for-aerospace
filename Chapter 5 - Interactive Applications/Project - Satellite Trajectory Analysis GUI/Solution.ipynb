{
 "cells": [
  {
   "cell_type": "code",
   "execution_count": 1,
   "id": "9ca60dfc-51fe-4a97-8734-00506fc109a9",
   "metadata": {},
   "outputs": [],
   "source": [
    "# Project 5: Satellite Trajectory Analysis GUI Solution 🛰️"
   ]
  },
  {
   "cell_type": "code",
   "execution_count": null,
   "id": "a9616519-e693-4dd8-928d-8ead055692e5",
   "metadata": {},
   "outputs": [],
   "source": []
  }
 ],
 "metadata": {
  "kernelspec": {
   "display_name": "\"Python/Mu (mu_venv-38-20220319-163202)\"",
   "language": "python",
   "name": "mu_venv-38-20220319-163202"
  },
  "language_info": {
   "codemirror_mode": {
    "name": "ipython",
    "version": 3
   },
   "file_extension": ".py",
   "mimetype": "text/x-python",
   "name": "python",
   "nbconvert_exporter": "python",
   "pygments_lexer": "ipython3",
   "version": "3.8.11"
  }
 },
 "nbformat": 4,
 "nbformat_minor": 5
}
