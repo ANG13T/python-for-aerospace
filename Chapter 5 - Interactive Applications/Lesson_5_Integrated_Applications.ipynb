{
 "cells": [
  {
   "cell_type": "markdown",
   "id": "a1b66b0d-29e5-45f4-b7a4-6b0143e52e5a",
   "metadata": {},
   "source": [
    "# Lesson 5: Integrated Applications"
   ]
  },
  {
   "cell_type": "markdown",
   "id": "c572c600-a99f-48cf-9d06-6c2594260356",
   "metadata": {},
   "source": [
    "## Creating Numerical Interfaces\n",
    "Using the `Scale` widget with tkinter, we can allow the user to manually input numerical values into a GUI."
   ]
  },
  {
   "cell_type": "code",
   "execution_count": 18,
   "id": "a2ce8273-21f2-4b0e-bbb9-251bf7efb92d",
   "metadata": {},
   "outputs": [],
   "source": [
    "import tkinter \n",
    "from tkinter import ttk\n",
    "import sv_ttk"
   ]
  },
  {
   "cell_type": "code",
   "execution_count": null,
   "id": "31fffaa4-eeb2-482b-854b-3a98971be760",
   "metadata": {},
   "outputs": [],
   "source": [
    "# Create a window\n",
    "root = tkinter.Tk()\n",
    "root.title(\"Sliders!\")\n",
    "root.geometry('500x200')"
   ]
  },
  {
   "cell_type": "markdown",
   "id": "1e7d94f8-a255-48b6-88d7-d51a3e512a90",
   "metadata": {},
   "source": [
    "The following lines of code uses the `Scale` widget to display a horizontal numerical slider from 0 to 200 with a tick interval of 10. The default value of the slider is et to 40."
   ]
  },
  {
   "cell_type": "code",
   "execution_count": 20,
   "id": "0df63675-3e3f-41cb-8ad6-bbbe532084c6",
   "metadata": {},
   "outputs": [],
   "source": [
    "slider = tkinter.Scale(root, from_=0, to=200,tickinterval=20, orient=tkinter.HORIZONTAL, length=400)\n",
    "slider.set(40)\n",
    "slider.pack()"
   ]
  },
  {
   "cell_type": "code",
   "execution_count": null,
   "id": "b527656b-2ef8-4626-8242-89e5476338d1",
   "metadata": {},
   "outputs": [],
   "source": [
    "sv_ttk.set_theme(\"dark\")\n",
    "\n",
    "root.mainloop()"
   ]
  },
  {
   "cell_type": "markdown",
   "id": "5931038f-8ac6-47b2-9365-f4915c76a98e",
   "metadata": {},
   "source": [
    "## Displaying Plots\n",
    "We can integrate the sliders with matplotlib inside a tkinter interface in order to make configurabale plots!\n",
    "In the example outlined below, we create a display containing a numerical slider which adjust the amplitude of the `sin(x)` function displayed on the matplotlib chart when a button titled \"Generate Chart\" is clicked."
   ]
  },
  {
   "cell_type": "code",
   "execution_count": null,
   "id": "bdc4d9a1-4781-4645-9396-672330452089",
   "metadata": {},
   "outputs": [],
   "source": []
  },
  {
   "cell_type": "markdown",
   "id": "da01316b-a513-4dfb-afc3-2a8d61d45fe1",
   "metadata": {},
   "source": [
    "## Exporting Data File\n",
    "Now, that we have a plot of sin(x) showing, let's create another button within the application that downloads each of the points on the sin(x) plot into a csv file titled \"plot.csv\"."
   ]
  },
  {
   "cell_type": "code",
   "execution_count": null,
   "id": "7497f352-fb78-4c11-b9a6-0ca619bdb500",
   "metadata": {},
   "outputs": [],
   "source": []
  },
  {
   "cell_type": "markdown",
   "id": "93bc6319-9440-4b79-95fb-b72688b662da",
   "metadata": {},
   "source": [
    "## Exercise 1: Create an Interactive Line Plot GUI"
   ]
  },
  {
   "cell_type": "markdown",
   "id": "d5b6721c-d6e7-459b-b53d-8906e1aa020a",
   "metadata": {},
   "source": [
    "Congratulations! You have officially completed the final lesson of this course! Now, we will move onto the final project where you will create a satellite trajectory monitoring web application using tkinter and matplotlib!"
   ]
  }
 ],
 "metadata": {
  "kernelspec": {
   "display_name": "\"Python/Mu (mu_venv-38-20220319-163202)\"",
   "language": "python",
   "name": "mu_venv-38-20220319-163202"
  },
  "language_info": {
   "codemirror_mode": {
    "name": "ipython",
    "version": 3
   },
   "file_extension": ".py",
   "mimetype": "text/x-python",
   "name": "python",
   "nbconvert_exporter": "python",
   "pygments_lexer": "ipython3",
   "version": "3.8.11"
  }
 },
 "nbformat": 4,
 "nbformat_minor": 5
}
