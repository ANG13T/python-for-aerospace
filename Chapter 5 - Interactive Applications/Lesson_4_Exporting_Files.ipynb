{
 "cells": [
  {
   "cell_type": "markdown",
   "id": "1cc347f9-ed86-44a7-b894-9de327d4c0ba",
   "metadata": {},
   "source": [
    "# Lesson 4: Exporting Files "
   ]
  },
  {
   "cell_type": "markdown",
   "id": "35c45ae0-7bcd-438e-98d4-57ce8201d617",
   "metadata": {},
   "source": [
    "## Saving Data in Files\n",
    "In Python, saving data within files is a common task, and there are various ways to accomplish this depending on the type of data and the requirements of your application. Python provides built-in modules and libraries for working with different file formats and data structures.\n",
    "\n",
    "Typical file formats for exporting data include:\n",
    "\n",
    "- `CSV`: stands for Comma Separated Values. CSV files are widely used for storing tabular data, where each row represents a record, and columns represent attributes or variables. Python has a standard library called `csv` for reading and writing CSV files\n",
    "\n",
    "- `JSON`: stands for JavaScript Object Notation. JSON files are typically used to store structured data. It is human-readable, easy to parse, and widely supported by programming languages. Python's built-in `json` module allows for easy parsing and generation of JSON data.\n",
    "\n",
    "- `HDF5`: stands for Hierarchical Data Format version 5. HDF5 is a versatile file format commonly used for storing large datasets with complex hierarchical structures. The `h5py` library provides a high-level interface for working with HDF5 files.\n",
    "  \n",
    "- `Excel`: Python allows you to also work with Excel files! You can use the `openpyxl` library for reading and writing Excel (.xlsx) files.\n",
    "\n",
    "![https://www.w3.org/TR/csvw-ucr/egypt-referendum-2012-result-csv-in-textwrangler.png](https://www.w3.org/TR/csvw-ucr/egypt-referendum-2012-result-csv-in-textwrangler.png)\n",
    "\n",
    "Example contents of a CSV file.\n",
    "\n",
    "[Image Source](https://www.w3.org/TR/csvw-ucr/)"
   ]
  },
  {
   "cell_type": "markdown",
   "id": "f28e4801-244c-4b7b-80b0-a37c895a3c35",
   "metadata": {},
   "source": [
    "## Saving data in a CSV File\n",
    "To save data in a CSV (Comma-Separated Values) file using Python, you can use the `writer` functionality within the csv module. "
   ]
  },
  {
   "cell_type": "code",
   "execution_count": 16,
   "id": "733c705e-f4de-4647-a21c-96b12cd6d24e",
   "metadata": {},
   "outputs": [],
   "source": [
    "import csv\n",
    "\n",
    "# Sample data \n",
    "data = [\n",
    "    {\n",
    "        'Name': 'John',\n",
    "        'Age': 30\n",
    "    },\n",
    "    {\n",
    "        'Name': 'Alice',\n",
    "        'Age': 20\n",
    "    }\n",
    "]"
   ]
  },
  {
   "cell_type": "markdown",
   "id": "624c41e1-436c-45c3-96b1-182ca8f8e107",
   "metadata": {},
   "source": [
    "### Writing to a CSV File using Writer\n",
    "The following code opens the CSV file (people.csv) within write mode `w` and writes in the data row by row using `csv.DictWriter`\n",
    "We create a header containing the values of the fields (Name and Age) using `data[0].keys()`\n",
    "We then write each of the rows using `writer.writerows(data)`"
   ]
  },
  {
   "cell_type": "code",
   "execution_count": 17,
   "id": "71e41e63-b86d-4686-a981-22f0b21ce676",
   "metadata": {},
   "outputs": [],
   "source": [
    "with open('people.csv', 'w', newline='') as file:\n",
    "    writer = csv.DictWriter(file, fieldnames=data[0].keys())\n",
    "    writer.writeheader()\n",
    "    writer.writerows(data)"
   ]
  },
  {
   "cell_type": "markdown",
   "id": "776a97b1-e3c9-477c-b2f9-75ad74fff21d",
   "metadata": {},
   "source": [
    "## Reading the CSV data using Reader\n",
    "We can read the contents of a CSV file by using the `csv.reader`"
   ]
  },
  {
   "cell_type": "code",
   "execution_count": 18,
   "id": "b7ddb053-630e-4cc8-8686-12b5b44b4b71",
   "metadata": {},
   "outputs": [
    {
     "name": "stdout",
     "output_type": "stream",
     "text": [
      "['Name', 'Age']\n",
      "['John', '30']\n",
      "['Alice', '20']\n"
     ]
    }
   ],
   "source": [
    "with open('people.csv', 'r', newline='') as file:\n",
    "    reader = csv.reader(file)\n",
    "    for row in reader:\n",
    "        print(row)"
   ]
  },
  {
   "cell_type": "markdown",
   "id": "dce9ac89-0d2c-491f-8305-9566fc8061de",
   "metadata": {},
   "source": [
    "## Saving data in a JSON File\n",
    "We can utilize the `json` library within Python to save data with a JSON file!"
   ]
  },
  {
   "cell_type": "code",
   "execution_count": 10,
   "id": "d28c765c-3b96-4298-9989-008bbd1e4cd6",
   "metadata": {},
   "outputs": [],
   "source": [
    "import json"
   ]
  },
  {
   "cell_type": "markdown",
   "id": "30ad4fc7-c8a9-469c-8b50-7082e1a8afba",
   "metadata": {},
   "source": [
    "### Writing to a JSON File\n",
    "We can write to a JSON file using the `json.dump` command"
   ]
  },
  {
   "cell_type": "code",
   "execution_count": 19,
   "id": "31954b40-f77f-4d1b-bc90-7a2c1b4ff8b4",
   "metadata": {},
   "outputs": [],
   "source": [
    "with open('people.json', 'w') as file:\n",
    "    json.dump(data, file)"
   ]
  },
  {
   "cell_type": "markdown",
   "id": "a168f0a6-b195-40e5-a08f-65c3444d2551",
   "metadata": {},
   "source": [
    "### Reading from a JSON File\n",
    "We can read from a JSON file using the `json.load` command"
   ]
  },
  {
   "cell_type": "code",
   "execution_count": 20,
   "id": "f9a27064-65fa-4030-8713-5b9869a96483",
   "metadata": {},
   "outputs": [
    {
     "name": "stdout",
     "output_type": "stream",
     "text": [
      "[{'Name': 'John', 'Age': 30}, {'Name': 'Alice', 'Age': 20}]\n"
     ]
    }
   ],
   "source": [
    "with open('people.json', 'r') as file:\n",
    "    data = json.load(file)\n",
    "\n",
    "print(data)"
   ]
  },
  {
   "cell_type": "markdown",
   "id": "4f3acbbe-e9cb-490b-966f-d6c3219c5771",
   "metadata": {},
   "source": [
    "## Exercise 1: Save Telemetry Logs 📡\n",
    "\n",
    "#### Objectives\n",
    "- Save the `telemetry` data into a CSV file named \"telemetry.csv\"\n",
    "- Save the `telemetry` data into a JSON file named \"telemetry.json\"\n",
    "- Print the contents of the CSV file using `csv.DictWriter`\n",
    "- Print the contents of the JSON file using `json.load`"
   ]
  },
  {
   "cell_type": "code",
   "execution_count": 14,
   "id": "a157ee2c-d689-4842-a266-4600e713abe8",
   "metadata": {},
   "outputs": [],
   "source": [
    "telemetry = [\n",
    "    {\n",
    "        \"timestamp\": \"2024-03-30T07:58:27.999065\",\n",
    "        \"temperature\": 24.15,\n",
    "        \"pressure\": 1082.28,\n",
    "        \"velocity\": 2157.35,\n",
    "        \"altitude\": 579.64,\n",
    "        \"power_level\": 68.97,\n",
    "        \"orientation\": {\n",
    "            \"roll\": 63.34,\n",
    "            \"pitch\": -174.83,\n",
    "            \"yaw\": 220.57\n",
    "        }\n",
    "    },\n",
    "    {\n",
    "        \"timestamp\": \"2024-03-30T07:47:56.999065\",\n",
    "        \"temperature\": -35.17,\n",
    "        \"pressure\": 892.84,\n",
    "        \"velocity\": 9366.16,\n",
    "        \"altitude\": 821.66,\n",
    "        \"power_level\": 25.56,\n",
    "        \"orientation\": {\n",
    "            \"roll\": -48.75,\n",
    "            \"pitch\": -167.37,\n",
    "            \"yaw\": 181.04\n",
    "        }\n",
    "    },\n",
    "    {\n",
    "        \"timestamp\": \"2024-03-30T07:53:45.999065\",\n",
    "        \"temperature\": -5.28,\n",
    "        \"pressure\": 1028.31,\n",
    "        \"velocity\": 6538.57,\n",
    "        \"altitude\": 729.16,\n",
    "        \"power_level\": 88.36,\n",
    "        \"orientation\": {\n",
    "            \"roll\": 160.25,\n",
    "            \"pitch\": 101.33,\n",
    "            \"yaw\": 16.67\n",
    "        }\n",
    "    }\n",
    "]"
   ]
  },
  {
   "cell_type": "markdown",
   "id": "57c46ee5-f737-40b9-8797-15048aa54a88",
   "metadata": {},
   "source": [
    "## Exporting files using tkinter\n",
    "We can create a button inside the tkinter application that allows us to export a file containing data!\n",
    "In the example below, a tkinter window is created containing a button titled \"Download Data\".\n",
    "When the button is clicked, data is downloaded as a CSV file called `data.csv`."
   ]
  },
  {
   "cell_type": "code",
   "execution_count": 1,
   "id": "618dd243-bf94-4e84-b05f-f273f5eea8f9",
   "metadata": {},
   "outputs": [],
   "source": [
    "import tkinter\n",
    "from tkinter import ttk\n",
    "import sv_ttk\n",
    "import csv\n",
    "\n",
    "# Create a window\n",
    "root = tkinter.Tk()\n",
    "\n",
    "# Set the theme to dark mode!\n",
    "sv_ttk.set_theme(\"dark\")"
   ]
  },
  {
   "cell_type": "code",
   "execution_count": 2,
   "id": "745dcf61-56f5-40f1-8843-02eea2f947db",
   "metadata": {},
   "outputs": [],
   "source": [
    "data = [\n",
    "    {\n",
    "        'Name': 'John',\n",
    "        'Age': 30\n",
    "    },\n",
    "    {\n",
    "        'Name': 'Alice',\n",
    "        'Age': 20\n",
    "    }\n",
    "]"
   ]
  },
  {
   "cell_type": "code",
   "execution_count": 3,
   "id": "a964b076-5b9f-43c6-87dd-18593ca247e1",
   "metadata": {},
   "outputs": [],
   "source": [
    "def download_file():\n",
    "    with open('data.csv', 'w', newline='') as file:\n",
    "        writer = csv.DictWriter(file, fieldnames=data[0].keys())\n",
    "        writer.writeheader()\n",
    "        writer.writerows(data)"
   ]
  },
  {
   "cell_type": "code",
   "execution_count": null,
   "id": "911052c2-0ff4-46f3-a5d1-079698730633",
   "metadata": {},
   "outputs": [],
   "source": [
    "# Add a Button component\n",
    "button = ttk.Button(root, text=\"Download Data\", command=download_file)\n",
    "button.pack()\n",
    "\n",
    "# Display the window\n",
    "root.mainloop()"
   ]
  },
  {
   "cell_type": "markdown",
   "id": "90efd08a-e4df-4b13-8b9b-9383f91baf1d",
   "metadata": {},
   "source": [
    "## Exercise 2: Export data inside a tkinter application\n",
    "\n",
    "#### Objectives\n",
    "- Create a tkinter window with the Sun Valley theme\n",
    "- Create a button titled \"Download JSON\"\n",
    "- When the button is clicked, save `rockets` into a JSON file titled `rockets.json`\n",
    "- Display the window"
   ]
  },
  {
   "cell_type": "code",
   "execution_count": null,
   "id": "4331ff31-4c22-4af8-98c8-2bfb0fbe1f2c",
   "metadata": {},
   "outputs": [],
   "source": [
    "rockets = [\n",
    "    {\n",
    "        'Name': 'Atlas V',\n",
    "        'Operator': 'United Launch Alliance'\n",
    "    },\n",
    "    {\n",
    "        'Name': 'Delta IV',\n",
    "        'Operator': 'United Launch Alliance'\n",
    "    }\n",
    "]"
   ]
  },
  {
   "cell_type": "markdown",
   "id": "59a76449-204a-4fa2-8fd3-31eec8e21cff",
   "metadata": {},
   "source": [
    "Good work! In this lesson, we covered typical file formats for storing data and how you can export files inside your tkinter GUI. In the final lesson, we will be putting together everything that we learned in this chapter to create a fully interactive aerospace GUI!"
   ]
  }
 ],
 "metadata": {
  "kernelspec": {
   "display_name": "\"Python/Mu (mu_venv-38-20220319-163202)\"",
   "language": "python",
   "name": "mu_venv-38-20220319-163202"
  },
  "language_info": {
   "codemirror_mode": {
    "name": "ipython",
    "version": 3
   },
   "file_extension": ".py",
   "mimetype": "text/x-python",
   "name": "python",
   "nbconvert_exporter": "python",
   "pygments_lexer": "ipython3",
   "version": "3.8.11"
  }
 },
 "nbformat": 4,
 "nbformat_minor": 5
}
