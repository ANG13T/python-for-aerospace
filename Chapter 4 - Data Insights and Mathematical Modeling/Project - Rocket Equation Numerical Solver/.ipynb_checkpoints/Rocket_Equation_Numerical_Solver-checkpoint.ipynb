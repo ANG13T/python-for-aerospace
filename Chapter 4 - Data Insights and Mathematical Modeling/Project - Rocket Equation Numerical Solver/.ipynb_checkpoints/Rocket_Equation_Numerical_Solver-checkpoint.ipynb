{
 "cells": [
  {
   "cell_type": "markdown",
   "id": "0b95a397-990f-4728-8dbf-00086980e7dd",
   "metadata": {},
   "source": [
    "# Project 4: Rocket Equation Numerical Solver 🚀"
   ]
  },
  {
   "cell_type": "markdown",
   "id": "9d6a26cd-2838-4448-9827-98ffc3313d3f",
   "metadata": {},
   "source": [
    "## Objectives \n",
    "- Understand the mathematical background for the Rocket Equation\n",
    "- Create a differential equation expression for the Rocket Equation\n",
    "- Solve the differential equation using the `odeint` function from `scipy.integrate`\n",
    "- Plot the solution using `matplotlib`"
   ]
  },
  {
   "cell_type": "markdown",
   "id": "65809557-d2ae-4203-8218-24e7f5ad382f",
   "metadata": {},
   "source": [
    "## Rocket Equation Explained ✨\n",
    "The rocket equation, also known as the Tsiolkovsky rocket equation, is a fundamental equation in astronautics and aerospace engineering that describes the motion of a rocket in terms of its mass and the velocity of the exhaust gases expelled from the rocket engine.\n",
    "\n",
    "![https://i.stack.imgur.com/muq3d.png](https://i.stack.imgur.com/muq3d.png)\n",
    "\n",
    "[Image Source](https://physics.stackexchange.com/questions/634816/tsiolkovsky-rocket-equation-with-external-force)\n",
    "\n",
    "The equation is expressed by the following:\n",
    "$$\n",
    "\\Delta v = v_e \\cdot \\ln \\left( \\frac{{m_0}}{{m_f}} \\right) \\\n",
    "$$\n",
    "\n",
    "Where:\n",
    "\n",
    "`Δv`: the change in velocity of the rocket\n",
    "\n",
    "​\n",
    "`ve`: effective exhaust velocity of the rocket engine\n",
    "\n",
    "`m0`: initial total mass of the rocket (including propellant)\n",
    "\n",
    "`mf`: final total mass of the rocket (after the propellant is expelled)\n",
    "\n",
    "### Understanding Thrust\n",
    "Thrust is a force that propels an object forward. For a rocket, thurst is generated using a propulsion system (rocket engine).\n",
    "According to Newton's 3rd Law, for every action, there is an equal and opposite reaction.\n",
    "Thrust in a rocket is produced by expelling propellant in one direction which in turn creates a reaction force in the opposite direction that propels the rocket.\n",
    "\n",
    "Thrust can be calculated using the following equation:\n",
    "$$\n",
    "J = mv\n",
    "$$\n",
    "\n",
    "Now let's solve for the force of thrust \n",
    "$$\n",
    "F_{thrust} = J / t\n",
    "$$\n",
    "\n",
    "We can plug in values for J\n",
    "$$\n",
    "F_{thrust} = mv / t\n",
    "$$\n",
    "\n",
    "And then rearrange \n",
    "$$\n",
    "F_{thrust} = (m / t) * v\n",
    "$$\n",
    "\n",
    "Notice `m / t` represents the rate of change of propellant mass which is referred to as the `mass flow rate` which we can represent as `dm/dt`\n",
    "$$\n",
    "F_{thrust} = \\frac{dm}{dt} * v\n",
    "$$\n",
    "\n",
    "### Deriving the Rocket Equation\n",
    "Now we have a basic understanding of thrust, let's set up a few equations modeling the forces of thrust on a rocket:\n",
    "\n",
    "#### Force of Upward Thrust\n",
    "$$\n",
    "J_{rocket} = M_{rocket} * dv\n",
    "$$\n",
    "\n",
    "#### Force of Mass Expelled\n",
    "$$\n",
    "J_{propellant} = V_{escape} * dm\n",
    "$$\n",
    "\n",
    "Where:\n",
    "\n",
    "`Vescape`:  the escape velocity of the propellant \n",
    "\n",
    "`dm`: change of propellant mass \n",
    "\n",
    "From Newton's 3rd we know:\n",
    "$$\n",
    "J_{rocket} = J_{propellant} \n",
    "$$\n",
    "\n",
    "Where we can plug in the defined values above to get:\n",
    "$$\n",
    "M_{rocket} * dv = V_{escape} * dm\n",
    "$$\n",
    "\n",
    "Now to get the change of velocity, we need to take the integral... let's first separate the equation according to its terms:\n",
    "$$\n",
    "dv = V_{escape} * dm * (1 / M_{rocket})\n",
    "$$\n",
    "\n",
    "Taking the integral from the boundaries `vf - vi` and `mf - mi` respectively:\n",
    "$$\n",
    "\\int_{vi}^{vf} dv = V_{escape} * \\int_{mi}^{mf} dm * (1 / M_{rocket})\n",
    "$$\n",
    "\n",
    "$$\n",
    "\\int_{vi}^{vf} dv = V_{final} - V_{initial}\n",
    "$$\n",
    "\n",
    "$$\n",
    "V_{final} - V_{initial} = V_{escape} * \\int_{mi}^{mf} dm * (1 / M_{rocket})\n",
    "$$\n",
    "\n",
    "Now, take the integral of the right side of the equation:\n",
    "$$\n",
    "V_{final} - V_{initial} = V_{escape} * (ln(M_{final}) - ln(M_{initial}))\n",
    "$$\n",
    "\n",
    "Let's clean it up a little:\n",
    "$$\n",
    "\\Delta V = V_{escape} \\cdot \\ln \\left( \\frac{{M_{initial}}}{{M_{final}}} \\right) \\\n",
    "$$\n",
    "\n",
    "**And there you have it! You have officially derived the rocket equation!**"
   ]
  },
  {
   "cell_type": "markdown",
   "id": "dbb99c95-d701-4a4b-b74c-d663be4227aa",
   "metadata": {},
   "source": [
    "## Step 1: Import Libraries\n",
    "Import the following:\n",
    "- `numpy`\n",
    "- `matplotlib.pyplot`\n",
    "- `scipy`\n",
    "- `solve_ivp` from `scipy.integrate` "
   ]
  },
  {
   "cell_type": "code",
   "execution_count": null,
   "id": "5da9ff7f-298f-4cbf-a8b8-20f51baa89d4",
   "metadata": {},
   "outputs": [],
   "source": [
    "# INPUT CODE HERE"
   ]
  },
  {
   "cell_type": "markdown",
   "id": "eb1eb4ce-4c93-4c1f-b886-f62093de786c",
   "metadata": {},
   "source": [
    "## Step 2: Define Constants\n",
    "Outlined below are the constant variable values we will need for our ODE solver"
   ]
  },
  {
   "cell_type": "code",
   "execution_count": 1,
   "id": "517d42ec-1a5d-4902-b910-8b58810c606d",
   "metadata": {},
   "outputs": [],
   "source": [
    "# Define rocket parameters\n",
    "v_e = 3000    # Effective exhaust velocity (m/s)\n",
    "m_initial = 100  # Initial total mass of the rocket (kg)\n",
    "delta_m = 0.1  # Mass flow rate (kg/s)\n",
    "\n",
    "# Define time range for integration\n",
    "t_span = (0, 10)"
   ]
  },
  {
   "cell_type": "markdown",
   "id": "75008ab2-5321-4d70-961b-3a586966add6",
   "metadata": {},
   "source": [
    "## Step 3: Modeling the Rocket Equation\n",
    "Now it's your turn to create a function that represents an ODE that represents rocket velocity as a function of time and velocity state vectors. Create a function titled `rocket_equation` that takes in state vectors `t` (time) and `v` (exhaust velocity).\n",
    "\n",
    "Which represents the following mathematical expression:\n",
    "$$\n",
    "\\Delta V = V_{escape} \\cdot \\ln \\left( \\frac{{M_{initial}}}{{M_{final}}} \\right) \\\n",
    "$$"
   ]
  },
  {
   "cell_type": "code",
   "execution_count": 2,
   "id": "905a6b0f-be04-47d7-a360-e82a51989cfc",
   "metadata": {},
   "outputs": [],
   "source": [
    "# INPUT CODE HERE"
   ]
  },
  {
   "cell_type": "markdown",
   "id": "c204716f-7ca4-4183-ac4f-54d2fb054735",
   "metadata": {},
   "source": [
    "## Step 4: Solve the Equation\n",
    "Below is the code that uses the `solve_ivp` method to solve the ODE and initializes a timeframe `t_eval` for the launch"
   ]
  },
  {
   "cell_type": "code",
   "execution_count": null,
   "id": "b58056ef-718f-472d-8185-122ec53347a9",
   "metadata": {},
   "outputs": [],
   "source": [
    "solution = solve_ivp(rocket_equation, t_span, [0], dense_output=True)\n",
    "t_eval = np.linspace(0, 10, 1000)\n",
    "v = solution.sol(t_eval)"
   ]
  },
  {
   "cell_type": "markdown",
   "id": "e804a3fa-1d0b-44de-ba2f-5dc6b9580f38",
   "metadata": {},
   "source": [
    "## Step 5: Plot the Results\n",
    "Create a matplotlib figure of dimensions `(10, 6)` that plots `t_eval` and `v[0]`. Give the plot an x-axis title, y-axis title, and a main title."
   ]
  },
  {
   "cell_type": "code",
   "execution_count": null,
   "id": "2e43c0bd-cb28-42bf-b5d1-b0b09606c0a4",
   "metadata": {},
   "outputs": [],
   "source": [
    "# INPUT CODE HERE"
   ]
  },
  {
   "cell_type": "markdown",
   "id": "12828192-1fde-415d-b89e-68f7d13e86ad",
   "metadata": {},
   "source": [
    "Great work! You have now made your own numerical solver modeling the Rocket Equation using Python!\n",
    "In the last module of this series, we will cover engineering analysis tasks for aerospace using a few new libraries."
   ]
  }
 ],
 "metadata": {
  "kernelspec": {
   "display_name": "Python 3 (ipykernel)",
   "language": "python",
   "name": "python3"
  },
  "language_info": {
   "codemirror_mode": {
    "name": "ipython",
    "version": 3
   },
   "file_extension": ".py",
   "mimetype": "text/x-python",
   "name": "python",
   "nbconvert_exporter": "python",
   "pygments_lexer": "ipython3",
   "version": "3.11.7"
  }
 },
 "nbformat": 4,
 "nbformat_minor": 5
}
