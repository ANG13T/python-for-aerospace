{
 "cells": [
  {
   "cell_type": "markdown",
   "id": "54d32b9a-b4d0-4eec-9162-425cdd682fbf",
   "metadata": {},
   "source": [
    "# Lesson 5 Exercise Solutions"
   ]
  },
  {
   "cell_type": "code",
   "execution_count": null,
   "id": "f2ce7d98-4d1f-492b-9d56-92bd2e2d3f1a",
   "metadata": {},
   "outputs": [],
   "source": []
  }
 ],
 "metadata": {
  "kernelspec": {
   "display_name": "Python 3 (ipykernel)",
   "language": "python",
   "name": "python3"
  },
  "language_info": {
   "codemirror_mode": {
    "name": "ipython",
    "version": 3
   },
   "file_extension": ".py",
   "mimetype": "text/x-python",
   "name": "python",
   "nbconvert_exporter": "python",
   "pygments_lexer": "ipython3",
   "version": "3.11.7"
  }
 },
 "nbformat": 4,
 "nbformat_minor": 5
}
