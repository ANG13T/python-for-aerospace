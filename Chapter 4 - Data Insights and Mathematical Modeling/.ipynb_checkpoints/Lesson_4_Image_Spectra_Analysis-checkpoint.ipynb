{
 "cells": [
  {
   "cell_type": "markdown",
   "id": "a887577e-821c-412c-9664-5a37cdde669c",
   "metadata": {},
   "source": [
    "# Lesson 4: Image and Spectra Analysis "
   ]
  },
  {
   "cell_type": "markdown",
   "id": "f10f0921-6c18-4420-8c75-ea1dc8207032",
   "metadata": {},
   "source": [
    "## Image Analysis for Aerospace\n",
    "Image analysis using Python plays a crucial role in both astronomy and aerospace sectors, providing valuable insights into celestial objects, spacecraft, and space missions. Here's how image analysis using Python is utilized in the sector:\n",
    "\n",
    "- **Object Detection and Classification**: Python can be used to study astronomical images to classify various astronomical objects using machine learning \n",
    "- **Remote Sensing**: Python libraries can be employed to analyze pictures of the Earth's surface from satellites \n",
    "- **Planetary Exploration**: Imagery analysis are used for a wide range of planetary science research missions to study the surfaces of planets, moons, and asteroids.\n",
    "- **Spectral Analysis and Photometry**: astronomers use spectral analysis in order to classify stars, galaxies, and other objects within space using their spectral signatures\n",
    "\n",
    "![https://encrypted-tbn0.gstatic.com/images?q=tbn:ANd9GcRCE7CwpzbZgCeMSHF2HnjwoEYmmg10YrBLAhOYhJDMW8cd59r85O7ZQ6CHpcg1kGWVJCo&usqp=CAU](https://encrypted-tbn0.gstatic.com/images?q=tbn:ANd9GcRCE7CwpzbZgCeMSHF2HnjwoEYmmg10YrBLAhOYhJDMW8cd59r85O7ZQ6CHpcg1kGWVJCo&usqp=CAU)\n",
    "\n",
    "Python can be used to identify galaxies (depicted above).\n",
    "\n",
    "[Image Source](https://core.ac.uk/download/pdf/158314025.pdf)"
   ]
  },
  {
   "cell_type": "markdown",
   "id": "c697f571-3a55-4e98-b444-082a588de7d2",
   "metadata": {},
   "source": [
    "## Photometry and Spectral Analysis\n",
    "One critical application of image analysis within aerospace is for extracting information out of spectra derived from celestial objects.\n",
    "\n",
    "Photometry is the measurement and analysis of the brightness or intensity of light emitted or reflected by celestial objects across different wavelengths. It is helpful for determining the brightness of stars, galaxies, and other astronomical objects which can be utilized to observe events such as stellar pulsations, eclipsing binaries, and supernovae.\n",
    "\n",
    "Spectroscopy refers to the process of analyzing spectra (patterns of electromagnetic wavelengths absorbed, emitted, or transmitted by material) of a celestial body to study their composition, movement, and temperature. \n",
    "\n",
    "For example, here is an image showing the spectra of the sun and a fluorescent light bulb. \n",
    "\n",
    "![https://webbtelescope.org/files/live/sites/webb/files/home/resource-gallery/articles/_images/Spectroscopy/Article1/LightBulb.jpg?t=tn1200](https://webbtelescope.org/files/live/sites/webb/files/home/resource-gallery/articles/_images/Spectroscopy/Article1/LightBulb.jpg?t=tn1200)"
   ]
  },
  {
   "cell_type": "markdown",
   "id": "8677f492-3dbe-4008-bab3-fcb5ca6a6005",
   "metadata": {},
   "source": [
    "## Tools for Image Analysis \n",
    "Python offers a variety of tools and libraries for imagery analysis. Here are some popular options:\n",
    "- **Astropy**: Astropy is a core Python package for astronomy that provides tools for handling astronomical data, including spectral data.\n",
    "- **Specutils**: Specutils is a Python package for spectroscopic data analysis including tools for spectrum plotting, continuum normalization, and spectral line identification\n",
    "- **Scikit-image**: Scikit-image is a Python library for image processing and computer vision tasks. It is helpful for analysing remote sensing images such as imagery from Earth-observing satellites"
   ]
  },
  {
   "cell_type": "markdown",
   "id": "6b617bda-24e5-4389-81c1-2088582c1fe3",
   "metadata": {},
   "source": [
    "## Ceres Spectra Analysis using SpecUtils\n",
    "To demonstrate spectra analysis, we will be analyzing a 1D FITS file of Ceres (largest object in the asteroid belt and the only dwarf planet located within the inner Solar System) sourced from the HARPS solar spectra database:\n",
    "[https://www.eso.org/sci/facilities/lasilla/instruments/harps/inst/monitoring/sun.html]([https://www.eso.org/sci/facilities/lasilla/instruments/harps/inst/monitoring/sun.html).\n",
    "\n",
    "![https://science.nasa.gov/wp-content/uploads/2018/10/pia21906-ceres-full-globe-1280x900-1.jpg](https://science.nasa.gov/wp-content/uploads/2018/10/pia21906-ceres-full-globe-1280x900-1.jpg)\n",
    "\n",
    "[Image Source](https://science.nasa.gov/dwarf-planets/ceres/facts/)\n",
    "\n",
    "We can begin by opening the FITS file representing the spectral data of Ceres:"
   ]
  },
  {
   "cell_type": "code",
   "execution_count": 9,
   "id": "d470ba10-567c-4178-8e30-2f25c92d25e7",
   "metadata": {},
   "outputs": [
    {
     "name": "stdout",
     "output_type": "stream",
     "text": [
      "Filename: ./ceres.fits\n",
      "No.    Name      Ver    Type      Cards   Dimensions   Format\n",
      "  0  PRIMARY       1 PrimaryHDU      97   (313237,)   float32   \n"
     ]
    }
   ],
   "source": [
    "from astropy.io import fits\n",
    "from specutils import Spectrum1D\n",
    "file = fits.open('./ceres.fits')\n",
    "file.info()"
   ]
  },
  {
   "cell_type": "code",
   "execution_count": 12,
   "id": "c6128a52-85b6-47f0-9515-c72631c618a5",
   "metadata": {},
   "outputs": [
    {
     "name": "stdout",
     "output_type": "stream",
     "text": [
      "SIMPLE  =                    T / file does conform to FITS standard             BITPIX  =                  -32 / number of bits per data pixel                  NAXIS   =                    1 / number of data axes                            NAXIS1  =               313237 / length of data axis 1                          EXTEND  =                    T / FITS dataset may contain extensions            END                                                                                                                                                                                                                                                                                                                                                                                                                                                                                                                                                                                                                                                                                                                                                                                                                                                                                                                                                                                                                                                                                                                                                                                                                                                                                                                                                                                                                                                                                                                                                                                                                                                                                                                                                                                                                                                                                                                                                                                                                                                                                                                                                                                                                                                                                                                                                                                                                                                                                                                                                                             \n"
     ]
    }
   ],
   "source": [
    "header = file[0].header\n",
    "print(header[:5])"
   ]
  },
  {
   "cell_type": "markdown",
   "id": "4166aacd-28d8-47c0-a09d-1dcecc7ca9f0",
   "metadata": {},
   "source": [
    "We can use the `Spectrum1D` data class provided by `specutils` in order to represent the spectra data provided by the FITS file"
   ]
  },
  {
   "cell_type": "code",
   "execution_count": 20,
   "id": "84fd5433-300b-419a-b077-214080ac91c2",
   "metadata": {},
   "outputs": [
    {
     "name": "stderr",
     "output_type": "stream",
     "text": [
      "WARNING: FITSFixedWarning: 'datfix' made the change 'Set MJD-OBS to 53877.413929 from DATE-OBS'. [astropy.wcs.wcs]\n"
     ]
    },
    {
     "data": {
      "text/plain": [
       "<Spectrum1D(flux=[0.004392802249640226 ... 0.004335229285061359]  (shape=(313237,), mean=0.00567); spectral_axis=<SpectralAxis [3781.19 3781.2  3781.21 ... 6913.53 6913.54 6913.55] Angstrom> (length=313237))>"
      ]
     },
     "execution_count": 20,
     "metadata": {},
     "output_type": "execute_result"
    }
   ],
   "source": [
    "spectra = Spectrum1D.read(file)\n",
    "spectra"
   ]
  },
  {
   "cell_type": "markdown",
   "id": "3940d358-5b4e-4352-bf93-f3bbb48c1384",
   "metadata": {},
   "source": [
    "Now, we can visualize the spectra using `matplotlib`!"
   ]
  },
  {
   "cell_type": "code",
   "execution_count": 26,
   "id": "10f798f7-2c02-4c0d-a7e0-4cd6f25f9acc",
   "metadata": {},
   "outputs": [
    {
     "data": {
      "text/plain": [
       "[<matplotlib.lines.Line2D at 0x129cc2050>]"
      ]
     },
     "execution_count": 26,
     "metadata": {},
     "output_type": "execute_result"
    },
    {
     "data": {
      "image/png": "[encoded data removed]",
      "text/plain": [
       "<Figure size 640x480 with 1 Axes>"
      ]
     },
     "metadata": {},
     "output_type": "display_data"
    }
   ],
   "source": [
    "from astropy.visualization import quantity_support\n",
    "import matplotlib.pyplot as plt\n",
    "quantity_support() # NOTE: we use quantity_support to numerically convert the values before plotting them using matplotlib \n",
    "fig, ax = plt.subplots()\n",
    "plt.title(\"1D Spectra Visualization of Ceres\")\n",
    "ax.step(spectra.spectral_axis, spectra.flux)"
   ]
  },
  {
   "cell_type": "markdown",
   "id": "f33b8cae-3fd3-451f-b52b-a72e1c386e6d",
   "metadata": {},
   "source": [
    "## Exercise 1: Visualizing the Spectra of Ganymede\n",
    "Ganymede is the largest moon of Jupiter and the largest moon in the entire solar system. In this exercise, you will be analyzing the spectra FITS data for Ganymede and visualizing it using `matplotlib` and `specutils`.\n",
    "\n",
    "![https://cdn.mos.cms.futurecdn.net/TM4enFnEmbQzdcQaHKToV3.jpg](https://cdn.mos.cms.futurecdn.net/TM4enFnEmbQzdcQaHKToV3.jpg)\n",
    "\n",
    "[Image Source](https://www.space.com/16440-ganymede-facts-about-jupiters-largest-moon.html)\n",
    "\n",
    "#### Objectives:\n",
    "- Import the FITS file for Ganymede using `fits` from `astropy.io`\n",
    "- Print out general info and header data about the FITS file\n",
    "- Use the `Spectrum1D` function from `specutils` to interpret the data\n",
    "- Plot the spectra using `matplotlib`"
   ]
  },
  {
   "cell_type": "markdown",
   "id": "b1a66199-12b6-4719-b250-2c573e83afca",
   "metadata": {},
   "source": [
    "## Satellite Imagery\n",
    "\n",
    "- https://makersportal.com/blog/2019/7/8/satellite-imagery-analysis-in-python-part-i-goes-16-data-netcdf-files-and-the-basemap-toolkit\n",
    "- https://towardsdatascience.com/satellite-imagery-analysis-using-python-9f389569862c"
   ]
  },
  {
   "cell_type": "markdown",
   "id": "ed7fd250-4db8-465e-bac2-141391e06271",
   "metadata": {},
   "source": [
    "## Exercise 2: "
   ]
  },
  {
   "cell_type": "markdown",
   "id": "7daa5094-e1d3-400d-9cfc-88ccf1bddda4",
   "metadata": {},
   "source": [
    "Great work! In this lesson, we covered the essential libraries you will need to conduct your own imagery analysis for aerospace applications. In the last lesson of this course, we will be covering how to create your own simulations!"
   ]
  }
 ],
 "metadata": {
  "kernelspec": {
   "display_name": "Python 3 (ipykernel)",
   "language": "python",
   "name": "python3"
  },
  "language_info": {
   "codemirror_mode": {
    "name": "ipython",
    "version": 3
   },
   "file_extension": ".py",
   "mimetype": "text/x-python",
   "name": "python",
   "nbconvert_exporter": "python",
   "pygments_lexer": "ipython3",
   "version": "3.11.7"
  }
 },
 "nbformat": 4,
 "nbformat_minor": 5
}
