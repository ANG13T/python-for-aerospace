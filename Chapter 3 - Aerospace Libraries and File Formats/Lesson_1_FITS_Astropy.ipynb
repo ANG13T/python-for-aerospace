{
 "cells": [
  {
   "cell_type": "markdown",
   "id": "7ab543aa-dd0d-4fdf-ae4b-f1abea2bda23",
   "metadata": {},
   "source": [
    "# Lesson 1: FITS Files and Astropy"
   ]
  },
  {
   "cell_type": "markdown",
   "id": "c84960d1-eff4-46df-b22d-712429311f8b",
   "metadata": {},
   "source": [
    "## Understanding FITS Files \n",
    "FITS (Flexible Image Transport System) files are a standardized format commonly used in aerospace and astronomy for storing various types of data, including images, tables, and metadata.\n",
    "\n",
    "FITS Files are used primarily for the following purposes:\n",
    "- Astronomical Images captured by telescopes and other instruments\n",
    "- Spectral Data which represents the intensity of electromagnetic radiation (light) as a function of wavelength or frequency\n",
    "- Tabular Data for specific measurement observations\n",
    "\n",
    "### Structural Breakdown\n",
    "-\n",
    "\n",
    "Learn more about the technical details of FITS files here: [https://fits.gsfc.nasa.gov/fits_primer.html](https://fits.gsfc.nasa.gov/fits_primer.html)"
   ]
  },
  {
   "cell_type": "markdown",
   "id": "60dd395b-4348-4cb2-87b8-b254fbf274f8",
   "metadata": {},
   "source": [
    "## Obtaining FITS data\n",
    "There are a wide range of online data sources that publish FITS files which can be downloaded readily. \n",
    "\n",
    "One notable website which we will be using is the [SSDS SkyServer Website](https://skyserver.sdss.org/).\n",
    "\n",
    "Learn more about working with FITS imagery data using SkyServer:\n",
    "\n",
    "[https://skyserver.sdss.org/dr12/en/proj/advanced/processing/retrievingdata.aspx](https://skyserver.sdss.org/dr12/en/proj/advanced/processing/retrievingdata.aspx)\n",
    "\n",
    "## Image of SSDS Camera\n",
    "\n",
    "![https://upload.wikimedia.org/wikipedia/commons/8/82/SDSS_Camera.jpg](https://upload.wikimedia.org/wikipedia/commons/8/82/SDSS_Camera.jpg)\n",
    "\n",
    "[Image Source](https://www.google.com/url?sa=i&url=https%3A%2F%2Fzh.wikipedia.org%2Fzh-cn%2FFile%3ASDSS_Camera.jpg&psig=AOvVaw3dStOO1kRMokUK6LGcdRgc&ust=1710907972475000&source=images&cd=vfe&opi=89978449&ved=0CBEQjRxqFwoTCOj-5oS7_4QDFQAAAAAdAAAAABAQ)"
   ]
  },
  {
   "cell_type": "markdown",
   "id": "b5c4ef26-9587-4968-b39a-f19b0223d89e",
   "metadata": {},
   "source": [
    "## SkyServer Data Overview \n",
    "\n",
    "Let's get used to using the SkyServer tool by analyzing a beautiful spiral galaxy: **NGC 1087**!\n",
    "\n",
    "### Object Explorer\n",
    "The object explorer within SkyServer allows you to analyze astronomical data characteristics of various celestial bodies provided by the  Sloan Digital Sky Survey. Let's take a look at the Object Explorer page for NGC 1087!\n",
    "\n",
    "[https://skyserver.sdss.org/dr12/en/tools/explore/Summary.aspx?](https://skyserver.sdss.org/dr12/en/tools/explore/Summary.aspx?)\n",
    "\n",
    "![./assets/SSDS.png](./assets/SSDS.png)\n",
    "\n",
    "#### Details Included\n",
    "\n",
    "**General Information**:\n",
    "- `Type`: Type classification of the object (star, galaxy, cosmic ray, etc.)\n",
    "- `run`: Run number\n",
    "- `rerun`: Rerun number\n",
    "- `camcol`: Camera column\n",
    "- `obj`: The object id within a field. Usually changes between reruns of the same field\n",
    "- `SDSS Object ID`:\n",
    "- `RA, Dec (Decimal)`:\n",
    "- `RA, Dec (Sexagesimal)`:\n",
    "- `Galactic Coordinate (l, b)`:\n",
    "\n",
    "**Imaging Flags**:\n",
    "\n",
    "\n",
    "**Magnitudes**:\n",
    "- `u`:\n",
    "- `g`:\n",
    "- `r`:\n",
    "- `i`:\n",
    "- `z`:\n",
    "\n",
    "**Magnitudes Uncertainties**:\n",
    "- dkjjkd\n",
    "\n",
    "**Misc.**:\n",
    "- `Image MJD`:\n",
    "- `mode`:\n",
    "- `Other observations`:\n",
    "- `parentID`:\n",
    "- `nChild`:\n",
    "- `extinction_r`:\n",
    "- `PetroRad_r (arcsec)`:\n",
    "- `Mjd-Date`:\n",
    "- `photoZ (KD-tree method)`:\n",
    "- `Galaxy Zoo 1 morphology`:\n",
    "\n",
    "For more info about data fields, refer to: [https://skyserver.sdss.org/dr12/en/help/browser/browser.aspx?cmd=description+Field+U#&&history=description+Field+U](https://skyserver.sdss.org/dr12/en/help/browser/browser.aspx?cmd=description+Field+U#&&history=description+Field+U)\n",
    "\n",
    "### Image Analyzer \n",
    "The image analyzer within SkyServer displays a visual output of a location within the universe provided its coordinates.\n",
    "Let's look at an image of NGC 1087:\n",
    "\n",
    "[https://skyserver.sdss.org/dr12/en/tools/chart/navi.aspx?ra=197.614455642896&dec=18.438168853724&scale=0.2](https://skyserver.sdss.org/dr12/en/tools/chart/navi.aspx?ra=197.614455642896&dec=18.438168853724&scale=0.2)\n",
    "\n",
    "![./assets/SSDS_2.png](./assets/SSDS_2.png)\n",
    "\n",
    "#### Details Included\n",
    "- "
   ]
  },
  {
   "cell_type": "markdown",
   "id": "2ef231a6-73aa-4d55-83ff-9f62cda2f96a",
   "metadata": {},
   "source": [
    "## Astropy"
   ]
  },
  {
   "cell_type": "markdown",
   "id": "c9fc4b90-a7b4-4fe3-a5aa-562756634672",
   "metadata": {},
   "source": [
    "## Reading FITS Files  "
   ]
  },
  {
   "cell_type": "markdown",
   "id": "3b606a5a-e5ac-47b7-8588-2c21ddd8c4d9",
   "metadata": {},
   "source": [
    "## Visualizing FITS Files "
   ]
  },
  {
   "cell_type": "markdown",
   "id": "9873b6e2-1b17-414d-a2da-0b6ec75ddf58",
   "metadata": {},
   "source": [
    "## Understanding FITS Header Information "
   ]
  },
  {
   "cell_type": "markdown",
   "id": "b311ee3b-3750-439e-b505-5ece6fa5b18d",
   "metadata": {},
   "source": [
    "## Exercise 1: Visualizing Galaxy __"
   ]
  },
  {
   "cell_type": "markdown",
   "id": "18d014d2-520e-4587-8f47-a8108c16d50f",
   "metadata": {},
   "source": [
    "Good job! You learned the inner workings of the FITS file format and how to visualize them using Astropy!\n",
    "In the next lesson, we will be tinkering with another standardized file format within the space industry called SPICE!\n",
    "Get ready! Things are about to get SPICEY 🌶️!"
   ]
  }
 ],
 "metadata": {
  "kernelspec": {
   "display_name": "Python 3 (ipykernel)",
   "language": "python",
   "name": "python3"
  },
  "language_info": {
   "codemirror_mode": {
    "name": "ipython",
    "version": 3
   },
   "file_extension": ".py",
   "mimetype": "text/x-python",
   "name": "python",
   "nbconvert_exporter": "python",
   "pygments_lexer": "ipython3",
   "version": "3.11.7"
  }
 },
 "nbformat": 4,
 "nbformat_minor": 5
}
