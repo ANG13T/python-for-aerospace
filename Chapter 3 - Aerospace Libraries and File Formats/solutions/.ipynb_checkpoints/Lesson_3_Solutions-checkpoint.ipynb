{
 "cells": [
  {
   "cell_type": "markdown",
   "id": "af8e77ef-bf3f-4262-87f5-0f51624cda90",
   "metadata": {},
   "source": [
    "# Lesson 3 Exercise Solutions"
   ]
  },
  {
   "cell_type": "markdown",
   "id": "c75576c4-4978-400a-b033-cdeb94dba5e1",
   "metadata": {},
   "source": [
    "## Exercise 1: Obtaining JPL Horizons Data \n",
    "\n",
    "#### Objectives:\n",
    "- Import the Horizons function within `astroquery`\n",
    "- Obtain ephemerides for a comet named Eros (id = 433) relative to the sun (id = 500@10)\n",
    "- Start at `2020-02-10` and end at `2022-12-31` with `1 year` step\n",
    "- Print out the ephemerides data"
   ]
  },
  {
   "cell_type": "code",
   "execution_count": 2,
   "id": "4e035229-df6e-49ac-bf4f-88d13b84dbb2",
   "metadata": {},
   "outputs": [],
   "source": [
    "from astroquery.jplhorizons import Horizons"
   ]
  },
  {
   "cell_type": "code",
   "execution_count": 3,
   "id": "c19c0baf-bd33-4604-a490-391619418fb2",
   "metadata": {},
   "outputs": [
    {
     "name": "stdout",
     "output_type": "stream",
     "text": [
      "    targetname        datetime_str   datetime_jd   H    G   solar_presence interfering_body     RA    ... SBand_3sigma XBand_3sigma DoppDelay_3sigma true_anom hour_angle alpha_true  PABLon   PABLat \n",
      "       ---                ---             d       mag  ---       ---             ---           deg    ...      Hz           Hz             s            deg        h         deg       deg      deg   \n",
      "------------------ ----------------- ----------- ----- ---- -------------- ---------------- --------- ... ------------ ------------ ---------------- --------- ---------- ---------- -------- --------\n",
      "433 Eros (A898 PA) 2020-Feb-10 00:00   2458889.5 10.41 0.46                                 323.21021 ...         0.01         0.02          3.5e-05  199.0594         --     0.0038 321.9315   3.3165\n",
      "433 Eros (A898 PA) 2021-Feb-10 00:00   2459255.5 10.41 0.46                                 194.96422 ...         0.01         0.05          2.1e-05   77.7515         --     0.0051 200.6781 -10.5328\n",
      "433 Eros (A898 PA) 2022-Feb-10 00:00   2459620.5 10.41 0.46                                  354.4971 ...         0.01         0.03          2.3e-05  235.0981         --     0.0042 357.8054   8.7422\n"
     ]
    }
   ],
   "source": [
    "obj = Horizons(id='433', location='500@10', epochs={'start':'2020-02-10', 'stop':'2022-12-31','step':'1y'})\n",
    "eph = obj.ephemerides()\n",
    "print(eph)"
   ]
  }
 ],
 "metadata": {
  "kernelspec": {
   "display_name": "Python 3 (ipykernel)",
   "language": "python",
   "name": "python3"
  },
  "language_info": {
   "codemirror_mode": {
    "name": "ipython",
    "version": 3
   },
   "file_extension": ".py",
   "mimetype": "text/x-python",
   "name": "python",
   "nbconvert_exporter": "python",
   "pygments_lexer": "ipython3",
   "version": "3.11.7"
  }
 },
 "nbformat": 4,
 "nbformat_minor": 5
}
