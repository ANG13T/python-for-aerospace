{
 "cells": [
  {
   "cell_type": "markdown",
   "id": "2f7fac99-4f3b-493b-b10d-8bf812be1284",
   "metadata": {},
   "source": [
    "# Lesson 4 Exercise Solutions"
   ]
  },
  {
   "cell_type": "markdown",
   "id": "c97da6bf-36c2-4a01-8653-9ede75ddc6ec",
   "metadata": {},
   "source": [
    "## Exercise 1: Photutils for Aperture Photometry \n",
    "\n",
    "#### Objectives\n",
    "- Use the `CircularAperture` class from `photutils` to conduct Aperature Photometry\n",
    "- Find relevant details about the photometry including the area, center coordinates, etc\n",
    "- Make a visual plot of the aperture using `matplotlib`"
   ]
  },
  {
   "cell_type": "markdown",
   "id": "d08c5fb9-c40d-41ae-be41-0c90aa6357e4",
   "metadata": {},
   "source": [
    "## Step 1: Import Libraries\n",
    "\n",
    "Import the following:\n",
    "- `matplotlib.pyplot`\n",
    "- `make_4gaussians_image` from `photutils.datasets`\n",
    "- `CircularAperture` and `ApertureStats` from `photutils`"
   ]
  },
  {
   "cell_type": "code",
   "execution_count": null,
   "id": "e4f739c5-f768-455d-bc55-bbe698c16d57",
   "metadata": {},
   "outputs": [],
   "source": [
    "import matplotlib.pyplot as plt\n",
    "from photutils.datasets import make_4gaussians_image\n",
    "from photutils import CircularAperture, ApertureStats"
   ]
  },
  {
   "cell_type": "markdown",
   "id": "7632b159-cf1f-44fa-b879-9e8c8f070f0c",
   "metadata": {},
   "source": [
    "## Step 2: Initialize Dataset\n",
    "Invoke the `make_4gaussians_image` function and save it into a variable titled `data`"
   ]
  },
  {
   "cell_type": "code",
   "execution_count": null,
   "id": "914d408b-bf9f-4ea5-bafb-ac9f563035d9",
   "metadata": {},
   "outputs": [],
   "source": [
    "data = make_4gaussians_image()"
   ]
  },
  {
   "cell_type": "markdown",
   "id": "7652920f-48be-4f42-bfae-a5f179d2164f",
   "metadata": {},
   "source": [
    "## Step 3: Initialize CircularAperture\n",
    "- Define a `CircularAperture` positioned at (150px, 25px) with a radius of 8px to a variable titled `aperature`\n",
    "- Read more about `CircularAperture` here: [https://photutils.readthedocs.io/en/stable/api/photutils.aperture.CircularAperture.html](https://photutils.readthedocs.io/en/stable/api/photutils.aperture.CircularAperture.html)\n",
    "- Define `statistics` variable and set it equal to `ApertureStats` containing `data` and `aperature`.\n",
    "- Read more about `ApertureStats` here: [https://photutils.readthedocs.io/en/stable/api/photutils.aperture.ApertureStats.html](https://photutils.readthedocs.io/en/stable/api/photutils.aperture.ApertureStats.html)"
   ]
  },
  {
   "cell_type": "code",
   "execution_count": null,
   "id": "72acc1e7-b70c-4e32-8456-e84fef3d4ca2",
   "metadata": {},
   "outputs": [],
   "source": [
    "# Create circular aperture\n",
    "aperature = CircularAperture((150, 25), 8)\n",
    "\n",
    "# Obtain aperture statistics\n",
    "statistics = ApertureStats(data, aperature)"
   ]
  },
  {
   "cell_type": "markdown",
   "id": "31e75d13-1d79-493e-819f-64286035226c",
   "metadata": {},
   "source": [
    "## Step 4: Visualize using Matplotlib\n",
    "- Create a 8 by 8 figure using `matplotlib`\n",
    "- Show the `data` using `plt.imshow` with a `cmap` parameter set to `gray`\n",
    "- Plot `aperature` using the code `aperature.plot(color='blue', lw=1.5)`\n",
    "- Add a colorbar to the plot with a label titled \"Counts\"\n",
    "- Add a title to the plot of \"Circular Aperture Image\"\n",
    "- Display the plot!"
   ]
  },
  {
   "cell_type": "code",
   "execution_count": null,
   "id": "763b96a3-d6a1-4c1d-b1ff-fd7efa9726ce",
   "metadata": {},
   "outputs": [],
   "source": [
    "plt.figure(figsize=(8, 8))\n",
    "plt.imshow(data, cmap='gray')\n",
    "aperature.plot(color='blue', lw=1.5)\n",
    "plt.colorbar(label='Counts')\n",
    "plt.title('Circular Aperture Image')\n",
    "plt.show()"
   ]
  },
  {
   "cell_type": "markdown",
   "id": "08993823-1a85-4318-9716-02beeac0a45f",
   "metadata": {},
   "source": [
    "## Step 5: Get Details about ApertureStats\n",
    "- Print out the following properties of `statistics`:\n",
    "1.  `centroid`: coordinate of the centroid (center of mass)\n",
    "2.  `bbox`: bounding box of aperature\n",
    "3.  `sum`: sum of the unmasked data values within the aperture\n",
    "4.  `std`: standard deviation of the unmasked pixel values within the aperture\n",
    "5.  `n_apertures`: number of positions in the input aperture\n",
    "6.  `median`: median of the unmasked pixel values within the aperture\n",
    "7.  `eccentricity`: eccentricity of the 2D Gaussian function that has the same second-order moments as the source"
   ]
  },
  {
   "cell_type": "code",
   "execution_count": null,
   "id": "0921c348-f736-43f8-a0c5-a52370d59056",
   "metadata": {},
   "outputs": [],
   "source": [
    "print(\"Centroid:\", statistics.centroid)\n",
    "print(\"Bounding Box:\", statistics.bbox)\n",
    "print(\"Sum:\", statistics.sum)\n",
    "print(\"Standard Deviation:\", statistics.std)\n",
    "print(\"Number of Aperatures:\", statistics.n_apertures)\n",
    "print(\"Median:\", statistics.median)\n",
    "print(\"Eccentricity:\", statistics.eccentricity)"
   ]
  }
 ],
 "metadata": {
  "kernelspec": {
   "display_name": "Python 3 (ipykernel)",
   "language": "python",
   "name": "python3"
  },
  "language_info": {
   "codemirror_mode": {
    "name": "ipython",
    "version": 3
   },
   "file_extension": ".py",
   "mimetype": "text/x-python",
   "name": "python",
   "nbconvert_exporter": "python",
   "pygments_lexer": "ipython3",
   "version": "3.11.7"
  }
 },
 "nbformat": 4,
 "nbformat_minor": 5
}
