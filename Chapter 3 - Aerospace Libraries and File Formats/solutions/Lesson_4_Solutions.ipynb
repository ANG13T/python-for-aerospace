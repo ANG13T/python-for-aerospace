{
 "cells": [
  {
   "cell_type": "markdown",
   "id": "2f7fac99-4f3b-493b-b10d-8bf812be1284",
   "metadata": {},
   "source": [
    "# Lesson 4 Exercise Solutions"
   ]
  },
  {
   "cell_type": "markdown",
   "id": "c97da6bf-36c2-4a01-8653-9ede75ddc6ec",
   "metadata": {},
   "source": [
    "## Exercise 1: Photutils for Aperture Photometry \n",
    "\n",
    "#### Objectives\n",
    "- Use the `CircularAperture` class from `photutils` to conduct Aperature Photometry\n",
    "- Find relevant details about the photometry including the area, center coordinates, etc\n",
    "- Make a visual plot of the aperture using `matplotlib`"
   ]
  },
  {
   "cell_type": "markdown",
   "id": "d08c5fb9-c40d-41ae-be41-0c90aa6357e4",
   "metadata": {},
   "source": [
    "## Step 1: Import Libraries\n",
    "\n",
    "Import the following:\n",
    "- `matplotlib.pyplot`\n",
    "- `make_4gaussians_image` from `photutils.datasets`\n",
    "- `CircularAperture` and `ApertureStats` from `photutils`"
   ]
  },
  {
   "cell_type": "code",
   "execution_count": null,
   "id": "e4f739c5-f768-455d-bc55-bbe698c16d57",
   "metadata": {},
   "outputs": [],
   "source": [
    "import matplotlib.pyplot as plt\n",
    "from photutils.datasets import make_4gaussians_image\n",
    "from photutils import CircularAperture, ApertureStats"
   ]
  },
  {
   "cell_type": "markdown",
   "id": "7632b159-cf1f-44fa-b879-9e8c8f070f0c",
   "metadata": {},
   "source": [
    "## Step 2: Initialize Dataset\n",
    "Invoke the `make_4gaussians_image` function and save it into a variable titled `data`"
   ]
  },
  {
   "cell_type": "code",
   "execution_count": null,
   "id": "914d408b-bf9f-4ea5-bafb-ac9f563035d9",
   "metadata": {},
   "outputs": [],
   "source": [
    "data = make_4gaussians_image()"
   ]
  },
  {
   "cell_type": "markdown",
   "id": "7652920f-48be-4f42-bfae-a5f179d2164f",
   "metadata": {},
   "source": [
    "## Step 3: Initialize CircularAperture\n",
    "- Define a `CircularAperture` positioned at (150px, 25px) with a radius of 8px to a variable titled `aperature`\n",
    "- Read more about `CircularAperture` here: [https://photutils.readthedocs.io/en/stable/api/photutils.aperture.CircularAperture.html](https://photutils.readthedocs.io/en/stable/api/photutils.aperture.CircularAperture.html)\n",
    "- Define `statistics` variable and set it equal to `ApertureStats` containing `data` and `aperature`.\n",
    "- Read more about `ApertureStats` here: [https://photutils.readthedocs.io/en/stable/api/photutils.aperture.ApertureStats.html](https://photutils.readthedocs.io/en/stable/api/photutils.aperture.ApertureStats.html)"
   ]
  },
  {
   "cell_type": "code",
   "execution_count": null,
   "id": "72acc1e7-b70c-4e32-8456-e84fef3d4ca2",
   "metadata": {},
   "outputs": [],
   "source": [
    "# Create circular aperture\n",
    "aperature = CircularAperture((150, 25), 8)\n",
    "\n",
    "# Obtain aperture statistics\n",
    "statistics = ApertureStats(data, aperature)"
   ]
  },
  {
   "cell_type": "markdown",
   "id": "31e75d13-1d79-493e-819f-64286035226c",
   "metadata": {},
   "source": [
    "## Step 4: Visualize using Matplotlib\n",
    "- Create a 8 by 8 figure using `matplotlib`\n",
    "- Show the `data` using `plt.imshow` with a `cmap` parameter set to `gray`\n",
    "- Plot `aperature` using the code `aperature.plot(color='blue', lw=1.5)`\n",
    "- Add a colorbar to the plot with a label titled \"Counts\"\n",
    "- Add a title to the plot of \"Circular Aperture Image\"\n",
    "- Display the plot!"
   ]
  },
  {
   "cell_type": "code",
   "execution_count": null,
   "id": "763b96a3-d6a1-4c1d-b1ff-fd7efa9726ce",
   "metadata": {},
   "outputs": [],
   "source": [
    "plt.figure(figsize=(8, 8))\n",
    "plt.imshow(data, cmap='gray')\n",
    "aperature.plot(color='blue', lw=1.5)\n",
    "plt.colorbar(label='Counts')\n",
    "plt.title('Circular Aperture Image')\n",
    "plt.show()"
   ]
  },
  {
   "cell_type": "markdown",
   "id": "08993823-1a85-4318-9716-02beeac0a45f",
   "metadata": {},
   "source": [
    "## Step 5: Get Details about ApertureStats\n",
    "- Print out the following properties of `statistics`:\n",
    "1.  `centroid`: coordinate of the centroid (center of mass)\n",
    "2.  `bbox`: bounding box of aperature\n",
    "3.  `sum`: sum of the unmasked data values within the aperture\n",
    "4.  `std`: standard deviation of the unmasked pixel values within the aperture\n",
    "5.  `n_apertures`: number of positions in the input aperture\n",
    "6.  `median`: median of the unmasked pixel values within the aperture\n",
    "7.  `eccentricity`: eccentricity of the 2D Gaussian function that has the same second-order moments as the source"
   ]
  },
  {
   "cell_type": "code",
   "execution_count": null,
   "id": "0921c348-f736-43f8-a0c5-a52370d59056",
   "metadata": {},
   "outputs": [],
   "source": [
    "print(\"Centroid:\", statistics.centroid)\n",
    "print(\"Bounding Box:\", statistics.bbox)\n",
    "print(\"Sum:\", statistics.sum)\n",
    "print(\"Standard Deviation:\", statistics.std)\n",
    "print(\"Number of Aperatures:\", statistics.n_apertures)\n",
    "print(\"Median:\", statistics.median)\n",
    "print(\"Eccentricity:\", statistics.eccentricity)"
   ]
  },
  {
   "cell_type": "markdown",
   "id": "141549b7-47ed-4158-8f45-8c9b6240edf5",
   "metadata": {},
   "source": [
    "## Exercise 2: Continuum Fitting with Specutils\n",
    "\n",
    "#### Objectives:\n",
    "- Create a generic Continuum Fitting using `fit_generic_continuum` from `specutils`\n",
    "- Visualize the fitting using `matplotlib`"
   ]
  },
  {
   "cell_type": "markdown",
   "id": "5fb430cd-d5e9-46b2-a39e-26798c717fb8",
   "metadata": {},
   "source": [
    "## Step 1: Import Libraries\n",
    "\n",
    "Import the following:\n",
    "- `numpy`\n",
    "- `matplotlib.pyplot`\n",
    "- `models` from `astropy.modeling`\n",
    "- `units` from `astropy`\n",
    "- `Spectrum1D` and `SpectralRegion` from `specutils.spectra`\n",
    "- `fit_generic_continuum` from `specutils.fitting`"
   ]
  },
  {
   "cell_type": "code",
   "execution_count": 70,
   "id": "11bb08a5-37c7-4960-ab8c-444740ab5cb0",
   "metadata": {},
   "outputs": [],
   "source": [
    "import numpy as np\n",
    "import matplotlib.pyplot as plt\n",
    "from astropy.modeling import models\n",
    "from astropy import units as u\n",
    "from specutils.spectra import Spectrum1D, SpectralRegion\n",
    "from specutils.fitting import fit_generic_continuum"
   ]
  },
  {
   "cell_type": "markdown",
   "id": "337df19b-27de-4ba8-bc35-ce60202616f4",
   "metadata": {},
   "source": [
    "## Step 2: Generate Random Spectra"
   ]
  },
  {
   "cell_type": "code",
   "execution_count": 78,
   "id": "85a403f2-65c7-4387-8059-a6c216230631",
   "metadata": {},
   "outputs": [],
   "source": [
    "np.random.seed(0)\n",
    "x = np.linspace(0., 10., 200)\n",
    "y = 3 * np.exp(-0.5 * (x- 6.3)**2 / 0.8**2)\n",
    "y += np.random.normal(0., 0.2, x.shape)\n",
    "spectra = Spectrum1D(flux=y*u.Jy, spectral_axis=x*u.um)"
   ]
  },
  {
   "cell_type": "markdown",
   "id": "e42a742d-8efc-4ca0-bf4c-f441328afa6d",
   "metadata": {},
   "source": [
    "## Step 3: Create a Continuum Fitting "
   ]
  },
  {
   "cell_type": "code",
   "execution_count": 79,
   "id": "ea27fcb7-0be8-42b9-b0c1-7ed59165bc3e",
   "metadata": {},
   "outputs": [],
   "source": [
    "y_continuum = 3 * np.exp(-0.5 * (x - 6.3)**2 / 0.8**2)\n",
    "y += y_continuum"
   ]
  },
  {
   "cell_type": "markdown",
   "id": "560421a0-69fd-4e6a-90d3-86a6d984136e",
   "metadata": {},
   "source": [
    "## Step 4: Create a Model Spectra using Spectrum1D\n",
    "- Define a `Spectrum1D` to variable named `spectra` with the following parameter configurations:\n",
    "1. `flux=y*u.Jy`\n",
    "2. `spectral_axis=x*u.um`\n",
    "- Define `continuum_fit` and set it to the `fit_generic_continuum` output of `spectra`\n",
    "- Define `y_continuum_fit` and set it to `g1_fit` of `x*u.um`"
   ]
  },
  {
   "cell_type": "code",
   "execution_count": 83,
   "id": "eadc6665-9f78-4212-9cab-763534ad8996",
   "metadata": {},
   "outputs": [],
   "source": [
    "spectra = Spectrum1D(flux=y*u.Jy, spectral_axis=x*u.um)\n",
    "continuum_fit = fit_generic_continuum(spectra)\n",
    "y_continuum_fit = g1_fit(x*u.um)"
   ]
  },
  {
   "cell_type": "markdown",
   "id": "03cd627b-0c42-4b64-8ca2-205074dbbe79",
   "metadata": {},
   "source": [
    "## Step 5: Visualize a Spectra using matplotlib\n",
    "- Create a subplot using `matplotlib`\n",
    "- Plot the random spectra `x, y`\n",
    "- Plot the continuum fitting `x, y_continuum_fit`\n",
    "- Set the title of the plot to be \"Continuum Fitting\"\n",
    "- Display the plot with grid settings!"
   ]
  },
  {
   "cell_type": "code",
   "execution_count": 84,
   "id": "1286cb6b-5092-47fb-9d21-7c34281d8848",
   "metadata": {},
   "outputs": [
    {
     "data": {
      "image/png": "[encoded data removed]",
      "text/plain": [
       "<Figure size 640x480 with 1 Axes>"
      ]
     },
     "metadata": {},
     "output_type": "display_data"
    }
   ],
   "source": [
    "f, ax = plt.subplots()  \n",
    "ax.plot(x, y)  \n",
    "ax.plot(x, y_continuum_fit)  \n",
    "ax.set_title(\"Continuum Fitting\")  \n",
    "ax.grid(True)\n",
    "plt.show()"
   ]
  }
 ],
 "metadata": {
  "kernelspec": {
   "display_name": "Python 3 (ipykernel)",
   "language": "python",
   "name": "python3"
  },
  "language_info": {
   "codemirror_mode": {
    "name": "ipython",
    "version": 3
   },
   "file_extension": ".py",
   "mimetype": "text/x-python",
   "name": "python",
   "nbconvert_exporter": "python",
   "pygments_lexer": "ipython3",
   "version": "3.11.7"
  }
 },
 "nbformat": 4,
 "nbformat_minor": 5
}
