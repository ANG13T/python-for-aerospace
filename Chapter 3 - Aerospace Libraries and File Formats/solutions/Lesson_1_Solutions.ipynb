{
 "cells": [
  {
   "cell_type": "markdown",
   "id": "e3935dd4-a962-492e-b993-f291ae444bb5",
   "metadata": {},
   "source": [
    "# Lesson 1 Exercise Solutions"
   ]
  },
  {
   "cell_type": "code",
   "execution_count": null,
   "id": "7c69ebc9-01ee-429e-9d17-f5371734d6ac",
   "metadata": {},
   "outputs": [],
   "source": []
  }
 ],
 "metadata": {
  "kernelspec": {
   "display_name": "Python 3 (ipykernel)",
   "language": "python",
   "name": "python3"
  },
  "language_info": {
   "codemirror_mode": {
    "name": "ipython",
    "version": 3
   },
   "file_extension": ".py",
   "mimetype": "text/x-python",
   "name": "python",
   "nbconvert_exporter": "python",
   "pygments_lexer": "ipython3",
   "version": "3.11.7"
  }
 },
 "nbformat": 4,
 "nbformat_minor": 5
}
