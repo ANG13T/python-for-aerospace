{
 "cells": [
  {
   "cell_type": "markdown",
   "id": "67dbc626-cc55-4f06-ba19-b46e287f2251",
   "metadata": {},
   "source": [
    "# Lesson 5: Exploring Datasets"
   ]
  },
  {
   "cell_type": "markdown",
   "id": "3fb9613c-2124-4861-850c-5da6f4919e3c",
   "metadata": {},
   "source": [
    "## Reliable Datasets for Astronomy and Aerospace\n",
    "There are many sources for reliable data sources for aerospace specific applications. In order to vet these data sources, ensure that they are reputable and have been validated by experts and organizations in the field. Some reliable datasets you can use include:\n",
    "\n",
    "- [Astrophysics Data Facility](https://www.gsfc.nasa.gov/adf/adf.html)\n",
    "- [NASA Extragalactic Database (NED)](https://ned.ipac.caltech.edu/)\n",
    "- [Astronomical Data Center](http://adc.gsfc.nasa.gov/)\n",
    "- [SIMBAD](https://simbad.u-strasbg.fr/simbad/)\n",
    "- [JPL HORIZONS System](https://ssd.jpl.nasa.gov/horizons/)\n",
    "- [NASA Planetary Data System](https://solarsystem.nasa.gov/stardust/home/index.html)\n",
    "\n",
    "To learn more about other reliable datasets you can use for your aerospace programs, refer to the following links:\n",
    "\n",
    "[https://guides.lib.calpoly.edu/c.php?g=261997&p=1749394](https://guides.lib.calpoly.edu/c.php?g=261997&p=1749394)\n",
    "\n",
    "[http://tdc-www.harvard.edu/astro.data.html](http://tdc-www.harvard.edu/astro.data.html)"
   ]
  },
  {
   "cell_type": "markdown",
   "id": "4a58291c-1c40-4e7b-93e1-f53ff95c41c1",
   "metadata": {},
   "source": [
    "## What is astroquery?\n",
    "astroquery is a Python package that provides access to online astronomical databases and archives, allowing users to query and retrieve astronomical data from various sources.\n",
    "\n",
    "You can learn more about it here:\n",
    "[https://astroquery.readthedocs.io/en/latest/](https://astroquery.readthedocs.io/en/latest/)"
   ]
  },
  {
   "cell_type": "markdown",
   "id": "4e255fca-ea7b-4151-9dd4-e6563788fc8f",
   "metadata": {},
   "source": [
    "## Using astroquery to get ESASky data\n",
    "Let's use an example and obtain data from the `ESASky` database. The following code imports the dataset and prints out the available list of catalogs:"
   ]
  },
  {
   "cell_type": "code",
   "execution_count": 23,
   "id": "60faca38-f7a3-44ea-af82-c5428bbf00da",
   "metadata": {},
   "outputs": [
    {
     "name": "stdout",
     "output_type": "stream",
     "text": [
      "['LAMOST_LRS', 'LAMOST_MRS', 'AllWise', 'Spitzer', 'AKARI-IRC-SC', 'TwoMASS', 'INTEGRAL', 'CHANDRA-SC2', 'XMM-EPIC-STACK', 'XMM-EPIC', 'XMM-OM', 'XMM-SLEW', 'Tycho-2', 'Gaia-DR3', 'Hipparcos-2', 'HSC', 'Herschel-HPPSC-070', 'Herschel-HPPSC-100', 'Herschel-HPPSC-160', 'Herschel-SPSC-250', 'Herschel-SPSC-350', 'Herschel-SPSC-500', 'Planck-PGCC', 'Planck-PCCS2E-HFI', 'Planck-PCCS2-HFI', 'Planck-PCCS2-LFI', 'Planck-PSZ2', 'Icecube', 'Fermi_4FGL-DR2', 'Fermi_3FHL', 'Fermi_4LAC-DR2', '2WHSP', '2RXS', 'OU_Blazars', 'eROSITA-eFEDS-hard', 'eROSITA-eFEDS-main', 'eROSITA-etaCha-hard', 'eROSITA-etaCha-main']\n"
     ]
    }
   ],
   "source": [
    "from astroquery.esasky import ESASky\n",
    "import astropy.units as u\n",
    "\n",
    "catalog_list = ESASky.list_catalogs()\n",
    "print(catalog_list)"
   ]
  },
  {
   "cell_type": "markdown",
   "id": "9aff9306-4f15-4d3e-9976-b7448f042e2e",
   "metadata": {},
   "source": [
    "You can also see the list of all available mission maps by using the method `list_maps`:"
   ]
  },
  {
   "cell_type": "code",
   "execution_count": 21,
   "id": "9e874296-ef0f-4624-82a6-6aedafb03f38",
   "metadata": {},
   "outputs": [
    {
     "name": "stdout",
     "output_type": "stream",
     "text": [
      "['INTEGRAL', 'XMM', 'Chandra', 'SUZAKU', 'XMM-OM-OPTICAL', 'XMM-OM-UV', 'HST-UV', 'HST-OPTICAL', 'HST-IR', 'ISO-IR', 'Herschel', 'AKARI', 'JWST-MID-IR', 'JWST-NEAR-IR', 'Spitzer', 'ALMA', 'eROSITA']\n"
     ]
    }
   ],
   "source": [
    "maps_list = ESASky.list_maps()\n",
    "print(maps_list)"
   ]
  },
  {
   "cell_type": "markdown",
   "id": "d028e0ba-1b46-4835-a811-dc6ddbe26b8a",
   "metadata": {},
   "source": [
    "Also, you can obtain maps for a specified region using `query_region_maps`:"
   ]
  },
  {
   "cell_type": "code",
   "execution_count": 24,
   "id": "32cff009-8a84-44bb-ae83-cd73755861ec",
   "metadata": {},
   "outputs": [
    {
     "name": "stdout",
     "output_type": "stream",
     "text": [
      "TableList with 13 tables:\n",
      "\t'0:INTEGRAL' with 18 column(s) and 1 row(s) \n",
      "\t'1:XMM' with 15 column(s) and 14 row(s) \n",
      "\t'2:CHANDRA' with 53 column(s) and 28 row(s) \n",
      "\t'3:XMM-OM-OPTICAL' with 17 column(s) and 18 row(s) \n",
      "\t'4:XMM-OM-UV' with 17 column(s) and 19 row(s) \n",
      "\t'5:HST-UV' with 17 column(s) and 221 row(s) \n",
      "\t'6:HST-OPTICAL' with 17 column(s) and 1607 row(s) \n",
      "\t'7:HST-IR' with 17 column(s) and 513 row(s) \n",
      "\t'8:ISO-IR' with 18 column(s) and 15 row(s) \n",
      "\t'9:HERSCHEL' with 15 column(s) and 25 row(s) \n",
      "\t'10:AKARI' with 11 column(s) and 4 row(s) \n",
      "\t'11:JWST-MID-IR' with 36 column(s) and 2 row(s) \n",
      "\t'12:SPITZER' with 14 column(s) and 4 row(s) \n"
     ]
    }
   ],
   "source": [
    "region_maps = ESASky.query_region_maps(position=\"M51\", radius=10 * u.arcmin, missions=\"all\")\n",
    "print(region_maps)"
   ]
  },
  {
   "cell_type": "markdown",
   "id": "3a4dc29a-1155-4b0f-861c-5bdbf0d3b3d1",
   "metadata": {},
   "source": [
    "Additionally, you can fetch spectral data using `get_spectra`"
   ]
  },
  {
   "cell_type": "code",
   "execution_count": null,
   "id": "59c1b430-fed1-4539-97dd-35b1489fe15b",
   "metadata": {},
   "outputs": [
    {
     "name": "stdout",
     "output_type": "stream",
     "text": [
      "INFO: Starting download of HERSCHEL data. (2 files) [astroquery.esasky.core]\n"
     ]
    }
   ],
   "source": [
    "spectra = ESASky.get_spectra(position=\"Gaia DR3 4512810408088819712\", radius=\"6.52 arcmin\",\n",
    "                             missions=['Herschel', 'XMM-NEWTON'])\n",
    "print(spectra)"
   ]
  },
  {
   "cell_type": "markdown",
   "id": "6d565037-841f-4bdd-ab12-0c6cfcc94d0a",
   "metadata": {},
   "source": [
    "## Exercise 1: Gather data from the ESA JWST Archive\n",
    "\n",
    "#### Objectives:\n",
    "- Read over the documentation about the ESA JWST Archive dataset for astroquery [here](https://astroquery.readthedocs.io/en/latest/esa/jwst/jwst.html)\n",
    "- Print out the status of JWST TAP\n",
    "- Query the following region using `SkyCoord` with Astropy with the details:\n",
    "   1. `ra` = 44\n",
    "   2. `dec` = -10\n",
    "   3. `unit` = (u.degree, u.degree)\n",
    "   4. `frame` = 'icrs'\n",
    "  \n",
    "- Retrieve and print data products for the Observation ID `jw01043010001_02101_00013_mirimage`"
   ]
  },
  {
   "cell_type": "markdown",
   "id": "3fbc7cc4-957a-47bf-8722-b576572b1649",
   "metadata": {},
   "source": [
    "Congratulations! You made it to the end of module 3! In the next module, we will be diving more into mathematical concepts and how w can apply them to create engaging data models."
   ]
  }
 ],
 "metadata": {
  "kernelspec": {
   "display_name": "Python 3 (ipykernel)",
   "language": "python",
   "name": "python3"
  },
  "language_info": {
   "codemirror_mode": {
    "name": "ipython",
    "version": 3
   },
   "file_extension": ".py",
   "mimetype": "text/x-python",
   "name": "python",
   "nbconvert_exporter": "python",
   "pygments_lexer": "ipython3",
   "version": "3.11.7"
  }
 },
 "nbformat": 4,
 "nbformat_minor": 5
}
