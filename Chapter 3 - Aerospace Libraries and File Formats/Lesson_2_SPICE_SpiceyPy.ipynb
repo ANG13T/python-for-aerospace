{
 "cells": [
  {
   "cell_type": "markdown",
   "id": "65556b1d-f404-4e12-b916-abb20e0b86dc",
   "metadata": {},
   "source": [
    "# Lesson 2: SPICE and SpiceyPy"
   ]
  },
  {
   "cell_type": "markdown",
   "id": "ba72f706-aedd-407f-9828-883ec6682f80",
   "metadata": {},
   "source": [
    "## What is SPICE?"
   ]
  },
  {
   "cell_type": "markdown",
   "id": "84f2341f-bf3c-4926-8a7d-b5e78936c9f8",
   "metadata": {},
   "source": [
    "SPICE stands for Spacecraft, Planet, Instrument, Camera-matrix, and Events"
   ]
  },
  {
   "cell_type": "code",
   "execution_count": null,
   "id": "51b92fb8-b90c-4763-ad40-34af7aef2d58",
   "metadata": {},
   "outputs": [],
   "source": []
  }
 ],
 "metadata": {
  "kernelspec": {
   "display_name": "Python 3 (ipykernel)",
   "language": "python",
   "name": "python3"
  },
  "language_info": {
   "codemirror_mode": {
    "name": "ipython",
    "version": 3
   },
   "file_extension": ".py",
   "mimetype": "text/x-python",
   "name": "python",
   "nbconvert_exporter": "python",
   "pygments_lexer": "ipython3",
   "version": "3.11.7"
  }
 },
 "nbformat": 4,
 "nbformat_minor": 5
}
