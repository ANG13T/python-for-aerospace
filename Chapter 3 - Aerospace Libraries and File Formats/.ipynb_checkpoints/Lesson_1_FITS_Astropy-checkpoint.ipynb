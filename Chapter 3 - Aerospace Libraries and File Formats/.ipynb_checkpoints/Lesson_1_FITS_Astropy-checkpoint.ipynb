{
 "cells": [
  {
   "cell_type": "markdown",
   "id": "7ab543aa-dd0d-4fdf-ae4b-f1abea2bda23",
   "metadata": {},
   "source": [
    "# Lesson 1: FITS Files and Astropy"
   ]
  },
  {
   "cell_type": "markdown",
   "id": "c84960d1-eff4-46df-b22d-712429311f8b",
   "metadata": {},
   "source": [
    "## Understanding FITS Files \n",
    "FITS (Flexible Image Transport System) files are a standardized format commonly used in aerospace and astronomy for storing various types of data, including images, tables, and metadata.\n",
    "\n",
    "FITS Files are used primarily for the following purposes:\n",
    "- Astronomical Images captured by telescopes and other instruments\n",
    "- Spectral Data which represents the intensity of electromagnetic radiation (light) as a function of wavelength or frequency\n",
    "- Tabular Data for specific measurement observations\n",
    "\n",
    "### Structural Breakdown\n",
    "- A FITS file is segmented by Header/Data Units (HDUs).\n",
    "- The first HDU (aka Primary HDU) contains a primary data array typically representing a 1-D spectrum, a 2-D image, or a 3-D data cube\n",
    "- Additional HDUs are referred to as `Extensions` and they contain auxiliary information such as:\n",
    "1. Image Extensions contain a 0-999 dimensional array of pixels\n",
    "2. ASCII Table Extensions store tabular information with all numeric information stored in ASCII formats\n",
    "3. Binary Table Extensions store tabular information in a binary representation \n",
    "\n",
    "Learn more about the technical details of FITS files here: [https://fits.gsfc.nasa.gov/fits_primer.html](https://fits.gsfc.nasa.gov/fits_primer.html)"
   ]
  },
  {
   "cell_type": "markdown",
   "id": "60dd395b-4348-4cb2-87b8-b254fbf274f8",
   "metadata": {},
   "source": [
    "## Obtaining FITS data\n",
    "There are a wide range of online data sources that publish FITS files which can be downloaded readily. \n",
    "\n",
    "One notable website which we will be using is the [SSDS SkyServer Website](https://skyserver.sdss.org/).\n",
    "\n",
    "Learn more about working with FITS imagery data using SkyServer:\n",
    "\n",
    "[https://skyserver.sdss.org/dr12/en/proj/advanced/processing/retrievingdata.aspx](https://skyserver.sdss.org/dr12/en/proj/advanced/processing/retrievingdata.aspx)\n",
    "\n",
    "## Image of SSDS Camera\n",
    "\n",
    "![https://upload.wikimedia.org/wikipedia/commons/8/82/SDSS_Camera.jpg](https://upload.wikimedia.org/wikipedia/commons/8/82/SDSS_Camera.jpg)\n",
    "\n",
    "[Image Source](https://www.google.com/url?sa=i&url=https%3A%2F%2Fzh.wikipedia.org%2Fzh-cn%2FFile%3ASDSS_Camera.jpg&psig=AOvVaw3dStOO1kRMokUK6LGcdRgc&ust=1710907972475000&source=images&cd=vfe&opi=89978449&ved=0CBEQjRxqFwoTCOj-5oS7_4QDFQAAAAAdAAAAABAQ)"
   ]
  },
  {
   "cell_type": "markdown",
   "id": "b5c4ef26-9587-4968-b39a-f19b0223d89e",
   "metadata": {},
   "source": [
    "## SkyServer Data Overview \n",
    "\n",
    "Let's get used to using the SkyServer tool by analyzing a beautiful spiral galaxy: **NGC 1087**!\n",
    "\n",
    "### Object Explorer\n",
    "The object explorer within SkyServer allows you to analyze astronomical data characteristics of various celestial bodies provided by the  Sloan Digital Sky Survey. Let's take a look at the Object Explorer page for NGC 1087!\n",
    "\n",
    "[https://skyserver.sdss.org/dr12/en/tools/explore/Summary.aspx?](https://skyserver.sdss.org/dr12/en/tools/explore/Summary.aspx?)\n",
    "\n",
    "![./assets/SSDS.png](./assets/SSDS.png)\n",
    "\n",
    "#### Details Included\n",
    "\n",
    "**General Information**:\n",
    "\n",
    "This includes general data about the object alongside technical characteristics and configurations of the camera.\n",
    "\n",
    "**Imaging Flags**:\n",
    "\n",
    "Quality and characteristics of the images obtained from the Sloan Digital Sky Survey (SDSS)\n",
    "\n",
    "**Magnitudes**:\n",
    "\n",
    "- `u`: Ultraviolet light sensitivity.\n",
    "- `g`: Green light sensitivity.\n",
    "- `r`: Red light sensitivity.\n",
    "- `i`: Near-infrared light sensitivity.\n",
    "- `z`: Longer-wavelength near-infrared light sensitivity.\n",
    "\n",
    "**Magnitudes Uncertainties**:\n",
    "\n",
    "Calculated uncertainty values for each of the magnitudes.\n",
    "\n",
    "**Misc.**:\n",
    "\n",
    "Other observational calculations related to the imagery and characteristics of the celestial body\n",
    "\n",
    "For more info about data fields, refer to: [https://skyserver.sdss.org/dr12/en/help/browser/browser.aspx?cmd=description+Field+U#&&history=description+Field+U](https://skyserver.sdss.org/dr12/en/help/browser/browser.aspx?cmd=description+Field+U#&&history=description+Field+U)\n",
    "\n",
    "### Image Analyzer \n",
    "The image analyzer within SkyServer displays a visual output of a location within the universe provided its coordinates.\n",
    "Let's look at an image of NGC 1087:\n",
    "\n",
    "[https://skyserver.sdss.org/dr12/en/tools/chart/navi.aspx?ra=197.614455642896&dec=18.438168853724&scale=0.2](https://skyserver.sdss.org/dr12/en/tools/chart/navi.aspx?ra=197.614455642896&dec=18.438168853724&scale=0.2)\n",
    "\n",
    "![./assets/SSDS_2.png](./assets/SSDS_2.png)"
   ]
  },
  {
   "cell_type": "markdown",
   "id": "2ef231a6-73aa-4d55-83ff-9f62cda2f96a",
   "metadata": {},
   "source": [
    "## Astropy\n",
    "\n",
    "Astropy is an open-source Python library providing tools for astronomy and astrophysics, offering functionalities such as data handling, coordinate transformations, unit conversions, and astronomical calculations. We are going to be using the FITS file handling features of Astropy for the following code sections!"
   ]
  },
  {
   "cell_type": "code",
   "execution_count": 5,
   "id": "8b7dc3b3-ddb7-4116-8a55-11a2a24385e9",
   "metadata": {},
   "outputs": [],
   "source": [
    "from astropy.io import fits"
   ]
  },
  {
   "cell_type": "markdown",
   "id": "c9fc4b90-a7b4-4fe3-a5aa-562756634672",
   "metadata": {},
   "source": [
    "## Reading FITS Files  \n",
    "We can use the `fits` module of astropy to read FITS data!\n",
    "Then, we can use the `open` function to retrieve an object called an `HDUList` which is a list-like collection of HDU objects.\n",
    "\n",
    "The `info` function summarizes the content of the opened FITS file.\n",
    "\n",
    "You can also look into header information by accessing the `.header` property"
   ]
  },
  {
   "cell_type": "code",
   "execution_count": 11,
   "id": "27f5c53e-3ca8-4653-9650-a45a5f5f9a77",
   "metadata": {},
   "outputs": [
    {
     "name": "stdout",
     "output_type": "stream",
     "text": [
      "Filename: ./NGC_1087.fits\n",
      "No.    Name      Ver    Type      Cards   Dimensions   Format\n",
      "  0  PRIMARY       1 PrimaryHDU     195   ()      \n",
      "  1                1 ImageHDU        13   (8575, 8)   float32   \n",
      "  2                1 ImageHDU        13   (8575, 8)   float32   \n",
      "  3                1 ImageHDU        13   (8575, 8)   int16   \n",
      "  4                1 ImageHDU        13   (8575, 8)   float32   \n",
      "  5                1 ImageHDU        13   (8575, 8)   float32   \n",
      "  6                1 ImageHDU        13   (8575, 8)   float32   \n",
      "  7                1 ImageHDU        13   (8575, 8)   float32   \n",
      "  8                1 ImageHDU        29   (27,)   float64   \n",
      "  9                1 BinTableHDU     82   1R x 29C   [180A, 6I, 24A, 6J, 6I, 6D, 6E, 6E, 6E, 6E, 2I, 2E, 2E, 2E, 2E, E, E, E, E, E, 6E, 6E, 6E, 3208E, 3208E, 401E, D, D, 401E]   \n",
      "SIMPLE  =                    T /image conforms to FITS standard                 BITPIX  =                   16 /bits per data value                             NAXIS   =                    0 /number of axes                                  EXTEND  =                    T /file may contain extensions                     DATE    = '2014-08-09'         / Creation UTC (CCCC-MM-DD) date of FITS header  COMMENT FITS (Flexible Image Transport System) format is defined in 'Astronomy  COMMENT and Astrophysics', volume 376, page 359; bibcode 2001A&A...376..359H    OBJID   = '2M13102744+1826172' / Object ID                                      J       =              13.6600 / 2MASS J magnitude                              H       =              12.6150 / 2MASS H magnitude                              K       =              12.3990 / 2MASS Ks magnitude                             TARG1   =          -1073741824 / First APOGEE targeting flag (bitwise, see docs)TARG2   =                    0 / Second APOGEE targeting flag (bitwise, see docsTELESCOP= 'apo25m  '           / Telescope                                      LOCID   =                 4128 / LocationID                                     FIELD   = 'M53     '           / Field name                                     RA      =        197.614337000 / right ascension, deg, J2000                    DEC     =        18.4381330000 / declination, deg, J2000                        GLON    =        330.659886187 / galactic longitude, deg, J2000                 GLAT    =        80.2696527250 / galactic latitude, deg, J2000                  NVISITS =                    6 / number of visit spectra combined               COMMENT MEAN VALUES:                                                            VRAD    =              0.00000 / Doppler shift (km/s) of this spectrum          VHELIO  =             -301.674 / mean heliocentric velocity (km/s)              VSCATTER=              28.5636 / STDEV of VHELIO (km/s)                         VERR    =              3.39918 / weighted error in VHELIO (km/s)                VERR_MED=              8.25592 / median error in VHELIO (km/s)                  SVHELIO =             -474.421 / mean heliocentric velocity (km/s) from SYNTHVHESVERR   =              8.45494 / weighted error in SYNTHVHELIO                  SVERR_ME=              19.0905 / median error of SYNTHVHELIO velocity (km/s) froSVSCAT  =              297.949 / STDEV of SYNTHVHELIO (km/s)                    SYNTHSCA=              285.506 / STDEV of VHELIO-SYNTHVHELIO (km/s)             SNR     =              15.4470 / final median Signal/Noise ratio                STARFLAG=               206848 / bitwise OR of individual visit starflags       ANDFLAG =                    0 / bitwise AND of individual visit starflags      MEANFIB =              282.825 / S/N weighted mean fiber number                 SIGFIB  =              8.11583 / standard deviation (unweighted) of fiber numberRVFEH   =             -1.00000 / metallicity [Fe/H] from mini-grid cross correlaRVTEFF  =              21000.0 / effective temperature (K) from mini-grid cross RVLOGG  =              3.50000 / surface gravity (dex) from mini-grid cross corrRVALPH  =              0.00000 / alpha abundance for mini-grid cross correlationRVCARB  =              0.00000 / carbon abundance for mini-grid cross correlatioCCPFWHM =              218.150 / FWHM of RV CCF of star with template (km/s)    AUTOFWHM=              93.2132 / FWHM of RV CCF of template with template (km/s)COMMENT VISIT 1 INFORMATION:                                                    SFILE1  = 'apVisit-r5-5633-55932-296.fits' / Visit #1 spectrum file             DATE1   = '2012-01-06T10:52:21.716' / DATE-OBS of visit 1                       JD1     =        2455933.00995 / Julian date of visit 1                         HJD1    =        55933.0105610 / Reduced Heliocentric JD of visit 1             FIBER1  =                  296 / Fiber, visit 1                                 BC1     =              27.5863 / Barycentric correction (km/s),visit 1          VTYPE1  =                    3 / RV type (1=chisq, 2=xcorr) from visit 1        VRAD1   =             -339.963 / Doppler shift (km/s) of visit 1                VERR1   =              8.12873 / error in VRAD (km/s)                           VHELIO1 =             -312.377 / Heliocentric velocity (km/s), visit 1          RVTEFF1 =              21000.0 / effective temperature (K) from visit mini-grid RVLOGG1 =              3.50000 / surface gravity (dex) from visit mini-grid xcorRVFEH1  =             -1.00000 / metallicity [Fe/H] from visit mini-grid xcorr  RVALPH1 =              0.00000 / alpha abundance from visit mini-grid xcorr     RVCARB1 =              0.00000 / carbon abundance from visit mini-grid xcorr    SNRVIS1 =              7.43824 / Signal/Noise ratio, visit 1                    FLAG1   =                10240 / STARFLAG for visit 1                           COMMENT VISIT 2 INFORMATION:                                                    SFILE2  = 'apVisit-r5-5633-55965-281.fits' / Visit #2 spectrum file             DATE2   = '2012-02-08T11:35:19.424' / DATE-OBS of visit 2                       JD2     =        2455966.01413 / Julian date of visit 2                         HJD2    =        55966.0175012 / Reduced Heliocentric JD of visit 2             FIBER2  =                  281 / Fiber, visit 2                                 BC2     =              21.0892 / Barycentric correction (km/s),visit 2          VTYPE2  =                    3 / RV type (1=chisq, 2=xcorr) from visit 2        VRAD2   =             -264.735 / Doppler shift (km/s) of visit 2                VERR2   =              8.54947 / error in VRAD (km/s)                           VHELIO2 =             -243.646 / Heliocentric velocity (km/s), visit 2          RVTEFF2 =              21000.0 / effective temperature (K) from visit mini-grid RVLOGG2 =              3.50000 / surface gravity (dex) from visit mini-grid xcorRVFEH2  =             -1.00000 / metallicity [Fe/H] from visit mini-grid xcorr  RVALPH2 =              0.00000 / alpha abundance from visit mini-grid xcorr     RVCARB2 =              0.00000 / carbon abundance from visit mini-grid xcorr    SNRVIS2 =              5.44672 / Signal/Noise ratio, visit 2                    FLAG2   =                    0 / STARFLAG for visit 2                           COMMENT VISIT 3 INFORMATION:                                                    SFILE3  = 'apVisit-r5-5633-55990-284.fits' / Visit #3 spectrum file             DATE3   = '2012-03-04T09:15:38.880' / DATE-OBS of visit 3                       JD3     =        2455990.90919 / Julian date of visit 3                         HJD3    =        55990.9139533 / Reduced Heliocentric JD of visit 3             FIBER3  =                  284 / Fiber, visit 3                                 BC3     =              11.7351 / Barycentric correction (km/s),visit 3          VTYPE3  =                    3 / RV type (1=chisq, 2=xcorr) from visit 3        VRAD3   =             -315.483 / Doppler shift (km/s) of visit 3                VERR3   =              8.12750 / error in VRAD (km/s)                           VHELIO3 =             -303.748 / Heliocentric velocity (km/s), visit 3          RVTEFF3 =              21000.0 / effective temperature (K) from visit mini-grid RVLOGG3 =              3.50000 / surface gravity (dex) from visit mini-grid xcorRVFEH3  =             -1.00000 / metallicity [Fe/H] from visit mini-grid xcorr  RVALPH3 =              0.00000 / alpha abundance from visit mini-grid xcorr     RVCARB3 =              0.00000 / carbon abundance from visit mini-grid xcorr    SNRVIS3 =              6.05026 / Signal/Noise ratio, visit 3                    FLAG3   =                    0 / STARFLAG for visit 3                           COMMENT VISIT 4 INFORMATION:                                                    SFILE4  = 'apVisit-r5-5633-55991-284.fits' / Visit #4 spectrum file             DATE4   = '2012-03-05T08:37:54.709' / DATE-OBS of visit 4                       JD4     =        2455991.88298 / Julian date of visit 4                         HJD4    =        55991.8877809 / Reduced Heliocentric JD of visit 4             FIBER4  =                  284 / Fiber, visit 4                                 BC4     =              11.3673 / Barycentric correction (km/s),visit 4          VTYPE4  =                    3 / RV type (1=chisq, 2=xcorr) from visit 4        VRAD4   =             -316.837 / Doppler shift (km/s) of visit 4                VERR4   =              8.21024 / error in VRAD (km/s)                           VHELIO4 =             -305.470 / Heliocentric velocity (km/s), visit 4          RVTEFF4 =              21000.0 / effective temperature (K) from visit mini-grid RVLOGG4 =              3.50000 / surface gravity (dex) from visit mini-grid xcorRVFEH4  =             -1.00000 / metallicity [Fe/H] from visit mini-grid xcorr  RVALPH4 =              0.00000 / alpha abundance from visit mini-grid xcorr     RVCARB4 =              0.00000 / carbon abundance from visit mini-grid xcorr    SNRVIS4 =              5.18117 / Signal/Noise ratio, visit 4                    FLAG4   =                 8192 / STARFLAG for visit 4                           COMMENT VISIT 5 INFORMATION:                                                    SFILE5  = 'apVisit-r5-5633-55999-272.fits' / Visit #5 spectrum file             DATE5   = '2012-03-13T09:28:31.190' / DATE-OBS of visit 5                       JD5     =        2455999.91812 / Julian date of visit 5                         HJD5    =        55999.9231777 / Reduced Heliocentric JD of visit 5             FIBER5  =                  272 / Fiber, visit 5                                 BC5     =              7.66017 / Barycentric correction (km/s),visit 5          VTYPE5  =                    3 / RV type (1=chisq, 2=xcorr) from visit 5        VRAD5   =             -329.791 / Doppler shift (km/s) of visit 5                VERR5   =              8.39564 / error in VRAD (km/s)                           VHELIO5 =             -322.130 / Heliocentric velocity (km/s), visit 5          RVTEFF5 =              21000.0 / effective temperature (K) from visit mini-grid RVLOGG5 =              3.50000 / surface gravity (dex) from visit mini-grid xcorRVFEH5  =             -1.00000 / metallicity [Fe/H] from visit mini-grid xcorr  RVALPH5 =              0.00000 / alpha abundance from visit mini-grid xcorr     RVCARB5 =              0.00000 / carbon abundance from visit mini-grid xcorr    SNRVIS5 =              6.00662 / Signal/Noise ratio, visit 5                    FLAG5   =                    0 / STARFLAG for visit 5                           COMMENT VISIT 6 INFORMATION:                                                    SFILE6  = 'apVisit-r5-5634-56019-277.fits' / Visit #6 spectrum file             DATE6   = '2012-04-02T07:38:21.648' / DATE-OBS of visit 6                       JD6     =        2456019.84162 / Julian date of visit 6                         HJD6    =        56019.8468865 / Reduced Heliocentric JD of visit 6             FIBER6  =                  277 / Fiber, visit 6                                 BC6     =             -1.61096 / Barycentric correction (km/s),visit 6          VTYPE6  =                    3 / RV type (1=chisq, 2=xcorr) from visit 6        VRAD6   =             -313.135 / Doppler shift (km/s) of visit 6                VERR6   =              8.30161 / error in VRAD (km/s)                           VHELIO6 =             -314.746 / Heliocentric velocity (km/s), visit 6          RVTEFF6 =              21000.0 / effective temperature (K) from visit mini-grid RVLOGG6 =              3.50000 / surface gravity (dex) from visit mini-grid xcorRVFEH6  =             -1.00000 / metallicity [Fe/H] from visit mini-grid xcorr  RVALPH6 =              0.00000 / alpha abundance from visit mini-grid xcorr     RVCARB6 =              0.00000 / carbon abundance from visit mini-grid xcorr    SNRVIS6 =              6.22323 / Signal/Noise ratio, visit 6                    FLAG6   =                    0 / STARFLAG for visit 6                           RMIN    =                 6372 / Min pixel of red chip contrib, any frame       RMAX    =                 8448 / Maxmm pixel of red chip contrib, any frame     GMIN    =                 3615 / Min pixel of green chip contrib, any frame     GMAX    =                 6196 / Maxm pixel of green chip contrib, any frame    BMIN    =                  281 / Min pixel of blue chip contrib, any frame      BMAX    =                 3393 / Maxm pixel of blue chip contrib, any frame     ROVERMIN=                 6390 / Min pixel of red chip contrib, all frames      ROVERMAX=                 8431 / Max pixel of red chip contrib, all frames      GOVERMIN=                 3633 / Min pixel of green chip contrib, all frames    GOVERMAX=                 6178 / Max pixel of green chip contrib, all frames    BOVERMIN=                  300 / Minimum pixel of blue chip contrib, all frames BOVERMAX=                 3375 / Maximum pixel of blue chip contrib, all frames COMMENT Wavelength polynomial coefficients (Ang):                               NWAVE   =                 8575 /Number of wavelengths in subsequent HDUs        CRVAL1  =        4.17900000000 /Start log10(wavelength) in subsequent HDUs      CDELT1  =    6.00000000000E-06 /Dispersion in log10(wavelength) in subsequent HDCRPIX1  =                    1 /Pixel of starting wavelength in subsequent HDUs CTYPE1  = 'LOG-LINEAR'         /Logarithmic wavelength scale in subsequent HDUs DC-FLAG =                    1 /Logarithmic wavelength scale in subsequent HDUs HISTORY APSTAR: Sat Aug  9 14:17:23 2014                                        HISTORY APSTAR: apogee on kp135                                                 HISTORY APSTAR: IDL 8.1 linux x86_64                                            HISTORY APSTAR:  APOGEE Reduction Pipeline Version: v3_09                       HISTORY APSTAR: The data are in separate extensions:                            HISTORY APSTAR:  HDU0 = Header only                                             HISTORY APSTAR:  All image extensions have:                                     HISTORY APSTAR:    row 1: combined spectrum with individual pixel weighting     HISTORY APSTAR:    row 2: combined spectrum with global weighting               HISTORY APSTAR:    row 3-nvisits+2: individual resampled visit spectra          HISTORY APSTAR:   unless nvisits=1, which only have a single row                HISTORY APSTAR:  All spectra shifted to rest (vacuum) wavelength scale          HISTORY APSTAR:  HDU1 - Flux (10^-17 ergs/s/cm^2/Ang)                           HISTORY APSTAR:  HDU2 - Error (10^-17 ergs/s/cm^2/Ang)                          HISTORY APSTAR:  HDU3 - Flag mask:                                              HISTORY APSTAR:    row 1: bitwise OR of all visits                              HISTORY APSTAR:    row 2: bitwise AND of all visits                             HISTORY APSTAR:    row 3-nvisits+2: individual visit masks                      HISTORY APSTAR:  HDU4 - Sky (10^-17 ergs/s/cm^2/Ang)                            HISTORY APSTAR:  HDU5 - Sky Error (10^-17 ergs/s/cm^2/Ang)                      HISTORY APSTAR:  HDU6 - Telluric                                                HISTORY APSTAR:  HDU7 - Telluric Error                                          HISTORY APSTAR:  HDU8 - LSF coefficients                                        HISTORY APSTAR:  HDU9 - RV and CCF structure                                    END                                                                                                                                                                                                                                                                                                                                                                                                                                                                                                                                                                                                                                                                                                                                                                                                                                                                                                                                                                                                                                                                                                                                                                                                                                                                                                                                                                                                                                                                                                                                                                                                                                                                                                                                             \n"
     ]
    }
   ],
   "source": [
    "with fits.open('./NGC_1087.fits') as hdul:\n",
    "    hdul.info()\n",
    "    print(hdul[0].header)"
   ]
  },
  {
   "cell_type": "markdown",
   "id": "3b606a5a-e5ac-47b7-8588-2c21ddd8c4d9",
   "metadata": {},
   "source": [
    "## Visualizing FITS Files \n",
    "Now we can combine our expertise in `matplotlib` and `astropy` to plot the image of the NGC 1087 galaxy!"
   ]
  },
  {
   "cell_type": "markdown",
   "id": "b311ee3b-3750-439e-b505-5ece6fa5b18d",
   "metadata": {},
   "source": [
    "## Exercise 1: Visualizing Galaxy __"
   ]
  },
  {
   "cell_type": "markdown",
   "id": "18d014d2-520e-4587-8f47-a8108c16d50f",
   "metadata": {},
   "source": [
    "Good job! You learned the inner workings of the FITS file format and how to visualize them using Astropy!\n",
    "In the next lesson, we will be tinkering with another standardized file format within the space industry called SPICE!\n",
    "Get ready! Things are about to get SPICEY 🌶️!"
   ]
  }
 ],
 "metadata": {
  "kernelspec": {
   "display_name": "Python 3 (ipykernel)",
   "language": "python",
   "name": "python3"
  },
  "language_info": {
   "codemirror_mode": {
    "name": "ipython",
    "version": 3
   },
   "file_extension": ".py",
   "mimetype": "text/x-python",
   "name": "python",
   "nbconvert_exporter": "python",
   "pygments_lexer": "ipython3",
   "version": "3.11.7"
  }
 },
 "nbformat": 4,
 "nbformat_minor": 5
}
