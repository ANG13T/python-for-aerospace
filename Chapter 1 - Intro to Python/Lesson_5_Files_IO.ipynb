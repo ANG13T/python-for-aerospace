{
 "cells": [
  {
   "cell_type": "markdown",
   "id": "cd44eff5-1166-4547-9bfd-d5af099c58aa",
   "metadata": {},
   "source": [
    "# Lesson 5: Files & Data IO (Input & Output)"
   ]
  },
  {
   "cell_type": "markdown",
   "id": "43def7cb-843e-4271-8a21-381fadcdcc07",
   "metadata": {},
   "source": [
    "At some point in your aerospace journey with Python, you will need to leverage files to get data for your program. Examples of scenarios where file handling becomes crucial include reading sensor data from spacecraft instruments, parsing telemetry logs for analysis, accessing configuration files for simulation parameters."
   ]
  },
  {
   "cell_type": "markdown",
   "id": "3ec731fa-0a39-46ba-895f-d9d4a7cab488",
   "metadata": {},
   "source": [
    "## Opening & Modifying Files 📃\n",
    "Python has in-built support for accessing and altering files. \n",
    "\n",
    "You can open a file using the `open` command:"
   ]
  },
  {
   "cell_type": "code",
   "execution_count": null,
   "id": "2face854-749c-4bd5-a495-af3635c59d9c",
   "metadata": {},
   "outputs": [],
   "source": [
    "file = open(\"sample.txt\", \"w\")"
   ]
  },
  {
   "cell_type": "markdown",
   "id": "39f2dee0-6947-4c6b-bf8c-6bfbabc80cb5",
   "metadata": {},
   "source": [
    "The `w` stands for `write` and lets us write to a file.\n",
    "Instead, you can use `r` for read-only or `a` for appending.\n",
    "\n",
    "The code snippet below demonstrates how you can write text to a file named `sample.txt`"
   ]
  },
  {
   "cell_type": "code",
   "execution_count": null,
   "id": "cf98504a-f5c0-4c08-8731-44f5ec98bfed",
   "metadata": {},
   "outputs": [],
   "source": [
    "file = open(\"sample.txt\", \"w\")\n",
    "file.write('BLAST')\n",
    "file.write('OFF')\n",
    "file.close()"
   ]
  },
  {
   "cell_type": "markdown",
   "id": "bbfd5f7b-7d95-4b47-8b2a-363898f36ad9",
   "metadata": {},
   "source": [
    "## Writing Data using Loops 🔄\n",
    "You can write long-form datasets into a file using loops.\n",
    "The following saves the names, surface gravity, and surface temperature of various planets into a file named `planets.txt`:"
   ]
  },
  {
   "cell_type": "code",
   "execution_count": 4,
   "id": "bd39a7ee-c23c-49c5-8f81-4e09886a3736",
   "metadata": {},
   "outputs": [],
   "source": [
    "planet_names = [\"Mercury\", \"Venus\", \"Earth\", \"Mars\", \"Jupiter\", \"Saturn\", \"Uranus\", \"Neptune\"]\n",
    "# Hard-coded array of surface gravity (in multiples of Earth's gravity)\n",
    "surface_gravity = [0.38, 0.91, 1.0, 0.38, 2.34, 0.93, 0.92, 1.12]\n",
    "# Hard-coded array of surface temperature (in Kelvin)\n",
    "surface_temperature = [440, 737, 288, 210, 120, 80, 60, 50]\n",
    "\n",
    "file = open(\"planets.txt\", \"w\")\n",
    "\n",
    "for i in range(len(planet_names)):\n",
    "    file.write(planet_names[i])\n",
    "    file.write(\"Surface Gravity (g): \" + str(surface_gravity[i]))\n",
    "    file.write(\"Surface Temperature (K): \" + str(surface_temperature[i]))\n",
    "\n",
    "file.close()"
   ]
  },
  {
   "cell_type": "markdown",
   "id": "0300ebfb-1c98-4307-9c07-7584d9ae458d",
   "metadata": {},
   "source": [
    "### Exercise 1: Saving Orbital Details 🪐\n",
    "You are a planetary scientist tasked with saving orbital details about planets into a file for later use\n",
    "\n",
    "#### Objective: \n",
    "- Initialize a text file named `orbital_details`\n",
    "- Iterate over all the planets and save their orbital details into the text file"
   ]
  },
  {
   "cell_type": "code",
   "execution_count": null,
   "id": "ca9b0838-adea-441a-91b5-a333b3c24fc1",
   "metadata": {},
   "outputs": [],
   "source": [
    "planet_names = [\"Mercury\", \"Venus\", \"Earth\", \"Mars\", \"Jupiter\", \"Saturn\", \"Uranus\", \"Neptune\"]\n",
    "\n",
    "# Orbital periods (in Earth years)\n",
    "orbital_periods = [0.24, 0.62, 1.0, 1.88, 11.86, 29.46, 84.01, 164.8]\n",
    "\n",
    "# Axial tilts (in degrees)\n",
    "axial_tilts = [0.03, 177.36, 23.44, 25.19, 3.13, 26.73, 82.23, 28.32]"
   ]
  },
  {
   "cell_type": "markdown",
   "id": "60f35d62-98f3-484c-a639-75fcda8161d6",
   "metadata": {},
   "source": [
    "## Working with loadtxt\n",
    "You can also load text from files using the `loadtxt` command.\n",
    "Suppose we have a text file called `spacecraft` containing thee columns `mass, fuel, and force`.\n",
    "You can single out each of the column values into an array with their own variable using the code below:"
   ]
  },
  {
   "cell_type": "code",
   "execution_count": null,
   "id": "db5b89e8-0079-4fff-9243-95f0d04a4ab5",
   "metadata": {},
   "outputs": [],
   "source": [
    "import numpy as np\n",
    "data = np.loadtxt(\"spacecraft.txt\")\n",
    "data = np.transpose(data) # transpose switches the rows and columns\n",
    "mass = data[0]\n",
    "fuel = data[1]\n",
    "force = data[2]"
   ]
  },
  {
   "cell_type": "markdown",
   "id": "d2b557ff-50b0-462c-96d5-11bc9a22a169",
   "metadata": {},
   "source": [
    "## Working with Astronomical FITS Files 🌌\n",
    "Astronomical FITS (Flexible Image Transport System) files are a standard file format widely used in astronomy for storing and sharing astronomical data, including images, spectra, and tables. FITS files are designed to be flexible and efficient, allowing for the storage of large dataset.\n",
    "\n",
    "### FITS File Structure\n",
    "FITS files are comprised of two main components: `header` and `data` stored within HDU (Header Data Unit).\n",
    "The `header` stores metadata information, such as observation details and instrument settings, while the `data` part contains the actual data, often represented as arrays."
   ]
  },
  {
   "cell_type": "code",
   "execution_count": 13,
   "id": "c3ceff14-8e8f-43e8-ad17-2f71b2a8cb26",
   "metadata": {},
   "outputs": [
    {
     "name": "stdout",
     "output_type": "stream",
     "text": [
      "[[0.1252262  0.78856681 0.76340433 ... 0.68677906 0.83367139 0.29958632]\n",
      " [0.19601932 0.57361986 0.98043251 ... 0.16136321 0.3754491  0.35797337]\n",
      " [0.44962573 0.97541743 0.99777408 ... 0.2103913  0.15822016 0.31916497]\n",
      " ...\n",
      " [0.91618878 0.22216225 0.77503183 ... 0.04216499 0.30171987 0.72717102]\n",
      " [0.56541479 0.14676798 0.0135142  ... 0.60697871 0.26601878 0.56936343]\n",
      " [0.50022191 0.4166072  0.40940887 ... 0.56810509 0.82001118 0.74196087]] SIMPLE  =                    T / conforms to FITS standard                      BITPIX  =                  -64 / array data type                                NAXIS   =                    2 / number of array dimensions                     NAXIS1  =                  100                                                  NAXIS2  =                  100                                                  EXTEND  =                    T                                                  OBJECT  = 'Fake Image'                                                          TELESCOP= 'Simulated Telescope'                                                 INSTRUME= 'Simulated Instrument'                                                EXPTIME =                 10.0                                                  END                                                                                                                                                                                                                                                                                                                                                                                                                                                                                                                                                                                                                                                                                                                                                                                                                                                                                                                                                                                                                                                                                                                                                                                                                                                                                                                                                                                                                                                                                                                                                                                                                                                                                                                                                                                                                                                                                                                                                                                                                                                                                                                                                             \n"
     ]
    }
   ],
   "source": [
    "from astropy.io import fits\n",
    "\n",
    "# Open FITS file\n",
    "hdul = fits.open('example.fits')\n",
    "\n",
    "# Access HDUs\n",
    "data_hdu = hdul[0]  # Access the primary HDU  \n",
    "\n",
    "# Access data and header\n",
    "data = data_hdu.data    # Get data array\n",
    "header = data_hdu.header  # Get header information\n",
    "\n",
    "print(data, header)\n",
    "\n",
    "# Close FITS file\n",
    "hdul.close()"
   ]
  },
  {
   "cell_type": "markdown",
   "id": "6f262189-be64-45e7-b3a4-b0b374a2ece0",
   "metadata": {},
   "source": [
    "Congratulations for finishing the first module! At this point, you have grasped the fundamentals of Python and are ready to embark on your first programming project! After you complete the project, we will dive into using common aerospace libraries and plotting / visualizing data."
   ]
  }
 ],
 "metadata": {
  "kernelspec": {
   "display_name": "Python 3 (ipykernel)",
   "language": "python",
   "name": "python3"
  },
  "language_info": {
   "codemirror_mode": {
    "name": "ipython",
    "version": 3
   },
   "file_extension": ".py",
   "mimetype": "text/x-python",
   "name": "python",
   "nbconvert_exporter": "python",
   "pygments_lexer": "ipython3",
   "version": "3.11.7"
  }
 },
 "nbformat": 4,
 "nbformat_minor": 5
}
