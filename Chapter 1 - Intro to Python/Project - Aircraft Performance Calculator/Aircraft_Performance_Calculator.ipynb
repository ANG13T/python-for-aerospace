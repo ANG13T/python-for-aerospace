{
 "cells": [
  {
   "cell_type": "markdown",
   "id": "42ca6566-8049-4d3d-8933-7b2ca0855d35",
   "metadata": {},
   "source": [
    "# Project 1: Aircraft Performance Calculator 🛩️"
   ]
  },
  {
   "cell_type": "markdown",
   "id": "f60c853e-6a38-4cbe-8685-c7a382742281",
   "metadata": {},
   "source": [
    "## Objectives \n",
    "- Create a Python program to calculate aircraft performance metrics based on user input.\n",
    "- Incorporate formulas for range, endurance, fuel consumption, and climb performance.\n",
    "- Allow users to specify aircraft characteristics such as weight, wing area, and engine thrust.\n",
    "- Provide graphical outputs and analysis of performance trade-offs."
   ]
  },
  {
   "cell_type": "markdown",
   "id": "ba2e3c07-2a97-4652-a138-943dc09726a8",
   "metadata": {},
   "source": [
    "## Conceptual Aerospace Knowledge 🚀\n",
    "To build an aircraft performance calculator, we will cover the following aerospace / aeronautical concepts:\n",
    "- Basic Aerodynamics\n",
    "- Aircraft Performance Parameters\n",
    "- Propulsion Systems\n",
    "- Atmospheric Conditions\n",
    "- Performance Calculations"
   ]
  },
  {
   "cell_type": "markdown",
   "id": "716127eb-18b8-4efa-81fa-5bdc00b77784",
   "metadata": {},
   "source": [
    "## Basic Aerodynamics\n",
    "Aerodynamics is the study of how things fly through air. The core of aerodynamics is understanding how air flows over surfaces and how that affects engineering characteristics like speed, lift, drag resistance, and stability.\n",
    "\n",
    "#### Four Fundamental Forces of Flight\n",
    "The four forces of flight are lift, weight, thrust and drag. The interplay of these forces determines the motion of an object as it flies.\n",
    "\n",
    "![Graphic](https://www1.grc.nasa.gov/wp-content/uploads/forces.jpg)\n",
    "\n",
    "[Image Source: NASA](https://www1.grc.nasa.gov/wp-content/uploads/forces.jpg)\n",
    "\n",
    "#### Lift: \n",
    "Force that opposes gravity and keeps the object in the air\n",
    "\n",
    "#### Weight: \n",
    "Force exerted by gravity on the mass of the object\n",
    "\n",
    "#### Thrust: \n",
    "Force produced by the aircraft's engines or propulsion system that propels the aircraft forward through the air. It counteracts drag force \n",
    "\n",
    "#### Drag: \n",
    "Aerodynamic resistance aka drag is encountered by an aircraft as it moves through the air. It opposes thrust."
   ]
  },
  {
   "cell_type": "markdown",
   "id": "b76c33d9-4318-4fb5-bf85-c9f17deb8e85",
   "metadata": {},
   "source": [
    "### How do Airplanes create Lift?\n",
    "Airfoils on an airplane are shaped in such a manner that the airflow over the airflow will flow faster than the airflow under the airfoil.\n",
    "\n",
    "As the speed of airflow increases, the pressure decreases. Therefore, the air pressure above the airfoil is LESS than the airflow under the airfoil.\n",
    "\n",
    "**The pressure difference between the top and bottom of the airfoil creates LIFT.**\n",
    "\n",
    "![Airfoil Diagram](https://content.cdntwrk.com/files/aHViPTExODYyNSZjbWQ9aXRlbWVkaXRvcmltYWdlJmZpbGVuYW1lPWl0ZW1lZGl0b3JpbWFnZV82MWQ1NGNlMDA5NDZhLnBuZyZ2ZXJzaW9uPTAwMDAmc2lnPWJlZDEzZDI3NTQ0YzY2M2M5ZTg1YWY2NDlmZWEzZTJl)\n",
    "\n",
    "[Image Source: Cadence Systems](https://resources.system-analysis.cadence.com/blog/msa2022-aerodynamic-lift-explained-in-terms-of-fluid-flow)"
   ]
  },
  {
   "cell_type": "markdown",
   "id": "ac8ee188-c2a7-4ef3-9ebb-de0aa4ef1c1f",
   "metadata": {},
   "source": [
    "### Aircraft Principle Axes\n",
    "Aircraft also have an intrinsic characteristic called **attitude**.\n",
    "\n",
    "Attitude describes the orientation of the aircraft along all three dimensions centered at the center of gravity for the aircraft.\n",
    "\n",
    "Each of the axes the aircraft can orient itself around are called `principal axes` and they are `yaw, pitch, and roll`\n",
    "\n",
    "![Graphic](https://www1.grc.nasa.gov/wp-content/uploads/rotations.jpg)\n",
    "\n",
    "[Image Source: NASA](https://www1.grc.nasa.gov/beginners-guide-to-aeronautics/aircraft-rotations/)\n",
    "\n",
    "#### Yaw: \n",
    "Yaw describes a side-to-side motion of the nose of the aircraft. It is rotation about the axis perpendicular to the plane of the wings. \n",
    "\n",
    "#### Pitch: \n",
    "Pitch describes an up-and-down motion of the nose of the aircraft. It is rotation about the axis parrallel to the plane of the wings. \n",
    "\n",
    "#### Roll: \n",
    "Roll describes an up-and-down motion of the **wings** of the aircraft. It is an axis of rotation perpendicular to the other two axes with its origin at the center of gravity."
   ]
  },
  {
   "cell_type": "markdown",
   "id": "2d37d005-2edd-4a4c-849f-319df21cc5a3",
   "metadata": {},
   "source": [
    "## Aircraft Performance Parameters\n",
    "Aircraft performance parameters refer to various measurements and characteristics that describe how an aircraft performs in flight.\n",
    "\n",
    "### Basic Aircraft Performance Parameters include:\n",
    "- `Speed`: how fast an aircraft is traveling through the air\n",
    "- `Altitude`: vertical distance above a reference point, usually sea level\n",
    "- `Range`: maximum distance an aircraft can travel without refueling\n",
    "- `Endurance`: amount of time an aircraft can remain in flight on a given amount of fuel\n",
    "- `Rate of Climb`: how quickly an aircraft can ascend vertically\n",
    "- `Ceiling`: maximum altitude at which an aircraft can maintain a specified rate of climb.\n",
    "- `Payload`:  total weight of passengers, cargo, and equipment that an aircraft can carry\n",
    "- `Takeoff and Landing Performance`: takeoff distance, landing distance, and minimum runway length required for safe operations\n",
    "\n",
    "![Graphic](https://www.aopa.org/-/media/Images/Legacy/AOPA/Home/Pilot-Resources/Advanced-Flight-Training/hpaircraft.jpg)\n",
    "\n",
    "[Image Source: AOPA](https://www.aopa.org/training-and-safety/active-pilots/transitioning-to-high-performance-aircraft)"
   ]
  },
  {
   "cell_type": "markdown",
   "id": "912c6667-d0f4-42ec-8b45-d7b99a474c9f",
   "metadata": {},
   "source": [
    "## Propulsion Systems 🏎️\n",
    "Propulsion refers to the process of pushing an object forward by producing thrust. \n",
    "\n",
    "On aircraft, thrust is generated by accelerating a fluid (yes, air is considered a fluid!) to create a force.\n",
    "\n",
    "### Newton's Third Law\n",
    "Propulsion on aircraft is possible because of Newton's Third Law which states:\n",
    "```\n",
    "Whenever one object exerts a force on another object, the second object exerts an equal and opposite on the first.\n",
    "```\n",
    "\n",
    "Air is accelerated by the engine, and the reaction to this acceleration produces a force on the engine.\n",
    "\n",
    "### Generating Thrust with Propellers:\n",
    "When a propeller spins, its blades are designed to create a pressure difference between the front and back surfaces as they move through the air. This pressure difference results in air being accelerated backward.\n",
    "\n",
    "As the propeller accelerates air backward, according to Newton's third law, there is an equal and opposite reaction force pushing the propeller forward.\n",
    "\n",
    "![Propeller Airflow](https://i.stack.imgur.com/MEXq1.jpg)\n",
    "\n",
    "[Image Source](https://aviation.stackexchange.com/questions/94588/can-you-put-a-propeller-on-the-back-of-a-plane-and-have-it-go-forward)\n",
    "\n",
    "### Generating Thrust with Engines:\n",
    "In an aircraft, the engine produces a force by expelling exhaust gases backward. According to Newton's third law, this action of expelling gases backward creates an equal and opposite reaction force, pushing the aircraft forward.\n",
    "\n",
    "Similarly, in a rocket, the expulsion of burned fuel out of the rocket nozzle generates a backward force, while the rocket moves forward due to the equal and opposite reaction force, which is the thrust.\n",
    "\n",
    "![Engine Thrust](https://www1.grc.nasa.gov/wp-content/uploads/Four-Forces-Drawn-On-A-Rocket.gif)\n",
    "\n",
    "[Image Source: NASA](https://www1.grc.nasa.gov/beginners-guide-to-aeronautics/four-rocket-forces/)"
   ]
  },
  {
   "cell_type": "markdown",
   "id": "84581551-14d2-453f-94d5-a156eb6d61ca",
   "metadata": {},
   "source": [
    "## Atmospheric Conditions 🌤️\n",
    "Atmospheric conditions play a crucial role in the performance of propulsion systems, affecting parameters such as thrust generation, engine efficiency, and overall aircraft performance. Examples of atmospheric conditions include:\n",
    "\n",
    "#### Pitch: \n",
    "Pitch describe\n",
    "\n",
    "#### Pitch: \n",
    "Pitch describe"
   ]
  },
  {
   "cell_type": "markdown",
   "id": "f94b05a9-e324-49ab-bc05-7c7a2b6f1c3f",
   "metadata": {},
   "source": [
    "## Performance Calculations ➗\n",
    "Weight and Balance"
   ]
  },
  {
   "cell_type": "markdown",
   "id": "07a43c88-38e6-4db8-8b31-8abfd5d97d60",
   "metadata": {},
   "source": [
    "# Make your own Aircraft Performance Calculator 📊"
   ]
  },
  {
   "cell_type": "code",
   "execution_count": null,
   "id": "cf3bfa00-112e-410b-9fdb-13d9203f458b",
   "metadata": {},
   "outputs": [],
   "source": []
  }
 ],
 "metadata": {
  "kernelspec": {
   "display_name": "Python 3 (ipykernel)",
   "language": "python",
   "name": "python3"
  },
  "language_info": {
   "codemirror_mode": {
    "name": "ipython",
    "version": 3
   },
   "file_extension": ".py",
   "mimetype": "text/x-python",
   "name": "python",
   "nbconvert_exporter": "python",
   "pygments_lexer": "ipython3",
   "version": "3.11.7"
  }
 },
 "nbformat": 4,
 "nbformat_minor": 5
}
