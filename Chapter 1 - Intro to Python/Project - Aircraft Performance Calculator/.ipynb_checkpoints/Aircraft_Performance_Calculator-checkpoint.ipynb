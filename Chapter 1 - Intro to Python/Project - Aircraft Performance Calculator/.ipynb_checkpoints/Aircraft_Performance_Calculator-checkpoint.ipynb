{
 "cells": [
  {
   "cell_type": "markdown",
   "id": "42ca6566-8049-4d3d-8933-7b2ca0855d35",
   "metadata": {},
   "source": [
    "# Project 1: Aircraft Performance Calculator 🛩️"
   ]
  },
  {
   "cell_type": "markdown",
   "id": "f60c853e-6a38-4cbe-8685-c7a382742281",
   "metadata": {},
   "source": [
    "## Objectives \n",
    "- Create a Python program to calculate aircraft performance metrics based on user input.\n",
    "- Incorporate formulas for range, endurance, fuel consumption, and climb performance.\n",
    "- Allow users to specify aircraft characteristics such as weight, wing area, and engine thrust.\n",
    "- Provide graphical outputs and analysis of performance trade-offs."
   ]
  },
  {
   "cell_type": "markdown",
   "id": "ba2e3c07-2a97-4652-a138-943dc09726a8",
   "metadata": {},
   "source": [
    "## Conceptual Aerospace Knowledge 🚀\n",
    "To build an aircraft performance calculator, we will cover the following aerospace / aeronautical concepts:\n",
    "- Basic Aerodynamics\n",
    "- Aircraft Performance Parameters\n",
    "- Propulsion Systems\n",
    "- Atmospheric Conditions\n",
    "- Performance Calculations"
   ]
  },
  {
   "cell_type": "markdown",
   "id": "716127eb-18b8-4efa-81fa-5bdc00b77784",
   "metadata": {},
   "source": [
    "## Basic Aerodynamics\n",
    "Aerodynamics is the study of how things fly through air. The core of aerodynamics is understanding how air flows over surfaces and how that affects engineering characteristics like speed, lift, drag resistance, and stability.\n",
    "\n",
    "#### Four Fundamental Forces of Flight\n",
    "The four forces of flight are lift, weight, thrust and drag. The interplay of these forces determines the motion of an object as it flies.\n",
    "\n",
    "![Graphic](https://www1.grc.nasa.gov/wp-content/uploads/forces.jpg)\n",
    "\n",
    "[Image Source: NASA](https://www1.grc.nasa.gov/wp-content/uploads/forces.jpg)\n",
    "\n",
    "#### Lift: \n",
    "Force that opposes gravity and keeps the object in the air\n",
    "\n",
    "#### Weight: \n",
    "Force exerted by gravity on the mass of the object\n",
    "\n",
    "#### Thrust: \n",
    "Force produced by the aircraft's engines or propulsion system that propels the aircraft forward through the air. It counteracts drag force \n",
    "\n",
    "#### Drag: \n",
    "Aerodynamic resistance aka drag is encountered by an aircraft as it moves through the air. It opposes thrust."
   ]
  },
  {
   "cell_type": "markdown",
   "id": "b76c33d9-4318-4fb5-bf85-c9f17deb8e85",
   "metadata": {},
   "source": [
    "### How do Airplanes create Lift?\n",
    "Airfoils on an airplane are shaped in such a manner that the airflow over the airflow will flow faster than the airflow under the airfoil.\n",
    "\n",
    "As the speed of airflow increases, the pressure decreases. Therefore, the air pressure above the airfoil is LESS than the airflow under the airfoil.\n",
    "\n",
    "**The pressure difference between the top and bottom of the airfoil creates LIFT.**\n",
    "\n",
    "![Airfoil Diagram](https://content.cdntwrk.com/files/aHViPTExODYyNSZjbWQ9aXRlbWVkaXRvcmltYWdlJmZpbGVuYW1lPWl0ZW1lZGl0b3JpbWFnZV82MWQ1NGNlMDA5NDZhLnBuZyZ2ZXJzaW9uPTAwMDAmc2lnPWJlZDEzZDI3NTQ0YzY2M2M5ZTg1YWY2NDlmZWEzZTJl)\n",
    "\n",
    "[Image Source: Cadence Systems](https://resources.system-analysis.cadence.com/blog/msa2022-aerodynamic-lift-explained-in-terms-of-fluid-flow)"
   ]
  },
  {
   "cell_type": "markdown",
   "id": "ac8ee188-c2a7-4ef3-9ebb-de0aa4ef1c1f",
   "metadata": {},
   "source": [
    "### Aircraft Principle Axes\n",
    "Aircraft also have an intrinsic characteristic called **attitude**.\n",
    "\n",
    "Attitude describes the orientation of the aircraft along all three dimensions centered at the center of gravity for the aircraft.\n",
    "\n",
    "Each of the axes the aircraft can orient itself around are called `principal axes` and they are `yaw, pitch, and roll`\n",
    "\n",
    "![Graphic](https://www1.grc.nasa.gov/wp-content/uploads/rotations.jpg)\n",
    "\n",
    "[Image Source: NASA](https://www1.grc.nasa.gov/beginners-guide-to-aeronautics/aircraft-rotations/)\n",
    "\n",
    "#### Yaw: \n",
    "Yaw describes a side-to-side motion of the nose of the aircraft. It is rotation about the axis perpendicular to the plane of the wings. \n",
    "\n",
    "#### Pitch: \n",
    "Pitch describes an up-and-down motion of the nose of the aircraft. It is rotation about the axis parrallel to the plane of the wings. \n",
    "\n",
    "#### Roll: \n",
    "Roll describes an up-and-down motion of the **wings** of the aircraft. It is an axis of rotation perpendicular to the other two axes with its origin at the center of gravity."
   ]
  },
  {
   "cell_type": "markdown",
   "id": "2d37d005-2edd-4a4c-849f-319df21cc5a3",
   "metadata": {},
   "source": [
    "## Aircraft Performance Parameters\n",
    "Aircraft performance parameters refer to various measurements and characteristics that describe how an aircraft performs in flight.\n",
    "\n",
    "### Basic Aircraft Performance Parameters include:\n",
    "- `Speed`: how fast an aircraft is traveling through the air\n",
    "- `Altitude`: vertical distance above a reference point, usually sea level\n",
    "- `Range`: maximum distance an aircraft can travel without refueling\n",
    "- `Endurance`: amount of time an aircraft can remain in flight on a given amount of fuel\n",
    "- `Rate of Climb`: how quickly an aircraft can ascend vertically\n",
    "- `Ceiling`: maximum altitude at which an aircraft can maintain a specified rate of climb.\n",
    "- `Payload`:  total weight of passengers, cargo, and equipment that an aircraft can carry\n",
    "- `Takeoff and Landing Performance`: takeoff distance, landing distance, and minimum runway length required for safe operations\n",
    "\n",
    "![Graphic](https://www.aopa.org/-/media/Images/Legacy/AOPA/Home/Pilot-Resources/Advanced-Flight-Training/hpaircraft.jpg)\n",
    "\n",
    "[Image Source: AOPA](https://www.aopa.org/training-and-safety/active-pilots/transitioning-to-high-performance-aircraft)"
   ]
  },
  {
   "cell_type": "markdown",
   "id": "912c6667-d0f4-42ec-8b45-d7b99a474c9f",
   "metadata": {},
   "source": [
    "## Propulsion Systems 🏎️\n",
    "Propulsion refers to the process of pushing an object forward by producing thrust. \n",
    "\n",
    "On aircraft, thrust is generated by accelerating a fluid (yes, air is considered a fluid!) to create a force.\n",
    "\n",
    "### Newton's Third Law\n",
    "Propulsion on aircraft is possible because of Newton's Third Law which states:\n",
    "```\n",
    "Whenever one object exerts a force on another object, the second object exerts an equal and opposite on the first.\n",
    "```\n",
    "\n",
    "Air is accelerated by the engine, and the reaction to this acceleration produces a force on the engine.\n",
    "\n",
    "### Generating Thrust with Propellers:\n",
    "When a propeller spins, its blades are designed to create a pressure difference between the front and back surfaces as they move through the air. This pressure difference results in air being accelerated backward.\n",
    "\n",
    "As the propeller accelerates air backward, according to Newton's third law, there is an equal and opposite reaction force pushing the propeller forward.\n",
    "\n",
    "![Propeller Airflow](https://i.stack.imgur.com/MEXq1.jpg)\n",
    "\n",
    "[Image Source](https://aviation.stackexchange.com/questions/94588/can-you-put-a-propeller-on-the-back-of-a-plane-and-have-it-go-forward)\n",
    "\n",
    "### Generating Thrust with Engines:\n",
    "In an aircraft, the engine produces a force by expelling exhaust gases backward. According to Newton's third law, this action of expelling gases backward creates an equal and opposite reaction force, pushing the aircraft forward.\n",
    "\n",
    "Similarly, in a rocket, the expulsion of burned fuel out of the rocket nozzle generates a backward force, while the rocket moves forward due to the equal and opposite reaction force, which is the thrust.\n",
    "\n",
    "![Engine Thrust](https://www1.grc.nasa.gov/wp-content/uploads/Four-Forces-Drawn-On-A-Rocket.gif)\n",
    "\n",
    "[Image Source: NASA](https://www1.grc.nasa.gov/beginners-guide-to-aeronautics/four-rocket-forces/)"
   ]
  },
  {
   "cell_type": "markdown",
   "id": "84581551-14d2-453f-94d5-a156eb6d61ca",
   "metadata": {},
   "source": [
    "## Atmospheric Conditions 🌤️\n",
    "Atmospheric conditions play a crucial role in the performance of propulsion systems, affecting parameters such as thrust generation, engine efficiency, and overall aircraft performance. Examples of atmospheric conditions include:\n",
    "\n",
    "#### Air Density: \n",
    "Mass of air molecules per unit volume. It decreases with altitude, meaning that the air is less dense at higher altitudes. Propulsion systems rely on air to generate thrust, and denser air contains more molecules for the engine to work with. Engine tend to perform better in lower altitudes because the air density is greater.\n",
    "\n",
    "#### Temperature: \n",
    "Temperature affects air density, with warmer air being less dense than colder air. In colder temperatures, air molecules are closer together, leading to higher air density. Conversely, in warmer temperatures, air molecules are more spread out, resulting in lower air density. \n",
    "\n",
    "#### Pressure: \n",
    "Atmospheric pressure decreases with altitude, which also affects air density. Lower pressure at higher altitudes means fewer air molecules available for propulsion systems to work with, resulting in reduced thrust output.\n",
    "\n",
    "#### Humidity: \n",
    "Humidity, or the amount of water vapor in the air, can affect engine performance. Moist air is less dense than dry air, which can slightly decrease engine efficiency.\n",
    "\n",
    "#### Wind:\n",
    "Wind speed and direction can impact aircraft performance during takeoff, landing, and flight. Headwinds can increase airspeed, improving engine performance and reducing takeoff and landing distances. Tailwinds, on the other hand, can decrease airspeed and may require longer runway lengths for takeoff and landing.\n",
    "\n",
    "#### Turbulence:\n",
    "Atmospheric turbulence, caused by factors such as wind shear and convective currents, can affect the stability and efficiency of propulsion systems.\n",
    "\n",
    "![Thunderstorm](https://hartzellprop.com/wp-content/uploads/GettyImages-940296124-2048x1371.jpg)\n",
    "\n",
    "[Image Source](https://hartzellprop.com/blog-summer-flying-tips-thunderstorms/)"
   ]
  },
  {
   "cell_type": "markdown",
   "id": "f94b05a9-e324-49ab-bc05-7c7a2b6f1c3f",
   "metadata": {},
   "source": [
    "## Performance Calculations ➗\n",
    "\n",
    "### Weight and Balance \n",
    "\n",
    "Performance calculations for weight and balance are essential for ensuring the safe and efficient operation of an aircraft.\n",
    "\n",
    "### Total Weight\n",
    "\n",
    "Total weight of the aircraft is calculated by summing up the operating empty weight, payload, and fuel weight.\n",
    "The below code allows you to calculate the total weight of an aircraft:"
   ]
  },
  {
   "cell_type": "code",
   "execution_count": 4,
   "id": "f2e82d77-5aea-4e61-86db-62c85882b58f",
   "metadata": {},
   "outputs": [],
   "source": [
    "def calculate_total_weight(payload, fuel_weight):\n",
    "    return operating_empty_weight + payload + fuel_weight"
   ]
  },
  {
   "cell_type": "markdown",
   "id": "097299cd-af63-4a98-a769-f2b175624ca0",
   "metadata": {},
   "source": [
    "### Center of Gravity (CG)\n",
    "\n",
    "The Center of Gravity (CG) is the point at which an aircraft would balance if it were suspended at that point. \n",
    "\n",
    "It is very important for an aircraft to maintain stable and balanced flight.\n",
    "\n",
    "To calculate the CG, you need to know the **weight** and **location** of each component. \n",
    "\n",
    "Typically, these components include the airframe, engines, fuel, passengers, cargo, and any other equipment onboard.\n",
    "\n",
    "The weight of each component is **multiplied by its distance from a reference point (datum)**. This product is called the **moment**.\n",
    "\n",
    "`Position of the CG relative to the datum = Sum of all Moments / Total Weight of the Aircraft`\n",
    "\n",
    "![COG Diagram](https://www.grc.nasa.gov/www/k-12/VirtualAero/BottleRocket/airplane/Images/acg.gif)\n",
    "\n",
    "[Image Source: NASA](https://www.grc.nasa.gov/www/k-12/VirtualAero/BottleRocket/airplane/acg.html)\n",
    "\n",
    "The following code snippet allows you to calculate the moment of an aircraft:"
   ]
  },
  {
   "cell_type": "code",
   "execution_count": null,
   "id": "632e49f6-251d-4014-b686-ffc00fbd8448",
   "metadata": {},
   "outputs": [],
   "source": [
    "def calculate_cg_position(moment_list, total_weight):\n",
    "    total_moment = sum(moment_list)\n",
    "    return total_moment / total_weight"
   ]
  },
  {
   "cell_type": "markdown",
   "id": "9ef45262-9b3c-493d-9965-3ec2e5401461",
   "metadata": {},
   "source": [
    "### Moment\n",
    "Moment is a measure of the rotational force created by a weight acting at a distance from a reference point.\n",
    "\n",
    "```\n",
    "Moment = Weight x Distance\n",
    "```\n",
    "\n",
    "The code below allows you to calculate the moment given the weight and length of an arm:"
   ]
  },
  {
   "cell_type": "code",
   "execution_count": 6,
   "id": "6d34e65f-fdd9-4097-b742-1a0d88ef2d9f",
   "metadata": {},
   "outputs": [],
   "source": [
    "def calculate_moment(weight, arm):\n",
    "    return weight * arm"
   ]
  },
  {
   "cell_type": "markdown",
   "id": "a77957ae-6df9-432b-843e-eef3bd91b10a",
   "metadata": {},
   "source": [
    "### Equations of Motion\n",
    "\n",
    "`Lift`: Calculates the lift force based on lift coefficient (cl), air density (rho), velocity (v), and wing surface area (s)\n",
    "\n",
    "`Drag`: Calculates the drag force based on drag coefficient (cd), air density (rho), velocity (v), and aircraft cross-sectional area (s)\n",
    "\n",
    "`Weight`: Calculates the weight force based on the mass of the aircraft (mass) and gravitational acceleration (g)\n",
    "\n",
    "`Acceleration`: Calculates the acceleration of the aircraft based on thrust, drag, and weight forces, and the mass of the aircraft\n",
    "\n",
    "`Velocity`: Calculates the velocity of the aircraft at the next time step based on the current velocity, acceleration, and time elapsed\n",
    "\n",
    "`Distance`: Calculates the distance traveled by the aircraft at the next time step based on the current velocity and time elapsed\n",
    "\n",
    "![Equations of Motion Diagram](https://www.grc.nasa.gov/www/k-12/VirtualAero/BottleRocket/airplane/Images/motion.gif)\n",
    "\n",
    "[Image Source: NASA](https://www.grc.nasa.gov/www/k-12/VirtualAero/BottleRocket/airplane/motion.html)"
   ]
  },
  {
   "cell_type": "code",
   "execution_count": 8,
   "id": "cb134cca-4f5c-418b-a54f-7920f83afd9e",
   "metadata": {},
   "outputs": [],
   "source": [
    "def calculate_lift(cl, rho, v, s):\n",
    "    return 0.5 * cl * rho * v**2 * s\n",
    "\n",
    "def calculate_drag(cd, rho, v, s):\n",
    "    return 0.5 * cd * rho * v**2 * s\n",
    "\n",
    "def calculate_weight(mass, g):\n",
    "    return mass * g\n",
    "\n",
    "def calculate_acceleration(thrust, drag, weight, mass):\n",
    "    return (thrust - drag - weight) / mass\n",
    "\n",
    "def calculate_velocity(velocity, acceleration, time):\n",
    "    return velocity + acceleration * time\n",
    "\n",
    "def calculate_distance(velocity, time):\n",
    "    return velocity * time"
   ]
  },
  {
   "cell_type": "markdown",
   "id": "41d03f66-1eb4-467e-83bc-7e0aef526c91",
   "metadata": {},
   "source": [
    "### Endurance & Range\n",
    "Endurance and range are important for computing the distance capacity of an aircraft.\n",
    "\n",
    "`Endurance`: total distance on a tank of fuel\n",
    "\n",
    "`Range`: total time an aircraft can stay aloft on a tank of fuel"
   ]
  },
  {
   "cell_type": "code",
   "execution_count": 9,
   "id": "826d79bd-3f14-4ce8-b62c-045e34dc35ba",
   "metadata": {},
   "outputs": [],
   "source": [
    "def calculate_range(fuel_capacity, fuel_consumption_rate, true_air_speed):\n",
    "    range_in_hours = fuel_capacity / fuel_consumption_rate\n",
    "    range_in_miles = range_in_hours * true_air_speed\n",
    "    return range_in_miles\n",
    "\n",
    "def calculate_endurance(fuel_capacity, fuel_consumption_rate):\n",
    "    endurance_in_hours = fuel_capacity / fuel_consumption_rate\n",
    "    return endurance_in_hours"
   ]
  },
  {
   "cell_type": "markdown",
   "id": "07a43c88-38e6-4db8-8b31-8abfd5d97d60",
   "metadata": {},
   "source": [
    "# Make your own Aircraft Performance Calculator 📊\n",
    "You are an up and coming engineering intern at \"SkyWing Aviators\" where you are tasked with writing a computer program that meets the following standards:\n",
    "\n",
    "## Objective: \n",
    "1. Complete all the code required for each of the pre-defined performance calculations functions\n",
    "2. Print all the performance calculations using the `pretty_print` function\n",
    "3. Save all the contents into a text file entitled `aircraft_performance_analysis`\n",
    "4. Utilize the hard-coded variable values below\n",
    "\n",
    "## Expected Output for Print Statements\n",
    "```\n",
    "Performance Calculations:\n",
    "Range: 3000.0 miles\n",
    "Endurance: 20.0 hours\n",
    "Total Weight: 11000 pounds\n",
    "Center of Gravity Position: 1.1363636363636365 feet\n",
    "Lift: 183750.0 Newtons\n",
    "Drag: 2450.0 Newtons\n",
    "Weight: 49050.0 Newtons\n",
    "Acceleration: -9.1 m/s^2\n",
    "Velocity: -41.0 m/s\n",
    "Distance: -410.0 meters\n",
    "```"
   ]
  },
  {
   "cell_type": "code",
   "execution_count": 24,
   "id": "3833bc58-67fc-4daf-8be1-3c7ea3d32894",
   "metadata": {},
   "outputs": [],
   "source": [
    "# Pre-defined variable values\n",
    "fuel_capacity = 1000  # gallons\n",
    "fuel_consumption_rate = 50  # gallons per hour\n",
    "true_air_speed = 150  # knots\n",
    "payload = 5000  # pounds\n",
    "fuel_weight = 6000  # pounds\n",
    "moment_list = [10000, 2500]  # pound-feet\n",
    "total_weight = 1500  # pounds\n",
    "cl = 1.5  # lift coefficient\n",
    "rho = 1.225  # air density in kg/m^3\n",
    "v = 100  # velocity in m/s\n",
    "s = 20  # wing area in m^2\n",
    "cd = 0.02  # drag coefficient\n",
    "mass = 5000  # mass in kg\n",
    "g = 9.81  # acceleration due to gravity in m/s^2\n",
    "thrust = 6000  # thrust in N\n",
    "drag = 5000  # drag in N\n",
    "velocity = 50  # initial velocity in m/s\n",
    "acceleration = 2  # acceleration in m/s^2\n",
    "time = 10  # time in seconds"
   ]
  },
  {
   "cell_type": "code",
   "execution_count": 25,
   "id": "675cec43-cdd1-4a23-9169-9f9f81bb7a69",
   "metadata": {},
   "outputs": [],
   "source": [
    "# Helper function to pretty print performance data\n",
    "def pretty_print(range_, endurance, total_weight, cg_position, lift, drag, weight, acceleration, velocity, distance):\n",
    "    print(\"Performance Calculations:\")\n",
    "    print(\"Range: {} miles\".format(range_))\n",
    "    print(\"Endurance: {} hours\".format(endurance))\n",
    "    print(\"Total Weight: {} pounds\".format(total_weight))\n",
    "    print(\"Center of Gravity Position: {} feet\".format(cg_position))\n",
    "    print(\"Lift: {} Newtons\".format(lift))\n",
    "    print(\"Drag: {} Newtons\".format(drag))\n",
    "    print(\"Weight: {} Newtons\".format(weight))\n",
    "    print(\"Acceleration: {} m/s^2\".format(acceleration))\n",
    "    print(\"Velocity: {} m/s\".format(velocity))\n",
    "    print(\"Distance: {} meters\".format(distance))"
   ]
  },
  {
   "cell_type": "markdown",
   "id": "962a66ee-d06b-4603-8ba6-d0e9968f2ccb",
   "metadata": {},
   "source": [
    "## Step 1: Write all the Performance Calculation Code"
   ]
  },
  {
   "cell_type": "code",
   "execution_count": 13,
   "id": "3f3f1603-5a40-4521-b2ea-1c06d10d4228",
   "metadata": {},
   "outputs": [
    {
     "ename": "IndentationError",
     "evalue": "expected an indented block after function definition on line 1 (1150360813.py, line 4)",
     "output_type": "error",
     "traceback": [
      "\u001b[0;36m  Cell \u001b[0;32mIn[13], line 4\u001b[0;36m\u001b[0m\n\u001b[0;31m    def calculate_endurance(fuel_capacity, fuel_consumption_rate):\u001b[0m\n\u001b[0m    ^\u001b[0m\n\u001b[0;31mIndentationError\u001b[0m\u001b[0;31m:\u001b[0m expected an indented block after function definition on line 1\n"
     ]
    }
   ],
   "source": [
    "def calculate_range(fuel_capacity, fuel_consumption_rate, true_air_speed):\n",
    "    # INSERT CODE HERE\n",
    "\n",
    "def calculate_endurance(fuel_capacity, fuel_consumption_rate):\n",
    "    # INSERT CODE HERE\n",
    "\n",
    "def calculate_total_weight(payload, fuel_weight):\n",
    "    # INSERT CODE HERE\n",
    "\n",
    "def calculate_cg_position(moment_list, total_weight):\n",
    "    # INSERT CODE HERE\n",
    "\n",
    "def calculate_moment(weight, arm):\n",
    "    # INSERT CODE HERE\n",
    "\n",
    "def calculate_lift(cl, rho, v, s):\n",
    "    # INSERT CODE HERE\n",
    "\n",
    "def calculate_drag(cd, rho, v, s):\n",
    "    # INSERT CODE HERE\n",
    "\n",
    "def calculate_weight(mass, g):\n",
    "    # INSERT CODE HERE\n",
    "\n",
    "def calculate_acceleration(thrust, drag, weight, mass):\n",
    "    # INSERT CODE HERE\n",
    "\n",
    "def calculate_velocity(velocity, acceleration, time):\n",
    "    # INSERT CODE HERE\n",
    "\n",
    "def calculate_distance(velocity, time):\n",
    "    # INSERT CODE HERE"
   ]
  },
  {
   "cell_type": "markdown",
   "id": "1b7c8a5d-8618-4797-b5fd-38938b64e2f8",
   "metadata": {},
   "source": [
    "## Step 2: Pretty Print all Values"
   ]
  },
  {
   "cell_type": "code",
   "execution_count": 26,
   "id": "cdb12a62-a231-42fd-aa50-d574356e46dc",
   "metadata": {},
   "outputs": [],
   "source": [
    "# INSERT CODE HERE"
   ]
  },
  {
   "cell_type": "markdown",
   "id": "58c0f48b-083d-4f68-869d-de1051216bfe",
   "metadata": {},
   "source": [
    "## Step 3: Save Performance Values into Text File"
   ]
  },
  {
   "cell_type": "code",
   "execution_count": 23,
   "id": "aa2c0e1b-ee48-493c-8045-8a40a13fb988",
   "metadata": {},
   "outputs": [
    {
     "ename": "SyntaxError",
     "evalue": "incomplete input (810551574.py, line 2)",
     "output_type": "error",
     "traceback": [
      "\u001b[0;36m  Cell \u001b[0;32mIn[23], line 2\u001b[0;36m\u001b[0m\n\u001b[0;31m    # INSERT CODE HERE\u001b[0m\n\u001b[0m                      ^\u001b[0m\n\u001b[0;31mSyntaxError\u001b[0m\u001b[0;31m:\u001b[0m incomplete input\n"
     ]
    }
   ],
   "source": [
    "def save_info_to_file(range_, endurance, total_weight, cg_position, lift, drag, weight, acceleration, velocity, distance, file):\n",
    "    # INSERT CODE HERE"
   ]
  },
  {
   "cell_type": "markdown",
   "id": "2abd0ea0-706e-49d7-bab7-cb49480b91e4",
   "metadata": {},
   "source": [
    "Congratulations! You have officially learned the foundations of flight and created a nifty aircraft performance calculator!\n",
    "You are well on your way to mastering the basics of Python and enhacing your aerospace knowledge.\n",
    "In the next module, we will focus on popular Python libraries for space applications and orbital mechanics!"
   ]
  }
 ],
 "metadata": {
  "kernelspec": {
   "display_name": "Python 3 (ipykernel)",
   "language": "python",
   "name": "python3"
  },
  "language_info": {
   "codemirror_mode": {
    "name": "ipython",
    "version": 3
   },
   "file_extension": ".py",
   "mimetype": "text/x-python",
   "name": "python",
   "nbconvert_exporter": "python",
   "pygments_lexer": "ipython3",
   "version": "3.11.7"
  }
 },
 "nbformat": 4,
 "nbformat_minor": 5
}
