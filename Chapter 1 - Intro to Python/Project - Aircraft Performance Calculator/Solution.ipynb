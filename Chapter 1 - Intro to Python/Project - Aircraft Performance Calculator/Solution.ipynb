{
 "cells": [
  {
   "cell_type": "markdown",
   "id": "da0593ad-4b9d-455d-86c0-d2bd3d565eca",
   "metadata": {},
   "source": [
    "# Make your own Aircraft Performance Calculator 📊\n",
    "You are an up and coming engineering intern at \"SkyWing Aviators\" where you are tasked with writing a computer program that meets the following standards:\n",
    "\n",
    "## Objective: \n",
    "1. Complete all the code required for each of the pre-defined performance calculations functions\n",
    "2. Print all the performance calculations using the `pretty_print` function\n",
    "3. Save all the contents into a text file entitled `aircraft_performance_analysis`\n",
    "4. Utilize the hard-coded variable values below\n",
    "\n",
    "## Expected Output for Print Statements\n",
    "```\n",
    "Performance Calculations:\n",
    "Range: 3000.0 miles\n",
    "Endurance: 20.0 hours\n",
    "Total Weight: 11000 pounds\n",
    "Center of Gravity Position: 1.1363636363636365 feet\n",
    "Lift: 183750.0 Newtons\n",
    "Drag: 2450.0 Newtons\n",
    "Weight: 49050.0 Newtons\n",
    "Acceleration: -9.1 m/s^2\n",
    "Velocity: -41.0 m/s\n",
    "Distance: -410.0 meters\n",
    "```"
   ]
  },
  {
   "cell_type": "code",
   "execution_count": 4,
   "id": "36d28823-3089-4c36-b447-14194cb36301",
   "metadata": {},
   "outputs": [],
   "source": [
    "# Pre-defined variable values\n",
    "fuel_capacity = 1000  # gallons\n",
    "fuel_consumption_rate = 50  # gallons per hour\n",
    "true_air_speed = 150  # knots\n",
    "payload = 5000  # pounds\n",
    "fuel_weight = 6000  # pounds\n",
    "moment_list = [10000, 2500]  # pound-feet\n",
    "total_weight = 1500  # pounds\n",
    "cl = 1.5  # lift coefficient\n",
    "rho = 1.225  # air density in kg/m^3\n",
    "v = 100  # velocity in m/s\n",
    "s = 20  # wing area in m^2\n",
    "cd = 0.02  # drag coefficient\n",
    "mass = 5000  # mass in kg\n",
    "g = 9.81  # acceleration due to gravity in m/s^2\n",
    "thrust = 6000  # thrust in N\n",
    "drag = 5000  # drag in N\n",
    "velocity = 50  # initial velocity in m/s\n",
    "acceleration = 2  # acceleration in m/s^2\n",
    "time = 10  # time in seconds"
   ]
  },
  {
   "cell_type": "code",
   "execution_count": 5,
   "id": "53e47efe-9037-4602-928a-62a10e34b7c3",
   "metadata": {},
   "outputs": [],
   "source": [
    "# Helper function to pretty print performance data\n",
    "def pretty_print(range_, endurance, total_weight, cg_position, lift, drag, weight, acceleration, velocity, distance):\n",
    "    print(\"Performance Calculations:\")\n",
    "    print(\"Range: {} miles\".format(range_))\n",
    "    print(\"Endurance: {} hours\".format(endurance))\n",
    "    print(\"Total Weight: {} pounds\".format(total_weight))\n",
    "    print(\"Center of Gravity Position: {} feet\".format(cg_position))\n",
    "    print(\"Lift: {} Newtons\".format(lift))\n",
    "    print(\"Drag: {} Newtons\".format(drag))\n",
    "    print(\"Weight: {} Newtons\".format(weight))\n",
    "    print(\"Acceleration: {} m/s^2\".format(acceleration))\n",
    "    print(\"Velocity: {} m/s\".format(velocity))\n",
    "    print(\"Distance: {} meters\".format(distance))"
   ]
  },
  {
   "cell_type": "markdown",
   "id": "7182afda-ae13-4cf4-bacb-571cc4f6dd4a",
   "metadata": {},
   "source": [
    "## Step 1: Write all the Performance Calculation Code"
   ]
  },
  {
   "cell_type": "code",
   "execution_count": 6,
   "id": "f1ad8160-3c81-4072-90e8-397fffbc6997",
   "metadata": {},
   "outputs": [],
   "source": [
    "def calculate_range(fuel_capacity, fuel_consumption_rate, true_air_speed):\n",
    "    range_in_hours = fuel_capacity / fuel_consumption_rate\n",
    "    range_in_miles = range_in_hours * true_air_speed\n",
    "    return range_in_miles\n",
    "\n",
    "# Function to calculate endurance\n",
    "def calculate_endurance(fuel_capacity, fuel_consumption_rate):\n",
    "    endurance_in_hours = fuel_capacity / fuel_consumption_rate\n",
    "    return endurance_in_hours\n",
    "\n",
    "# Function to calculate total weight\n",
    "def calculate_total_weight(payload, fuel_weight):\n",
    "    return payload + fuel_weight\n",
    "\n",
    "# Function to calculate center of gravity position\n",
    "def calculate_cg_position(moment_list, total_weight):\n",
    "    total_moment = sum(moment_list)\n",
    "    cg_position = total_moment / total_weight\n",
    "    return cg_position\n",
    "\n",
    "# Function to calculate moment\n",
    "def calculate_moment(weight, arm):\n",
    "    return weight * arm\n",
    "\n",
    "# Function to calculate lift\n",
    "def calculate_lift(cl, rho, v, s):\n",
    "    return 0.5 * cl * rho * v**2 * s\n",
    "\n",
    "# Function to calculate drag\n",
    "def calculate_drag(cd, rho, v, s):\n",
    "    return 0.5 * cd * rho * v**2 * s\n",
    "\n",
    "# Function to calculate weight\n",
    "def calculate_weight(mass, g):\n",
    "    return mass * g\n",
    "\n",
    "# Function to calculate acceleration\n",
    "def calculate_acceleration(thrust, drag, weight, mass):\n",
    "    return (thrust - drag - weight) / mass\n",
    "\n",
    "# Function to calculate velocity\n",
    "def calculate_velocity(velocity, acceleration, time):\n",
    "    return velocity + acceleration * time\n",
    "\n",
    "# Function to calculate distance\n",
    "def calculate_distance(velocity, time):\n",
    "    return velocity * time"
   ]
  },
  {
   "cell_type": "markdown",
   "id": "debef3ba-65fe-4267-8171-f00d42bf4550",
   "metadata": {},
   "source": [
    "## Step 2: Pretty Print all Values"
   ]
  },
  {
   "cell_type": "code",
   "execution_count": 7,
   "id": "84076f68-39ee-48ba-acbd-cf6c79a903e1",
   "metadata": {},
   "outputs": [
    {
     "name": "stdout",
     "output_type": "stream",
     "text": [
      "Performance Calculations:\n",
      "Range: 3000.0 miles\n",
      "Endurance: 20.0 hours\n",
      "Total Weight: 11000 pounds\n",
      "Center of Gravity Position: 1.1363636363636365 feet\n",
      "Lift: 183750.0 Newtons\n",
      "Drag: 2450.0 Newtons\n",
      "Weight: 49050.0 Newtons\n",
      "Acceleration: -9.1 m/s^2\n",
      "Velocity: -41.0 m/s\n",
      "Distance: -410.0 meters\n"
     ]
    }
   ],
   "source": [
    "# Perform calculations\n",
    "range_ = calculate_range(fuel_capacity, fuel_consumption_rate, true_air_speed)\n",
    "endurance = calculate_endurance(fuel_capacity, fuel_consumption_rate)\n",
    "total_weight = calculate_total_weight(payload, fuel_weight)\n",
    "cg_position = calculate_cg_position(moment_list, total_weight)\n",
    "lift = calculate_lift(cl, rho, v, s)\n",
    "drag = calculate_drag(cd, rho, v, s)\n",
    "weight = calculate_weight(mass, g)\n",
    "acceleration = calculate_acceleration(thrust, drag, weight, mass)\n",
    "velocity = calculate_velocity(velocity, acceleration, time)\n",
    "distance = calculate_distance(velocity, time)\n",
    "\n",
    "pretty_print(range_, endurance, total_weight, cg_position, lift, drag, weight, acceleration, velocity, distance)"
   ]
  },
  {
   "cell_type": "markdown",
   "id": "00ff8e11-28b7-49c7-8a94-3aef3a14145c",
   "metadata": {},
   "source": [
    "## Step 3: Save Performance Values into Text File"
   ]
  },
  {
   "cell_type": "code",
   "execution_count": 12,
   "id": "394bc04b-9962-4d57-a845-108335b33d06",
   "metadata": {},
   "outputs": [],
   "source": [
    "def save_info_to_file(range_, endurance, total_weight, cg_position, lift, drag, weight, acceleration, velocity, distance, file):\n",
    "    file.write(\"Performance Calculations:\\n\")\n",
    "    file.write(\"Range: {} miles\\n\".format(range_))\n",
    "    file.write(\"Endurance: {} hours\\n\".format(endurance))\n",
    "    file.write(\"Total Weight: {} pounds\\n\".format(total_weight))\n",
    "    file.write(\"Center of Gravity Position: {} feet\\n\".format(cg_position))\n",
    "    file.write(\"Lift: {} Newtons\\n\".format(lift))\n",
    "    file.write(\"Drag: {} Newtons\\n\".format(drag))\n",
    "    file.write(\"Weight: {} Newtons\\n\".format(weight))\n",
    "    file.write(\"Acceleration: {} m/s^2\\n\".format(acceleration))\n",
    "    file.write(\"Velocity: {} m/s\\n\".format(velocity))\n",
    "    file.write(\"Distance: {} meters\\n\".format(distance))"
   ]
  },
  {
   "cell_type": "code",
   "execution_count": 14,
   "id": "d8a70cac-e235-4ab0-955e-905c4c36df5c",
   "metadata": {},
   "outputs": [],
   "source": [
    "with open('aircraft_performance_analysis.txt', 'w') as f:\n",
    "    save_info_to_file(range_, endurance, total_weight, cg_position, lift, drag, weight, acceleration, velocity, distance, file=f)"
   ]
  }
 ],
 "metadata": {
  "kernelspec": {
   "display_name": "Python 3 (ipykernel)",
   "language": "python",
   "name": "python3"
  },
  "language_info": {
   "codemirror_mode": {
    "name": "ipython",
    "version": 3
   },
   "file_extension": ".py",
   "mimetype": "text/x-python",
   "name": "python",
   "nbconvert_exporter": "python",
   "pygments_lexer": "ipython3",
   "version": "3.11.7"
  }
 },
 "nbformat": 4,
 "nbformat_minor": 5
}
