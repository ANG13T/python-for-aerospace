{
 "cells": [
  {
   "cell_type": "markdown",
   "id": "a71342fd-5463-411a-b0e3-2f17c75aa7c5",
   "metadata": {},
   "source": [
    "# Lesson 3: Control Structures"
   ]
  },
  {
   "cell_type": "markdown",
   "id": "64ea3ddc-8d79-47cb-abfb-94483f785576",
   "metadata": {},
   "source": [
    "## Control Structures in Python\n",
    "Control structures are programming constructs that allow you to control the flow of execution in your code. \n",
    "They determine which statements are executed under certain conditions or how many times a statement is executed. \n",
    "There are three types of control structures:\n",
    "\n",
    "`Loops`: used to execute a block of code repeatedly\n",
    "\n",
    "`Conditionals`: allow you to execute different blocks of code based on whether a condition is true or false\n",
    "\n",
    "`Control Statements`: Used to control the flow of execution within loops and conditional statements"
   ]
  },
  {
   "cell_type": "markdown",
   "id": "7e6fc1fd-ebd6-43f7-b8d6-17710df6fd30",
   "metadata": {},
   "source": [
    "## Loops 🔁\n",
    "Loops in Pytohn are used to execute a block of code repeatedly.\n",
    "There are two main types of loops: `for` and `while`.\n",
    "\n",
    "### For Loops\n",
    "For loops are used to iterate over a sequence (e.g., a list, tuple, or string) or an iterable object. They execute a block of code once for each item in the sequence. For instance, this code prints out every item inside the `planets` list"
   ]
  },
  {
   "cell_type": "code",
   "execution_count": 6,
   "id": "9b14b163-c1db-4d99-ab2b-d2f0aa2a3533",
   "metadata": {},
   "outputs": [
    {
     "name": "stdout",
     "output_type": "stream",
     "text": [
      "Earth\n",
      "Mars\n",
      "Venus\n",
      "Mercury\n"
     ]
    }
   ],
   "source": [
    "planets = [\"Earth\", \"Mars\", \"Venus\", \"Mercury\"]\n",
    "for planet in planets:\n",
    "    print(planet)"
   ]
  },
  {
   "cell_type": "markdown",
   "id": "78ec3144-ea8a-40c3-a1e7-484bc46706c6",
   "metadata": {},
   "source": [
    "### While Loops\n",
    "While loops repeatedly execute a block of code as long as a specified condition is true. They continue iterating until the condition becomes false. For example, the following code operates until the number `i` reaches 5 and then it terminates since the condition `i <= 5` will evaluate to `False`"
   ]
  },
  {
   "cell_type": "code",
   "execution_count": 13,
   "id": "91f5b4a1-b235-476e-9950-2014ea54d20f",
   "metadata": {},
   "outputs": [
    {
     "name": "stdout",
     "output_type": "stream",
     "text": [
      "1\n",
      "2\n",
      "3\n",
      "4\n",
      "5\n",
      "6\n",
      "7\n",
      "8\n",
      "9\n",
      "10\n"
     ]
    }
   ],
   "source": [
    "i = 1\n",
    "while i <= 10:\n",
    "    print(i)\n",
    "    i += 1"
   ]
  },
  {
   "cell_type": "markdown",
   "id": "dff3ba63-30f9-4eec-b4ce-095123e21207",
   "metadata": {},
   "source": [
    "## Conditionals ❓\n",
    "Conditionals allow you to execute different blocks of code based on whether a condition is true or false.\n",
    "There are three main types of conditional statements `if`, `elif`, and `else`."
   ]
  },
  {
   "cell_type": "markdown",
   "id": "9385ef10-81f0-4e25-ace0-c0d2352fd810",
   "metadata": {},
   "source": [
    "### If Statements\n",
    "If statements are used to execute a block of code only if a specified condition is true.\n",
    "For example, this code will only print out text if the number is greater than 10."
   ]
  },
  {
   "cell_type": "code",
   "execution_count": 15,
   "id": "a23e275a-fe00-4d35-b7be-9917882acf4b",
   "metadata": {},
   "outputs": [
    {
     "name": "stdout",
     "output_type": "stream",
     "text": [
      "Number is larger than 10!\n"
     ]
    }
   ],
   "source": [
    "number = 20\n",
    "if number > 10:\n",
    "    print(\"Number is larger than 10!\")"
   ]
  },
  {
   "cell_type": "markdown",
   "id": "f543d6aa-6590-48a2-8da6-bfdef7a32b26",
   "metadata": {},
   "source": [
    "### Elif Statements\n",
    "Elif statements are used to check additional conditions if the preceding if statement or elif statement(s) evaluate to false.\n",
    "For example, the following code will revert to the elif statement if the number does not meet the initial condition and evaluates to `2` "
   ]
  },
  {
   "cell_type": "code",
   "execution_count": 18,
   "id": "118813d8-be02-44f3-bf7e-5e9438d1464e",
   "metadata": {},
   "outputs": [],
   "source": [
    "number = 0\n",
    "if number > 10:\n",
    "    print(\"Number is larger than 10!\")\n",
    "elif number == 2:\n",
    "    print(\"Number is 2!\")"
   ]
  },
  {
   "cell_type": "markdown",
   "id": "22de56be-ba54-4ae2-9d88-e77c07f408b7",
   "metadata": {},
   "source": [
    "### Else Statements\n",
    "Else statements are used to execute a block of code if none of the preceding if or elif statements evaluate to true.\n",
    "For instance, the following code will revert to the else statement since it does not qualify for the `if` and `elif` conditions:"
   ]
  },
  {
   "cell_type": "code",
   "execution_count": 19,
   "id": "3a791037-c3c2-4a91-98bb-6b384a37ff4c",
   "metadata": {},
   "outputs": [
    {
     "name": "stdout",
     "output_type": "stream",
     "text": [
      "Number is smaller than 10 AND is NOT 2\n"
     ]
    }
   ],
   "source": [
    "number = 6\n",
    "if number > 10:\n",
    "    print(\"Number is larger than 10!\")\n",
    "elif number == 2:\n",
    "    print(\"Number is 2!\")\n",
    "else:\n",
    "    print(\"Number is smaller than 10 AND is NOT 2\")"
   ]
  },
  {
   "cell_type": "markdown",
   "id": "47c3984c-c1df-4673-99c1-2c744ec6f173",
   "metadata": {},
   "source": [
    "### Exercise 1: Loops and Celestial Object Luminosities ☀️\n",
    "You are an astronomer recruited to analyze the luminosity of celestial objects in the night sky.\n",
    "\n",
    "#### Objective: \n",
    "- Print out all the names of the celestial bodies using a `for` loop\n",
    "- Initialize an array variable to contain only the luminosities of the solar objects\n",
    "- Iterate over the luminosities using a `while` loop AND use a conditional print out all the celestial bodies with a luminosity of less than 200 solar units\n",
    "\n",
    "#### HINT: you can iterate over an object `celestial_objects` like the following:\n",
    "```\n",
    "for obj in celestial_objects.items():\n",
    "    print(obj[0] + \":\", obj[1], \"solar units\")\n",
    "```\n",
    "\n",
    "The above should print out the following:\n",
    "```\n",
    "Sirius: 25 solar units\n",
    "Andromeda Galaxy: 1000000 solar units\n",
    "Jupiter: 6.0e-05 solar units\n",
    "Pleiades: 100 solar units\n",
    "Orion Nebula: 10000 solar units\n",
    "```\n",
    "\n",
    "#### EXPECTED OUTPUT:\n",
    "```\n",
    "Sirius\n",
    "Andromeda Galaxy\n",
    "Jupiter\n",
    "Pleiades\n",
    "Orion Nebula\n",
    "\n",
    "\n",
    "25\n",
    "6e-05\n",
    "100\n",
    "```"
   ]
  },
  {
   "cell_type": "code",
   "execution_count": 20,
   "id": "dc4c5ece-3936-4778-96e9-642fcdaec075",
   "metadata": {},
   "outputs": [],
   "source": [
    "celestial_objects = {\n",
    "    \"Sirius\": 25,  # Sirius is one of the brightest stars in the night sky\n",
    "    \"Andromeda Galaxy\": 1000000,  # Andromeda Galaxy has a very high luminosity\n",
    "    \"Jupiter\": 0.00006,  # Jupiter reflects sunlight but has low intrinsic luminosity\n",
    "    \"Pleiades\": 100,  # The Pleiades star cluster is moderately luminous\n",
    "    \"Orion Nebula\": 10000  # The Orion Nebula is a bright emission nebula\n",
    "}"
   ]
  },
  {
   "cell_type": "code",
   "execution_count": null,
   "id": "d642f1e3-10fd-46fe-8ca5-47ab7bc20ade",
   "metadata": {},
   "outputs": [],
   "source": []
  },
  {
   "cell_type": "markdown",
   "id": "e46082ca-c607-4587-9847-6c8da27481b4",
   "metadata": {},
   "source": [
    "## Control Flow Statements ⏭️\n",
    "These statements change the normal flow of code execution. They include commands like `break`, `continue`, and `pass`, which allow you to exit a loop early, skip certain iterations, or do nothing in a particular case."
   ]
  },
  {
   "cell_type": "markdown",
   "id": "b19c1362-a21f-403f-a149-e1a7d943b2d8",
   "metadata": {},
   "source": [
    "### Break Statement\n",
    "A `break` statement allows you to exit a loop early when a specific condition is met.\n",
    "For example, the following code will stop iterating over the planets array when the item goes to `Mars`:"
   ]
  },
  {
   "cell_type": "code",
   "execution_count": 25,
   "id": "b7cddd20-2455-4cb5-8977-a5407ffc4bb2",
   "metadata": {},
   "outputs": [
    {
     "name": "stdout",
     "output_type": "stream",
     "text": [
      "Mercury\n",
      "Venus\n",
      "Earth\n"
     ]
    }
   ],
   "source": [
    "for planet in [\"Mercury\", \"Venus\", \"Earth\", \"Mars\", \"Jupiter\"]:\n",
    "    if planet == \"Mars\":\n",
    "        break\n",
    "    print(planet)"
   ]
  },
  {
   "cell_type": "markdown",
   "id": "d8e11fd6-85b0-4de5-bc84-12f9c0085b3b",
   "metadata": {},
   "source": [
    "### Continue Statement\n",
    "A `continue` statement allows you to skip an item within a loop when a specific condition is met.\n",
    "For example, the following code will skip over the `Earth` item preventing it from being printed:"
   ]
  },
  {
   "cell_type": "code",
   "execution_count": 26,
   "id": "93c56ac5-6674-4674-936f-87911e8c0ac4",
   "metadata": {},
   "outputs": [
    {
     "name": "stdout",
     "output_type": "stream",
     "text": [
      "Mercury\n",
      "Venus\n",
      "Mars\n",
      "Jupiter\n"
     ]
    }
   ],
   "source": [
    "for planet in [\"Mercury\", \"Venus\", \"Earth\", \"Mars\", \"Jupiter\"]:\n",
    "    if planet == \"Earth\":\n",
    "        continue\n",
    "    print(planet)"
   ]
  },
  {
   "cell_type": "markdown",
   "id": "fcd96ac0-98e5-4e88-b672-99225a10ad87",
   "metadata": {},
   "source": [
    "### Pass Statement\n",
    "A `pass` statement is a null operation; it does nothing when executed. It's typically used as a placeholder in places where Python syntax requires a statement but no action is desired. For example, the following code will *skip* over `Mercury` effectively acting as a placeholder."
   ]
  },
  {
   "cell_type": "code",
   "execution_count": 27,
   "id": "bedffd8d-c64e-450c-88db-d174ace62c82",
   "metadata": {},
   "outputs": [
    {
     "name": "stdout",
     "output_type": "stream",
     "text": [
      "Mercury\n",
      "Venus\n",
      "Our Home!\n",
      "Earth\n",
      "Mars\n",
      "Jupiter\n"
     ]
    }
   ],
   "source": [
    "for planet in [\"Mercury\", \"Venus\", \"Earth\", \"Mars\", \"Jupiter\"]:\n",
    "    if planet == \"Mercury\":\n",
    "        pass\n",
    "    elif planet == \"Earth\":\n",
    "        print(\"Our Home!\")\n",
    "    print(planet)"
   ]
  },
  {
   "cell_type": "markdown",
   "id": "4374f575-4e1d-4578-ae6e-9d8d5c31e4c2",
   "metadata": {},
   "source": [
    "### Exercise 2: Mission Control Flow 📡\n",
    "You are tasked with creating a simple Python program to simulate space mission control operations. The program should incorporate various control flow structures to manage different aspects of the mission.\n",
    "\n",
    "#### Objective: \n",
    "- Initialize a `while` loop that runs when the mission time is less than or equal to the mission duration\n",
    "- Within the `while` loop, decrease the distance to the destination by the distance traveled per hour\n",
    "- Within the `while` loop, decrease the fuel level by the fuel consumption rate\n",
    "- Within the `while` loop, print out the fuel level, mission time, and fuel level\n",
    "- Break out the `while` loop if fuel level OR distance to the destination is less than or equal to 0\n",
    "- Increment the mission duration by one after each time "
   ]
  },
  {
   "cell_type": "code",
   "execution_count": 28,
   "id": "47834c28-c158-415c-aef6-f1b6f8a64bad",
   "metadata": {},
   "outputs": [],
   "source": [
    "mission_duration = 10  # Duration of the mission in hours\n",
    "fuel_level = 1000  # Initial fuel level in gallons\n",
    "distance_to_destination = 500000  # Distance to the destination in kilometers\n",
    "mission_time = 0  # Initialize mission time\n",
    "fuel_consumption_rate = 50  # gallons per hour \n",
    "distance_traveled_per_hour = 50000  # kilometers per hour"
   ]
  },
  {
   "cell_type": "code",
   "execution_count": null,
   "id": "b733f525-b7fd-4bd9-aae2-484479963d06",
   "metadata": {},
   "outputs": [],
   "source": []
  },
  {
   "cell_type": "markdown",
   "id": "1729bac0-578e-44da-af45-a14f99c0213e",
   "metadata": {},
   "source": [
    "There you go! In this lesson, we covered the foundations of control structures in Python such as conditionals, loops, and control flow statements. In the next lesson, we will dive into functions and modules!"
   ]
  }
 ],
 "metadata": {
  "kernelspec": {
   "display_name": "Python 3 (ipykernel)",
   "language": "python",
   "name": "python3"
  },
  "language_info": {
   "codemirror_mode": {
    "name": "ipython",
    "version": 3
   },
   "file_extension": ".py",
   "mimetype": "text/x-python",
   "name": "python",
   "nbconvert_exporter": "python",
   "pygments_lexer": "ipython3",
   "version": "3.11.7"
  }
 },
 "nbformat": 4,
 "nbformat_minor": 5
}
