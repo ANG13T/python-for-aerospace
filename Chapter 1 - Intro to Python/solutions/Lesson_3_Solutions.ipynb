{
 "cells": [
  {
   "cell_type": "markdown",
   "id": "f378f7d1-97e3-453b-9e1e-895966d5029c",
   "metadata": {},
   "source": [
    "# Lesson 3 Exercise Solutions"
   ]
  },
  {
   "cell_type": "markdown",
   "id": "22370cd1-00b4-4a0e-bda1-731d56c1c7ca",
   "metadata": {},
   "source": [
    "### Exercise 1: Loops and Celestial Object Luminosities ☀️\n",
    "You are an astronomer recruited to analyze the luminosity of celestial objects in the night sky.\n",
    "\n",
    "#### Objective: \n",
    "- Print out all the names of the celestial bodies using a `for` loop\n",
    "- Initialize an array variable to contain only the luminosities of the solar objects\n",
    "- Iterate over the luminosities using a `while` loop AND use a conditional print out all the celestial bodies with a luminosity of less than 200 solar units\n",
    "\n",
    "#### HINT: you can iterate over an object `celestial_objects` like the following:\n",
    "```\n",
    "for obj in celestial_objects.items():\n",
    "    print(obj[0] + \":\", obj[1], \"solar units\")\n",
    "```\n",
    "\n",
    "The above should print out the following:\n",
    "```\n",
    "Sirius: 25 solar units\n",
    "Andromeda Galaxy: 1000000 solar units\n",
    "Jupiter: 6.0e-05 solar units\n",
    "Pleiades: 100 solar units\n",
    "Orion Nebula: 10000 solar units\n",
    "```\n",
    "\n",
    "#### EXPECTED OUTPUT:\n",
    "```\n",
    "Sirius\n",
    "Andromeda Galaxy\n",
    "Jupiter\n",
    "Pleiades\n",
    "Orion Nebula\n",
    "\n",
    "\n",
    "25\n",
    "6e-05\n",
    "100\n",
    "```"
   ]
  },
  {
   "cell_type": "code",
   "execution_count": 3,
   "id": "ecc7092d-bb91-4d80-aade-bf7614bf317f",
   "metadata": {},
   "outputs": [],
   "source": [
    "celestial_objects = {\n",
    "    \"Sirius\": 25,  # Sirius is one of the brightest stars in the night sky\n",
    "    \"Andromeda Galaxy\": 1000000,  # Andromeda Galaxy has a very high luminosity\n",
    "    \"Jupiter\": 0.00006,  # Jupiter reflects sunlight but has low intrinsic luminosity\n",
    "    \"Pleiades\": 100,  # The Pleiades star cluster is moderately luminous\n",
    "    \"Orion Nebula\": 10000  # The Orion Nebula is a bright emission nebula\n",
    "}"
   ]
  },
  {
   "cell_type": "code",
   "execution_count": 6,
   "id": "bd31c1d9-8381-4846-9265-22bee44505fb",
   "metadata": {},
   "outputs": [
    {
     "name": "stdout",
     "output_type": "stream",
     "text": [
      "Sirius\n",
      "Andromeda Galaxy\n",
      "Jupiter\n",
      "Pleiades\n",
      "Orion Nebula\n"
     ]
    }
   ],
   "source": [
    "for obj in celestial_objects.items():\n",
    "    print(obj[0])"
   ]
  },
  {
   "cell_type": "code",
   "execution_count": 7,
   "id": "0a42f063-4b0f-41dd-9c3a-8b57c1adb0bd",
   "metadata": {},
   "outputs": [],
   "source": [
    "luminosities = []\n",
    "for obj in celestial_objects.items():\n",
    "    luminosities.append(obj[1])"
   ]
  },
  {
   "cell_type": "code",
   "execution_count": 9,
   "id": "bca9542b-b6ed-43c3-8f69-8b703bb77290",
   "metadata": {},
   "outputs": [
    {
     "name": "stdout",
     "output_type": "stream",
     "text": [
      "25\n",
      "6e-05\n",
      "100\n"
     ]
    }
   ],
   "source": [
    "index = 0\n",
    "while index < len(luminosities):\n",
    "    if (luminosities[index] < 200):\n",
    "        print(luminosities[index])\n",
    "    index += 1"
   ]
  },
  {
   "cell_type": "markdown",
   "id": "fece70e1-4ee9-46d4-bf5e-ccc7c43582a3",
   "metadata": {},
   "source": [
    "### Exercise 2: Mission Control Flow 📡\n",
    "You are tasked with creating a simple Python program to simulate space mission control operations. The program should incorporate various control flow structures to manage different aspects of the mission.\n",
    "\n",
    "#### Objective: \n",
    "- Initialize a `while` loop that runs when the mission time is less than or equal to the mission duration\n",
    "- Within the `while` loop, decrease the distance to the destination by the distance traveled per hour\n",
    "- Within the `while` loop, decrease the fuel level by the fuel consumption rate\n",
    "- Within the `while` loop, print out the fuel level, mission time, and fuel level\n",
    "- Break out the `while` loop if fuel level OR distance to the destination is less than or equal to 0\n",
    "- Increment the mission duration by one after each time "
   ]
  },
  {
   "cell_type": "code",
   "execution_count": 10,
   "id": "d5a3118f-e051-4a31-bf1a-bd4a6b4ea092",
   "metadata": {},
   "outputs": [],
   "source": [
    "mission_duration = 10  # Duration of the mission in hours\n",
    "fuel_level = 1000  # Initial fuel level in gallons\n",
    "distance_to_destination = 500000  # Distance to the destination in kilometers\n",
    "mission_time = 0  # Initialize mission time\n",
    "fuel_consumption_rate = 50  # gallons per hour \n",
    "distance_traveled_per_hour = 50000  # kilometers per hour"
   ]
  },
  {
   "cell_type": "code",
   "execution_count": 11,
   "id": "b8264f47-e87c-41fd-9b61-4046f315cad3",
   "metadata": {},
   "outputs": [
    {
     "name": "stdout",
     "output_type": "stream",
     "text": [
      "Mission Time: 0 hours\n",
      "Remaining Fuel: 950 gallons\n",
      "Distance to Destination: 450000 kilometers\n",
      "\n",
      "Mission Time: 1 hours\n",
      "Remaining Fuel: 900 gallons\n",
      "Distance to Destination: 400000 kilometers\n",
      "\n",
      "Mission Time: 2 hours\n",
      "Remaining Fuel: 850 gallons\n",
      "Distance to Destination: 350000 kilometers\n",
      "\n",
      "Mission Time: 3 hours\n",
      "Remaining Fuel: 800 gallons\n",
      "Distance to Destination: 300000 kilometers\n",
      "\n",
      "Mission Time: 4 hours\n",
      "Remaining Fuel: 750 gallons\n",
      "Distance to Destination: 250000 kilometers\n",
      "\n",
      "Mission Time: 5 hours\n",
      "Remaining Fuel: 700 gallons\n",
      "Distance to Destination: 200000 kilometers\n",
      "\n",
      "Mission Time: 6 hours\n",
      "Remaining Fuel: 650 gallons\n",
      "Distance to Destination: 150000 kilometers\n",
      "\n",
      "Mission Time: 7 hours\n",
      "Remaining Fuel: 600 gallons\n",
      "Distance to Destination: 100000 kilometers\n",
      "\n",
      "Mission Time: 8 hours\n",
      "Remaining Fuel: 550 gallons\n",
      "Distance to Destination: 50000 kilometers\n",
      "\n",
      "Mission Time: 9 hours\n",
      "Remaining Fuel: 500 gallons\n",
      "Distance to Destination: 0 kilometers\n",
      "\n",
      "Mission Complete!\n"
     ]
    }
   ],
   "source": [
    "while mission_time < mission_duration:\n",
    "    # Update mission parameters\n",
    "    fuel_level -= fuel_consumption_rate\n",
    "    distance_to_destination -= distance_traveled_per_hour\n",
    "\n",
    "    # Display mission updates\n",
    "    print(\"Mission Time:\", mission_time, \"hours\")\n",
    "    print(\"Remaining Fuel:\", fuel_level, \"gallons\")\n",
    "    print(\"Distance to Destination:\", distance_to_destination, \"kilometers\\n\")\n",
    "\n",
    "    # Check mission status\n",
    "    if fuel_level <= 0 or distance_to_destination <= 0:\n",
    "        break\n",
    "\n",
    "    # Increment mission time\n",
    "    mission_time += 1\n",
    "print(\"Mission Complete!\")"
   ]
  }
 ],
 "metadata": {
  "kernelspec": {
   "display_name": "Python 3 (ipykernel)",
   "language": "python",
   "name": "python3"
  },
  "language_info": {
   "codemirror_mode": {
    "name": "ipython",
    "version": 3
   },
   "file_extension": ".py",
   "mimetype": "text/x-python",
   "name": "python",
   "nbconvert_exporter": "python",
   "pygments_lexer": "ipython3",
   "version": "3.11.7"
  }
 },
 "nbformat": 4,
 "nbformat_minor": 5
}
