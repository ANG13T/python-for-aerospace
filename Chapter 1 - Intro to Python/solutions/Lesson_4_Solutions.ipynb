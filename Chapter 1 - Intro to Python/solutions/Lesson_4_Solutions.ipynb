{
 "cells": [
  {
   "cell_type": "markdown",
   "id": "66761d47-a188-42de-879b-30781f337aa1",
   "metadata": {},
   "source": [
    "# Lesson 4 Exercise Solutions"
   ]
  },
  {
   "cell_type": "markdown",
   "id": "d29f669d-bbbf-4f98-8b29-ea2ac70f02f1",
   "metadata": {},
   "source": [
    "### Exercise 1: Functional Calculator ➕\n",
    "You are tasked with creating a calculator program with the following specifications:\n",
    "\n",
    "#### Objective: \n",
    "- Create a function called `add` that takes in two numbers and returns the sum\n",
    "- Create a function called `subtract` that takes in two numbers and returns the difference\n",
    "- Create a function called `divide` that takes in two numbers and returns the divided output\n",
    "- Create a function called `multiply` that takes in two numbers and returns the multiplied output\n",
    "- Create test values for all the functions and print them out!\n",
    "- Utilize variables `a` and `b` for testing"
   ]
  },
  {
   "cell_type": "code",
   "execution_count": 3,
   "id": "a61c1cfa-8874-4269-b159-c1c4be3f23d2",
   "metadata": {},
   "outputs": [],
   "source": [
    "a = 4\n",
    "b = 5"
   ]
  },
  {
   "cell_type": "code",
   "execution_count": 5,
   "id": "96d0f8d5-9d18-430a-8007-53c430fa1bef",
   "metadata": {},
   "outputs": [],
   "source": [
    "def add(a, b):\n",
    "    return a + b\n",
    "\n",
    "def subtract(a, b):\n",
    "    return a - b\n",
    "\n",
    "def multiply(a, b):\n",
    "    return a * b\n",
    "\n",
    "def divide(a, b):\n",
    "    return a / b"
   ]
  },
  {
   "cell_type": "code",
   "execution_count": 7,
   "id": "9fa14243-0daf-4123-a145-d3ff582b1189",
   "metadata": {},
   "outputs": [
    {
     "name": "stdout",
     "output_type": "stream",
     "text": [
      "9\n",
      "-1\n",
      "20\n",
      "0.8\n"
     ]
    }
   ],
   "source": [
    "print(add(a, b))\n",
    "print(subtract(a, b))\n",
    "print(multiply(a, b))\n",
    "print(divide(a, b))"
   ]
  },
  {
   "cell_type": "markdown",
   "id": "f487ec5b-5bae-4f80-8e41-cedce5bf3954",
   "metadata": {},
   "source": [
    "### Exercise 2: Modular Calculator ➗\n",
    "Write a calculator using the `math` module that contains the following features:\n",
    "\n",
    "#### Objective: \n",
    "- Write a function called `pow` that takes inputs a and b and returns the power\n",
    "- Write a function called `ceiling` that takes input a returns `math.ceil`\n",
    "- Write a function called `floor` that takes input a returns `math.floor`\n",
    "- Write a function called `factorial` that takes input a returns `math.factorial`\n",
    "- Use the variables a and b below as needed for each function"
   ]
  },
  {
   "cell_type": "code",
   "execution_count": 8,
   "id": "169ad4e4-e128-498b-8cb8-c64b00823529",
   "metadata": {},
   "outputs": [],
   "source": [
    "a = 3\n",
    "b = 5"
   ]
  },
  {
   "cell_type": "code",
   "execution_count": 9,
   "id": "93f28eef-a841-4e33-85b6-5a72937f6fba",
   "metadata": {},
   "outputs": [],
   "source": [
    "import math\n",
    "\n",
    "def pow(a, b):\n",
    "    return math.pow(a, b)\n",
    "\n",
    "def ceiling(a):\n",
    "    return math.ceil(a)\n",
    "\n",
    "def floor(a):\n",
    "    return math.floor(a)\n",
    "\n",
    "def factorial(a):\n",
    "    return math.factorial(a)"
   ]
  },
  {
   "cell_type": "code",
   "execution_count": 10,
   "id": "c8c8440e-0a51-42a1-a24e-bfe65ecc305f",
   "metadata": {},
   "outputs": [
    {
     "name": "stdout",
     "output_type": "stream",
     "text": [
      "243.0\n",
      "3\n",
      "3\n",
      "6\n"
     ]
    }
   ],
   "source": [
    "print(pow(a, b))\n",
    "print(ceiling(a))\n",
    "print(floor(a))\n",
    "print(factorial(a))"
   ]
  }
 ],
 "metadata": {
  "kernelspec": {
   "display_name": "Python 3 (ipykernel)",
   "language": "python",
   "name": "python3"
  },
  "language_info": {
   "codemirror_mode": {
    "name": "ipython",
    "version": 3
   },
   "file_extension": ".py",
   "mimetype": "text/x-python",
   "name": "python",
   "nbconvert_exporter": "python",
   "pygments_lexer": "ipython3",
   "version": "3.11.7"
  }
 },
 "nbformat": 4,
 "nbformat_minor": 5
}
