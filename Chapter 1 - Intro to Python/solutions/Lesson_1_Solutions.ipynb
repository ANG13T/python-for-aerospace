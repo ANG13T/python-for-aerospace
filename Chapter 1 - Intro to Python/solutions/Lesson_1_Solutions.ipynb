{
 "cells": [
  {
   "cell_type": "markdown",
   "id": "a048d63f-cccf-4084-88af-815677c591d1",
   "metadata": {},
   "source": [
    "# Lesson 1 Exercise Solutions"
   ]
  },
  {
   "cell_type": "markdown",
   "id": "b825df4b-3dde-44f0-961b-485e64701182",
   "metadata": {},
   "source": [
    "### Exercise 1: Your First Variable ✨\n",
    "\n",
    "#### Objective: \n",
    "- Assign a variable called `random_number` to a number of your choice\n",
    "- Print your `random_number` variable using the `print` command"
   ]
  },
  {
   "cell_type": "code",
   "execution_count": 2,
   "id": "d51c7c40-698f-4b76-95a3-cb6589140082",
   "metadata": {},
   "outputs": [],
   "source": [
    "random_number = 33"
   ]
  },
  {
   "cell_type": "code",
   "execution_count": 3,
   "id": "d6a3afe0-d16d-4843-a52c-f8663523ca39",
   "metadata": {},
   "outputs": [
    {
     "name": "stdout",
     "output_type": "stream",
     "text": [
      "33\n"
     ]
    }
   ],
   "source": [
    "print(random_number)"
   ]
  },
  {
   "cell_type": "markdown",
   "id": "5b9ca153-4dc8-4dfb-9aed-17df551c03e8",
   "metadata": {},
   "source": [
    "### Exercise 2: Mission to Mars 🚀\n",
    "You are an astronaut tasked with creating a mission report for a spacecraft going to Mars.\n",
    "You are given a task to initialize variables for various aspects of the mission. \n",
    "\n",
    "#### Objective: \n",
    "- Assign a variable called `astronaut_name` and set it to be a `string` value with your name\n",
    "- Assign a variable called `astronaut_age` and set it to be a `int` value with your age\n",
    "- Assign a variable called `fuel` and set it to be a `float` value within `30.0 - 53.0`\n",
    "- Assign a variable called `is_engine_running` and set it to be a `boolean` value\n",
    "- Assign a variable called `astronauts` and set it to be a `list` value of containing `string` values of each of the names of the astronauts\n",
    "- Assign a variable called `astronaut_ages` and set it to be a `dict` value with the `key` being the name of the astronauts and `value` being the age of the astronauts\n",
    "- Print out all the variables "
   ]
  },
  {
   "cell_type": "code",
   "execution_count": 7,
   "id": "867acfff-893e-44d4-aadd-fd2d8dd99b52",
   "metadata": {},
   "outputs": [],
   "source": [
    "astronaut_name = \"Bob\"\n",
    "astronaut_age = 33\n",
    "fuel = 43.2\n",
    "is_engine_running = True\n",
    "astronauts = [\"Bob\", \"Alice\", \"Charlie\"]\n",
    "astronaut_ages = {\"Bob\": 33, \"Alice\": 25, \"Charlie\": 22}"
   ]
  },
  {
   "cell_type": "code",
   "execution_count": 9,
   "id": "65a71d4e-6638-47e2-bd61-fa746580766d",
   "metadata": {},
   "outputs": [
    {
     "name": "stdout",
     "output_type": "stream",
     "text": [
      "Bob 33 43.2 True ['Bob', 'Alice', 'Charlie'] {'Bob': 33, 'Alice': 25, 'Charlie': 22}\n"
     ]
    }
   ],
   "source": [
    "# NOTE: you can seperate variables using a comma (,) to print them all in ONE line\n",
    "print(astronaut_name, astronaut_age, fuel, is_engine_running, astronauts, astronaut_ages)"
   ]
  },
  {
   "cell_type": "markdown",
   "id": "5077106a-8c75-41fa-9854-5d0d7afc0fc1",
   "metadata": {},
   "source": [
    "### Exercise 3: Space Resource Calculations 🧮\n",
    "You are a mission planner for an upcoming spacecraft launch. You are tasked with computing the following values.\n",
    "\n",
    "#### Objective: \n",
    "- Calculate and print the total distance traveled\n",
    "- Calculate and print the total fuel consumed\n",
    "- Calculate and print the total time to destination\n",
    "- Create a variable called `full_name` and print out the full name of the astronaut \n",
    "\n",
    "#### NOTE: you can calculate all the values above using the hard-coded variables below.\n",
    "#### HINT: listed below are all the equations you need for this problem\n",
    "```\n",
    "Distance = Speed x Time\n",
    "Fuel Consumption = Distance / Fuel Efficiency\n",
    "Time to Destination = Distance / Speed\n",
    "```"
   ]
  },
  {
   "cell_type": "code",
   "execution_count": 12,
   "id": "df75a032-77e9-4a2c-b29f-662348192cad",
   "metadata": {},
   "outputs": [],
   "source": [
    "travel_time = 10  # hours\n",
    "speed = 5000      # kilometers per hour\n",
    "fuel_efficiency = 10  # kilometers per liter\n",
    "first_name = \"Sally\"\n",
    "last_name = \"Ride\""
   ]
  },
  {
   "cell_type": "code",
   "execution_count": 15,
   "id": "92264d5f-18bf-4bf5-bb6e-493e4c3dc8b5",
   "metadata": {},
   "outputs": [],
   "source": [
    "total_distance = speed * travel_time\n",
    "fuel_consumed = total_distance / fuel_efficiency\n",
    "total_time = total_distance / speed\n",
    "full_name = first_name + \" \" + last_name"
   ]
  },
  {
   "cell_type": "code",
   "execution_count": 17,
   "id": "fc40df38-7510-44cc-95b3-49043a1d2374",
   "metadata": {},
   "outputs": [
    {
     "name": "stdout",
     "output_type": "stream",
     "text": [
      "Total Distance 50000\n",
      "Fuel Consumed 5000.0\n",
      "Total Time 10.0\n",
      "Full Name Sally Ride\n"
     ]
    }
   ],
   "source": [
    "print(\"Total Distance\", total_distance)\n",
    "print(\"Fuel Consumed\", fuel_consumed)\n",
    "print(\"Total Time\", total_time)\n",
    "print(\"Full Name\", full_name)"
   ]
  }
 ],
 "metadata": {
  "kernelspec": {
   "display_name": "Python 3 (ipykernel)",
   "language": "python",
   "name": "python3"
  },
  "language_info": {
   "codemirror_mode": {
    "name": "ipython",
    "version": 3
   },
   "file_extension": ".py",
   "mimetype": "text/x-python",
   "name": "python",
   "nbconvert_exporter": "python",
   "pygments_lexer": "ipython3",
   "version": "3.11.7"
  }
 },
 "nbformat": 4,
 "nbformat_minor": 5
}
