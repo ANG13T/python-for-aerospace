{
 "cells": [
  {
   "cell_type": "markdown",
   "id": "9f119d24-67d4-4f14-8b9f-6b4676424898",
   "metadata": {},
   "source": [
    "# Lesson 2 Exercise Solutions"
   ]
  },
  {
   "cell_type": "markdown",
   "id": "eb41904f-ae92-4122-a5e9-8e8bac265183",
   "metadata": {},
   "source": [
    "### Exercise 1: Having Fun with Typecasts ✨\n",
    "\n",
    "#### Objective: \n",
    "- Typecast `fuel_remaining` (float) into an `int`\n",
    "- Typecast `oxygen_levels` (int) into a `float`\n",
    "- Print out the outputs to look like the following:\n",
    "```\n",
    "Fuel Remaining: 33 L\n",
    "Oxygen Levels: 21.0 kPa\n",
    "```"
   ]
  },
  {
   "cell_type": "code",
   "execution_count": 1,
   "id": "a46db91e-7a84-4210-aa26-3a63eb08458f",
   "metadata": {},
   "outputs": [],
   "source": [
    "fuel_remaining = 33.42\n",
    "oxygen_levels = 21"
   ]
  },
  {
   "cell_type": "code",
   "execution_count": 2,
   "id": "c5dbb776-85c4-468e-a94e-eafb2a8081a3",
   "metadata": {},
   "outputs": [],
   "source": [
    "fuel_remaining = int(fuel_remaining)\n",
    "oxygen_levels = float(oxygen_levels)"
   ]
  },
  {
   "cell_type": "code",
   "execution_count": 3,
   "id": "ae96babd-79a4-4d10-8e45-ac38e28f2dce",
   "metadata": {},
   "outputs": [
    {
     "name": "stdout",
     "output_type": "stream",
     "text": [
      "Fuel Remaining: 33 L\n",
      "Oxygen Levels: 21.0 kPa\n"
     ]
    }
   ],
   "source": [
    "print(\"Fuel Remaining: \" + str(fuel_remaining) + \" L\")\n",
    "print(\"Oxygen Levels: \" + str(oxygen_levels) + \" kPa\")"
   ]
  },
  {
   "cell_type": "markdown",
   "id": "4db54c38-cd16-4eea-aea0-386189ac6096",
   "metadata": {},
   "source": [
    "### Exercise 2: Array Manipulation ⚡️\n",
    "\n",
    "#### Objective: \n",
    "Using the `values` array below, run the following steps in order.\n",
    "1. Delete the last item\n",
    "2. Set the second element to the number 8\n",
    "3. Flip the array\n",
    "4. Append the numbers 5 and 9 to the array\n",
    "5. Print out the array\n",
    "\n",
    "#### HINT: the output should be the following:\n",
    "\n",
    "```\n",
    "[4,3,8,1,5,9]\n",
    "```"
   ]
  },
  {
   "cell_type": "code",
   "execution_count": 23,
   "id": "7ae182af-f082-4e8e-b143-295a46c2019f",
   "metadata": {},
   "outputs": [],
   "source": [
    "values = [1, 2, 3, 4, 5]"
   ]
  },
  {
   "cell_type": "code",
   "execution_count": 24,
   "id": "125196f6-379c-4599-8133-a681c9b204c7",
   "metadata": {},
   "outputs": [
    {
     "name": "stdout",
     "output_type": "stream",
     "text": [
      "[4, 3, 8, 1, 5, 9]\n"
     ]
    }
   ],
   "source": [
    "del values[-1]\n",
    "values[1] = 8\n",
    "values = values[::-1]\n",
    "values.append(5)\n",
    "values.append(9)\n",
    "print(values)"
   ]
  },
  {
   "cell_type": "markdown",
   "id": "c4c749e3-3358-49b0-a3d0-e1fda36065e9",
   "metadata": {},
   "source": [
    "### Exercise 3: Rocket Engine Performance Calculator 🚀\n",
    "You are an aerospace engineer tasked to create a computer program to calculate the engine performance of a rocket engine.\n",
    "The calculator must meet the following specifications:\n",
    "\n",
    "#### Objective: \n",
    "- Calculator must ask the user for the *thrust* and *mass flow rate of the propellant*\n",
    "- Typecast the values as `float` variables \n",
    "- Calculate the specific impulse of the rocket engine\n",
    "- Calculate the exhaust velocity of the rocket\n",
    "- Print out the values as strings\n",
    "\n",
    "#### HINT: you can use the below equations\n",
    "```\n",
    "Specific Impulse = Thrust / (Mass Flow Rate * 9.81)\n",
    "Exhaust Velocity = Specific Impulse * 9.81\n",
    "```"
   ]
  },
  {
   "cell_type": "code",
   "execution_count": null,
   "id": "01c1f752-365e-4706-9ddc-2d0244cce633",
   "metadata": {},
   "outputs": [],
   "source": [
    "thrust = float(input(\"Enter thrust of engine: \"))\n",
    "mass_flow_rate = float(input(\"Enter mass flow rate of propellant: \"))\n",
    "specific_impulse = thrust / (mass_flow_rate * 9.81)\n",
    "exhaust_velocity = specific_impulse * 9.81\n",
    "print(\"Specific Impulse: \" + str(specific_impulse))\n",
    "print(\"Exhaust Velocity: \" + str(exhaust_velocity))"
   ]
  }
 ],
 "metadata": {
  "kernelspec": {
   "display_name": "Python 3 (ipykernel)",
   "language": "python",
   "name": "python3"
  },
  "language_info": {
   "codemirror_mode": {
    "name": "ipython",
    "version": 3
   },
   "file_extension": ".py",
   "mimetype": "text/x-python",
   "name": "python",
   "nbconvert_exporter": "python",
   "pygments_lexer": "ipython3",
   "version": "3.11.7"
  }
 },
 "nbformat": 4,
 "nbformat_minor": 5
}
