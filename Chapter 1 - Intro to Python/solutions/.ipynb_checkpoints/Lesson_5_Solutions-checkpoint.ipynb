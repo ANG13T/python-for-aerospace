{
 "cells": [
  {
   "cell_type": "markdown",
   "id": "7fc298aa-1411-4aec-af7d-7c84faaf281e",
   "metadata": {},
   "source": [
    "# Lesson 5 Exercise Solutions"
   ]
  },
  {
   "cell_type": "markdown",
   "id": "225db426-011f-45fb-9028-7befc4937c14",
   "metadata": {},
   "source": [
    "### Exercise 1: Saving Orbital Details 🪐\n",
    "You are a planetary scientist tasked with saving orbital details about planets into a file for later use\n",
    "\n",
    "#### Objective: \n",
    "- Initialize a text file named `orbital_details`\n",
    "- Iterate over all the planets and save their orbital details into the text file"
   ]
  },
  {
   "cell_type": "code",
   "execution_count": 1,
   "id": "4b9189ba-3641-4198-8aa1-853689bae7d4",
   "metadata": {},
   "outputs": [],
   "source": [
    "planet_names = [\"Mercury\", \"Venus\", \"Earth\", \"Mars\", \"Jupiter\", \"Saturn\", \"Uranus\", \"Neptune\"]\n",
    "\n",
    "# Orbital periods (in Earth years)\n",
    "orbital_periods = [0.24, 0.62, 1.0, 1.88, 11.86, 29.46, 84.01, 164.8]\n",
    "\n",
    "# Axial tilts (in degrees)\n",
    "axial_tilts = [0.03, 177.36, 23.44, 25.19, 3.13, 26.73, 82.23, 28.32]"
   ]
  },
  {
   "cell_type": "code",
   "execution_count": 2,
   "id": "99537051-142b-4ab9-9f4d-69cb4eac6bfd",
   "metadata": {},
   "outputs": [],
   "source": [
    "file = open(\"orbital_details.txt\", \"w\")\n",
    "\n",
    "for i in range(len(planet_names)):\n",
    "    file.write(planet_names[i])\n",
    "    file.write(\"Orbital Period: \" + str(orbital_periods[i]))\n",
    "    file.write(\"Axial Tilt: \" + str(axial_tilts[i]))\n",
    "\n",
    "file.close()"
   ]
  }
 ],
 "metadata": {
  "kernelspec": {
   "display_name": "Python 3 (ipykernel)",
   "language": "python",
   "name": "python3"
  },
  "language_info": {
   "codemirror_mode": {
    "name": "ipython",
    "version": 3
   },
   "file_extension": ".py",
   "mimetype": "text/x-python",
   "name": "python",
   "nbconvert_exporter": "python",
   "pygments_lexer": "ipython3",
   "version": "3.11.7"
  }
 },
 "nbformat": 4,
 "nbformat_minor": 5
}
