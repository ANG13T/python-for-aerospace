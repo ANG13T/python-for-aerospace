{
 "cells": [
  {
   "cell_type": "markdown",
   "id": "9db66e58-f0fd-4104-b594-471b23be89e0",
   "metadata": {},
   "source": [
    "![](https://github.com/ANG13T/python-for-aerospace/blob/main/Chapter%201%20-%20Intro%20to%20Python/assets/banner_lesson_1.png)"
   ]
  },
  {
   "cell_type": "markdown",
   "id": "0b43d2ab-567a-4cbb-80ab-33da9d355c23",
   "metadata": {},
   "source": [
    "## Python Overview\n",
    "\n",
    "Python is a high-level, versatile programming language known for its simpe syntax. It is a great way to get started programming due to its large community and wide breadth of real-world applications including data analysis, artificial intelligence, automation, and space!\n",
    "\n",
    "Learn more about Python at: [https://www.python.org/](https://www.python.org/)s"
   ]
  },
  {
   "cell_type": "markdown",
   "id": "36d92e34-c94c-46ec-869f-0275004176fa",
   "metadata": {},
   "source": [
    "## Variables\n",
    "\r\n",
    "A variable acts as acontainerr within a program, capable of storing various types of information such as numbers, text, and more. Similar to assigning values in mathematics, you first give the variable a name, like \"favorite_number,\" and then use the equal sign (\"=\") to assign it a value, such as 42. In Python, this process would be represented as follows::`"
   ]
  },
  {
   "cell_type": "code",
   "execution_count": 1,
   "id": "c84b7bc4-4cb9-4181-986a-ccfa41c89699",
   "metadata": {},
   "outputs": [],
   "source": [
    "favorite_number = 42"
   ]
  },
  {
   "cell_type": "markdown",
   "id": "30eb6409-f138-4df6-95e2-df6092752cf4",
   "metadata": {},
   "source": [
    "## Data Types"
   ]
  },
  {
   "cell_type": "markdown",
   "id": "b06ae71a-5bd2-4cb7-969d-de5d4e37ca7d",
   "metadata": {},
   "source": [
    "## Basic Operations "
   ]
  }
 ],
 "metadata": {
  "kernelspec": {
   "display_name": "Python 3 (ipykernel)",
   "language": "python",
   "name": "python3"
  },
  "language_info": {
   "codemirror_mode": {
    "name": "ipython",
    "version": 3
   },
   "file_extension": ".py",
   "mimetype": "text/x-python",
   "name": "python",
   "nbconvert_exporter": "python",
   "pygments_lexer": "ipython3",
   "version": "3.10.1"
  }
 },
 "nbformat": 4,
 "nbformat_minor": 5
}
