{
 "cells": [
  {
   "cell_type": "markdown",
   "id": "9db66e58-f0fd-4104-b594-471b23be89e0",
   "metadata": {},
   "source": [
    "![](https://github.com/ANG13T/python-for-aerospace/blob/main/Chapter%201%20-%20Intro%20to%20Python/assets/banner_lesson_1.png)"
   ]
  },
  {
   "cell_type": "markdown",
   "id": "74417a95-9d96-46be-be01-03aba243554e",
   "metadata": {},
   "source": [
    "# Lesson 1: Introduction to Python & Syntax"
   ]
  },
  {
   "cell_type": "markdown",
   "id": "0b43d2ab-567a-4cbb-80ab-33da9d355c23",
   "metadata": {},
   "source": [
    "## Python Overview 🐍\n",
    "\n",
    "Python is a high-level, versatile programming language known for its simpe syntax. It is a great way to get started programming due to its large community and wide breadth of real-world applications including data analysis, artificial intelligence, automation, and space!\n",
    "\n",
    "Learn more about Python at: [https://www.python.org/](https://www.python.org/)s"
   ]
  },
  {
   "cell_type": "markdown",
   "id": "36d92e34-c94c-46ec-869f-0275004176fa",
   "metadata": {},
   "source": [
    "## Variables 📦\n",
    "\r",
    "A **variable** acts as container within a program, capable of storing various types of information such as numbers, text, and more. Similar to assigning values in mathematics, you first give the variable a name, like \"favorite_number,\" and then use the equal sign (\"=\") to assign it a value, such as 42. In Python, this process would be represented as follows:`"
   ]
  },
  {
   "cell_type": "code",
   "execution_count": 6,
   "id": "c84b7bc4-4cb9-4181-986a-ccfa41c89699",
   "metadata": {},
   "outputs": [],
   "source": [
    "favorite_number = 30 # int"
   ]
  },
  {
   "cell_type": "markdown",
   "id": "6e41192f-a1a9-4fe1-9afb-c37086e57649",
   "metadata": {},
   "source": [
    "## Print Statements 💬"
   ]
  },
  {
   "cell_type": "markdown",
   "id": "c024260b-cd6b-48fd-8656-2fafdf5482c2",
   "metadata": {},
   "source": [
    "A **print** statement in Python is like a command that tells the computer to display or show something on the screen.\n",
    "We can use print statements to print any kind of text onto a screen including numbers, characters, and more!\n",
    "A print statement that shows \"Hello World\" looks like the following:"
   ]
  },
  {
   "cell_type": "code",
   "execution_count": 4,
   "id": "c8c45174-e048-443d-8cb5-0d5c304d2b2a",
   "metadata": {},
   "outputs": [
    {
     "name": "stdout",
     "output_type": "stream",
     "text": [
      "Hello World!!!\n"
     ]
    }
   ],
   "source": [
    "print(\"Hello World!!!\")"
   ]
  },
  {
   "cell_type": "markdown",
   "id": "2ce04c35-950e-43e1-b3e2-9e27fa2df81c",
   "metadata": {},
   "source": [
    "You can also print variables! We can show the value of `favorite_number` using the following:"
   ]
  },
  {
   "cell_type": "code",
   "execution_count": 7,
   "id": "5864a0c2-e5a9-47cc-9e39-91c9ead580cf",
   "metadata": {},
   "outputs": [
    {
     "name": "stdout",
     "output_type": "stream",
     "text": [
      "30\n"
     ]
    }
   ],
   "source": [
    "print(favorite_number)"
   ]
  },
  {
   "cell_type": "markdown",
   "id": "dd7877fc-977e-4a75-a458-01f533e30884",
   "metadata": {},
   "source": [
    "### Exercise 1: Your First Variable ✨\n",
    "\n",
    "#### Objective: \n",
    "- Assign a variable called `random_number` to a number of your choice\n",
    "- Print your `random_number` variable using the `print` command"
   ]
  },
  {
   "cell_type": "code",
   "execution_count": null,
   "id": "1dc697f6-6f42-49bf-91cf-a153b08578a4",
   "metadata": {},
   "outputs": [],
   "source": []
  },
  {
   "cell_type": "markdown",
   "id": "30eb6409-f138-4df6-95e2-df6092752cf4",
   "metadata": {},
   "source": [
    "## Data Types ⚙\n",
    "Data types are analogous to categories that tell the computer how to understand and work with different kinds of information.\n",
    "Data Types in Python include:\n",
    "- Integer (`int`): whole numbers without any decimal points.\n",
    "`33, 102, 22, etc`\n",
    "\n",
    "- Float (`float`): numbers with decimal points\n",
    "`3.14, 22.0, -19,4, etc`\n",
    "\n",
    "- String (`str`): text and characters\n",
    "`\"cat\", \"dog\", \"A\", etc`\n",
    "\n",
    "- Boolean (`bool`): True or False values\n",
    "`True, False`\n",
    "\n",
    "- List (`list`): ordered collection of items\n",
    "`[1, 2, 3], [\"apple\", \"orange\", \"kiwi\"], etc`\n",
    "\n",
    "- Tuple (`tuple`): lists but immutable (cannot be changed)\n",
    "`(10, 20), ('Alice', 'Bob'), (9, 'apple', 3.14), etc`\n",
    "\n",
    "- Dictionary (`dict`): collection of key-value pairs\n",
    "`{'apple': 1.99, 'banana': 0.99, 'kiwi': 1.49}`\n",
    "\n",
    "- Set (`set`): an unordered collection of unique items\n",
    "`{'a', 'b', 'c', 'd'}, {1, 'apple', True}, etc`\n",
    "\n",
    "You can assign all the above data types to variables. Shown below:"
   ]
  },
  {
   "cell_type": "code",
   "execution_count": 8,
   "id": "d6d88933-34b2-4b8f-a5dc-288d27e9b45c",
   "metadata": {},
   "outputs": [],
   "source": [
    "even = 4\n",
    "pi = 3.14\n",
    "name = \"Bob\"\n",
    "is_true = True\n",
    "names = [\"Alice\", \"Bob\", \"Charlie\"]\n",
    "prices = (1.45, 10.32, 23.3)\n",
    "attendance = {\"Alice\": True, \"Bob\": False, \"Charlie\": True}"
   ]
  },
  {
   "cell_type": "markdown",
   "id": "812fbe9a-227e-4078-b0f1-6ac3069201e7",
   "metadata": {},
   "source": [
    "### Exercise 2: Mission to Mars 🚀\n",
    "You are an astronaut tasked with creating a mission report for a spacecraft going to Mars.\n",
    "You are given a task to initialize variables for various aspects of the mission. \n",
    "\n",
    "#### Objective: \n",
    "- Assign a variable called `astronaut_name` and set it to be a `string` value with your name\n",
    "- Assign a variable called `astronaut_age` and set it to be a `int` value with your age\n",
    "- Assign a variable called `fuel` and set it to be a `float` value within `30.0 - 53.0`\n",
    "- Assign a variable called `is_engine_running` and set it to be a `boolean` value\n",
    "- Assign a variable called `astronauts` and set it to be a `list` value of containing `string` values of each of the names of the astronauts\n",
    "- Assign a variable called `astronaut_ages` and set it to be a `dict` value with the `key` being the name of the astronauts and `value` being the age of the astronauts\n",
    "- Print out all the variables "
   ]
  },
  {
   "cell_type": "code",
   "execution_count": null,
   "id": "1f98b357-c526-4f02-8880-b1e6bde48113",
   "metadata": {},
   "outputs": [],
   "source": []
  },
  {
   "cell_type": "markdown",
   "id": "b06ae71a-5bd2-4cb7-969d-de5d4e37ca7d",
   "metadata": {},
   "source": [
    "## Basic Operations ➕\n",
    "Python allows you to conduct basic mathematical operations. These include:\n",
    "- Addition (+): `3 + 4`\n",
    "- Subtraction (-): `5 - 2`\n",
    "- Multiplication (*): `3 * 8`\n",
    "- Division (/): `24 / 4`\n",
    "- Modulus aka \"Remainder\" (%): `5 % 2`"
   ]
  },
  {
   "cell_type": "code",
   "execution_count": 14,
   "id": "e47d13aa-56ee-485f-b1d4-d8311806a6d0",
   "metadata": {},
   "outputs": [],
   "source": [
    "add = 3 + 4\n",
    "subtract = 5 - 2\n",
    "multiply = 3 * 8\n",
    "divide = 24 / 4\n",
    "remainder = 5 % 2"
   ]
  },
  {
   "cell_type": "code",
   "execution_count": 15,
   "id": "4f7edcec-21fb-45bd-8f78-614625d395cf",
   "metadata": {},
   "outputs": [
    {
     "name": "stdout",
     "output_type": "stream",
     "text": [
      "Addition 7\n",
      "Subtraction 3\n",
      "Multiplication 24\n",
      "Division 6.0\n",
      "Modulus 1\n"
     ]
    }
   ],
   "source": [
    "print(\"Addition\", add)\n",
    "print(\"Subtraction\", subtract)\n",
    "print(\"Multiplication\", multiply)\n",
    "print(\"Division\", divide)\n",
    "print(\"Modulus\", remainder)"
   ]
  },
  {
   "cell_type": "markdown",
   "id": "b8735bfa-6137-40aa-b06e-265fecccfb31",
   "metadata": {},
   "source": [
    "You can also perform operations on data types that are not numbers such as strings.\n",
    "For example:"
   ]
  },
  {
   "cell_type": "code",
   "execution_count": 18,
   "id": "b2577eb7-c1e9-4612-852a-925e2b06c31c",
   "metadata": {},
   "outputs": [
    {
     "name": "stdout",
     "output_type": "stream",
     "text": [
      "John Doe\n"
     ]
    }
   ],
   "source": [
    "first_name = \"John\"\n",
    "last_name = \"Doe\"\n",
    "full_name = first_name + \" \" + last_name\n",
    "print(full_name)"
   ]
  },
  {
   "cell_type": "markdown",
   "id": "bbc3e5cd-4743-48cf-97a8-27bb3f39c723",
   "metadata": {},
   "source": [
    "### Exercise 3: Space Resource Calculations 🧮\n",
    "You are a mission planner for an upcoming spacecraft launch. You are tasked with computing the following values.\n",
    "\n",
    "#### Objective: \n",
    "- Calculate and print the total distance traveled\n",
    "- Calculate and print the total fuel consumed\n",
    "- Calculate and print the total time to destination\n",
    "- Create a variable called `full_name` and print out the full name of the astronaut \n",
    "\n",
    "#### NOTE: you can calculate all the values above using the hard-coded variables below.\n",
    "#### HINT: listed below are all the equations you need for this problem\n",
    "```\n",
    "Distance = Speed x Time\n",
    "Fuel Consumption = Distance / Fuel Efficiency\n",
    "Time to Destination = Distance / Speed\n",
    "```"
   ]
  },
  {
   "cell_type": "code",
   "execution_count": 1,
   "id": "2daa2c3a-b18b-4c20-a39e-b24b5d8f96f3",
   "metadata": {},
   "outputs": [],
   "source": [
    "travel_time = 10  # hours\n",
    "speed = 5000      # kilometers per hour\n",
    "fuel_efficiency = 10  # kilometers per liter\n",
    "first_name = \"Sally\"\n",
    "last_name = \"Ride\""
   ]
  },
  {
   "cell_type": "markdown",
   "id": "419edc30-5880-4d69-bc89-d60b5dd7ee6b",
   "metadata": {},
   "source": [
    "Congratulations! You have officially blasted off into starting your Python journey 🚀✨\n",
    "Next up? Data storage and manipulation!"
   ]
  }
 ],
 "metadata": {
  "kernelspec": {
   "display_name": "Python 3 (ipykernel)",
   "language": "python",
   "name": "python3"
  },
  "language_info": {
   "codemirror_mode": {
    "name": "ipython",
    "version": 3
   },
   "file_extension": ".py",
   "mimetype": "text/x-python",
   "name": "python",
   "nbconvert_exporter": "python",
   "pygments_lexer": "ipython3",
   "version": "3.11.7"
  }
 },
 "nbformat": 4,
 "nbformat_minor": 5
}
