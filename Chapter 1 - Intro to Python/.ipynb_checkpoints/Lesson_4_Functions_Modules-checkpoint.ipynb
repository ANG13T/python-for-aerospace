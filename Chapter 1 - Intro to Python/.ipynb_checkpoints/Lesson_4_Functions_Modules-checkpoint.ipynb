{
 "cells": [
  {
   "cell_type": "markdown",
   "id": "6c9b4eb6-a6d7-4c0d-b81a-862dd7fcad52",
   "metadata": {},
   "source": [
    "# Lesson 4: Functions & Modules"
   ]
  },
  {
   "cell_type": "markdown",
   "id": "ef50f73e-009e-4d07-a734-c6ad088cf9ce",
   "metadata": {},
   "source": [
    "## Functions ⚙️\n",
    "Functions in Python are blocks of reusable code that perform a specific task. They allow you to break down your program into smaller, manageable parts, making your code easier to understand and maintain.\n",
    "\n",
    "Abstractly, a function is something that takes in an input, modifies it, and then returns an output. \n",
    "\n",
    "To create a function, you use the def keyword followed by the function name and parentheses ( ). Inside the parentheses, you can specify parameters (inputs) that the function can accept."
   ]
  },
  {
   "cell_type": "code",
   "execution_count": 1,
   "id": "daee3ad2-d0ed-4911-bca7-a3ff4d1bf08a",
   "metadata": {},
   "outputs": [
    {
     "name": "stdout",
     "output_type": "stream",
     "text": [
      "Hello, Bob\n",
      "Hello, Alice\n"
     ]
    }
   ],
   "source": [
    "def greet(name):\n",
    "    print(\"Hello,\", name)\n",
    "\n",
    "greet(\"Bob\")\n",
    "greet(\"Alice\")"
   ]
  },
  {
   "cell_type": "markdown",
   "id": "be2123d2-fa14-4d12-abb9-fe9638b66697",
   "metadata": {},
   "source": [
    "Functions can also take in multiple inputs and return values:"
   ]
  },
  {
   "cell_type": "code",
   "execution_count": 3,
   "id": "352aed6b-a47e-4f54-ba16-f65b397f1900",
   "metadata": {},
   "outputs": [
    {
     "name": "stdout",
     "output_type": "stream",
     "text": [
      "Addition: 8\n"
     ]
    }
   ],
   "source": [
    "def add(a, b):\n",
    "    return a + b\n",
    "\n",
    "result = add(5,3)\n",
    "print(\"Addition: \" + str(result))"
   ]
  },
  {
   "cell_type": "markdown",
   "id": "5502ba42-d30c-4961-bb32-1a8273b09a87",
   "metadata": {},
   "source": [
    "### Exercise 1: Functional Calculator ➕\n",
    "You are tasked with creating a calculator program with the following specifications:\n",
    "\n",
    "#### Objective: \n",
    "- Create a function called `add` that takes in two numbers and returns the sum\n",
    "- Create a function called `subtract` that takes in two numbers and returns the difference\n",
    "- Create a function called `divide` that takes in two numbers and returns the divided output\n",
    "- Create a function called `multiply` that takes in two numbers and returns the multiplied output\n",
    "- Create test values for all the functions and print them out!\n",
    "- Utilize variables `a` and `b` for testing"
   ]
  },
  {
   "cell_type": "code",
   "execution_count": 5,
   "id": "09418dd1-1a80-430a-a2ec-0940201ae3cc",
   "metadata": {},
   "outputs": [],
   "source": [
    "a = 4\n",
    "b = 5"
   ]
  },
  {
   "cell_type": "code",
   "execution_count": null,
   "id": "0231bceb-1298-489b-a1d7-20532ef60b24",
   "metadata": {},
   "outputs": [],
   "source": []
  },
  {
   "cell_type": "markdown",
   "id": "340ae230-9f13-4f00-b854-d7a4055a0eaf",
   "metadata": {},
   "source": [
    "## Modules 📦\n",
    "Modules in Python are files that contain Python code. They are used to organize code into reusable units, making it easier to manage and maintain large programs.\n",
    "\n",
    "Here is an example showcase of the `math` module in Python which gives us many mathematical operation support without having to write all the code ourselves from scratch."
   ]
  },
  {
   "cell_type": "markdown",
   "id": "77667acb-83f9-4bfc-9b51-d8d0fb5a8036",
   "metadata": {},
   "source": [
    "You can import a module by using the `import` keyword followed by the name of the module."
   ]
  },
  {
   "cell_type": "code",
   "execution_count": 10,
   "id": "eda476a4-5230-40ae-a02b-6625732d55f8",
   "metadata": {},
   "outputs": [],
   "source": [
    "import math"
   ]
  },
  {
   "cell_type": "markdown",
   "id": "4f6fb4f7-9b25-419f-845e-fbb6ac680272",
   "metadata": {},
   "source": [
    "You can access functions within a module by using `dot notation`"
   ]
  },
  {
   "cell_type": "code",
   "execution_count": 11,
   "id": "a393c124-efea-4d29-8c0e-6c1c9b360519",
   "metadata": {},
   "outputs": [
    {
     "data": {
      "text/plain": [
       "5.0"
      ]
     },
     "execution_count": 11,
     "metadata": {},
     "output_type": "execute_result"
    }
   ],
   "source": [
    "math.sqrt(25)"
   ]
  },
  {
   "cell_type": "markdown",
   "id": "10d95840-07f1-4cd2-9ffa-66829c40ade6",
   "metadata": {},
   "source": [
    "You can also import specific functions within a module using the `import` keyword"
   ]
  },
  {
   "cell_type": "code",
   "execution_count": 10,
   "id": "c1629932-65f8-4162-9571-6357a64d1c99",
   "metadata": {},
   "outputs": [],
   "source": [
    "from math import pow"
   ]
  },
  {
   "cell_type": "markdown",
   "id": "21a73d26-c824-4a34-81c0-92999af69501",
   "metadata": {},
   "source": [
    "Now you can use the `pow` method WITHOUT `dot notation`"
   ]
  },
  {
   "cell_type": "code",
   "execution_count": 11,
   "id": "900a59c6-c0d6-4ae2-9db0-0f3c687c5a6d",
   "metadata": {},
   "outputs": [
    {
     "name": "stdout",
     "output_type": "stream",
     "text": [
      "25.0\n"
     ]
    }
   ],
   "source": [
    "print(pow(5, 2))"
   ]
  },
  {
   "cell_type": "markdown",
   "id": "1e255f15-f64a-4258-a97c-fe1e0cf2c871",
   "metadata": {},
   "source": [
    "Furthermore, you can rename your modules to a specific name by using the `as` keyword in your import statement"
   ]
  },
  {
   "cell_type": "code",
   "execution_count": 12,
   "id": "acab5fc4-7c45-476a-ac62-487e49ee07a9",
   "metadata": {},
   "outputs": [
    {
     "name": "stdout",
     "output_type": "stream",
     "text": [
      "5.0\n",
      "25.0\n"
     ]
    }
   ],
   "source": [
    "import math as m\n",
    "print(m.sqrt(25))\n",
    "print(m.pow(5, 2))"
   ]
  },
  {
   "cell_type": "markdown",
   "id": "41bb7743-92a5-47a1-b6e5-35616ac36275",
   "metadata": {},
   "source": [
    "### Exercise 2: Modular Calculator ➗\n",
    "Write a calculator using the `math` module that contains the following features:\n",
    "\n",
    "#### Objective: \n",
    "- Write a function called `pow` that takes inputs a and b and returns the power\n",
    "- Write a function called `ceiling` that takes input a returns `math.ceil`\n",
    "- Write a function called `floor` that takes input a returns `math.floor`\n",
    "- Write a function called `factorial` that takes input a returns `math.factorial`\n",
    "- Use the variables a and b below as needed for each function"
   ]
  },
  {
   "cell_type": "code",
   "execution_count": 34,
   "id": "b0f603fb-8b80-45fe-b67e-b7c874f53812",
   "metadata": {},
   "outputs": [],
   "source": [
    "a = 4\n",
    "b = 5"
   ]
  },
  {
   "cell_type": "code",
   "execution_count": null,
   "id": "4412f9cb-c855-44b3-958d-22d1a889d6f2",
   "metadata": {},
   "outputs": [],
   "source": []
  },
  {
   "cell_type": "markdown",
   "id": "6de17f6a-9e12-4a07-a6e0-c2d0ac8ca8d7",
   "metadata": {},
   "source": [
    "Congratulations! You learned about the foundations of functions and modules in Python!\n",
    "In the final lesson of this module, you will learn how to work with data from various file formats!"
   ]
  }
 ],
 "metadata": {
  "kernelspec": {
   "display_name": "Python 3 (ipykernel)",
   "language": "python",
   "name": "python3"
  },
  "language_info": {
   "codemirror_mode": {
    "name": "ipython",
    "version": 3
   },
   "file_extension": ".py",
   "mimetype": "text/x-python",
   "name": "python",
   "nbconvert_exporter": "python",
   "pygments_lexer": "ipython3",
   "version": "3.11.7"
  }
 },
 "nbformat": 4,
 "nbformat_minor": 5
}
