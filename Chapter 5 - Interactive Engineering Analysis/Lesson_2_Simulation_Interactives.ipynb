{
 "cells": [
  {
   "cell_type": "markdown",
   "id": "7f40c398-6597-4a05-a059-27726420b01d",
   "metadata": {},
   "source": [
    "# Lesson 2: Simulation Interactives"
   ]
  },
  {
   "cell_type": "code",
   "execution_count": null,
   "id": "4f69af3a-3158-42b0-9ce8-7d04cc9899f6",
   "metadata": {},
   "outputs": [],
   "source": []
  }
 ],
 "metadata": {
  "kernelspec": {
   "display_name": "Python 3 (ipykernel)",
   "language": "python",
   "name": "python3"
  },
  "language_info": {
   "codemirror_mode": {
    "name": "ipython",
    "version": 3
   },
   "file_extension": ".py",
   "mimetype": "text/x-python",
   "name": "python",
   "nbconvert_exporter": "python",
   "pygments_lexer": "ipython3",
   "version": "3.11.7"
  }
 },
 "nbformat": 4,
 "nbformat_minor": 5
}
