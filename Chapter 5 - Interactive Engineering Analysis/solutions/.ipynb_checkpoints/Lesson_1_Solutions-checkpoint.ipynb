{
 "cells": [
  {
   "cell_type": "markdown",
   "id": "73b2ce99-1cb0-4ace-a26c-4de6fb2cf27d",
   "metadata": {},
   "source": [
    "# Lesson 1 Exercise Solutions"
   ]
  },
  {
   "cell_type": "markdown",
   "id": "fe8ce302-f608-4d88-bee4-db006fb02a7a",
   "metadata": {},
   "source": [
    "## Exercise 1: Create your own Tkinter Display\n",
    "\n",
    "#### Objectives\n",
    "- Create a Tkinter window display using the `tkinter` library\n",
    "- Add text onto the window display stating \"My First Display\"\n",
    "- Display the window"
   ]
  },
  {
   "cell_type": "code",
   "execution_count": 1,
   "id": "32f999d1-e856-4928-9f98-093440ad4da5",
   "metadata": {},
   "outputs": [],
   "source": [
    "import tkinter as tk\n",
    "window = tk.Tk()\n",
    "label = tk.Label(text=\"My First Display\")\n",
    "label.pack()\n",
    "window.mainloop()"
   ]
  },
  {
   "cell_type": "markdown",
   "id": "66e62f23-bb4c-4222-9f10-927da9032461",
   "metadata": {},
   "source": [
    "## Exercise 2: Create an Addition Calculator\n",
    "\n",
    "#### Objectives\n",
    "- Create a Tkinter window display using the `tkinter` library\n",
    "- Add text onto the window display stating \"Addition Calculator\"\n",
    "- Add two inputs onto the window and store the inputs into variables `number1` and `number2` respectively\n",
    "- Create a button titled \"Add\" \n",
    "- Create a Label on the window that shows the sum of `number1` and `number2` when the `Add` button is clicked\n",
    "- Display the window"
   ]
  },
  {
   "cell_type": "code",
   "execution_count": 2,
   "id": "8ab6d5b3-4de7-4c72-8316-698d9dc2fae0",
   "metadata": {},
   "outputs": [],
   "source": [
    "import tkinter as tk"
   ]
  },
  {
   "cell_type": "code",
   "execution_count": 3,
   "id": "71a9d1d8-1da8-4185-956a-7d9ac4cc8933",
   "metadata": {},
   "outputs": [],
   "source": [
    "window = tk.Tk()\n",
    "window.title(\"Addition Calculator\")\n",
    "\n",
    "# Add label for the calculator title\n",
    "title_label = tk.Label(window, text=\"Addition Calculator\")\n",
    "title_label.pack(pady=10)"
   ]
  },
  {
   "cell_type": "code",
   "execution_count": 4,
   "id": "cbcad713-ed72-4e3f-b9f0-7085478f1aeb",
   "metadata": {},
   "outputs": [],
   "source": [
    "# Create the main form contents \n",
    "number1_label = tk.Label(window, text=\"Number 1:\")\n",
    "number1_label.pack()\n",
    "number1_entry = tk.Entry(window)\n",
    "number1_entry.pack(pady=5)\n",
    "\n",
    "number2_label = tk.Label(window, text=\"Number 2:\")\n",
    "number2_label.pack()\n",
    "number2_entry = tk.Entry(window)\n",
    "number2_entry.pack(pady=5)"
   ]
  },
  {
   "cell_type": "code",
   "execution_count": 5,
   "id": "6a10867a-e9fd-42a1-846b-abae52f9e79a",
   "metadata": {},
   "outputs": [],
   "source": [
    "# Define the addition function\n",
    "def add_numbers():\n",
    "    result = int(number1_entry.get()) + int(number2_entry.get())\n",
    "    result_label.config(text=f\"Sum: {result}\")"
   ]
  },
  {
   "cell_type": "code",
   "execution_count": 6,
   "id": "d669293a-fb92-4e00-80be-bb41e4c283e0",
   "metadata": {},
   "outputs": [],
   "source": [
    "# Add button to perform addition\n",
    "add_button = tk.Button(window, text=\"Add\", command=add_numbers)\n",
    "add_button.pack(pady=10)"
   ]
  },
  {
   "cell_type": "code",
   "execution_count": 7,
   "id": "8673ab42-415a-48a6-a8a5-2a1ef20847f2",
   "metadata": {},
   "outputs": [],
   "source": [
    "# Add label to display result\n",
    "result_label = tk.Label(window, text=\"\")\n",
    "result_label.pack()"
   ]
  },
  {
   "cell_type": "code",
   "execution_count": 8,
   "id": "bde63eaf-56d9-4fa7-9a15-1a613ef8f330",
   "metadata": {},
   "outputs": [],
   "source": [
    "# Display the window\n",
    "window.mainloop()"
   ]
  }
 ],
 "metadata": {
  "kernelspec": {
   "display_name": "\"Python/Mu (mu_venv-38-20220319-163202)\"",
   "language": "python",
   "name": "mu_venv-38-20220319-163202"
  },
  "language_info": {
   "codemirror_mode": {
    "name": "ipython",
    "version": 3
   },
   "file_extension": ".py",
   "mimetype": "text/x-python",
   "name": "python",
   "nbconvert_exporter": "python",
   "pygments_lexer": "ipython3",
   "version": "3.8.11"
  }
 },
 "nbformat": 4,
 "nbformat_minor": 5
}
