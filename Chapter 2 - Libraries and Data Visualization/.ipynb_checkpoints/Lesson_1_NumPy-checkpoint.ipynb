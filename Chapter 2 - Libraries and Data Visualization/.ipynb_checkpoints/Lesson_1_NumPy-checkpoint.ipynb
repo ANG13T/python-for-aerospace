{
 "cells": [
  {
   "cell_type": "markdown",
   "id": "4a90d1f1-801d-47b0-adc2-ec0277b317e3",
   "metadata": {},
   "source": [
    "# Lesson 1: NumPy"
   ]
  },
  {
   "cell_type": "markdown",
   "id": "8dba4691-6528-487e-90a4-d11d5e56cdeb",
   "metadata": {},
   "source": [
    "## Packages in Python 📚\n",
    "A Python package is a collection of modules. They are created by other developers to help you perform common tasks more easily without having to write all the code from scratch."
   ]
  },
  {
   "cell_type": "markdown",
   "id": "53a11dff-a5a0-4371-988c-4c948598362b",
   "metadata": {},
   "source": [
    "## Core Packages for Aerospace 🚀\n",
    "In aerospace and astronomy, many core packages are commonly used to perform various tasks, including numerical simulations, data analysis, visualization, and more. Here are some essential packages for each field:\n",
    "\n",
    "`numpy`: NumPy is a fundamental package for scientific computing in Python. It provides support for large, multi-dimensional arrays and matrices, along with a collection of mathematical functions to operate on these arrays efficiently.\n",
    "\n",
    "`scipy`: SciPy is built on top of NumPy and provides additional functionality for scientific and technical computing. It includes modules for optimization, integration, interpolation, signal processing, linear algebra, and more.\n",
    "\n",
    "`matplotlib`:Matplotlib is a comprehensive library for creating static, animated, and interactive visualizations in Python. It provides a MATLAB-like interface for generating plots and graphs, making it suitable for visualizing aerospace data. \n",
    "\n",
    "`pandas`: Pandas is a powerful data analysis and manipulation library that provides data structures and functions for working with structured data.\n",
    "\n",
    "`astropy`: Astropy is a core package for astronomy in Python, providing a wide range of tools and utilities for astronomical data analysis and modeling."
   ]
  },
  {
   "cell_type": "markdown",
   "id": "275768ea-9351-4a47-8950-349ce6edfd98",
   "metadata": {},
   "source": [
    "## Getting Started with NumPy 🐍\n",
    "A Python package is a collection of modules. They are created by other developers to help you perform common tasks more easily without having to write all the code from scratch."
   ]
  },
  {
   "cell_type": "code",
   "execution_count": null,
   "id": "3f73f445-1f70-4daf-93ff-c42e8cc562b0",
   "metadata": {},
   "outputs": [],
   "source": []
  }
 ],
 "metadata": {
  "kernelspec": {
   "display_name": "Python 3 (ipykernel)",
   "language": "python",
   "name": "python3"
  },
  "language_info": {
   "codemirror_mode": {
    "name": "ipython",
    "version": 3
   },
   "file_extension": ".py",
   "mimetype": "text/x-python",
   "name": "python",
   "nbconvert_exporter": "python",
   "pygments_lexer": "ipython3",
   "version": "3.11.7"
  }
 },
 "nbformat": 4,
 "nbformat_minor": 5
}
