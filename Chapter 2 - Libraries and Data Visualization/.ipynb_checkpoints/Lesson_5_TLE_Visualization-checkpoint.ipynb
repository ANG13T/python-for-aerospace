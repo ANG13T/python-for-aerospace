{
 "cells": [
  {
   "cell_type": "markdown",
   "id": "e10f1cc3-84ab-49f3-9f43-7f7c6e9f26c0",
   "metadata": {},
   "source": [
    "# Lesson 5: Orbital Visualizations & TLEs"
   ]
  },
  {
   "cell_type": "markdown",
   "id": "d402f252-0541-4b33-ac39-b9b1043688ef",
   "metadata": {},
   "source": [
    "## TLE (Two-Line Element Set)\n",
    "A TLE is a standardized format used to describe the orbit of an object around Earth. It looks something like the following:\n",
    "\n",
    "![https://kaitlyn.guru/wp-content/uploads/2020/11/2line.gif](https://kaitlyn.guru/wp-content/uploads/2020/11/2line.gif)\n",
    "\n",
    "[Image Source](https://www.google.com/url?sa=i&url=https%3A%2F%2Fkaitlyn.guru%2Fprojects%2Ftwo-line-elements-tle%2F&psig=AOvVaw2U4l7F8N_Q8_mA-lifAZLB&ust=1710783341791000&source=images&cd=vfe&opi=89978449&ved=0CBEQjRxqFwoTCMCM897q-4QDFQAAAAAdAAAAABAD)\n",
    "\n",
    "TLEs are usually comprised of 2 or 3 lines. If there is a third line, the first line is designated for the name of the satellite. Let's do a breakdown of the following TLE:\n",
    "\n",
    "```\n",
    "ISS (ZARYA)\n",
    "1 25544U 98067A   08264.51782528 -.00002182  00000-0 -11606-4 0  2927\n",
    "2 25544  51.6416 247.4627 0006703 130.5360 325.0288 15.72125391563537\n",
    "```\n",
    "\n",
    "## TLE Breakdown\n",
    "\n",
    "### Line One (Optional)\n",
    "- **Satellite Name**: 11 characters containing the identifiable name of the satellite (ISS (ZARYA))\n",
    "\n",
    "### Line Two \n",
    "- **Satellite Catalog Number**: catalog number of satellite defined by 5 characters (25544)\n",
    "- **Classification**: U: unclassified, C: classified, S: secret (U)\n",
    "- **International Designator**: last two digits of launch year (98)\n",
    "- **International Designator**: launch number of the year (067)\n",
    "- **International Designator**: piece of the launch (A)\n",
    "- **Epoch Year**: last two digits of year (U)\n",
    "- **Epoch**: day of the year and fractional portion of the day (264.51782528)\n",
    "- **First Derivative of Mean Motion**: the ballistic coefficient (-.00002182)\n",
    "- **Second Derivative of Mean Motion**: decimal point assumed (00000–0)\n",
    "- **B\\* Drag Term**: radiation pressure coefficient. decimal point assumed (-11606–4)\n",
    "- **Ephemeris Type**: always zero; only used in undistributed TLE data (0)\n",
    "- **Element Set Number**: incremented when a new TLE is generated for this object (292)\n",
    "- **Checksum**: checking modulo 10 (7)\n",
    "\n",
    "### Line Three\n",
    "- **Satellite Catalog Number**: catalog number of satellite defined by 5 characters (25544)\n",
    "- **Inclination**: in degrees (51.6416)|\n",
    "- **Right Ascension**: right ascension of the ascending node (degrees) (247.4627)\n",
    "- **Eccentricity**: decimal point assumed (0006703)\n",
    "- **Argument of Perigee**: in degrees (130.5360)\n",
    "- **Mean Anomaly**: in degrees (325.0288)\n",
    "- **Mean Motion**: revolutions per day (15.72125391)\n",
    "- **Revolution Number of Epochs**: revolution number at epoch (revolutions) (56353)\n",
    "- **Checksum**: checking modulo 10 (7)"
   ]
  },
  {
   "cell_type": "markdown",
   "id": "7d6dcd66-a455-433a-94d0-7910ed75391f",
   "metadata": {},
   "source": [
    "## TLE Data Sources\n",
    "There are a number of sources to gather real-time TLE data of satellites orbiting around Earth. A few great options include:\n",
    "\n",
    "- [**N2YO**](https://www.n2yo.com/)\n",
    "\n",
    "- [**CelesTrak**](https://www.celestrak.com)\n",
    "\n",
    "- [**SpaceTrack**](https://www.space-track.org)"
   ]
  },
  {
   "cell_type": "markdown",
   "id": "0d6cb8a4-ce5f-4d1a-92df-8418b5ea6d40",
   "metadata": {},
   "source": [
    "## Parsing TLEs \n",
    "Now that we have a foundational conceptual background of TLEs, let's apply our knowledge to create our own TLE parser. "
   ]
  },
  {
   "cell_type": "markdown",
   "id": "68efa42b-2682-4894-a19a-348d9087d626",
   "metadata": {},
   "source": [
    "### Step One: Read TLE from a Text File\n",
    "In order to read data from a text file, you can utilize the `open` method within Python. The following snippet of code, reads each line within the `tle.txt` text file using read-mode (\"r\") and stores it inside a variable titled `tle_data` as an array."
   ]
  },
  {
   "cell_type": "code",
   "execution_count": 5,
   "id": "3e40775a-2fc1-41be-a5dd-3f1f7c342e99",
   "metadata": {},
   "outputs": [],
   "source": [
    "path = \"tle.txt\"\n",
    "tle_data = open(\"tle.txt\", \"r\").readlines()"
   ]
  },
  {
   "cell_type": "code",
   "execution_count": 6,
   "id": "d2ca1e04-a516-40c8-adad-1b440bd4b08b",
   "metadata": {},
   "outputs": [
    {
     "name": "stdout",
     "output_type": "stream",
     "text": [
      "['ISS (ZARYA)\\n', '1 25544U 98067A   08264.51782528 -.00002182  00000-0 -11606-4 0  2927\\n', '2 25544  51.6416 247.4627 0006703 130.5360 325.0288 15.72125391563537']\n"
     ]
    }
   ],
   "source": [
    "print(tle_data)"
   ]
  },
  {
   "cell_type": "markdown",
   "id": "18907eea-eee4-4da1-8b09-80c4745a1a2c",
   "metadata": {},
   "source": [
    "The above prints out an array of each line within the file!"
   ]
  },
  {
   "cell_type": "markdown",
   "id": "e99f1e91-ccf6-47ad-8b9f-8707b7d0ea39",
   "metadata": {},
   "source": [
    "### Step Two: Cleaning the Data\n",
    "You might have noticed that each item within the array has a nasty `\\n` appended at the end of the string. This is because `\\n` is a special character that delineates each line within a text file. You can eliminate the `\\n` by using the `strip()` method."
   ]
  },
  {
   "cell_type": "code",
   "execution_count": 11,
   "id": "23303817-9b41-4d42-8698-ea356e73566f",
   "metadata": {},
   "outputs": [
    {
     "name": "stdout",
     "output_type": "stream",
     "text": [
      "['ISS (ZARYA)', '1 25544U 98067A   08264.51782528 -.00002182  00000-0 -11606-4 0  2927', '2 25544  51.6416 247.4627 0006703 130.5360 325.0288 15.72125391563537']\n"
     ]
    }
   ],
   "source": [
    "tle_data_clean = list(map(lambda line: line.strip(), tle_data))\n",
    "print(tle_data_clean)"
   ]
  },
  {
   "cell_type": "markdown",
   "id": "47b09f5d-6c5c-42ff-b6ce-abd59ed747d7",
   "metadata": {},
   "source": [
    "The above code, uses a special kind of operation within Python entitled a lambda function which is used when you want to run a simple function without defining a formal function using the `def` keyword."
   ]
  },
  {
   "cell_type": "markdown",
   "id": "f89aa574-8f98-4809-960d-39096adc4a25",
   "metadata": {},
   "source": [
    "### Step 3: Interpreting the TLE\n",
    "The last step is to interpret the TLE and assign the right values to the proper variable names."
   ]
  },
  {
   "cell_type": "code",
   "execution_count": 16,
   "id": "026c2504-2fff-4557-83dc-09420090a14c",
   "metadata": {},
   "outputs": [],
   "source": [
    "for i in range(len(tle_data_clean)):\n",
    "    name = tle_data_clean[0]\n",
    "    line1 = tle_data_clean[1]\n",
    "    line2 = tle_data_clean[2]\n",
    "\n",
    "    # Extracting individual values from Line 2\n",
    "    satellite_number = int(line1[2:7])\n",
    "    classification = line1[7]\n",
    "    international_designator_year = int(line1[9:11])\n",
    "    international_designator_launch_number = int(line1[11:14])\n",
    "    international_designator_piece_of_launch = line1[14:17]\n",
    "    epoch_year = int(line1[18:20])\n",
    "    epoch_day = float(line1[20:32])\n",
    "    first_derivative_mean_motion = float(line1[33:43])\n",
    "    second_derivative_mean_motion = line1[45:52]\n",
    "    bstar_drag_term = line1[53:61]\n",
    "    ephemeris_type = int(line1[62])\n",
    "    element_number = int(line1[64:68])\n",
    "\n",
    "    # Extracting individual values from Line 3\n",
    "    inclination = float(line2[8:16])\n",
    "    raan = float(line2[17:25])\n",
    "    eccentricity = float(\"0.\" + line2[26:33])\n",
    "    argument_of_perigee = float(line2[34:42])\n",
    "    mean_anomaly = float(line2[43:51])\n",
    "    mean_motion = float(line2[52:63])\n",
    "    revolution_number = int(line2[63:68])"
   ]
  },
  {
   "cell_type": "markdown",
   "id": "7c130333-a00f-43bc-b086-068837a9243e",
   "metadata": {},
   "source": [
    "### Step 4: Printing the TLE Data"
   ]
  },
  {
   "cell_type": "code",
   "execution_count": 19,
   "id": "735d7c66-8950-407d-98f4-fc6af46b5270",
   "metadata": {},
   "outputs": [],
   "source": [
    "def print_tle(satellite):\n",
    "    print(f\"Name: {satellite['name']}\")\n",
    "    print(f\"Satellite Number: {satellite['satellite_number']}\")\n",
    "    print(f\"Classification: {satellite['classification']}\")\n",
    "    print(f\"International Designator Year: {satellite['international_designator_year']}\")\n",
    "    print(f\"International Designator Launch Number: {satellite['international_designator_launch_number']}\")\n",
    "    print(f\"International Designator Piece of Launch: {satellite['international_designator_piece_of_launch']}\")\n",
    "    print(f\"Epoch Year: {satellite['epoch_year']}\")\n",
    "    print(f\"Epoch Day: {satellite['epoch_day']}\")\n",
    "    print(f\"First Derivative Mean Motion: {satellite['first_derivative_mean_motion']}\")\n",
    "    print(f\"Second Derivative Mean Motion: {satellite['second_derivative_mean_motion']}\")\n",
    "    print(f\"Bstar Drag Term: {satellite['bstar_drag_term']}\")\n",
    "    print(f\"Ephemeris Type: {satellite['ephemeris_type']}\")\n",
    "    print(f\"Element Number: {satellite['element_number']}\")\n",
    "    print(f\"Inclination: {satellite['inclination']}\")\n",
    "    print(f\"RAAN: {satellite['raan']}\")\n",
    "    print(f\"Eccentricity: {satellite['eccentricity']}\")\n",
    "    print(f\"Argument of Perigee: {satellite['argument_of_perigee']}\")\n",
    "    print(f\"Mean Anomaly: {satellite['mean_anomaly']}\")\n",
    "    print(f\"Mean Motion: {satellite['mean_motion']}\")\n",
    "    print(f\"Revolution Number: {satellite['revolution_number']}\")\n",
    "    print()"
   ]
  },
  {
   "cell_type": "code",
   "execution_count": 22,
   "id": "6b2ab8b8-52dd-4156-b91e-ed69ec28e8b7",
   "metadata": {},
   "outputs": [],
   "source": [
    "data = {\n",
    "    \"name\": name, \n",
    "    \"satellite_number\": satellite_number, \n",
    "    \"classification\": classification, \n",
    "    \"international_designator_year\": international_designator_year, \n",
    "    \"international_designator_launch_number\": international_designator_launch_number, \n",
    "    \"international_designator_piece_of_launch\": international_designator_piece_of_launch,\n",
    "    \"epoch_year\": epoch_year, \n",
    "    \"epoch_day\": epoch_day, \n",
    "    \"first_derivative_mean_motion\": first_derivative_mean_motion, \n",
    "    \"second_derivative_mean_motion\": second_derivative_mean_motion, \n",
    "    \"bstar_drag_term\": bstar_drag_term, \n",
    "    \"ephemeris_type\": ephemeris_type, \n",
    "    \"element_number\": element_number, \n",
    "    \"inclination\": inclination, \n",
    "    \"raan\": raan, \n",
    "    \"eccentricity\": eccentricity, \n",
    "    \"argument_of_perigee\": argument_of_perigee,\n",
    "    \"mean_anomaly\": mean_anomaly, \n",
    "    \"mean_motion\": mean_motion,\n",
    "    \"revolution_number\": revolution_number\n",
    "}"
   ]
  },
  {
   "cell_type": "code",
   "execution_count": 23,
   "id": "5de3715b-0d7a-4c61-8b92-b810d91bf439",
   "metadata": {},
   "outputs": [
    {
     "name": "stdout",
     "output_type": "stream",
     "text": [
      "Name: ISS (ZARYA)\n",
      "Satellite Number: 25544\n",
      "Classification: U\n",
      "International Designator Year: 98\n",
      "International Designator Launch Number: 67\n",
      "International Designator Piece of Launch: A  \n",
      "Epoch Year: 8\n",
      "Epoch Day: 264.51782528\n",
      "First Derivative Mean Motion: -2.182e-05\n",
      "Second Derivative Mean Motion: 00000-0\n",
      "Bstar Drag Term: -11606-4\n",
      "Ephemeris Type: 0\n",
      "Element Number: 292\n",
      "Inclination: 51.6416\n",
      "RAAN: 247.4627\n",
      "Eccentricity: 0.0006703\n",
      "Argument of Perigee: 130.536\n",
      "Mean Anomaly: 325.0288\n",
      "Mean Motion: 15.72125391\n",
      "Revolution Number: 56353\n",
      "\n"
     ]
    }
   ],
   "source": [
    "print_tle(data)"
   ]
  },
  {
   "cell_type": "markdown",
   "id": "dd86d747-2864-4dce-a438-5cefbf879c51",
   "metadata": {},
   "source": [
    "## Orbital Visualizations 🪐\n",
    "Using our skills in numpy and matplotlib, we can now create visualizations of orbits!"
   ]
  },
  {
   "cell_type": "markdown",
   "id": "5b47ac0f-c2c9-4e5e-ac8a-13d0d92dff4f",
   "metadata": {},
   "source": [
    "## Calculating Semi Major Axis \n",
    "Before we can visualize the orbit of a TLE, we need to calculate a few things ourselves. To calculate the semi-major axis of an orbit, you can do the following:"
   ]
  },
  {
   "cell_type": "code",
   "execution_count": 38,
   "id": "bc4c61d5-0c84-477d-b908-815e94bd8927",
   "metadata": {},
   "outputs": [
    {
     "data": {
      "text/latex": [
       "\\begin{align}\n",
       "a = \\left( \\frac{GM}{(2\\pi n)^2} \\right)^{1/3}\n",
       "\\end{align}\n"
      ],
      "text/plain": [
       "<IPython.core.display.Latex object>"
      ]
     },
     "metadata": {},
     "output_type": "display_data"
    }
   ],
   "source": [
    "%%latex\n",
    "\\begin{align}\n",
    "a = \\left( \\frac{GM}{(2\\pi n)^2} \\right)^{1/3}\n",
    "\\end{align}"
   ]
  },
  {
   "cell_type": "code",
   "execution_count": 40,
   "id": "024fbd2a-52cc-4dd9-9948-0c544608e2f8",
   "metadata": {},
   "outputs": [],
   "source": [
    "import math\n",
    "\n",
    "def semi_major_axis(mean_motion):\n",
    "    G = 6.674 * 10**-11  # Gravitational constant (m³ kg⁻¹ s⁻²)\n",
    "    M = 5.972 * 10**24   # Mass of the Earth (kg)\n",
    "    n = mean_motion * (2 * math.pi) / (24 * 60 * 60)  # Convert mean motion from rev/day to rad/s\n",
    "    return (G * M / (n**2))**(1/3)"
   ]
  },
  {
   "cell_type": "code",
   "execution_count": 41,
   "id": "7d3e037e-4a58-49ec-9076-9c18815fc5cb",
   "metadata": {},
   "outputs": [],
   "source": [
    "semimajor_axis = semi_major_axis(data[\"mean_motion\"])"
   ]
  },
  {
   "cell_type": "markdown",
   "id": "5d3b0008-87bb-4873-af97-dad469cc1555",
   "metadata": {},
   "source": [
    "## Calculating Orbital Period \n",
    "To calculate the orbital period of an orbit, you can do the following:"
   ]
  },
  {
   "cell_type": "code",
   "execution_count": 43,
   "id": "1616b9b2-8eb4-412c-bfce-6b1b22ecc5fa",
   "metadata": {},
   "outputs": [
    {
     "data": {
      "text/latex": [
       "\\begin{align}\n",
       "T^2 = \\frac{4 \\pi^2}{G M} a^3\n",
       "\\end{align}\n"
      ],
      "text/plain": [
       "<IPython.core.display.Latex object>"
      ]
     },
     "metadata": {},
     "output_type": "display_data"
    }
   ],
   "source": [
    "%%latex\n",
    "\\begin{align}\n",
    "T^2 = \\frac{4 \\pi^2}{G M} a^3\n",
    "\\end{align}"
   ]
  },
  {
   "cell_type": "code",
   "execution_count": 46,
   "id": "f6639196-1403-4f35-8cef-4c9a317b2fb2",
   "metadata": {},
   "outputs": [],
   "source": [
    "def orbital_period(semi_major_axis):\n",
    "    G = 6.674 * 10**-11  # Gravitational constant (m³ kg⁻¹ s⁻²)\n",
    "    M = 5.972 * 10**24   # Mass of the Earth (kg)\n",
    "    return 2 * math.pi * math.sqrt(semi_major_axis**3 / (G * M))"
   ]
  },
  {
   "cell_type": "code",
   "execution_count": 47,
   "id": "8dc09e67-448e-4e84-8884-512ed880cbaa",
   "metadata": {},
   "outputs": [],
   "source": [
    "period = orbital_period(semimajor_axis)"
   ]
  },
  {
   "cell_type": "markdown",
   "id": "1eefd9fd-263d-4143-9e7e-5e4195bc467d",
   "metadata": {},
   "source": [
    "### PyAstronomy Library \n",
    "PyAstronomy is a comprehensive Python library for astronomy-related calculations and data analysis. We will be using it to aid with the mathematics of the orbital visualization, so we don't have to do all the tedious mathematical work ourselves. You can install it by running:\n",
    "\n",
    "```\n",
    "pip install PyAstronomy\n",
    "```"
   ]
  },
  {
   "cell_type": "code",
   "execution_count": 50,
   "id": "d2f19b3b-efb8-49a6-8108-c978e5d9c2fa",
   "metadata": {},
   "outputs": [
    {
     "name": "stdout",
     "output_type": "stream",
     "text": [
      "6730796.526160354 5495.744836551647 0.0006703 247.4627 51.6416 130.536\n"
     ]
    }
   ],
   "source": [
    "import numpy as np\n",
    "from PyAstronomy import pyasl\n",
    "import matplotlib.pyplot as plt\n",
    "import matplotlib.animation as animation\n",
    "\n",
    "print(semimajor_axis, period, data[\"eccentricity\"], data[\"raan\"], data[\"inclination\"], data[\"argument_of_perigee\"])"
   ]
  },
  {
   "cell_type": "code",
   "execution_count": 72,
   "id": "09aabf20-ec0c-49d2-a17d-f4d79cd8878c",
   "metadata": {},
   "outputs": [],
   "source": [
    "orbit = pyasl.KeplerEllipse(a=semimajor_axis, per=period, e=data[\"eccentricity\"], Omega=data[\"raan\"], i=data[\"inclination\"], w=data[\"argument_of_perigee\"])\n",
    "t = np.linspace(0, period, 200)\n",
    "positions = orbit.xyzPos(t)"
   ]
  },
  {
   "cell_type": "markdown",
   "id": "a5dcf0d7-6f80-4429-baf2-813f9c0d457d",
   "metadata": {},
   "source": [
    "The lines of code above calculate the position of the orbiting object (such as a satellite) at the specified times given by the array `t`"
   ]
  },
  {
   "cell_type": "code",
   "execution_count": 74,
   "id": "eca0f5a2-73a4-47c8-8b93-f3c4adb46d58",
   "metadata": {},
   "outputs": [
    {
     "data": {
      "image/png": "[encoded data removed]",
      "text/plain": [
       "<Figure size 640x480 with 1 Axes>"
      ]
     },
     "metadata": {},
     "output_type": "display_data"
    }
   ],
   "source": [
    "plt.style.use('dark_background')\n",
    "plt.plot(0, 0, 'bo', markersize=11, label=\"Earth\")\n",
    "plt.plot(pos[::, 1], pos[::, 0], 'w-', label=\"ISS Path Trajectory\")\n",
    "plt.legend(loc=\"lower right\")\n",
    "plt.title(f'Orbital Visualization of {data[\"name\"]}')\n",
    "plt.show()"
   ]
  },
  {
   "cell_type": "markdown",
   "id": "330d55a2-e780-4f2a-a1cc-debdfe93f9b1",
   "metadata": {},
   "source": [
    "### Exercise 1: Create your own Orbit Visualizer!\n",
    "You are a budding intern at NASA's Jet Propulsion Laboratory and your first task is to make a program that parses and visualizes TLEs. The objectives of the assignment are as follows:\n",
    "\n",
    "#### Objectives:\n",
    "- Create a class entitled `Orbital_Visualizer` which takes in the name of a TLE file within the constructor\n",
    "- Assign `name`, `line_1`, and `line_2` to empty strings within the constructor\n",
    "- Assign `tle_file` to the name of a TLE file within the constructor\n",
    "- Create a variable titled `satellite` and assign it to `None` within the constructor\n",
    "- Create a method within the class titled `extract_tle_contents` that extracts each line from the TLE file, cleans them, and stores them within `name`, `line_1`, and `line_2`, respectively.\n",
    "- Create another method titled `parse_tle` that parses the TLE contents from each of the variables and stores them inside of an object that is assigned to `satellite`\n",
    "- Make two additional fields within `satellite` called `orbital_period` and `semi_major_axis` and set them both to 0\n",
    "- Create a method called `calc_semimajor` which sets the semi-major axis within the satellite object using `self.satellite[\"mean_motion\"]`\n",
    "- Create a method called `calc_orbital_period` which sets the orbital period within the satellite object using `self.satellite[\"semi_major_axis\"]`\n",
    "- Create a method called `plot_orbit` that visualizes the orbit of the TLE using `PyAstronomy` and `matplotlib`"
   ]
  },
  {
   "cell_type": "markdown",
   "id": "11d18f26-94dc-4954-bfa0-fc117a827959",
   "metadata": {},
   "source": [
    "Great job! You made it to the end of module 2 where we covered more advanced Python concepts such as classes alongside the foundations of orbital mechanics. You will now move onto an interactive project to visualize n-body orbits 🪐✨!"
   ]
  }
 ],
 "metadata": {
  "kernelspec": {
   "display_name": "Python 3 (ipykernel)",
   "language": "python",
   "name": "python3"
  },
  "language_info": {
   "codemirror_mode": {
    "name": "ipython",
    "version": 3
   },
   "file_extension": ".py",
   "mimetype": "text/x-python",
   "name": "python",
   "nbconvert_exporter": "python",
   "pygments_lexer": "ipython3",
   "version": "3.11.7"
  }
 },
 "nbformat": 4,
 "nbformat_minor": 5
}
