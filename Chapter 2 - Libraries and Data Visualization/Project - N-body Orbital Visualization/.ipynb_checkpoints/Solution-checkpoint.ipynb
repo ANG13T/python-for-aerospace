{
 "cells": [
  {
   "cell_type": "code",
   "execution_count": null,
   "id": "4a968868-53cc-4a8b-8f39-f1f58436b5ed",
   "metadata": {},
   "outputs": [],
   "source": []
  }
 ],
 "metadata": {
  "kernelspec": {
   "display_name": "Python 3 (ipykernel)",
   "language": "python",
   "name": "python3"
  },
  "language_info": {
   "codemirror_mode": {
    "name": "ipython",
    "version": 3
   },
   "file_extension": ".py",
   "mimetype": "text/x-python",
   "name": "python",
   "nbconvert_exporter": "python",
   "pygments_lexer": "ipython3",
   "version": "3.11.7"
  }
 },
 "nbformat": 4,
 "nbformat_minor": 5
}
