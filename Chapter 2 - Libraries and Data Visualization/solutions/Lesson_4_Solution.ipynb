{
 "cells": [
  {
   "cell_type": "markdown",
   "id": "e626f71a-9e74-4e54-ac0a-84225e246485",
   "metadata": {},
   "source": [
    "# Lesson 4 Solutions"
   ]
  },
  {
   "cell_type": "markdown",
   "id": "502b6e02-0248-4967-9559-c2326efdb03b",
   "metadata": {},
   "source": [
    "### Exercise 1: Class for a Spaceship 🚀\n",
    "\n",
    "#### Objectives:\n",
    "- Create a class called `Spaceship`\n",
    "- Create a constructor for the class which takes a name, crew capacity, and speed.\n",
    "- Set the instance variables of the class for each of the inputted constructor variables\n",
    "- Create a method named `increase_speed` that increases the speed of the spaceship by 10 and prints it out\n",
    "- Create a method named `set_crew_capacity` which takes a capacity value that prints out BOTH the previous and new capacity values\n",
    "- Create a method named `state_name` which prints out the name of the spaceship"
   ]
  },
  {
   "cell_type": "code",
   "execution_count": 2,
   "id": "f5f1cb60-5449-4119-90df-1eab67d2641d",
   "metadata": {},
   "outputs": [],
   "source": [
    "class Spaceship:\n",
    "    def __init__(self, name, crew_capacity, speed):\n",
    "        self.name = name\n",
    "        self.crew_capacity = crew_capacity\n",
    "        self.speed = speed\n",
    "\n",
    "    def increase_speed(self):\n",
    "        self.speed += 10\n",
    "        print(f\"{self.speed} is the new speed!\")\n",
    "\n",
    "    def set_crew_capacity(self, new_capacity):\n",
    "        print(f\"Previous Capacity: {self.crew_capacity}\")\n",
    "        self.crew_capacity = new_capacity\n",
    "        print(f\"New Capacity: {self.name}\")  \n",
    "\n",
    "    def state_name(self):\n",
    "        print(f\"Spacecraft Name: {self.name}\")"
   ]
  },
  {
   "cell_type": "code",
   "execution_count": 4,
   "id": "bb5d3711-f281-4203-9070-ab6e56eb35d7",
   "metadata": {},
   "outputs": [],
   "source": [
    "spaceship = Spaceship(\"Starship\", crew_capacity=100, speed=500)\n",
    "# NOTE: in this case, I was able to specify the variable deignations by specifying the name of the varibale within the object instantion"
   ]
  },
  {
   "cell_type": "code",
   "execution_count": 5,
   "id": "613f4595-cfe4-4002-b0ca-c9ea1f9bc540",
   "metadata": {},
   "outputs": [
    {
     "name": "stdout",
     "output_type": "stream",
     "text": [
      "Spacecraft Name: Starship\n"
     ]
    }
   ],
   "source": [
    "spaceship.state_name()"
   ]
  },
  {
   "cell_type": "code",
   "execution_count": 6,
   "id": "c600c0a9-01cd-411e-b94d-61b85b903a2a",
   "metadata": {},
   "outputs": [
    {
     "name": "stdout",
     "output_type": "stream",
     "text": [
      "Previous Capacity: 100\n",
      "New Capacity: Starship\n"
     ]
    }
   ],
   "source": [
    "spaceship.set_crew_capacity(120)"
   ]
  },
  {
   "cell_type": "code",
   "execution_count": 7,
   "id": "983fcd3d-a21d-472d-aa07-fe1943db1876",
   "metadata": {},
   "outputs": [
    {
     "name": "stdout",
     "output_type": "stream",
     "text": [
      "510 is the new speed!\n"
     ]
    }
   ],
   "source": [
    "spaceship.increase_speed()"
   ]
  }
 ],
 "metadata": {
  "kernelspec": {
   "display_name": "Python 3 (ipykernel)",
   "language": "python",
   "name": "python3"
  },
  "language_info": {
   "codemirror_mode": {
    "name": "ipython",
    "version": 3
   },
   "file_extension": ".py",
   "mimetype": "text/x-python",
   "name": "python",
   "nbconvert_exporter": "python",
   "pygments_lexer": "ipython3",
   "version": "3.11.7"
  }
 },
 "nbformat": 4,
 "nbformat_minor": 5
}
