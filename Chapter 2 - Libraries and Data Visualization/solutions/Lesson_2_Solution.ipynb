{
 "cells": [
  {
   "cell_type": "markdown",
   "id": "50b7f667-49fc-4dfd-b820-e2760bfb8d04",
   "metadata": {},
   "source": [
    "# Lesson 2 Exercise Solutions"
   ]
  },
  {
   "cell_type": "markdown",
   "id": "a4ff623f-95cf-4e2e-9e7c-0782190f57c7",
   "metadata": {},
   "source": [
    "### Exercise 1: Planetary Analysis with Pandas 🌏\n",
    "You are part of a team working on analyzing planetary Earth data. Your task is to process and analyze the data using Pandas to extract insights.\n",
    "\n",
    "#### Objectives:\n",
    "- Create a Pandas Series representing distances of planets from the Sun (in million kilometers)\n",
    "- Create a Pandas DataFrame representing characteristics of moons of the outer planets\n",
    "- Analyze the data to find key information about planetary distances and moon characteristics"
   ]
  },
  {
   "cell_type": "code",
   "execution_count": 4,
   "id": "57505bb4-9c94-44f8-b2f4-961f51188c1e",
   "metadata": {},
   "outputs": [],
   "source": [
    "planet_distances = {\n",
    "    'Mercury': 57.9,\n",
    "    'Venus': 108.2,\n",
    "    'Earth': 149.6,\n",
    "    'Mars': 227.9,\n",
    "    'Jupiter': 778.6,\n",
    "    'Saturn': 1433.5,\n",
    "    'Uranus': 2872.5,\n",
    "    'Neptune': 4495.1,\n",
    "    'Pluto': 5906.4\n",
    "}\n",
    "\n",
    "moon_data = {\n",
    "    'Planet': ['Jupiter', 'Jupiter', 'Saturn', 'Saturn', 'Uranus', 'Neptune'],\n",
    "    'Moon': ['Io', 'Ganymede', 'Titan', 'Rhea', 'Titania', 'Triton'],\n",
    "    'Diameter (km)': [3642, 5262, 5150, 1528, 1578, 2707],\n",
    "    'Orbital Period (days)': [1.77, 7.15, 15.95, 4.52, 8.71, 5.88]\n",
    "}"
   ]
  },
  {
   "cell_type": "code",
   "execution_count": 5,
   "id": "bb370c26-2af9-4dba-a1a3-1b0462c63b98",
   "metadata": {},
   "outputs": [
    {
     "name": "stdout",
     "output_type": "stream",
     "text": [
      "Average distance of planets from the Sun:\n",
      "1781.0777777777778\n",
      "\n",
      "Number of moons for each outer planet:\n",
      "Jupiter: 2\n",
      "Saturn: 2\n",
      "Uranus: 1\n",
      "Neptune: 1\n",
      "\n",
      "Largest moon of each outer planet:\n",
      "Jupiter: Ganymede (5262 km)\n",
      "Saturn: Titan (5150 km)\n",
      "Uranus: Titania (1578 km)\n",
      "Neptune: Triton (2707 km)\n"
     ]
    }
   ],
   "source": [
    "import pandas as pd\n",
    "\n",
    "# Create a Pandas Series for planet distances and moon characteristics \n",
    "planet_distances = pd.Series(planet_distances)\n",
    "moon_characteristics = pd.DataFrame(moon_data)\n",
    "\n",
    "# Analyze the data\n",
    "print(\"Average distance of planets from the Sun:\")\n",
    "print(planet_distances.mean())\n",
    "\n",
    "print(\"\\nNumber of moons for each outer planet:\")\n",
    "outer_planets = ['Jupiter', 'Saturn', 'Uranus', 'Neptune']\n",
    "for planet in outer_planets:\n",
    "    num_moons = moon_characteristics[moon_characteristics['Planet'] == planet].shape[0]\n",
    "    print(f\"{planet}: {num_moons}\")\n",
    "\n",
    "print(\"\\nLargest moon of each outer planet:\")\n",
    "for planet in outer_planets:\n",
    "    largest_moon = moon_characteristics[moon_characteristics['Planet'] == planet].\\\n",
    "        sort_values(by='Diameter (km)', ascending=False).iloc[0]\n",
    "    print(f\"{planet}: {largest_moon['Moon']} ({largest_moon['Diameter (km)']} km)\")\n"
   ]
  }
 ],
 "metadata": {
  "kernelspec": {
   "display_name": "Python 3 (ipykernel)",
   "language": "python",
   "name": "python3"
  },
  "language_info": {
   "codemirror_mode": {
    "name": "ipython",
    "version": 3
   },
   "file_extension": ".py",
   "mimetype": "text/x-python",
   "name": "python",
   "nbconvert_exporter": "python",
   "pygments_lexer": "ipython3",
   "version": "3.11.7"
  }
 },
 "nbformat": 4,
 "nbformat_minor": 5
}
