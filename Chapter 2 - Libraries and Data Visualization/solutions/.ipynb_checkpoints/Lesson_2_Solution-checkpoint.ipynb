{
 "cells": [
  {
   "cell_type": "markdown",
   "id": "50b7f667-49fc-4dfd-b820-e2760bfb8d04",
   "metadata": {},
   "source": [
    "# Lesson 2 Exercise Solutions"
   ]
  },
  {
   "cell_type": "code",
   "execution_count": null,
   "id": "86687abc-1548-4467-a198-2765935d7be6",
   "metadata": {},
   "outputs": [],
   "source": [
    "### Exercise 1: Spacecraft Telemetry Modeling with NumPy Arrays 🚀 \n",
    "You are part of a team developing a flight trajectory planning software for a space mission to Mars. The software requires efficient handling of numerical data for trajectory calculations and simulations.\n",
    "\n",
    "#### Objectives:\n",
    "- Generate a NumPy array representing time in seconds from t=0 to t=100 seconds with a step size of 1 second.\n",
    "- Generate a NumPy "
   ]
  }
 ],
 "metadata": {
  "kernelspec": {
   "display_name": "Python 3 (ipykernel)",
   "language": "python",
   "name": "python3"
  },
  "language_info": {
   "codemirror_mode": {
    "name": "ipython",
    "version": 3
   },
   "file_extension": ".py",
   "mimetype": "text/x-python",
   "name": "python",
   "nbconvert_exporter": "python",
   "pygments_lexer": "ipython3",
   "version": "3.11.7"
  }
 },
 "nbformat": 4,
 "nbformat_minor": 5
}
