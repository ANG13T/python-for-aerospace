{
 "cells": [
  {
   "cell_type": "markdown",
   "id": "51742f48-194c-4d15-b16a-5c79e343b971",
   "metadata": {},
   "source": [
    "# Lesson 4: Orbital Mechanics & Classes"
   ]
  },
  {
   "cell_type": "markdown",
   "id": "43f879cf-7e70-44dd-9f39-d1399528bfd2",
   "metadata": {},
   "source": [
    "## Orbital Mechanics 🪐\n",
    "Orbital mechanics refers to the study of the motions of artificial satellites under the influence of gravity and other factors such as thrust and naturally-induced forces within the space environment."
   ]
  },
  {
   "attachments": {
    "0c45c00d-3dd2-4975-a2ce-af60e351906e.png": {
     "image/png": "[encoded data removed]"
    }
   },
   "cell_type": "markdown",
   "id": "1dec99ca-aa7b-44d4-b3a1-fd0d5a4f204d",
   "metadata": {},
   "source": [
    "### Conic Sections\n",
    "A conic section refers to a curve that is created when a plane is passed through a right circular cone as depicted below:\n",
    "\n",
    "\n",
    "The orientation of which the plane is passed through the cone determines the category of the conic section: `circle`, `ellipse`, `parabola`, or `hyperbola`.\n",
    "\n",
    "All of the conic sections are defined by their `eccentricity` (how stretched out the ellipse of the orbit is). We will be diving further into this lesson.\n",
    "\n",
    "![image.png](attachment:0c45c00d-3dd2-4975-a2ce-af60e351906e.png)\n",
    "\n",
    "[Image Source](http://www.braeunig.us/space/orbmech.htm)"
   ]
  },
  {
   "cell_type": "markdown",
   "id": "8c55cf05-d37b-40f8-9e37-0e8085b46b45",
   "metadata": {},
   "source": [
    "### Characteristics of an Ellipse \n",
    "- **Focus**: one of two fixed points within an ellipse. These points are such that the sum of the distances from any point on the ellipse to the two foci remains constant.\n",
    "\n",
    "- **Major Axis**: longest diameter of the ellipse, passing through the two foci and the center of the ellipse.\n",
    "\n",
    "- **Minor Axis**: shortest diameter of the ellipse. It passes through the center of the ellipse and is perpendicular to the major axis.\n",
    "\n",
    "![https://study.com/cimages/multimages/16/ellipse6505305403254083431.jpg](https://study.com/cimages/multimages/16/ellipse6505305403254083431.jpg)\n",
    "\n",
    "[Image Source](https://www.google.com/url?sa=i&url=https%3A%2F%2Fstudy.com%2Fskill%2Flearn%2Fhow-to-find-the-eccentricity-of-an-ellipse-explanation.html&psig=AOvVaw0ctNvUZ-oSiOH-ni9esAos&ust=1710576555425000&source=images&cd=vfe&opi=89978449&ved=0CBMQjhxqFwoTCPi3zrXo9YQDFQAAAAAdAAAAABAg)"
   ]
  },
  {
   "attachments": {
    "c634eee3-ad80-4854-a2f8-04c2cf6981b7.png": {
     "image/png": "[encoded data removed]"
    }
   },
   "cell_type": "markdown",
   "id": "49281988-e9d8-4a38-82c8-396d56df0821",
   "metadata": {},
   "source": [
    "### Characteristics of an Orbit \n",
    "- **Apoapsis**: the **furthest** point of a satellite to its orbiting body\n",
    "\n",
    "- **Periapsis**: the **closest** point of a satellite to its orbiting body\n",
    "\n",
    "![https://upload.wikimedia.org/wikipedia/commons/thumb/a/a0/Periapsis_apoapsis.png/500px-Periapsis_apoapsis.png](https://upload.wikimedia.org/wikipedia/commons/thumb/a/a0/Periapsis_apoapsis.png/500px-Periapsis_apoapsis.png)\n",
    "\n",
    "[Image Source](https://en.wikipedia.org/wiki/Apsis)\n",
    "\n",
    "- **Ascending Node**: the point where the orbiting object crosses the plane of reference from below to above\n",
    "\n",
    "- **Descending Node**: where the orbiting object crosses from north to south through the plane of reference\n",
    "\n",
    "![image.png](attachment:c634eee3-ad80-4854-a2f8-04c2cf6981b7.png)\n",
    "\n",
    "[Image Source](https://lh3.googleusercontent.com/proxy/bSDrJhat75xHbVtWC-xHXBzazKVd15BHtTLtosj0diTDrNUOnF2616CbvZKNRfDAkM9oWVQmbsvlLegSE6Bw9yt0hnUJtJNTtIeWcOwR)"
   ]
  },
  {
   "cell_type": "markdown",
   "id": "8e492635-7041-4b48-b5a4-ca251778b844",
   "metadata": {},
   "source": [
    "### Orbital aka Keplarian Elements\n",
    "There are six characteristics that define the shape of an orbit and they are called **orbital elements.** They include:\n",
    "\n",
    "- **Semi-Major Axis (a)**: half of the major axis\n",
    "\n",
    "- **Eccentricity (e)**: how much an orbit deviates from a perfect circle (e = 0) and elongated orbits (e > 0)\n",
    "  \n",
    "- **Inclination (i)**: angle between the orbital plane and the reference plane\n",
    "  \n",
    "- **Argument of Periapsis (w)**: orientation fo the orbit. It is the angle between the ascending node and the periapsis\n",
    "  \n",
    "- **Longitude of Ascending Node (Ω)**: angle measured from a reference direction to the ascending node\n",
    "\n",
    "- **Mean Anomaly (M)**: measure of the position of the orbiting body along its orbit at a specific point in time in degrees\n",
    "\n",
    "Orbital elements can be quite challenging to understand at first, but let's break them all down individually!\n",
    "\n",
    "![https://www.researchgate.net/publication/358145330/figure/fig1/AS:1116894291595266@1643299758737/Left-Illustration-of-five-of-the-eight-Keplerian-elements-estimated-in-this-work-The.png](https://www.researchgate.net/publication/358145330/figure/fig1/AS:1116894291595266@1643299758737/Left-Illustration-of-five-of-the-eight-Keplerian-elements-estimated-in-this-work-The.png)\n",
    "\n",
    "[Image Source](https://www.researchgate.net/figure/Left-Illustration-of-five-of-the-eight-Keplerian-elements-estimated-in-this-work-The_fig1_358145330)"
   ]
  },
  {
   "cell_type": "markdown",
   "id": "a6cef459-9ca4-464b-a28e-fc8274f87d32",
   "metadata": {},
   "source": [
    "#### Semi-Major Axis & Eccentricity\n",
    "The semi-major axis of an orbit is the length from the center of the orbiting body to the furthest point of the orbit. It indicates how stretched out the orbit is.\n",
    "\n",
    "The length of the semi-major axis of an orbit determines the eccentricity of it. \n",
    "the eccentricity determines how elongated an orbit is:\n",
    "\n",
    "![https://astronomy.swin.edu.au/cms/cpg15x/albums/userpics/eccentricity.jpg](https://astronomy.swin.edu.au/cms/cpg15x/albums/userpics/eccentricity.jpg)\n",
    "\n",
    "[Image Source](https://www.google.com/url?sa=i&url=https%3A%2F%2Fastronomy.swin.edu.au%2Fcosmos%2Fo%2FOrbital%2BEccentricity&psig=AOvVaw20RioVWH0LkeWDU0OMg30t&ust=1710711161550000&source=images&cd=vfe&opi=89978449&ved=0CBMQjhxqFwoTCODM7-vd-YQDFQAAAAAdAAAAABAD)\n",
    "\n",
    "The eccentricity value of an orbit is used to classify the shape of the orbital path. They include:\n",
    "\n",
    "`e = 0`: circular orbit\n",
    "\n",
    "`0 < e < 1`: elliptical orbit\n",
    "\n",
    "`e = 1`: parabolic orbit\n",
    "\n",
    "`e > 1`: hyperbolic orbit\n",
    "\n",
    "![https://www.astronomy.ohio-state.edu/thompson.1847/1101/OrbitFamilies.gif](https://www.astronomy.ohio-state.edu/thompson.1847/1101/OrbitFamilies.gif)\n",
    "\n",
    "[Image Source](https://www.astronomy.ohio-state.edu/thompson.1847/1101/lecture_orbits_gravity.html)"
   ]
  },
  {
   "cell_type": "markdown",
   "id": "213da480-ff14-42a4-aa0f-1e558140ac9d",
   "metadata": {},
   "source": [
    "#### Inclination\n",
    "Inclination describes the angle between the orbital plane of the satellite and the equatorial plane formed by its orbiting body.\n",
    "\n",
    "The inclination of a satellite can be used to classify its type of orbit. The categories of orbits include:\n",
    "\n",
    "`i = 0 or i = 180`: equatorial orbit (orbit is oriented parallel to the equatorial plane of the central body)\n",
    "\n",
    "\n",
    "`0 < i < 90`: prograde orbit (orbit of the planet's equator matches the direction of its rotation around its central body)\n",
    "\n",
    "`i = 90`: polar orbit (orbit is oriented perpendicular to the equatorial plane of the central body)\n",
    "\n",
    "`90 < i < 180`: retrograde orbit (orbiting object moves in the opposite direction relative to the rotation of its central body)\n",
    "\n",
    "![https://www.researchgate.net/publication/329370763/figure/fig1/AS:699734658383873@1543841151080/Prograde-and-Retrograde-orbit-inclination.png](https://www.researchgate.net/publication/329370763/figure/fig1/AS:699734658383873@1543841151080/Prograde-and-Retrograde-orbit-inclination.png)\n",
    "\n",
    "[Image Source](https://www.google.com/url?sa=i&url=https%3A%2F%2Fwww.researchgate.net%2Ffigure%2FPrograde-and-Retrograde-orbit-inclination_fig1_329370763&psig=AOvVaw3W87PWwYHSN20TDtAM0Jr2&ust=1710712722519000&source=images&cd=vfe&opi=89978449&ved=0CBEQjRxqFwoTCICc1obk-YQDFQAAAAAdAAAAABAD)"
   ]
  },
  {
   "cell_type": "markdown",
   "id": "a547b27c-ef5b-4340-9763-4b7bc6161277",
   "metadata": {},
   "source": [
    "### Types of Orbits \n",
    "Aside from the types of orbits mentioned above, there are a few more worht mentioning:\n",
    "\n",
    "`Geostationary Orbit`: Circular orbit where the orbiting object is relative to a fixed point on the central body. The orbiting body is right above the equator (i = 0).\n",
    "\n",
    "`Sun-Synchronous Orbit (SSO)`: The orbiting object orbits around the central body in such a manner that is maintains a fixed angle in respect to the direction of the Sun. \n",
    "\n",
    "`Molniya Orbit`: Highly elliptical orbits (very high inclination value) that allow for time to orbit within high altitude. \n",
    "\n",
    "`Hohmann Transfer Orbit`: interplanetary trajectories that optimize on propellant usage efficency.\n",
    "\n",
    "`Low Earth Orbit (LEO)`: any orbit that is within 160 - 2000km (100 - 1200 miles) above the surface of Earth.\n",
    "\n",
    "`Medium Earth Orbit (MEO)`: any orbit that is within 2000 - 35786km (1200 - 22236 miles) above the surface of Earth.\n",
    "\n",
    "`High Earth Orbit (HEO):`: any orbit that is above 35786km (22236 miles) the surface of Earth.\n",
    "\n",
    "![https://www.iasgyan.in//ig-uploads/images//orbits-characteristics-satellite-shape-inclination-Earth-terms1.jpg](https://www.iasgyan.in//ig-uploads/images//orbits-characteristics-satellite-shape-inclination-Earth-terms1.jpg)\n",
    "\n",
    "[Image Source](https://www.google.com/url?sa=i&url=https%3A%2F%2Fwww.iasgyan.in%2Fblogs%2Ftypes-of-orbits-explained&psig=AOvVaw3BcwOPeUhCIxfbsX_X9ELY&ust=1710712642784000&source=images&cd=vfe&opi=89978449&ved=0CBEQjRxqFwoTCJjJ-a_j-YQDFQAAAAAdAAAAABAD)"
   ]
  },
  {
   "cell_type": "markdown",
   "id": "e3816429-71c0-4eb8-937e-6c5072927c6b",
   "metadata": {},
   "source": [
    "### Orbital Motion (Kepler's Laws of Planetary Motion)\n",
    "Kepler's Laws of Planetary Motion dictate the rudimentary motions of bodies within the solar system. They are as follows:\n",
    "\n",
    "1. **Law of Ellipses**: All planets move along elliptical paths around the Sun, with the Sun located at one of the two foci of each ellipse. This law describes the overall shape of planetary orbits.\n",
    "\n",
    "2. **Law of Equal Areas**: A line segment joining a planet to the Sun sweeps out equal areas in equal intervals of time. This law shows the dynamic nature of the movement of the orbiting body (planets move faster closer to the Sun and slower while moving further away).\n",
    "\n",
    "3. **Law of Harmonies**: The square of the orbital period of any planet is proportional to the cube of the semi-major axis of its orbit. This law reveals a mathematical relationship between a planet's orbital period and its average distance from the Sun.\n",
    "\n",
    "These laws are predicated on Newton's Laws of Motion and the Law of Universal Gravitation.\n",
    "\n",
    "![https://st.adda247.com/https://www.careerpower.in/blog/wp-content/uploads/sites/2/2023/07/02174556/kepler-law.png](https://st.adda247.com/https://www.careerpower.in/blog/wp-content/uploads/sites/2/2023/07/02174556/kepler-law.png)\n",
    "[Image Source](https://www.google.com/url?sa=i&url=https%3A%2F%2Fwww.careerpower.in%2Fschool%2Fphysics%2Fkeplers-law&psig=AOvVaw0oq6PZYN9GJLgM4GucAKo0&ust=1710714729702000&source=images&cd=vfe&opi=89978449&ved=0CBEQjRxqFwoTCKj8lJLr-YQDFQAAAAAdAAAAABAI)"
   ]
  },
  {
   "cell_type": "markdown",
   "id": "ca3bd151-dfc0-48e0-a22f-34fb3f5e07b3",
   "metadata": {},
   "source": [
    "## Classes in Python\n",
    "Classes in Python are a blueprint for creating objects. Within the class, you can define the specific attributes and functionality of the objects. Consider the following class:"
   ]
  },
  {
   "cell_type": "code",
   "execution_count": 3,
   "id": "457f1a35-cd2b-485b-a4ad-28ee17186756",
   "metadata": {},
   "outputs": [],
   "source": [
    "class Dog:\n",
    "    def __init__(self, name):\n",
    "        self.name = name\n",
    "\n",
    "    def bark(self):\n",
    "        print(f\"{self.name} says Woof\")\n",
    "\n",
    "    def change_name(self, name):\n",
    "        print(f\"Previous Name: {self.name}\")\n",
    "        self.name = name\n",
    "        print(f\"New Name: {self.name}\")        "
   ]
  },
  {
   "cell_type": "markdown",
   "id": "153d3849-7ee4-4129-acec-bcb4948ba50b",
   "metadata": {},
   "source": [
    "Within the class above, we define a `__init__` method also known as a `constructor`. A constructor initializes the attributes to a specific value during the object creation. In the above `Dog` class, the `name` attribute will be set when the object is created to a specified input.\n",
    "\n",
    "`self` is a parameter that refers to the instance of the class and allows for the instance's values to be accessed and modified. \n",
    "\n",
    "The class above also have methods named `bark` and `change_name`. Methods specify the functions and behaviors that can be performed by the object. \n",
    "\n",
    "The `change_name` method takes in a parameter input entitled `name`. It sets the name of the object to the specified input using `self`."
   ]
  },
  {
   "cell_type": "markdown",
   "id": "c3121e25-642b-4484-a318-bf2af84022bb",
   "metadata": {},
   "source": [
    "In order to make an instance of a class, you need to declare the name of the class followed by the inputs to the class constructor enclosed within parenthesis. An example of an object declaration is the following:"
   ]
  },
  {
   "cell_type": "code",
   "execution_count": 4,
   "id": "c2ae45b8-435a-4b6e-b3ae-9db221c83b67",
   "metadata": {},
   "outputs": [
    {
     "name": "stdout",
     "output_type": "stream",
     "text": [
      "Dexter says Woof\n",
      "Previous Name: Dexter\n",
      "New Name: Duke\n",
      "Duke says Woof\n"
     ]
    }
   ],
   "source": [
    "my_dog = Dog(\"Dexter\")\n",
    "my_dog.bark()\n",
    "my_dog.change_name(\"Duke\")\n",
    "my_dog.bark()"
   ]
  },
  {
   "cell_type": "markdown",
   "id": "9acc950e-b104-464d-9abc-621ed6bfa7f8",
   "metadata": {},
   "source": [
    "### Exercise 1: Class for a Spaceship 🚀\n",
    "\n",
    "#### Objectives:\n",
    "- Create a class called `Spaceship`\n",
    "- Create a constructor for the class which takes a name, crew capacity, and speed.\n",
    "- Set the instance variables of the class for each of the inputted constructor variables\n",
    "- Create a method named `increase_speed` that increases the speed of the spaceship by 10 and prints it out\n",
    "- Create a method named `set_crew_capacity` which takes a capacity value that prints out BOTH the previous and new capacity values\n",
    "- Create a method named `state_name` which prints out the name of the spaceship"
   ]
  },
  {
   "cell_type": "markdown",
   "id": "055e4db6-7e76-4052-9100-1cbb2a5f2027",
   "metadata": {},
   "source": [
    "Well done! You know understand the foundations of orbits and classes within Python!\n",
    "In the last lesson of this module, we will cover TLEs and additional information about orbits you will need for your project!"
   ]
  }
 ],
 "metadata": {
  "kernelspec": {
   "display_name": "Python 3 (ipykernel)",
   "language": "python",
   "name": "python3"
  },
  "language_info": {
   "codemirror_mode": {
    "name": "ipython",
    "version": 3
   },
   "file_extension": ".py",
   "mimetype": "text/x-python",
   "name": "python",
   "nbconvert_exporter": "python",
   "pygments_lexer": "ipython3",
   "version": "3.11.7"
  }
 },
 "nbformat": 4,
 "nbformat_minor": 5
}
